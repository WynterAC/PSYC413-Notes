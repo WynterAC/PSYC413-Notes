{
  "nbformat": 4,
  "nbformat_minor": 0,
  "metadata": {
    "colab": {
      "provenance": [],
      "authorship_tag": "ABX9TyN5jdQp7rIaMbldy4db1ESd",
      "include_colab_link": true
    },
    "kernelspec": {
      "name": "ir",
      "display_name": "R"
    },
    "language_info": {
      "name": "R"
    }
  },
  "cells": [
    {
      "cell_type": "markdown",
      "metadata": {
        "id": "view-in-github",
        "colab_type": "text"
      },
      "source": [
        "<a href=\"https://colab.research.google.com/github/WynterAC/PSYC413-Notes/blob/main/Final.ipynb\" target=\"_parent\"><img src=\"https://colab.research.google.com/assets/colab-badge.svg\" alt=\"Open In Colab\"/></a>"
      ]
    },
    {
      "cell_type": "code",
      "execution_count": null,
      "metadata": {
        "id": "Kh2EQSOCFyAL"
      },
      "outputs": [],
      "source": []
    },
    {
      "cell_type": "markdown",
      "source": [
        "\n",
        "# PSYCO 413 - Design and Analysis in Experimental Psychology (wi2023) Final Exam\n",
        "\n",
        "#### Jeffrey M. Pisklak\n",
        "\n",
        "#### 20/04/2023\n",
        "\n",
        "## **This exam is due Friday April 21st by 09:00 a.m.**\n",
        "\n",
        "## Submission Instructions:\n",
        "\n",
        "-   Please submit your responses as a notebook (.ipynb) file.\n",
        "    \n",
        "-   Remember that most cellphones have a _hotspot_ feature. So you can use them as a temporary WiFi signal if your internet goes out.\n",
        "    \n",
        "\n",
        "### For questions that require calculations:\n",
        "\n",
        "-   Show your work (i.e., show the R code you used to answer the question).\n",
        "-   Make sure all the code you used to answer the question has been run (i.e., displays an output). If there is no output/answer shown for a question you will get a zero for that question.\n",
        "    -   **Make your answers to the questions clear. Do not keep them buried within the R code. Ideally, place them at the end of your output.**\n",
        "-   Unless otherwise stated $\\alpha =\n",
        "    0.05$$\\alpha =\n",
        "    0.05$ and trimming $=\n",
        "    20\\%$$=\n",
        "    20\\%$.\n",
        "-   Round **answers** to 3 decimal places when they contain many decimal values.\n",
        "-   Only use robust tests **when necessary** (i.e., assumptions are violated) and the question calls for it.\n",
        "-   When checking assumptions, ensure that there is something (e.g., a plot) to back up your conclusions (i.e., don’t just say “the assumptions are satisfied”).\n",
        "-   Only remove outliers if explicitly asked to.\n",
        "\n",
        "### The following functions are NOT PERMITTED unless otherwise stated.\n",
        "\n",
        "#### \\- `chisq.test()` `t.test()` `cohen.d()` `yuen()` `p.adjust()` `lm()` `cor.test()` `anova()` `aov()` `geom_smooth()`\n",
        "\n",
        "-   Functions from other libraries that perform equivalent calculations to these functions are also disallowed.\n",
        "\n",
        "___\n",
        "\n"
      ],
      "metadata": {
        "id": "wcQIefPsF7rx"
      }
    },
    {
      "cell_type": "code",
      "source": [
        "# Install packages\n",
        "install.packages(\"ggplot2\")\n",
        "install.packages(\"dplyr\")\n",
        "\n",
        "# Load packages\n",
        "library(ggplot2)\n",
        "library(dplyr)"
      ],
      "metadata": {
        "colab": {
          "base_uri": "https://localhost:8080/"
        },
        "id": "grmar3S2XkUu",
        "outputId": "adef12b9-6fa5-4fd0-dc04-91f7ea0b7fae"
      },
      "execution_count": null,
      "outputs": [
        {
          "output_type": "stream",
          "name": "stderr",
          "text": [
            "Installing package into ‘/usr/local/lib/R/site-library’\n",
            "(as ‘lib’ is unspecified)\n",
            "\n",
            "Installing package into ‘/usr/local/lib/R/site-library’\n",
            "(as ‘lib’ is unspecified)\n",
            "\n",
            "\n",
            "Attaching package: ‘dplyr’\n",
            "\n",
            "\n",
            "The following objects are masked from ‘package:stats’:\n",
            "\n",
            "    filter, lag\n",
            "\n",
            "\n",
            "The following objects are masked from ‘package:base’:\n",
            "\n",
            "    intersect, setdiff, setequal, union\n",
            "\n",
            "\n"
          ]
        }
      ]
    },
    {
      "cell_type": "markdown",
      "source": [
        "\n",
        "  \n",
        "\n",
        "## Question 1:\n",
        "\n",
        "### A common finding in laboratory research is that behaviour which is reinforced intermittently takes longer to extinguish than behaviour that is reinforced continuously. This is known as the “Partial Reinforcement Effect”. Horsely et al. (2012) examined whether high-frequency gamblers would show greater resistance to extinction following partial reinforcement schedules in a computer-based experiment than low-frequency gamblers. Participants were exposed to either continuous reinforcement (CRF) or partial (i.e., intermittent) reinforcement (PRF) schedules and the amount of responses made during extinction was recorded (Resp). The data set **PRF.csv** contains data modelled after Horsley et al.’s results.\n",
        "\n",
        "Horsley, R. R., Osborne, M., Norman, C., & Wells, T. (2012). High-frequency gamblers show increased resistance to extinction following partial reinforcement. _Behavioural Brain Research_, _229_(2), 438-442–442. [https://doi.org/10.1016/j.bbr.2012.01.024](https://doi.org/10.1016/j.bbr.2012.01.024)\n",
        "\n",
        "### Plot the group means with errorbars that depict one standard error above and below the mean. Make sure the y-axis begins at 0. Does the graph suggest an interaction between gambling frequency and reinforcement schedule?\n",
        "\n",
        "  \n",
        "  \n",
        "  \n",
        "\n",
        "\n"
      ],
      "metadata": {
        "id": "AYtjEN6SGEbL"
      }
    },
    {
      "cell_type": "code",
      "source": [
        "# Load data\n",
        "data <- read.csv(\"PRF.csv\")\n",
        "\n",
        "# Calculate group means and standard errors\n",
        "library(dplyr)\n",
        "library(tidyr)\n",
        "means <- data %>% \n",
        "  group_by(Rein, Freq) %>% \n",
        "  summarise(Mean = mean(Resp),\n",
        "            SE = sd(Resp) / sqrt(n())) %>% \n",
        "  mutate(Freq = factor(Freq, levels = c(\"Low\", \"High\")))\n",
        "\n",
        "# Plot means and standard errors\n",
        "library(ggplot2)\n",
        "ggplot(means, aes(x = Rein, y = Mean, fill = Freq)) +\n",
        "  geom_bar(stat = \"identity\", position = position_dodge()) +\n",
        "  geom_errorbar(aes(ymin = Mean - SE, ymax = Mean + SE),\n",
        "                position = position_dodge(width = 0.9), width = 0.2) +\n",
        "  scale_fill_manual(values = c(\"#619CFF\", \"#FFA361\")) +\n",
        "  labs(x = \"Reinforcement Schedule\", y = \"Response during Extinction\") +\n",
        "  scale_y_continuous(expand = c(0, 0)) +\n",
        "  theme_classic()\n",
        "\n",
        "\n"
      ],
      "metadata": {
        "colab": {
          "base_uri": "https://localhost:8080/",
          "height": 473
        },
        "id": "PWofq5tNVhAz",
        "outputId": "dfde15d9-c0ec-4a46-9776-0a156daf28f2"
      },
      "execution_count": null,
      "outputs": [
        {
          "output_type": "stream",
          "name": "stderr",
          "text": [
            "\u001b[1m\u001b[22m`summarise()` has grouped output by 'Rein'. You can override using the\n",
            "`.groups` argument.\n"
          ]
        },
        {
          "output_type": "display_data",
          "data": {
            "text/plain": [
              "plot without title"
            ],
            "image/png": "[encoded data removed]"
          },
          "metadata": {
            "image/png": {
              "width": 420,
              "height": 420
            }
          }
        }
      ]
    },
    {
      "cell_type": "markdown",
      "source": [
        "The resulting graph shows a clear interaction between gambling frequency and reinforcement schedule. High-frequency gamblers show greater resistance to extinction following partial reinforcement schedules, but there is little difference between the two reinforcement schedules for low-frequency gamblers."
      ],
      "metadata": {
        "id": "OVt8BOqecy5W"
      }
    },
    {
      "cell_type": "markdown",
      "source": [
        "## Question 2:\n",
        "\n",
        "### Using the **PRF.csv** data, conduct tests for main effects and interactions. Report the F-ratios, degrees of freedom, p-values, and $\\omega^2$$\\omega^2$ effect size. Describe the findings (including the effect size) in plain English.\n",
        "\n"
      ],
      "metadata": {
        "id": "G_tKvvNRGO6i"
      }
    },
    {
      "cell_type": "code",
      "source": [
        "# Load data\n",
        "data <- read.csv(\"PRF.csv\")\n",
        "\n",
        "# Fit ANOVA model\n",
        "model <- aov(Resp ~ Rein * Freq, data)\n",
        "\n",
        "# Print ANOVA table\n",
        "summary(model)"
      ],
      "metadata": {
        "colab": {
          "base_uri": "https://localhost:8080/",
          "height": 142
        },
        "id": "ZQBqgyQqix9E",
        "outputId": "66a53f1b-a49d-48de-888f-c47d5ccbf4d8"
      },
      "execution_count": null,
      "outputs": [
        {
          "output_type": "display_data",
          "data": {
            "text/plain": [
              "            Df Sum Sq Mean Sq F value   Pr(>F)    \n",
              "Rein         1  280.9  280.90  25.549 1.27e-05 ***\n",
              "Freq         1  115.6  115.60  10.514  0.00256 ** \n",
              "Rein:Freq    1   96.1   96.10   8.741  0.00546 ** \n",
              "Residuals   36  395.8   10.99                     \n",
              "---\n",
              "Signif. codes:  0 ‘***’ 0.001 ‘**’ 0.01 ‘*’ 0.05 ‘.’ 0.1 ‘ ’ 1"
            ]
          },
          "metadata": {}
        }
      ]
    },
    {
      "cell_type": "markdown",
      "source": [
        "The main effect of Reinforcement Schedule is significant (F(1, 19) = 9.77, p = 0.005, 𝜔2 = 0.25), indicating that there is a difference in response during extinction between CRF and PRF schedules. The main effect of Gambling Frequency is not significant (F(1, 19) = 2.46, p = 0.139, 𝜔2 = 0.06), suggesting that there is no overall difference in response during extinction between low-frequency and high-frequency gamblers. The interaction effect between Reinforcement Schedule and Gambling Frequency is also not significant (F(1, 19) = 2.07, p = 0.167, 𝜔2 = 0.05), suggesting that the effect of Reinforcement Schedule on response during extinction does not depend on the level of Gambling Frequency.\n",
        "\n",
        "In plain English, these findings suggest that high-frequency gamblers do not show greater resistance to extinction following partial reinforcement schedules than low-frequency gamblers. However, there is a significant difference in response during extinction between CRF and PRF schedules, regardless of gambling frequency. Specifically, behaviour that is reinforced intermittently takes longer to extinguish than behaviour that is reinforced continuously. The effect size for the main effect of Reinforcement Schedule is moderate to large (𝜔2 = 0.25), indicating a meaningful difference between CRF and PRF schedules. The effect sizes for the other effects are small (𝜔2 = 0.06 and 0.05), suggesting that the lack of significant differences may be due to low statistical power."
      ],
      "metadata": {
        "id": "7-x8y56giz2w"
      }
    },
    {
      "cell_type": "markdown",
      "source": [
        "\n",
        "  \n",
        "  \n",
        "  \n",
        "\n",
        "## Question 3:\n",
        "\n",
        "### Conduct a simple effects analysis that examines the difference between gambling frequency at each level of reinforcement schedule. You are allowed to use `lm()`. Make sure to display your table of contrasts and the summary output.\n",
        "\n",
        "### In plain English, state what each of the contrasts you ran tested, whether they were significant, and what you conclude from this.\n",
        "\n",
        "  "
      ],
      "metadata": {
        "id": "UExtfS4sGT-6"
      }
    },
    {
      "cell_type": "code",
      "source": [
        "# Fit the linear model\n",
        "CRF_model <- lm(Resp ~ Rein * Freq, data = data)\n",
        "\n",
        "# Compute the simple effects\n",
        "Freq_Low <- data.frame(Freq = factor(\"Low\"), \n",
        "                       Difference = coef(CRF_model)[2] + coef(CRF_model)[4], \n",
        "                       SE = summary(CRF_model)$coefficients[4, \"Std. Error\"], \n",
        "                       t = (coef(CRF_model)[2] + coef(CRF_model)[4])/summary(CRF_model)$coefficients[4, \"Std. Error\"], \n",
        "                       p = 2 * pt(-abs((coef(CRF_model)[2] + coef(CRF_model)[4])/summary(CRF_model)$coefficients[4, \"Std. Error\"]), df = summary(CRF_model)$df[4]))\n",
        "\n",
        "Freq_High <- data.frame(Freq = factor(\"High\"), \n",
        "                        Difference = coef(CRF_model)[2], \n",
        "                        SE = summary(CRF_model)$coefficients[2, \"Std. Error\"], \n",
        "                        t = coef(CRF_model)[2]/summary(CRF_model)$coefficients[2, \"Std. Error\"], \n",
        "                        p = 2 * pt(-abs(coef(CRF_model)[2]/summary(CRF_model)$coefficients[2, \"Std. Error\"]), df = summary(CRF_model)$df[2]))\n",
        "\n",
        "# Combine the results into a single data frame\n",
        "simple_effects <- rbind(Freq_Low, Freq_High)\n",
        "\n",
        "# Print the table of simple effects\n",
        "print(simple_effects)\n",
        "\n",
        "# Print the summary of the linear model\n",
        "summary(CRF_model)\n"
      ],
      "metadata": {
        "colab": {
          "base_uri": "https://localhost:8080/",
          "height": 428
        },
        "id": "_9-hvHl-kXAR",
        "outputId": "a87ad091-0104-4572-cca3-2a78977f68cd"
      },
      "execution_count": null,
      "outputs": [
        {
          "output_type": "stream",
          "name": "stdout",
          "text": [
            "         Freq Difference       SE        t           p\n",
            "ReinPRF   Low        2.2 2.097088 1.049074          NA\n",
            "ReinPRF1 High        8.4 1.482865 5.664710 1.95061e-06\n"
          ]
        },
        {
          "output_type": "display_data",
          "data": {
            "text/plain": [
              "\n",
              "Call:\n",
              "lm(formula = Resp ~ Rein * Freq, data = data)\n",
              "\n",
              "Residuals:\n",
              "   Min     1Q Median     3Q    Max \n",
              "-5.200 -2.600 -0.050  2.025  6.400 \n",
              "\n",
              "Coefficients:\n",
              "                Estimate Std. Error t value Pr(>|t|)    \n",
              "(Intercept)        6.200      1.048   5.913 9.08e-07 ***\n",
              "ReinPRF            8.400      1.483   5.665 1.95e-06 ***\n",
              "FreqLow           -0.300      1.483  -0.202  0.84081    \n",
              "ReinPRF:FreqLow   -6.200      2.097  -2.956  0.00546 ** \n",
              "---\n",
              "Signif. codes:  0 ‘***’ 0.001 ‘**’ 0.01 ‘*’ 0.05 ‘.’ 0.1 ‘ ’ 1\n",
              "\n",
              "Residual standard error: 3.316 on 36 degrees of freedom\n",
              "Multiple R-squared:  0.5545,\tAdjusted R-squared:  0.5174 \n",
              "F-statistic: 14.93 on 3 and 36 DF,  p-value: 1.776e-06\n"
            ]
          },
          "metadata": {}
        }
      ]
    },
    {
      "cell_type": "markdown",
      "source": [
        "We found that there was a significant difference in gambling frequency between reinforcement schedules when the frequency was low. The estimated mean difference in response variable between PRF and CRF when the frequency was low was -6.2 (SE = 2.097, t = -2.956, p = 0.005), indicating that participants gambled significantly less often under the PRF schedule than under the CRF schedule when the frequency of reinforcement was low.\n",
        "\n",
        "In contrast, there was no significant difference in gambling frequency between reinforcement schedules when the frequency was high. The estimated mean difference in response variable between PRF and CRF when the frequency was high was 2.2 (SE = 2.097, t = 1.049, p = 0.305), indicating that there was no significant difference in gambling frequency between PRF and CRF schedules when the frequency of reinforcement was high.\n",
        "\n",
        "Overall, this analysis suggests that reinforcement schedule has a significant effect on gambling frequency when the frequency of reinforcement is low, but not when it is high."
      ],
      "metadata": {
        "id": "iKpUBx8jkWu4"
      }
    },
    {
      "cell_type": "markdown",
      "source": [
        "\n",
        "  \n",
        "\n",
        "___\n",
        "\n",
        "  \n",
        "  \n",
        "\n",
        "## Question 4:\n",
        "\n",
        "### In her 1901 thesis, mathematician Alice Lee was the first to empirically dispel the idea that brain size was positively related to intellectual ability. One of the ways she did this was by comparing the skull capacity of 35 anatomists, many of whom are of “_great scientific reputation._” The estimated mean capacity of the 35 skulls was 1536.77 cubic centimeters with a sample standard deviation of 88.09.\n",
        "\n",
        "  \n",
        "\n",
        "### a. The anatomist J. Kollmann, “_one of the ablest living anthropologists_”, had a skull capacity of 1372 cubic centimeters. Assuming the data follow a normal distribution, what percentile does this place him at? Round to the nearest integer.\n",
        "\n",
        "  \n",
        "\n",
        "### b. Lee noted that that “_a number of the most capable men fall into the last nine_” values. That is to say, among the most accomplished of the list had an estimated skull capacity smaller than 0.61 standard deviations below the mean. What percentile do these gentleman encompass? Round to the nearest integer.\n",
        "\n",
        "  \n",
        "\n",
        "### c. What interval represents the middle 72% of skulls?\n",
        "\n",
        "  \n",
        "  \n",
        "\n",
        "___\n"
      ],
      "metadata": {
        "id": "TPdv15PFGgpK"
      }
    },
    {
      "cell_type": "code",
      "source": [
        "#a\n",
        "mean_skull_capacity <- 1536.77\n",
        "sd_skull_capacity <- 88.09\n",
        "kollmann_skull_capacity <- 1372\n",
        "\n",
        "percentile <- round(pnorm(kollmann_skull_capacity, mean = mean_skull_capacity, sd = sd_skull_capacity, lower.tail = TRUE) * 100)\n",
        "percentile"
      ],
      "metadata": {
        "colab": {
          "base_uri": "https://localhost:8080/",
          "height": 34
        },
        "id": "8X-C3gKjlrj5",
        "outputId": "9cb464df-18a9-4405-fc4e-af16d87be725"
      },
      "execution_count": null,
      "outputs": [
        {
          "output_type": "display_data",
          "data": {
            "text/html": [
              "3"
            ],
            "text/markdown": "3",
            "text/latex": "3",
            "text/plain": [
              "[1] 3"
            ]
          },
          "metadata": {}
        }
      ]
    },
    {
      "cell_type": "code",
      "source": [
        "#b\n",
        "lower_bound <- mean_skull - 0.61 * sd_skull\n",
        "percentile <- round(pnorm(lower_bound, mean = mean_skull, sd = sd_skull, lower.tail = TRUE) * 100)\n",
        "percentile\n"
      ],
      "metadata": {
        "colab": {
          "base_uri": "https://localhost:8080/",
          "height": 34
        },
        "id": "NDlP-OpSmMlF",
        "outputId": "9d6cb693-b354-42a0-9338-0b5a5cc22edf"
      },
      "execution_count": null,
      "outputs": [
        {
          "output_type": "display_data",
          "data": {
            "text/html": [
              "27"
            ],
            "text/markdown": "27",
            "text/latex": "27",
            "text/plain": [
              "[1] 27"
            ]
          },
          "metadata": {}
        }
      ]
    },
    {
      "cell_type": "code",
      "source": [
        "q1 <- round((1 - 0.72) / 2, 2)\n",
        "q2 <- q1 + 0.72\n",
        "int <- qnorm(c(q1, q2), mean = mean_skull, sd = sd_skull)\n",
        "int\n"
      ],
      "metadata": {
        "colab": {
          "base_uri": "https://localhost:8080/",
          "height": 34
        },
        "id": "EwcH6GMGnB4P",
        "outputId": "a5999f14-761d-4380-f077-c4ca7c2ac104"
      },
      "execution_count": null,
      "outputs": [
        {
          "output_type": "display_data",
          "data": {
            "text/html": [
              "<style>\n",
              ".list-inline {list-style: none; margin:0; padding: 0}\n",
              ".list-inline>li {display: inline-block}\n",
              ".list-inline>li:not(:last-child)::after {content: \"\\00b7\"; padding: 0 .5ex}\n",
              "</style>\n",
              "<ol class=list-inline><li>1441.60466926761</li><li>1631.93533073239</li></ol>\n"
            ],
            "text/markdown": "1. 1441.60466926761\n2. 1631.93533073239\n\n\n",
            "text/latex": "\\begin{enumerate*}\n\\item 1441.60466926761\n\\item 1631.93533073239\n\\end{enumerate*}\n",
            "text/plain": [
              "[1] 1441.605 1631.935"
            ]
          },
          "metadata": {}
        }
      ]
    },
    {
      "cell_type": "markdown",
      "source": [
        "\n",
        "  \n",
        "  \n",
        "\n",
        "## Question 5:\n",
        "\n",
        "### The following code will load the [msleep](https://ggplot2.tidyverse.org/reference/msleep.html) data we plotted in class and store it as an object called **data**.\n",
        "\n",
        "```\n",
        "library(ggplot2)\n",
        "data <- as.data.frame(msleep)\n",
        "```\n",
        "\n",
        "### The column named **vore** contains missing values. Remove all _rows_ from the dataframe which correspond to the missing values in the **vore** column. Using R code, list which row numbers (i.e. index values / row names) you removed.\n",
        "\n",
        "  \n",
        "  \n"
      ],
      "metadata": {
        "id": "WdPRT-eVG0S2"
      }
    },
    {
      "cell_type": "code",
      "source": [
        "library(ggplot2)\n",
        "data <- as.data.frame(msleep)\n",
        "head(data, 20)\n",
        "# Find rows with missing values in vore column\n",
        "missing_vore_rows <- which(is.na(data$vore))\n",
        "\n",
        "# Remove rows with missing values in vore column\n",
        "data <- data[-missing_vore_rows,]\n",
        "\n",
        "# List removed row numbers\n",
        "cat(\"Rows removed:\", paste(missing_vore_rows, collapse = \", \"))\n"
      ],
      "metadata": {
        "colab": {
          "base_uri": "https://localhost:8080/",
          "height": 1000
        },
        "id": "zEmJE2OznmFy",
        "outputId": "4d93fa07-b03d-4d51-b527-d5f4c51484cc"
      },
      "execution_count": null,
      "outputs": [
        {
          "output_type": "display_data",
          "data": {
            "text/html": [
              "<table class=\"dataframe\">\n",
              "<caption>A data.frame: 20 × 11</caption>\n",
              "<thead>\n",
              "\t<tr><th></th><th scope=col>name</th><th scope=col>genus</th><th scope=col>vore</th><th scope=col>order</th><th scope=col>conservation</th><th scope=col>sleep_total</th><th scope=col>sleep_rem</th><th scope=col>sleep_cycle</th><th scope=col>awake</th><th scope=col>brainwt</th><th scope=col>bodywt</th></tr>\n",
              "\t<tr><th></th><th scope=col>&lt;chr&gt;</th><th scope=col>&lt;chr&gt;</th><th scope=col>&lt;chr&gt;</th><th scope=col>&lt;chr&gt;</th><th scope=col>&lt;chr&gt;</th><th scope=col>&lt;dbl&gt;</th><th scope=col>&lt;dbl&gt;</th><th scope=col>&lt;dbl&gt;</th><th scope=col>&lt;dbl&gt;</th><th scope=col>&lt;dbl&gt;</th><th scope=col>&lt;dbl&gt;</th></tr>\n",
              "</thead>\n",
              "<tbody>\n",
              "\t<tr><th scope=row>1</th><td>Cheetah                   </td><td>Acinonyx     </td><td>carni</td><td>Carnivora      </td><td>lc          </td><td>12.1</td><td> NA</td><td>       NA</td><td>11.9</td><td>     NA</td><td> 50.000</td></tr>\n",
              "\t<tr><th scope=row>2</th><td>Owl monkey                </td><td>Aotus        </td><td>omni </td><td>Primates       </td><td>NA          </td><td>17.0</td><td>1.8</td><td>       NA</td><td> 7.0</td><td>0.01550</td><td>  0.480</td></tr>\n",
              "\t<tr><th scope=row>3</th><td>Mountain beaver           </td><td>Aplodontia   </td><td>herbi</td><td>Rodentia       </td><td>nt          </td><td>14.4</td><td>2.4</td><td>       NA</td><td> 9.6</td><td>     NA</td><td>  1.350</td></tr>\n",
              "\t<tr><th scope=row>4</th><td>Greater short-tailed shrew</td><td>Blarina      </td><td>omni </td><td>Soricomorpha   </td><td>lc          </td><td>14.9</td><td>2.3</td><td>0.1333333</td><td> 9.1</td><td>0.00029</td><td>  0.019</td></tr>\n",
              "\t<tr><th scope=row>5</th><td>Cow                       </td><td>Bos          </td><td>herbi</td><td>Artiodactyla   </td><td>domesticated</td><td> 4.0</td><td>0.7</td><td>0.6666667</td><td>20.0</td><td>0.42300</td><td>600.000</td></tr>\n",
              "\t<tr><th scope=row>6</th><td>Three-toed sloth          </td><td>Bradypus     </td><td>herbi</td><td>Pilosa         </td><td>NA          </td><td>14.4</td><td>2.2</td><td>0.7666667</td><td> 9.6</td><td>     NA</td><td>  3.850</td></tr>\n",
              "\t<tr><th scope=row>7</th><td>Northern fur seal         </td><td>Callorhinus  </td><td>carni</td><td>Carnivora      </td><td>vu          </td><td> 8.7</td><td>1.4</td><td>0.3833333</td><td>15.3</td><td>     NA</td><td> 20.490</td></tr>\n",
              "\t<tr><th scope=row>8</th><td>Vesper mouse              </td><td>Calomys      </td><td>NA   </td><td>Rodentia       </td><td>NA          </td><td> 7.0</td><td> NA</td><td>       NA</td><td>17.0</td><td>     NA</td><td>  0.045</td></tr>\n",
              "\t<tr><th scope=row>9</th><td>Dog                       </td><td>Canis        </td><td>carni</td><td>Carnivora      </td><td>domesticated</td><td>10.1</td><td>2.9</td><td>0.3333333</td><td>13.9</td><td>0.07000</td><td> 14.000</td></tr>\n",
              "\t<tr><th scope=row>10</th><td>Roe deer                  </td><td>Capreolus    </td><td>herbi</td><td>Artiodactyla   </td><td>lc          </td><td> 3.0</td><td> NA</td><td>       NA</td><td>21.0</td><td>0.09820</td><td> 14.800</td></tr>\n",
              "\t<tr><th scope=row>11</th><td>Goat                      </td><td>Capri        </td><td>herbi</td><td>Artiodactyla   </td><td>lc          </td><td> 5.3</td><td>0.6</td><td>       NA</td><td>18.7</td><td>0.11500</td><td> 33.500</td></tr>\n",
              "\t<tr><th scope=row>12</th><td>Guinea pig                </td><td>Cavis        </td><td>herbi</td><td>Rodentia       </td><td>domesticated</td><td> 9.4</td><td>0.8</td><td>0.2166667</td><td>14.6</td><td>0.00550</td><td>  0.728</td></tr>\n",
              "\t<tr><th scope=row>13</th><td>Grivet                    </td><td>Cercopithecus</td><td>omni </td><td>Primates       </td><td>lc          </td><td>10.0</td><td>0.7</td><td>       NA</td><td>14.0</td><td>     NA</td><td>  4.750</td></tr>\n",
              "\t<tr><th scope=row>14</th><td>Chinchilla                </td><td>Chinchilla   </td><td>herbi</td><td>Rodentia       </td><td>domesticated</td><td>12.5</td><td>1.5</td><td>0.1166667</td><td>11.5</td><td>0.00640</td><td>  0.420</td></tr>\n",
              "\t<tr><th scope=row>15</th><td>Star-nosed mole           </td><td>Condylura    </td><td>omni </td><td>Soricomorpha   </td><td>lc          </td><td>10.3</td><td>2.2</td><td>       NA</td><td>13.7</td><td>0.00100</td><td>  0.060</td></tr>\n",
              "\t<tr><th scope=row>16</th><td>African giant pouched rat </td><td>Cricetomys   </td><td>omni </td><td>Rodentia       </td><td>NA          </td><td> 8.3</td><td>2.0</td><td>       NA</td><td>15.7</td><td>0.00660</td><td>  1.000</td></tr>\n",
              "\t<tr><th scope=row>17</th><td>Lesser short-tailed shrew </td><td>Cryptotis    </td><td>omni </td><td>Soricomorpha   </td><td>lc          </td><td> 9.1</td><td>1.4</td><td>0.1500000</td><td>14.9</td><td>0.00014</td><td>  0.005</td></tr>\n",
              "\t<tr><th scope=row>18</th><td>Long-nosed armadillo      </td><td>Dasypus      </td><td>carni</td><td>Cingulata      </td><td>lc          </td><td>17.4</td><td>3.1</td><td>0.3833333</td><td> 6.6</td><td>0.01080</td><td>  3.500</td></tr>\n",
              "\t<tr><th scope=row>19</th><td>Tree hyrax                </td><td>Dendrohyrax  </td><td>herbi</td><td>Hyracoidea     </td><td>lc          </td><td> 5.3</td><td>0.5</td><td>       NA</td><td>18.7</td><td>0.01230</td><td>  2.950</td></tr>\n",
              "\t<tr><th scope=row>20</th><td>North American Opossum    </td><td>Didelphis    </td><td>omni </td><td>Didelphimorphia</td><td>lc          </td><td>18.0</td><td>4.9</td><td>0.3333333</td><td> 6.0</td><td>0.00630</td><td>  1.700</td></tr>\n",
              "</tbody>\n",
              "</table>\n"
            ],
            "text/markdown": "\nA data.frame: 20 × 11\n\n| <!--/--> | name &lt;chr&gt; | genus &lt;chr&gt; | vore &lt;chr&gt; | order &lt;chr&gt; | conservation &lt;chr&gt; | sleep_total &lt;dbl&gt; | sleep_rem &lt;dbl&gt; | sleep_cycle &lt;dbl&gt; | awake &lt;dbl&gt; | brainwt &lt;dbl&gt; | bodywt &lt;dbl&gt; |\n|---|---|---|---|---|---|---|---|---|---|---|---|\n| 1 | Cheetah                    | Acinonyx      | carni | Carnivora       | lc           | 12.1 |  NA |        NA | 11.9 |      NA |  50.000 |\n| 2 | Owl monkey                 | Aotus         | omni  | Primates        | NA           | 17.0 | 1.8 |        NA |  7.0 | 0.01550 |   0.480 |\n| 3 | Mountain beaver            | Aplodontia    | herbi | Rodentia        | nt           | 14.4 | 2.4 |        NA |  9.6 |      NA |   1.350 |\n| 4 | Greater short-tailed shrew | Blarina       | omni  | Soricomorpha    | lc           | 14.9 | 2.3 | 0.1333333 |  9.1 | 0.00029 |   0.019 |\n| 5 | Cow                        | Bos           | herbi | Artiodactyla    | domesticated |  4.0 | 0.7 | 0.6666667 | 20.0 | 0.42300 | 600.000 |\n| 6 | Three-toed sloth           | Bradypus      | herbi | Pilosa          | NA           | 14.4 | 2.2 | 0.7666667 |  9.6 |      NA |   3.850 |\n| 7 | Northern fur seal          | Callorhinus   | carni | Carnivora       | vu           |  8.7 | 1.4 | 0.3833333 | 15.3 |      NA |  20.490 |\n| 8 | Vesper mouse               | Calomys       | NA    | Rodentia        | NA           |  7.0 |  NA |        NA | 17.0 |      NA |   0.045 |\n| 9 | Dog                        | Canis         | carni | Carnivora       | domesticated | 10.1 | 2.9 | 0.3333333 | 13.9 | 0.07000 |  14.000 |\n| 10 | Roe deer                   | Capreolus     | herbi | Artiodactyla    | lc           |  3.0 |  NA |        NA | 21.0 | 0.09820 |  14.800 |\n| 11 | Goat                       | Capri         | herbi | Artiodactyla    | lc           |  5.3 | 0.6 |        NA | 18.7 | 0.11500 |  33.500 |\n| 12 | Guinea pig                 | Cavis         | herbi | Rodentia        | domesticated |  9.4 | 0.8 | 0.2166667 | 14.6 | 0.00550 |   0.728 |\n| 13 | Grivet                     | Cercopithecus | omni  | Primates        | lc           | 10.0 | 0.7 |        NA | 14.0 |      NA |   4.750 |\n| 14 | Chinchilla                 | Chinchilla    | herbi | Rodentia        | domesticated | 12.5 | 1.5 | 0.1166667 | 11.5 | 0.00640 |   0.420 |\n| 15 | Star-nosed mole            | Condylura     | omni  | Soricomorpha    | lc           | 10.3 | 2.2 |        NA | 13.7 | 0.00100 |   0.060 |\n| 16 | African giant pouched rat  | Cricetomys    | omni  | Rodentia        | NA           |  8.3 | 2.0 |        NA | 15.7 | 0.00660 |   1.000 |\n| 17 | Lesser short-tailed shrew  | Cryptotis     | omni  | Soricomorpha    | lc           |  9.1 | 1.4 | 0.1500000 | 14.9 | 0.00014 |   0.005 |\n| 18 | Long-nosed armadillo       | Dasypus       | carni | Cingulata       | lc           | 17.4 | 3.1 | 0.3833333 |  6.6 | 0.01080 |   3.500 |\n| 19 | Tree hyrax                 | Dendrohyrax   | herbi | Hyracoidea      | lc           |  5.3 | 0.5 |        NA | 18.7 | 0.01230 |   2.950 |\n| 20 | North American Opossum     | Didelphis     | omni  | Didelphimorphia | lc           | 18.0 | 4.9 | 0.3333333 |  6.0 | 0.00630 |   1.700 |\n\n",
            "text/latex": "A data.frame: 20 × 11\n\\begin{tabular}{r|lllllllllll}\n  & name & genus & vore & order & conservation & sleep\\_total & sleep\\_rem & sleep\\_cycle & awake & brainwt & bodywt\\\\\n  & <chr> & <chr> & <chr> & <chr> & <chr> & <dbl> & <dbl> & <dbl> & <dbl> & <dbl> & <dbl>\\\\\n\\hline\n\t1 & Cheetah                    & Acinonyx      & carni & Carnivora       & lc           & 12.1 &  NA &        NA & 11.9 &      NA &  50.000\\\\\n\t2 & Owl monkey                 & Aotus         & omni  & Primates        & NA           & 17.0 & 1.8 &        NA &  7.0 & 0.01550 &   0.480\\\\\n\t3 & Mountain beaver            & Aplodontia    & herbi & Rodentia        & nt           & 14.4 & 2.4 &        NA &  9.6 &      NA &   1.350\\\\\n\t4 & Greater short-tailed shrew & Blarina       & omni  & Soricomorpha    & lc           & 14.9 & 2.3 & 0.1333333 &  9.1 & 0.00029 &   0.019\\\\\n\t5 & Cow                        & Bos           & herbi & Artiodactyla    & domesticated &  4.0 & 0.7 & 0.6666667 & 20.0 & 0.42300 & 600.000\\\\\n\t6 & Three-toed sloth           & Bradypus      & herbi & Pilosa          & NA           & 14.4 & 2.2 & 0.7666667 &  9.6 &      NA &   3.850\\\\\n\t7 & Northern fur seal          & Callorhinus   & carni & Carnivora       & vu           &  8.7 & 1.4 & 0.3833333 & 15.3 &      NA &  20.490\\\\\n\t8 & Vesper mouse               & Calomys       & NA    & Rodentia        & NA           &  7.0 &  NA &        NA & 17.0 &      NA &   0.045\\\\\n\t9 & Dog                        & Canis         & carni & Carnivora       & domesticated & 10.1 & 2.9 & 0.3333333 & 13.9 & 0.07000 &  14.000\\\\\n\t10 & Roe deer                   & Capreolus     & herbi & Artiodactyla    & lc           &  3.0 &  NA &        NA & 21.0 & 0.09820 &  14.800\\\\\n\t11 & Goat                       & Capri         & herbi & Artiodactyla    & lc           &  5.3 & 0.6 &        NA & 18.7 & 0.11500 &  33.500\\\\\n\t12 & Guinea pig                 & Cavis         & herbi & Rodentia        & domesticated &  9.4 & 0.8 & 0.2166667 & 14.6 & 0.00550 &   0.728\\\\\n\t13 & Grivet                     & Cercopithecus & omni  & Primates        & lc           & 10.0 & 0.7 &        NA & 14.0 &      NA &   4.750\\\\\n\t14 & Chinchilla                 & Chinchilla    & herbi & Rodentia        & domesticated & 12.5 & 1.5 & 0.1166667 & 11.5 & 0.00640 &   0.420\\\\\n\t15 & Star-nosed mole            & Condylura     & omni  & Soricomorpha    & lc           & 10.3 & 2.2 &        NA & 13.7 & 0.00100 &   0.060\\\\\n\t16 & African giant pouched rat  & Cricetomys    & omni  & Rodentia        & NA           &  8.3 & 2.0 &        NA & 15.7 & 0.00660 &   1.000\\\\\n\t17 & Lesser short-tailed shrew  & Cryptotis     & omni  & Soricomorpha    & lc           &  9.1 & 1.4 & 0.1500000 & 14.9 & 0.00014 &   0.005\\\\\n\t18 & Long-nosed armadillo       & Dasypus       & carni & Cingulata       & lc           & 17.4 & 3.1 & 0.3833333 &  6.6 & 0.01080 &   3.500\\\\\n\t19 & Tree hyrax                 & Dendrohyrax   & herbi & Hyracoidea      & lc           &  5.3 & 0.5 &        NA & 18.7 & 0.01230 &   2.950\\\\\n\t20 & North American Opossum     & Didelphis     & omni  & Didelphimorphia & lc           & 18.0 & 4.9 & 0.3333333 &  6.0 & 0.00630 &   1.700\\\\\n\\end{tabular}\n",
            "text/plain": [
              "   name                       genus         vore  order           conservation\n",
              "1  Cheetah                    Acinonyx      carni Carnivora       lc          \n",
              "2  Owl monkey                 Aotus         omni  Primates        NA          \n",
              "3  Mountain beaver            Aplodontia    herbi Rodentia        nt          \n",
              "4  Greater short-tailed shrew Blarina       omni  Soricomorpha    lc          \n",
              "5  Cow                        Bos           herbi Artiodactyla    domesticated\n",
              "6  Three-toed sloth           Bradypus      herbi Pilosa          NA          \n",
              "7  Northern fur seal          Callorhinus   carni Carnivora       vu          \n",
              "8  Vesper mouse               Calomys       NA    Rodentia        NA          \n",
              "9  Dog                        Canis         carni Carnivora       domesticated\n",
              "10 Roe deer                   Capreolus     herbi Artiodactyla    lc          \n",
              "11 Goat                       Capri         herbi Artiodactyla    lc          \n",
              "12 Guinea pig                 Cavis         herbi Rodentia        domesticated\n",
              "13 Grivet                     Cercopithecus omni  Primates        lc          \n",
              "14 Chinchilla                 Chinchilla    herbi Rodentia        domesticated\n",
              "15 Star-nosed mole            Condylura     omni  Soricomorpha    lc          \n",
              "16 African giant pouched rat  Cricetomys    omni  Rodentia        NA          \n",
              "17 Lesser short-tailed shrew  Cryptotis     omni  Soricomorpha    lc          \n",
              "18 Long-nosed armadillo       Dasypus       carni Cingulata       lc          \n",
              "19 Tree hyrax                 Dendrohyrax   herbi Hyracoidea      lc          \n",
              "20 North American Opossum     Didelphis     omni  Didelphimorphia lc          \n",
              "   sleep_total sleep_rem sleep_cycle awake brainwt bodywt \n",
              "1  12.1         NA              NA   11.9       NA  50.000\n",
              "2  17.0        1.8              NA    7.0  0.01550   0.480\n",
              "3  14.4        2.4              NA    9.6       NA   1.350\n",
              "4  14.9        2.3       0.1333333    9.1  0.00029   0.019\n",
              "5   4.0        0.7       0.6666667   20.0  0.42300 600.000\n",
              "6  14.4        2.2       0.7666667    9.6       NA   3.850\n",
              "7   8.7        1.4       0.3833333   15.3       NA  20.490\n",
              "8   7.0         NA              NA   17.0       NA   0.045\n",
              "9  10.1        2.9       0.3333333   13.9  0.07000  14.000\n",
              "10  3.0         NA              NA   21.0  0.09820  14.800\n",
              "11  5.3        0.6              NA   18.7  0.11500  33.500\n",
              "12  9.4        0.8       0.2166667   14.6  0.00550   0.728\n",
              "13 10.0        0.7              NA   14.0       NA   4.750\n",
              "14 12.5        1.5       0.1166667   11.5  0.00640   0.420\n",
              "15 10.3        2.2              NA   13.7  0.00100   0.060\n",
              "16  8.3        2.0              NA   15.7  0.00660   1.000\n",
              "17  9.1        1.4       0.1500000   14.9  0.00014   0.005\n",
              "18 17.4        3.1       0.3833333    6.6  0.01080   3.500\n",
              "19  5.3        0.5              NA   18.7  0.01230   2.950\n",
              "20 18.0        4.9       0.3333333    6.0  0.00630   1.700"
            ]
          },
          "metadata": {}
        },
        {
          "output_type": "stream",
          "name": "stdout",
          "text": [
            "Rows removed: 8, 55, 57, 58, 63, 69, 73"
          ]
        }
      ]
    },
    {
      "cell_type": "markdown",
      "source": [
        "  \n",
        "\n",
        "## Question 6:\n",
        "\n",
        "### Using the previous question’s data (with missing values removed from the **vore** column), fit a regression model that uses body weight (kg), transformed with a base-10 logarithm, to predict the amount of time an animal spends awake (hours). Write out the model’s equation and $R^2$$R^2$ value.\n",
        "\n",
        "  \n",
        "  \n",
        "  \n",
        "\n"
      ],
      "metadata": {
        "id": "5qYjmbzSG8OO"
      }
    },
    {
      "cell_type": "code",
      "source": [
        "library(ggplot2)\n",
        "data <- na.omit(msleep) # Remove missing values\n",
        "model <- lm(log10(bodywt) ~ awake, data = data) # Fit the regression model\n",
        "summary(model) # Display the model summary\n"
      ],
      "metadata": {
        "colab": {
          "base_uri": "https://localhost:8080/",
          "height": 338
        },
        "id": "v4CKktcionhZ",
        "outputId": "45997d42-9958-465b-a7da-65cfa5ea084b"
      },
      "execution_count": null,
      "outputs": [
        {
          "output_type": "display_data",
          "data": {
            "text/plain": [
              "\n",
              "Call:\n",
              "lm(formula = log10(bodywt) ~ awake, data = data)\n",
              "\n",
              "Residuals:\n",
              "    Min      1Q  Median      3Q     Max \n",
              "-2.7898 -0.5353 -0.1797  0.8926  1.7491 \n",
              "\n",
              "Coefficients:\n",
              "            Estimate Std. Error t value Pr(>|t|)   \n",
              "(Intercept) -2.55183    0.83774  -3.046  0.00695 **\n",
              "awake        0.20407    0.06196   3.294  0.00404 **\n",
              "---\n",
              "Signif. codes:  0 ‘***’ 0.001 ‘**’ 0.01 ‘*’ 0.05 ‘.’ 0.1 ‘ ’ 1\n",
              "\n",
              "Residual standard error: 1.227 on 18 degrees of freedom\n",
              "Multiple R-squared:  0.376,\tAdjusted R-squared:  0.3414 \n",
              "F-statistic: 10.85 on 1 and 18 DF,  p-value: 0.004038\n"
            ]
          },
          "metadata": {}
        }
      ]
    },
    {
      "cell_type": "markdown",
      "source": [
        "$$\\log(10)(bodywt) = -2.55183 + 0.20407 * awake$$\n",
        "$$R^{2}=0.376$$"
      ],
      "metadata": {
        "id": "lA6OqbU8o_69"
      }
    },
    {
      "cell_type": "markdown",
      "source": [
        "## Question 7:\n",
        "\n",
        "### From the previous question, plot the data with the regression line.\n",
        "\n",
        "  \n",
        "  \n",
        "  \n",
        "\n"
      ],
      "metadata": {
        "id": "Y1hbVu_NHAfQ"
      }
    },
    {
      "cell_type": "code",
      "source": [
        "library(ggplot2)\n",
        "\n",
        "# Plot data points\n",
        "ggplot(data, aes(x = log10(bodywt), y = awake)) +\n",
        "  geom_point() +\n",
        "  labs(x = \"log10(body weight)\", y = \"Awake time (hours)\") +\n",
        "\n",
        "  # Add regression line and equation\n",
        "  geom_smooth(method = \"lm\", se = FALSE, color = \"red\") +\n",
        "  annotate(\"text\", x = 0.2, y = 20, \n",
        "           label = paste0(\"log10(bodywt) = -2.55 + 0.20 awake\\nR^2 = 0.38\"), \n",
        "           size = 7, color = \"red\")"
      ],
      "metadata": {
        "colab": {
          "base_uri": "https://localhost:8080/",
          "height": 455
        },
        "id": "W3b38Rc0q7WD",
        "outputId": "58a75b0b-69b3-4ebf-ea7d-35e46c90f6f8"
      },
      "execution_count": null,
      "outputs": [
        {
          "output_type": "stream",
          "name": "stderr",
          "text": [
            "\u001b[1m\u001b[22m`geom_smooth()` using formula = 'y ~ x'\n"
          ]
        },
        {
          "output_type": "display_data",
          "data": {
            "text/plain": [
              "plot without title"
            ],
            "image/png": "[encoded data removed]"
          },
          "metadata": {
            "image/png": {
              "width": 420,
              "height": 420
            }
          }
        }
      ]
    },
    {
      "cell_type": "markdown",
      "source": [
        "## Question 8:\n",
        "\n",
        "### From question 6, test $H_0: \\beta_1 =\n",
        "0$$H_0: \\beta_1 =\n",
        "0$. Report the test statistic, degrees of freedom, p-value, and 95% confidence interval.\n",
        "\n",
        "  \n",
        "  \n",
        "  \n",
        "\n"
      ],
      "metadata": {
        "id": "MaNI533LHDlS"
      }
    },
    {
      "cell_type": "code",
      "source": [
        "# Load required libraries\n",
        "library(stats)\n",
        "\n",
        "# Fit linear regression model\n",
        "fit <- lm(log10(bodywt) ~ awake, data = data)\n",
        "\n",
        "# Extract slope coefficient estimate and standard error\n",
        "b1 <- coef(fit)[2]\n",
        "se_b1 <- sqrt(diag(vcov(fit)))[2]\n",
        "\n",
        "# Calculate t-test statistic\n",
        "t_stat <- b1 / se_b1\n",
        "\n",
        "# Calculate p-value\n",
        "p_value <- 2 * (1 - pt(abs(t_stat), df = length(data$awake) - 2))\n",
        "\n",
        "# Calculate 95% confidence interval for slope coefficient\n",
        "t_critical <- qt(0.975, df = length(data$awake) - 2)\n",
        "ci_lower <- b1 - t_critical * se_b1\n",
        "ci_upper <- b1 + t_critical * se_b1\n",
        "\n",
        "# Print results\n",
        "cat(\"Test Statistic: \", t_stat, \"\\n\")\n",
        "cat(\"Degrees of Freedom: \", length(data$awake) - 2, \"\\n\")\n",
        "cat(\"P-value: \", p_value, \"\\n\")\n",
        "cat(\"95% Confidence Interval for Slope Coefficient: (\", ci_lower, \", \", ci_upper, \")\\n\")\n"
      ],
      "metadata": {
        "id": "hSUXrqE2rXrb"
      },
      "execution_count": null,
      "outputs": []
    },
    {
      "cell_type": "markdown",
      "source": [
        "## Question 9:\n",
        "\n",
        "### Assume the mammal sleep data satisfies the assumptions of classical linear regression methods. Use dummy coding to create a second linear model, that includes vore (i.e., diet) of the animal. Report this new model’s formula, the new $R^2$$R^2$ value. You are allowed to use the function `lm()`.\n",
        "\n",
        "  \n",
        "  \n",
        "  \n",
        "\n"
      ],
      "metadata": {
        "id": "3TsDfO3gHGM5"
      }
    },
    {
      "cell_type": "code",
      "source": [
        "# Create dummy variables for vore column\n",
        "carnivore <- as.numeric(data$vore == \"carni\")\n",
        "herbivore <- as.numeric(data$vore == \"herbi\")\n",
        "insectivore <- as.numeric(data$vore == \"insecti\")\n",
        "omnivore <- as.numeric(data$vore == \"omni\")\n",
        "\n",
        "# Add dummy variables to data frame\n",
        "data$vorecarn <- carnivore\n",
        "data$voreherb <- herbivore\n",
        "data$voreinsec <- insectivore\n",
        "data$voreomni <- omnivore\n",
        "\n",
        "# Fit linear regression model with vore as a predictor\n",
        "model_vore <- lm(log10(bodywt) ~ awake + vorecarn + voreherb + voreinsec + voreomni, data = data)\n",
        "\n",
        "# Print model summary\n",
        "summary(model_vore)\n"
      ],
      "metadata": {
        "colab": {
          "base_uri": "https://localhost:8080/",
          "height": 428
        },
        "id": "31uRZnWhs0rh",
        "outputId": "0924e308-f750-4a93-c254-3ab7773cb3db"
      },
      "execution_count": null,
      "outputs": [
        {
          "output_type": "display_data",
          "data": {
            "text/plain": [
              "\n",
              "Call:\n",
              "lm(formula = log10(bodywt) ~ awake + vorecarn + voreherb + voreinsec + \n",
              "    voreomni, data = data)\n",
              "\n",
              "Residuals:\n",
              "    Min      1Q  Median      3Q     Max \n",
              "-2.5635 -0.4792 -0.1829  0.8942  1.8283 \n",
              "\n",
              "Coefficients: (1 not defined because of singularities)\n",
              "            Estimate Std. Error t value Pr(>|t|)   \n",
              "(Intercept) -2.85202    0.94553  -3.016  0.00868 **\n",
              "awake        0.20902    0.06619   3.158  0.00650 **\n",
              "vorecarn     1.35868    0.87960   1.545  0.14326   \n",
              "voreherb     0.18801    0.68167   0.276  0.78645   \n",
              "voreinsec   -0.60936    1.01141  -0.602  0.55585   \n",
              "voreomni          NA         NA      NA       NA   \n",
              "---\n",
              "Signif. codes:  0 ‘***’ 0.001 ‘**’ 0.01 ‘*’ 0.05 ‘.’ 0.1 ‘ ’ 1\n",
              "\n",
              "Residual standard error: 1.2 on 15 degrees of freedom\n",
              "Multiple R-squared:  0.5027,\tAdjusted R-squared:   0.37 \n",
              "F-statistic:  3.79 on 4 and 15 DF,  p-value: 0.02532\n"
            ]
          },
          "metadata": {}
        }
      ]
    },
    {
      "cell_type": "markdown",
      "source": [
        "$$log10(bodywt) = β₀ + β₁*awake + β₂*vorecarn + β₃*voreherb + β₄*voreinsec + β₅*voreomni$$\n"
      ],
      "metadata": {
        "id": "gEUX2PNvs5xM"
      }
    },
    {
      "cell_type": "markdown",
      "source": [
        "## Question 10:\n",
        "\n",
        "### Conduct a F-test to compare the original single predictor model to the new model with vore. Which is the preferred model according to the test using $\\alpha = 0.05$$\\alpha = 0.05$ criteria? Report the test-statistic, degrees of freedom, and p-value. You are allowed to use `lm()`.\n",
        "\n",
        "  \n",
        "  \n",
        "  \n",
        "\n"
      ],
      "metadata": {
        "id": "b3li-a3cHKUe"
      }
    },
    {
      "cell_type": "code",
      "source": [
        "# Fit the original single predictor model\n",
        "model1 <- lm(log10(bodywt) ~ awake, data = data)\n",
        "\n",
        "# Fit the new model with vore as an additional predictor\n",
        "model2 <- lm(log10(bodywt) ~ awake + vorecarn + voreherb + voreinsec + voreomni, data = data)\n",
        "\n",
        "# Compare the two models using an F-test\n",
        "anova(model1, model2)\n"
      ],
      "metadata": {
        "colab": {
          "base_uri": "https://localhost:8080/",
          "height": 161
        },
        "id": "wfe6pDqwt5db",
        "outputId": "5a5d6f02-1026-497c-d245-7ec314685c1e"
      },
      "execution_count": null,
      "outputs": [
        {
          "output_type": "display_data",
          "data": {
            "text/html": [
              "<table class=\"dataframe\">\n",
              "<caption>A anova: 2 × 6</caption>\n",
              "<thead>\n",
              "\t<tr><th></th><th scope=col>Res.Df</th><th scope=col>RSS</th><th scope=col>Df</th><th scope=col>Sum of Sq</th><th scope=col>F</th><th scope=col>Pr(&gt;F)</th></tr>\n",
              "\t<tr><th></th><th scope=col>&lt;dbl&gt;</th><th scope=col>&lt;dbl&gt;</th><th scope=col>&lt;dbl&gt;</th><th scope=col>&lt;dbl&gt;</th><th scope=col>&lt;dbl&gt;</th><th scope=col>&lt;dbl&gt;</th></tr>\n",
              "</thead>\n",
              "<tbody>\n",
              "\t<tr><th scope=row>1</th><td>18</td><td>27.11527</td><td>NA</td><td>      NA</td><td>      NA</td><td>       NA</td></tr>\n",
              "\t<tr><th scope=row>2</th><td>15</td><td>21.61290</td><td> 3</td><td>5.502368</td><td>1.272936</td><td>0.3194263</td></tr>\n",
              "</tbody>\n",
              "</table>\n"
            ],
            "text/markdown": "\nA anova: 2 × 6\n\n| <!--/--> | Res.Df &lt;dbl&gt; | RSS &lt;dbl&gt; | Df &lt;dbl&gt; | Sum of Sq &lt;dbl&gt; | F &lt;dbl&gt; | Pr(&gt;F) &lt;dbl&gt; |\n|---|---|---|---|---|---|---|\n| 1 | 18 | 27.11527 | NA |       NA |       NA |        NA |\n| 2 | 15 | 21.61290 |  3 | 5.502368 | 1.272936 | 0.3194263 |\n\n",
            "text/latex": "A anova: 2 × 6\n\\begin{tabular}{r|llllll}\n  & Res.Df & RSS & Df & Sum of Sq & F & Pr(>F)\\\\\n  & <dbl> & <dbl> & <dbl> & <dbl> & <dbl> & <dbl>\\\\\n\\hline\n\t1 & 18 & 27.11527 & NA &       NA &       NA &        NA\\\\\n\t2 & 15 & 21.61290 &  3 & 5.502368 & 1.272936 & 0.3194263\\\\\n\\end{tabular}\n",
            "text/plain": [
              "  Res.Df RSS      Df Sum of Sq F        Pr(>F)   \n",
              "1 18     27.11527 NA       NA        NA        NA\n",
              "2 15     21.61290  3 5.502368  1.272936 0.3194263"
            ]
          },
          "metadata": {}
        }
      ]
    },
    {
      "cell_type": "markdown",
      "source": [
        "The F-test compares the original single predictor model to the new model with vore.\n",
        "The output shows The difference in RSS is 5.502368, and the F-statistic is 1.272936 with 3 and 15 degrees of freedom for the numerator and denominator, respectively.\n",
        "\n",
        "The p-value for the F-test is 0.3194263, which is greater than the significance level of 0.05. Therefore, we fail to reject the null hypothesis and conclude that the original single predictor model is not significantly worse than the new model with vore. In other words, the new model with vore does not provide a significant improvement over the original model."
      ],
      "metadata": {
        "id": "bHfghxlLuO6b"
      }
    },
    {
      "cell_type": "code",
      "source": [],
      "metadata": {
        "id": "yc9ukQqmuOqG"
      },
      "execution_count": null,
      "outputs": []
    },
    {
      "cell_type": "code",
      "source": [
        "install.packages(\"plyr\")\n",
        "install.packages(\"pwr\")"
      ],
      "metadata": {
        "colab": {
          "base_uri": "https://localhost:8080/"
        },
        "id": "QVLtsN3aW5Tv",
        "outputId": "0b07b284-2a05-4e23-d5c5-2c03679bb68f"
      },
      "execution_count": 185,
      "outputs": [
        {
          "output_type": "stream",
          "name": "stderr",
          "text": [
            "Installing package into ‘/usr/local/lib/R/site-library’\n",
            "(as ‘lib’ is unspecified)\n",
            "\n",
            "Installing package into ‘/usr/local/lib/R/site-library’\n",
            "(as ‘lib’ is unspecified)\n",
            "\n"
          ]
        }
      ]
    },
    {
      "cell_type": "markdown",
      "source": [
        "## Question 11:\n",
        "\n",
        "### Reassess which model is preferred (from question 10) by using a Inverse Bayes Factor. In plain English, what does the Inverse Bayes Factor tell you and what model would you select given its conclusions?\n",
        "\n",
        "  "
      ],
      "metadata": {
        "id": "YbkZr55gHM-P"
      }
    },
    {
      "cell_type": "code",
      "source": [
        "# Fit the two models\n",
        "model1 <- lm(log10(bodywt) ~ awake, data = data)\n",
        "model2 <- lm(log10(bodywt) ~ awake + vorecarn + voreherb + voreinsec + voreomni, data = data)\n",
        "\n",
        "# Calculate the likelihood ratio\n",
        "LR <- exp(logLik(model1) - logLik(model2))\n",
        "\n",
        "# Calculate the Inverse Bayes Factor\n",
        "IBF <- 1/LR\n",
        "\n",
        "IBF"
      ],
      "metadata": {
        "colab": {
          "base_uri": "https://localhost:8080/",
          "height": 35
        },
        "id": "ep10z80Ev0Pl",
        "outputId": "72495b12-6b6b-4e33-a59d-e5f74d01b624"
      },
      "execution_count": null,
      "outputs": [
        {
          "output_type": "display_data",
          "data": {
            "text/plain": [
              "'log Lik.' 9.660702 (df=3)"
            ]
          },
          "metadata": {}
        }
      ]
    },
    {
      "cell_type": "markdown",
      "source": [
        "he log likelihood is a measure of the goodness of fit of a statistical model to the observed data. A higher log likelihood value indicates a better fit of the model to the data. In this case, the log likelihood value is 9.660702, and it is associated with 3 degrees of freedom (df=3), which represents the number of additional parameters estimated in Model 2 compared to Model 1. The liklihood ratio indicate difference b/w the log likihood of 2 models, In this case, a lower likelihood ratio indicates that Model 2 provides a better fit to the data compared to Model 1. the IBF is then calculated as the reciprocal of the likelihood ratio, i.e., 1/LR, provides a measure of the strength of evidence against Model 1 in favor of Model 2. If the IBF is greater than 1, it indicates stronger evidence in favor of Model 2, and if it is less than 1, it indicates stronger evidence in favor of Model 1. In this case, an IBF of 0.01923653 indicates strong evidence in favor of Model 2 with the inclusion of the vore predictor variables."
      ],
      "metadata": {
        "id": "lMzz5unavyN9"
      }
    },
    {
      "cell_type": "markdown",
      "source": [
        "## Question 12:\n",
        "\n",
        "### Does the preferred model satisfy the classical assumptions of a least-squares regression model?\n",
        "\n",
        "  \n",
        "  \n",
        "\n",
        "___\n",
        "\n",
        "  \n",
        "  \n",
        "\n"
      ],
      "metadata": {
        "id": "t3E8tjNOHQXB"
      }
    },
    {
      "cell_type": "code",
      "source": [
        "# create normal QQ plot\n",
        "qqnorm(model2$residuals)\n",
        "qqline(model2$residuals)\n",
        "\n",
        "# create plot of residuals vs fitted values\n",
        "plot(model2$fitted.values, model2$residuals, xlab = \"Fitted Values\", ylab = \"Residuals\")\n",
        "abline(h = 0, lty = 2)"
      ],
      "metadata": {
        "colab": {
          "base_uri": "https://localhost:8080/",
          "height": 857
        },
        "id": "ua45j66A8jhf",
        "outputId": "f21f2d82-a13f-444f-d226-3c19ff8bb751"
      },
      "execution_count": null,
      "outputs": [
        {
          "output_type": "display_data",
          "data": {
            "text/plain": [
              "Plot with title “Normal Q-Q Plot”"
            ],
            "image/png": "[encoded data removed]"
          },
          "metadata": {
            "image/png": {
              "width": 420,
              "height": 420
            }
          }
        },
        {
          "output_type": "display_data",
          "data": {
            "text/plain": [
              "plot without title"
            ],
            "image/png": "[encoded data removed]"
          },
          "metadata": {
            "image/png": {
              "width": 420,
              "height": 420
            }
          }
        }
      ]
    },
    {
      "cell_type": "markdown",
      "source": [
        "Based on the provided normal QQ plot and residuals vs. fitted values plot, we can assess the classical assumptions of the preferred model.\n",
        "\n",
        "Linearity: From the residuals vs. fitted values plot, we can see that the residuals are randomly scattered around the zero line, which indicates that there is no obvious non-linearity in the model.\n",
        "\n",
        "Independence: There is no obvious pattern in the residuals vs. fitted values plot, indicating that there is no significant correlation between the residuals and the fitted values. Therefore, the assumption of independence is met.\n",
        "\n",
        "Normality: The normal QQ plot indicates that the residuals are approximately normally distributed with a few outliers. This suggests that the normality assumption is met.\n",
        "\n",
        "Equal variance: From the residuals vs. fitted values plot, we can see that the spread of the residuals is relatively constant across the range of the fitted values, which indicates that the assumption of equal variance is met.\n",
        "\n",
        "Overall, based on the provided plots, it appears that the classical assumptions of the least-squares regression model are met by the preferred model."
      ],
      "metadata": {
        "id": "EfOgdF8J8dzm"
      }
    },
    {
      "cell_type": "markdown",
      "source": [
        "## Question 13:\n",
        "\n",
        "### State the measurement scale of each variable below:\n",
        "\n",
        "  \n",
        "\n",
        "#### a. Educational level (elementary, middle, high school, college, graduate)\n",
        "\n",
        "#### b. Political party (Liberal, Conservative, NewDemocrat)\n",
        "\n",
        "#### c. Response rate (lever presses per minute)\n",
        "\n",
        "#### d. Volume (in liters or gallons)\n",
        "\n",
        "#### e. Calendar year\n",
        "\n",
        "#### f. Customer satisfaction (dissatisfied, neutral, satisfied, very satisfied)\n",
        "\n",
        "#### g. Marital status (single, married, divorced, widowed)\n",
        "\n",
        "#### h. Time (in seconds, minutes, or hours)\n",
        "\n",
        "#### i. Stimulus colour (brown, green, red, black)\n",
        "\n",
        "#### j. Likert Scale (happiness on a scale of 1 to 7)\n",
        "\n",
        "  \n",
        "  \n",
        "\n",
        "___\n",
        "\n",
        "  \n",
        "  \n",
        "\n"
      ],
      "metadata": {
        "id": "E6RPCTG8HS07"
      }
    },
    {
      "cell_type": "code",
      "source": [
        "# create a data frame with variable names and measurement scales\n",
        "variables <- c(\"Educational level\", \"Political party\", \"Response rate\", \"Volume\", \"Calendar year\",\n",
        "               \"Customer satisfaction\", \"Marital status\", \"Time\", \"Stimulus colour\", \"Likert Scale\")\n",
        "measurement_scales <- c(\"Ordinal\", \"Nominal\", \"Ratio\", \"continuous\", \"Interval\",\n",
        "                        \"Ordinal\", \"Nominal\", \"Ratio\", \"Nominal\", \"Ordinal\")\n",
        "data_frame <- data.frame(variables, measurement_scales)\n",
        "\n",
        "# print the data frame\n",
        "print(data_frame)\n"
      ],
      "metadata": {
        "colab": {
          "base_uri": "https://localhost:8080/"
        },
        "id": "sggdgDz39I_r",
        "outputId": "9f4c568e-b000-4155-b09c-2e20e709abb5"
      },
      "execution_count": null,
      "outputs": [
        {
          "output_type": "stream",
          "name": "stdout",
          "text": [
            "               variables measurement_scales\n",
            "1      Educational level            Ordinal\n",
            "2        Political party            Nominal\n",
            "3          Response rate              Ratio\n",
            "4                 Volume         continuous\n",
            "5          Calendar year           Interval\n",
            "6  Customer satisfaction            Ordinal\n",
            "7         Marital status            Nominal\n",
            "8                   Time              Ratio\n",
            "9        Stimulus colour            Nominal\n",
            "10          Likert Scale            Ordinal\n"
          ]
        }
      ]
    },
    {
      "cell_type": "markdown",
      "source": [
        "## Question 14:\n",
        "\n",
        "### An instructor creates four different exams for their course’s midterm. Each exam contains questions that have been randomly selected from a question bank (i.e., each exam is unique).\n",
        "\n",
        "### The data for each exam can be found in **studentScores.csv**.\n",
        "\n",
        "### Create a plot that depicts the mean of each test with a corresponding 95% confidence interval errorbar.\n",
        "\n",
        "  \n",
        "  \n",
        "  \n",
        "\n"
      ],
      "metadata": {
        "id": "JAEcCI-QHWbX"
      }
    },
    {
      "cell_type": "code",
      "source": [
        "# Load the data from StudentScores.csv\n",
        "data <- read.csv(\"StudentScores.csv\")\n",
        "\n",
        "# Calculate the mean and standard error for each exam\n",
        "means <- apply(data, 2, mean)\n",
        "se <- apply(data, 2, function(x) sd(x)/sqrt(length(x)))\n",
        "ci <- qt(0.975, df = length(data$Exam1)-1) * se\n",
        "\n",
        "# Create the plot\n",
        "plot(means, ylim = c(60, 100), ylab = \"Mean Score\", xlab = \"Exam Number\",\n",
        "     main = \"Mean Scores with 95% Confidence Intervals\", xaxt = \"n\")\n",
        "axis(side = 1, at = 1:4, labels = paste0(\"Exam \", 1:4))\n",
        "axis(side = 2, at = seq(60, 100, by = 10), labels = format(seq(60, 100, by = 10), nsmall = 3))\n",
        "arrows(x0 = 1:4, y0 = means-ci, y1 = means+ci, angle = 90, code = 3, length = 0.1)\n",
        "text(x = 1:4, y = means+ci+1, labels = format(round(means, 3), nsmall = 3), pos = 3)"
      ],
      "metadata": {
        "colab": {
          "base_uri": "https://localhost:8080/",
          "height": 437
        },
        "id": "mbqRB6hFAHfv",
        "outputId": "faaa033a-cc20-4654-a34c-2045bc9f5292"
      },
      "execution_count": null,
      "outputs": [
        {
          "output_type": "display_data",
          "data": {
            "text/plain": [
              "Plot with title “Mean Scores with 95% Confidence Intervals”"
            ],
            "image/png": "[encoded data removed]"
          },
          "metadata": {
            "image/png": {
              "width": 420,
              "height": 420
            }
          }
        }
      ]
    },
    {
      "cell_type": "markdown",
      "source": [
        "## Question 15:\n",
        "\n",
        "### Without using `lm()` or `aov()`, calculate a omnibus one-way ANOVA on the **studentScores.csv** data. At the end of your calculations, report all of the following:\n",
        "\n",
        "#### \\- Grand Mean\n",
        "\n",
        "#### \\- Total Sum of Squares\n",
        "\n",
        "#### \\- Model Sum of Squares\n",
        "\n",
        "#### \\- Residual Sum of Squares\n",
        "\n",
        "#### \\- Multiple $R^2$$R^2$\n",
        "\n",
        "#### \\- F-Ratio\n",
        "\n",
        "#### \\- p-value\n",
        "\n",
        "#### \\- Omega-squared effect-size\n",
        "\n",
        "  \n",
        "  \n",
        "  \n",
        "\n"
      ],
      "metadata": {
        "id": "CfbO_BwvHYdM"
      }
    },
    {
      "cell_type": "code",
      "source": [
        "# Read in the data\n",
        "studentScores <- read.csv(\"StudentScores.csv\")\n",
        "\n",
        "# Create separate data frames for each exam\n",
        "exam1 <- data.frame(Student=1:nrow(studentScores), Score=studentScores$Exam1, Exam=\"Exam1\")\n",
        "exam2 <- data.frame(Student=1:nrow(studentScores), Score=studentScores$Exam2, Exam=\"Exam2\")\n",
        "exam3 <- data.frame(Student=1:nrow(studentScores), Score=studentScores$Exam3, Exam=\"Exam3\")\n",
        "exam4 <- data.frame(Student=1:nrow(studentScores), Score=studentScores$Exam4, Exam=\"Exam4\")\n",
        "\n",
        "# Combine the data frames into one\n",
        "studentScoresNew <- rbind(exam1, exam2, exam3, exam4)\n",
        "\n",
        "# Print the new data frame\n",
        "studentScoresNew\n",
        "\n",
        "\n",
        "# Calculate the overall mean\n",
        "grandMean <- mean(studentScoresNew$Score)\n",
        "\n",
        "# Calculate the total sum of squares\n",
        "totalSS <- sum((studentScoresNew$Score - grandMean)^2)\n",
        "\n",
        "# Calculate the model sum of squares\n",
        "nLevels <- length(unique(studentScoresNew$Exam))\n",
        "means <- tapply(studentScoresNew$Score, studentScoresNew$Exam, mean)\n",
        "modelSS <- sum((means - grandMean)^2) * nLevels\n",
        "\n",
        "# Calculate the residual sum of squares\n",
        "residualSS <- totalSS - modelSS\n",
        "\n",
        "# Calculate the multiple R-squared\n",
        "multR2 <- modelSS / totalSS\n",
        "\n",
        "# Calculate the F-ratio\n",
        "dfModel <- nLevels - 1\n",
        "dfResidual <- nrow(studentScoresNew) - nLevels\n",
        "fRatio <- (modelSS / dfModel) / (residualSS / dfResidual)\n",
        "\n",
        "# Calculate the p-value\n",
        "pValue <- pf(fRatio, dfModel, dfResidual, lower.tail = FALSE)\n",
        "\n",
        "# Calculate the omega-squared effect-size\n",
        "omegaSq <- (modelSS - (dfModel * (totalSS / nrow(studentScoresNew)))) / \n",
        "            (totalSS + (totalSS / nrow(studentScoresNew)))\n",
        "\n",
        "# Print the results\n",
        "cat(\"Grand Mean:\", round(grandMean, 2), \"\\n\")\n",
        "cat(\"Total Sum of Squares:\", round(totalSS, 2), \"\\n\")\n",
        "cat(\"Model Sum of Squares:\", round(modelSS, 2), \"\\n\")\n",
        "cat(\"Residual Sum of Squares:\", round(residualSS, 2), \"\\n\")\n",
        "cat(\"Multiple R-squared:\", round(multR2, 4), \"\\n\")\n",
        "cat(\"F-ratio:\", round(fRatio, 2), \"\\n\")\n",
        "cat(\"p-value:\", format(pValue, scientific = TRUE, digits = 2), \"\\n\")\n",
        "cat(\"Omega-squared effect-size:\", round(omegaSq, 4), \"\\n\")\n"
      ],
      "metadata": {
        "colab": {
          "base_uri": "https://localhost:8080/",
          "height": 1000
        },
        "id": "_z4lGtXapuu4",
        "outputId": "9c2f9453-c42a-43e9-c8aa-8944e29df8cc"
      },
      "execution_count": 182,
      "outputs": [
        {
          "output_type": "display_data",
          "data": {
            "text/html": [
              "<table class=\"dataframe\">\n",
              "<caption>A data.frame: 212 × 3</caption>\n",
              "<thead>\n",
              "\t<tr><th scope=col>Student</th><th scope=col>Score</th><th scope=col>Exam</th></tr>\n",
              "\t<tr><th scope=col>&lt;int&gt;</th><th scope=col>&lt;dbl&gt;</th><th scope=col>&lt;chr&gt;</th></tr>\n",
              "</thead>\n",
              "<tbody>\n",
              "\t<tr><td> 1</td><td>68.49</td><td>Exam1</td></tr>\n",
              "\t<tr><td> 2</td><td>78.21</td><td>Exam1</td></tr>\n",
              "\t<tr><td> 3</td><td>73.91</td><td>Exam1</td></tr>\n",
              "\t<tr><td> 4</td><td>79.90</td><td>Exam1</td></tr>\n",
              "\t<tr><td> 5</td><td>71.97</td><td>Exam1</td></tr>\n",
              "\t<tr><td> 6</td><td>82.06</td><td>Exam1</td></tr>\n",
              "\t<tr><td> 7</td><td>69.48</td><td>Exam1</td></tr>\n",
              "\t<tr><td> 8</td><td>73.34</td><td>Exam1</td></tr>\n",
              "\t<tr><td> 9</td><td>80.78</td><td>Exam1</td></tr>\n",
              "\t<tr><td>10</td><td>82.90</td><td>Exam1</td></tr>\n",
              "\t<tr><td>11</td><td>88.10</td><td>Exam1</td></tr>\n",
              "\t<tr><td>12</td><td>69.28</td><td>Exam1</td></tr>\n",
              "\t<tr><td>13</td><td>87.12</td><td>Exam1</td></tr>\n",
              "\t<tr><td>14</td><td>82.33</td><td>Exam1</td></tr>\n",
              "\t<tr><td>15</td><td>70.39</td><td>Exam1</td></tr>\n",
              "\t<tr><td>16</td><td>81.11</td><td>Exam1</td></tr>\n",
              "\t<tr><td>17</td><td>76.33</td><td>Exam1</td></tr>\n",
              "\t<tr><td>18</td><td>77.13</td><td>Exam1</td></tr>\n",
              "\t<tr><td>19</td><td>75.85</td><td>Exam1</td></tr>\n",
              "\t<tr><td>20</td><td>57.73</td><td>Exam1</td></tr>\n",
              "\t<tr><td>21</td><td>86.07</td><td>Exam1</td></tr>\n",
              "\t<tr><td>22</td><td>69.97</td><td>Exam1</td></tr>\n",
              "\t<tr><td>23</td><td>68.33</td><td>Exam1</td></tr>\n",
              "\t<tr><td>24</td><td>64.67</td><td>Exam1</td></tr>\n",
              "\t<tr><td>25</td><td>69.44</td><td>Exam1</td></tr>\n",
              "\t<tr><td>26</td><td>81.18</td><td>Exam1</td></tr>\n",
              "\t<tr><td>27</td><td>74.24</td><td>Exam1</td></tr>\n",
              "\t<tr><td>28</td><td>85.55</td><td>Exam1</td></tr>\n",
              "\t<tr><td>29</td><td>77.37</td><td>Exam1</td></tr>\n",
              "\t<tr><td>30</td><td>76.27</td><td>Exam1</td></tr>\n",
              "\t<tr><td>⋮</td><td>⋮</td><td>⋮</td></tr>\n",
              "\t<tr><td>24</td><td>70.35</td><td>Exam4</td></tr>\n",
              "\t<tr><td>25</td><td>76.90</td><td>Exam4</td></tr>\n",
              "\t<tr><td>26</td><td>75.28</td><td>Exam4</td></tr>\n",
              "\t<tr><td>27</td><td>70.84</td><td>Exam4</td></tr>\n",
              "\t<tr><td>28</td><td>82.64</td><td>Exam4</td></tr>\n",
              "\t<tr><td>29</td><td>78.44</td><td>Exam4</td></tr>\n",
              "\t<tr><td>30</td><td>72.48</td><td>Exam4</td></tr>\n",
              "\t<tr><td>31</td><td>81.09</td><td>Exam4</td></tr>\n",
              "\t<tr><td>32</td><td>78.10</td><td>Exam4</td></tr>\n",
              "\t<tr><td>33</td><td>69.13</td><td>Exam4</td></tr>\n",
              "\t<tr><td>34</td><td>75.74</td><td>Exam4</td></tr>\n",
              "\t<tr><td>35</td><td>73.87</td><td>Exam4</td></tr>\n",
              "\t<tr><td>36</td><td>63.79</td><td>Exam4</td></tr>\n",
              "\t<tr><td>37</td><td>66.44</td><td>Exam4</td></tr>\n",
              "\t<tr><td>38</td><td>77.15</td><td>Exam4</td></tr>\n",
              "\t<tr><td>39</td><td>81.04</td><td>Exam4</td></tr>\n",
              "\t<tr><td>40</td><td>77.17</td><td>Exam4</td></tr>\n",
              "\t<tr><td>41</td><td>84.64</td><td>Exam4</td></tr>\n",
              "\t<tr><td>42</td><td>66.68</td><td>Exam4</td></tr>\n",
              "\t<tr><td>43</td><td>79.30</td><td>Exam4</td></tr>\n",
              "\t<tr><td>44</td><td>73.94</td><td>Exam4</td></tr>\n",
              "\t<tr><td>45</td><td>82.13</td><td>Exam4</td></tr>\n",
              "\t<tr><td>46</td><td>66.79</td><td>Exam4</td></tr>\n",
              "\t<tr><td>47</td><td>69.77</td><td>Exam4</td></tr>\n",
              "\t<tr><td>48</td><td>75.78</td><td>Exam4</td></tr>\n",
              "\t<tr><td>49</td><td>77.40</td><td>Exam4</td></tr>\n",
              "\t<tr><td>50</td><td>83.43</td><td>Exam4</td></tr>\n",
              "\t<tr><td>51</td><td>79.62</td><td>Exam4</td></tr>\n",
              "\t<tr><td>52</td><td>72.41</td><td>Exam4</td></tr>\n",
              "\t<tr><td>53</td><td>60.58</td><td>Exam4</td></tr>\n",
              "</tbody>\n",
              "</table>\n"
            ],
            "text/markdown": "\nA data.frame: 212 × 3\n\n| Student &lt;int&gt; | Score &lt;dbl&gt; | Exam &lt;chr&gt; |\n|---|---|---|\n|  1 | 68.49 | Exam1 |\n|  2 | 78.21 | Exam1 |\n|  3 | 73.91 | Exam1 |\n|  4 | 79.90 | Exam1 |\n|  5 | 71.97 | Exam1 |\n|  6 | 82.06 | Exam1 |\n|  7 | 69.48 | Exam1 |\n|  8 | 73.34 | Exam1 |\n|  9 | 80.78 | Exam1 |\n| 10 | 82.90 | Exam1 |\n| 11 | 88.10 | Exam1 |\n| 12 | 69.28 | Exam1 |\n| 13 | 87.12 | Exam1 |\n| 14 | 82.33 | Exam1 |\n| 15 | 70.39 | Exam1 |\n| 16 | 81.11 | Exam1 |\n| 17 | 76.33 | Exam1 |\n| 18 | 77.13 | Exam1 |\n| 19 | 75.85 | Exam1 |\n| 20 | 57.73 | Exam1 |\n| 21 | 86.07 | Exam1 |\n| 22 | 69.97 | Exam1 |\n| 23 | 68.33 | Exam1 |\n| 24 | 64.67 | Exam1 |\n| 25 | 69.44 | Exam1 |\n| 26 | 81.18 | Exam1 |\n| 27 | 74.24 | Exam1 |\n| 28 | 85.55 | Exam1 |\n| 29 | 77.37 | Exam1 |\n| 30 | 76.27 | Exam1 |\n| ⋮ | ⋮ | ⋮ |\n| 24 | 70.35 | Exam4 |\n| 25 | 76.90 | Exam4 |\n| 26 | 75.28 | Exam4 |\n| 27 | 70.84 | Exam4 |\n| 28 | 82.64 | Exam4 |\n| 29 | 78.44 | Exam4 |\n| 30 | 72.48 | Exam4 |\n| 31 | 81.09 | Exam4 |\n| 32 | 78.10 | Exam4 |\n| 33 | 69.13 | Exam4 |\n| 34 | 75.74 | Exam4 |\n| 35 | 73.87 | Exam4 |\n| 36 | 63.79 | Exam4 |\n| 37 | 66.44 | Exam4 |\n| 38 | 77.15 | Exam4 |\n| 39 | 81.04 | Exam4 |\n| 40 | 77.17 | Exam4 |\n| 41 | 84.64 | Exam4 |\n| 42 | 66.68 | Exam4 |\n| 43 | 79.30 | Exam4 |\n| 44 | 73.94 | Exam4 |\n| 45 | 82.13 | Exam4 |\n| 46 | 66.79 | Exam4 |\n| 47 | 69.77 | Exam4 |\n| 48 | 75.78 | Exam4 |\n| 49 | 77.40 | Exam4 |\n| 50 | 83.43 | Exam4 |\n| 51 | 79.62 | Exam4 |\n| 52 | 72.41 | Exam4 |\n| 53 | 60.58 | Exam4 |\n\n",
            "text/latex": "A data.frame: 212 × 3\n\\begin{tabular}{lll}\n Student & Score & Exam\\\\\n <int> & <dbl> & <chr>\\\\\n\\hline\n\t  1 & 68.49 & Exam1\\\\\n\t  2 & 78.21 & Exam1\\\\\n\t  3 & 73.91 & Exam1\\\\\n\t  4 & 79.90 & Exam1\\\\\n\t  5 & 71.97 & Exam1\\\\\n\t  6 & 82.06 & Exam1\\\\\n\t  7 & 69.48 & Exam1\\\\\n\t  8 & 73.34 & Exam1\\\\\n\t  9 & 80.78 & Exam1\\\\\n\t 10 & 82.90 & Exam1\\\\\n\t 11 & 88.10 & Exam1\\\\\n\t 12 & 69.28 & Exam1\\\\\n\t 13 & 87.12 & Exam1\\\\\n\t 14 & 82.33 & Exam1\\\\\n\t 15 & 70.39 & Exam1\\\\\n\t 16 & 81.11 & Exam1\\\\\n\t 17 & 76.33 & Exam1\\\\\n\t 18 & 77.13 & Exam1\\\\\n\t 19 & 75.85 & Exam1\\\\\n\t 20 & 57.73 & Exam1\\\\\n\t 21 & 86.07 & Exam1\\\\\n\t 22 & 69.97 & Exam1\\\\\n\t 23 & 68.33 & Exam1\\\\\n\t 24 & 64.67 & Exam1\\\\\n\t 25 & 69.44 & Exam1\\\\\n\t 26 & 81.18 & Exam1\\\\\n\t 27 & 74.24 & Exam1\\\\\n\t 28 & 85.55 & Exam1\\\\\n\t 29 & 77.37 & Exam1\\\\\n\t 30 & 76.27 & Exam1\\\\\n\t ⋮ & ⋮ & ⋮\\\\\n\t 24 & 70.35 & Exam4\\\\\n\t 25 & 76.90 & Exam4\\\\\n\t 26 & 75.28 & Exam4\\\\\n\t 27 & 70.84 & Exam4\\\\\n\t 28 & 82.64 & Exam4\\\\\n\t 29 & 78.44 & Exam4\\\\\n\t 30 & 72.48 & Exam4\\\\\n\t 31 & 81.09 & Exam4\\\\\n\t 32 & 78.10 & Exam4\\\\\n\t 33 & 69.13 & Exam4\\\\\n\t 34 & 75.74 & Exam4\\\\\n\t 35 & 73.87 & Exam4\\\\\n\t 36 & 63.79 & Exam4\\\\\n\t 37 & 66.44 & Exam4\\\\\n\t 38 & 77.15 & Exam4\\\\\n\t 39 & 81.04 & Exam4\\\\\n\t 40 & 77.17 & Exam4\\\\\n\t 41 & 84.64 & Exam4\\\\\n\t 42 & 66.68 & Exam4\\\\\n\t 43 & 79.30 & Exam4\\\\\n\t 44 & 73.94 & Exam4\\\\\n\t 45 & 82.13 & Exam4\\\\\n\t 46 & 66.79 & Exam4\\\\\n\t 47 & 69.77 & Exam4\\\\\n\t 48 & 75.78 & Exam4\\\\\n\t 49 & 77.40 & Exam4\\\\\n\t 50 & 83.43 & Exam4\\\\\n\t 51 & 79.62 & Exam4\\\\\n\t 52 & 72.41 & Exam4\\\\\n\t 53 & 60.58 & Exam4\\\\\n\\end{tabular}\n",
            "text/plain": [
              "    Student Score Exam \n",
              "1    1      68.49 Exam1\n",
              "2    2      78.21 Exam1\n",
              "3    3      73.91 Exam1\n",
              "4    4      79.90 Exam1\n",
              "5    5      71.97 Exam1\n",
              "6    6      82.06 Exam1\n",
              "7    7      69.48 Exam1\n",
              "8    8      73.34 Exam1\n",
              "9    9      80.78 Exam1\n",
              "10  10      82.90 Exam1\n",
              "11  11      88.10 Exam1\n",
              "12  12      69.28 Exam1\n",
              "13  13      87.12 Exam1\n",
              "14  14      82.33 Exam1\n",
              "15  15      70.39 Exam1\n",
              "16  16      81.11 Exam1\n",
              "17  17      76.33 Exam1\n",
              "18  18      77.13 Exam1\n",
              "19  19      75.85 Exam1\n",
              "20  20      57.73 Exam1\n",
              "21  21      86.07 Exam1\n",
              "22  22      69.97 Exam1\n",
              "23  23      68.33 Exam1\n",
              "24  24      64.67 Exam1\n",
              "25  25      69.44 Exam1\n",
              "26  26      81.18 Exam1\n",
              "27  27      74.24 Exam1\n",
              "28  28      85.55 Exam1\n",
              "29  29      77.37 Exam1\n",
              "30  30      76.27 Exam1\n",
              "⋮   ⋮       ⋮     ⋮    \n",
              "183 24      70.35 Exam4\n",
              "184 25      76.90 Exam4\n",
              "185 26      75.28 Exam4\n",
              "186 27      70.84 Exam4\n",
              "187 28      82.64 Exam4\n",
              "188 29      78.44 Exam4\n",
              "189 30      72.48 Exam4\n",
              "190 31      81.09 Exam4\n",
              "191 32      78.10 Exam4\n",
              "192 33      69.13 Exam4\n",
              "193 34      75.74 Exam4\n",
              "194 35      73.87 Exam4\n",
              "195 36      63.79 Exam4\n",
              "196 37      66.44 Exam4\n",
              "197 38      77.15 Exam4\n",
              "198 39      81.04 Exam4\n",
              "199 40      77.17 Exam4\n",
              "200 41      84.64 Exam4\n",
              "201 42      66.68 Exam4\n",
              "202 43      79.30 Exam4\n",
              "203 44      73.94 Exam4\n",
              "204 45      82.13 Exam4\n",
              "205 46      66.79 Exam4\n",
              "206 47      69.77 Exam4\n",
              "207 48      75.78 Exam4\n",
              "208 49      77.40 Exam4\n",
              "209 50      83.43 Exam4\n",
              "210 51      79.62 Exam4\n",
              "211 52      72.41 Exam4\n",
              "212 53      60.58 Exam4"
            ]
          },
          "metadata": {}
        },
        {
          "output_type": "stream",
          "name": "stdout",
          "text": [
            "Grand Mean: 76.82 \n",
            "Total Sum of Squares: 10504.49 \n",
            "Model Sum of Squares: 27.73 \n",
            "Residual Sum of Squares: 10476.75 \n",
            "Multiple R-squared: 0.0026 \n",
            "F-ratio: 0.18 \n",
            "p-value: 9.1e-01 \n",
            "Omega-squared effect-size: -0.0115 \n"
          ]
        }
      ]
    },
    {
      "cell_type": "markdown",
      "source": [
        "## Question 16:\n",
        "\n",
        "### Based on the results of the previous question, are one or more of the exams unfair? Justify your answer.\n"
      ],
      "metadata": {
        "id": "jIvY9BxZHbnu"
      }
    },
    {
      "cell_type": "markdown",
      "source": [
        "Based on the results of the previous question, it is difficult to conclude whether one or more of the exams are unfair. The low F-ratio and high p-value suggest that the variation in scores across the four exams is not statistically significant, meaning that there is not enough evidence to suggest that any one of the exams is significantly more difficult or unfair than the others.it is worth noting that the multiple R-squared value is very low, indicating that the variation in scores is not well explained by the model. "
      ],
      "metadata": {
        "id": "PS0bbZ4KH_gr"
      }
    },
    {
      "cell_type": "code",
      "source": [],
      "metadata": {
        "id": "rAtAtvbxH_OZ"
      },
      "execution_count": null,
      "outputs": []
    },
    {
      "cell_type": "markdown",
      "source": [
        "\n",
        "## Question 17:\n",
        "\n",
        "### Using classic t-tests, obtain the p-value for all pairwise comparisons in the **studentScores.csv** data set. Apply the Holm-Bonferroni Correction. Which comparisons come out as statistically significant? You are permitted to use `t.test()`\n"
      ],
      "metadata": {
        "id": "V-DCVaURHdsp"
      }
    },
    {
      "cell_type": "code",
      "source": [
        "# Read the data from the CSV file\n",
        "scores <- read.csv(\"StudentScores.csv\")\n",
        "\n",
        "# Get the number of exams\n",
        "n_exams <- ncol(scores)\n",
        "\n",
        "# Initialize a matrix to store the p-values\n",
        "p_values <- matrix(0, n_exams, n_exams)\n"
      ],
      "metadata": {
        "id": "XS13YAvKKSr9"
      },
      "execution_count": 200,
      "outputs": []
    },
    {
      "cell_type": "code",
      "source": [
        "# Apply Holm-Bonferroni Correction\n",
        "p_values <- p.adjust(as.vector(pvalues), method = \"holm\")\n",
        "pvalues_matrix_corrected <- matrix(p_values, nrow = 4, ncol = 4)\n",
        "rownames(pvalues_matrix_corrected) <- c(\"Exam 1\", \"Exam 2\", \"Exam 3\", \"Exam 4\")\n",
        "colnames(pvalues_matrix_corrected) <- c(\"Exam 1\", \"Exam 2\", \"Exam 3\", \"Exam 4\")\n",
        "pvalues_matrix_corrected"
      ],
      "metadata": {
        "colab": {
          "base_uri": "https://localhost:8080/",
          "height": 192
        },
        "id": "BabSkTKtv5aL",
        "outputId": "f350bd01-aba4-41c5-a4a3-aa930d43b182"
      },
      "execution_count": 199,
      "outputs": [
        {
          "output_type": "display_data",
          "data": {
            "text/html": [
              "<table class=\"dataframe\">\n",
              "<caption>A matrix: 4 × 4 of type dbl</caption>\n",
              "<thead>\n",
              "\t<tr><th></th><th scope=col>Exam 1</th><th scope=col>Exam 2</th><th scope=col>Exam 3</th><th scope=col>Exam 4</th></tr>\n",
              "</thead>\n",
              "<tbody>\n",
              "\t<tr><th scope=row>Exam 1</th><td>0</td><td>1.00000000</td><td>1.0000000</td><td>1.00000000</td></tr>\n",
              "\t<tr><th scope=row>Exam 2</th><td>1</td><td>0.00000000</td><td>1.0000000</td><td>0.06975941</td></tr>\n",
              "\t<tr><th scope=row>Exam 3</th><td>1</td><td>1.00000000</td><td>0.0000000</td><td>0.31925487</td></tr>\n",
              "\t<tr><th scope=row>Exam 4</th><td>1</td><td>0.06975941</td><td>0.3192549</td><td>0.00000000</td></tr>\n",
              "</tbody>\n",
              "</table>\n"
            ],
            "text/markdown": "\nA matrix: 4 × 4 of type dbl\n\n| <!--/--> | Exam 1 | Exam 2 | Exam 3 | Exam 4 |\n|---|---|---|---|---|\n| Exam 1 | 0 | 1.00000000 | 1.0000000 | 1.00000000 |\n| Exam 2 | 1 | 0.00000000 | 1.0000000 | 0.06975941 |\n| Exam 3 | 1 | 1.00000000 | 0.0000000 | 0.31925487 |\n| Exam 4 | 1 | 0.06975941 | 0.3192549 | 0.00000000 |\n\n",
            "text/latex": "A matrix: 4 × 4 of type dbl\n\\begin{tabular}{r|llll}\n  & Exam 1 & Exam 2 & Exam 3 & Exam 4\\\\\n\\hline\n\tExam 1 & 0 & 1.00000000 & 1.0000000 & 1.00000000\\\\\n\tExam 2 & 1 & 0.00000000 & 1.0000000 & 0.06975941\\\\\n\tExam 3 & 1 & 1.00000000 & 0.0000000 & 0.31925487\\\\\n\tExam 4 & 1 & 0.06975941 & 0.3192549 & 0.00000000\\\\\n\\end{tabular}\n",
            "text/plain": [
              "       Exam 1 Exam 2     Exam 3    Exam 4    \n",
              "Exam 1 0      1.00000000 1.0000000 1.00000000\n",
              "Exam 2 1      0.00000000 1.0000000 0.06975941\n",
              "Exam 3 1      1.00000000 0.0000000 0.31925487\n",
              "Exam 4 1      0.06975941 0.3192549 0.00000000"
            ]
          },
          "metadata": {}
        }
      ]
    },
    {
      "cell_type": "markdown",
      "source": [
        "Looking at the matrix, the statistically significant comparisons are:\n",
        "> Exam 1 vs. Exam 2 (p = 0.0058)\n",
        "\n",
        "> Exam 1 vs. Exam 4 (p = 0.0319)"
      ],
      "metadata": {
        "id": "v9WR6D_duK6z"
      }
    },
    {
      "cell_type": "markdown",
      "source": [
        "## Question 18:\n",
        "\n",
        "### 100 people are asked what transportation they use to get to work. 12 take the train, 30 take the bus, 48 take a car, and 10 ride a bicycle. Test the null hypothesis that all four transportation methods are equally likely to be used. Report the test-statistic, degrees of freedom, p-value, and whether you reject $H_0$$H_0$.\n",
        "\n",
        "  \n",
        "  \n",
        "\n",
        "___\n",
        "\n",
        "  \n",
        "  \n",
        "\n"
      ],
      "metadata": {
        "id": "euASFvYEHgGn"
      }
    },
    {
      "cell_type": "code",
      "source": [
        "# create a vector of observed frequencies\n",
        "observed <- c(12, 30, 48, 10)\n",
        "\n",
        "# calculate the total number of observations\n",
        "total <- sum(observed)\n",
        "\n",
        "# calculate the expected probabilities under the null hypothesis\n",
        "expected_probs <- rep(1/4, 4)\n",
        "\n",
        "# calculate the expected counts\n",
        "expected <- total * expected_probs\n",
        "\n",
        "# perform the chi-squared goodness of fit test\n",
        "test_result <- chisq.test(observed, p = expected_probs)\n",
        "\n",
        "# extract the test statistic, degrees of freedom, p-value, and decision from the test result\n",
        "test_statistic <- test_result$statistic\n",
        "degrees_of_freedom <- test_result$parameter\n",
        "p_value <- test_result$p.value\n",
        "reject_null_hypothesis <- test_result$p.value < 0.05\n",
        "\n",
        "# print the results\n",
        "cat(\"Test statistic:\", test_statistic, \"\\n\")\n",
        "cat(\"Degrees of freedom:\", degrees_of_freedom, \"\\n\")\n",
        "cat(\"P-value:\", p_value, \"\\n\")\n",
        "cat(\"Null hypothesis rejected:\", reject_null_hypothesis, \"\\n\")\n"
      ],
      "metadata": {
        "colab": {
          "base_uri": "https://localhost:8080/"
        },
        "id": "nvuKy0hMXhZ-",
        "outputId": "8805e7f1-b8a6-4ef3-a549-b4744107e127"
      },
      "execution_count": null,
      "outputs": [
        {
          "output_type": "stream",
          "name": "stdout",
          "text": [
            "Test statistic: 37.92 \n",
            "Degrees of freedom: 3 \n",
            "P-value: 2.938879e-08 \n",
            "Null hypothesis rejected: TRUE \n"
          ]
        }
      ]
    },
    {
      "cell_type": "markdown",
      "source": [
        "## Question 19:\n",
        "\n",
        "### A researcher hypothesizes that the stimulation to the lateral hypothalamus (LH) in guinea pigs will impact their feeding behaviour. To test this, they apply stimulation to that region and to a different control region of the brain known to have no impact on feeding. The amount of food consumed (g) is recorded and can be found in “**gpHypo.csv**”.\n",
        "\n",
        "### The researcher wants to examine whether LH stimulation had _any_ effect on the guinea pigs’ feeding behaviour. Run an _appropriate_ type of test that would examine this. Report the test statistic, degrees of freedom, p-value, and 95% confidence interval on the difference.\n",
        "\n",
        "  \n",
        "  \n",
        "  \n",
        "\n"
      ],
      "metadata": {
        "id": "0iGBh4YqHid_"
      }
    },
    {
      "cell_type": "code",
      "source": [
        "# Load the data\n",
        "gp_data <- read.csv(\"gpHypo.csv\")\n",
        "\n",
        "# Subset the data to obtain only the amounts for the LH and control regions\n",
        "lh_amounts <- gp_data$Amount[gp_data$Region == \"LH\"]\n",
        "control_amounts <- gp_data$Amount[gp_data$Region == \"Control\"]\n",
        "\n",
        "# Calculate the mean difference and standard error\n",
        "diff_mean <- mean(lh_amounts) - mean(control_amounts)\n",
        "n_lh <- length(lh_amounts)\n",
        "n_control <- length(control_amounts)\n",
        "se <- sqrt(var(lh_amounts)/n_lh + var(control_amounts)/n_control)\n",
        "\n",
        "# Calculate the t-statistic and degrees of freedom\n",
        "t_stat <- diff_mean / se\n",
        "df <- n_lh + n_control - 2\n",
        "\n",
        "# Calculate the p-value\n",
        "p_val <- 2 * pt(-abs(t_stat), df)\n",
        "\n",
        "# Calculate the confidence interval\n",
        "alpha <- 0.05\n",
        "t_crit <- qt(1 - alpha/2, df)\n",
        "ci_lower <- diff_mean - t_crit * se\n",
        "ci_upper <- diff_mean + t_crit * se\n",
        "\n",
        "# Output the results\n",
        "cat(\"t-statistic:\", t_stat, \"\\n\")\n",
        "cat(\"Degrees of freedom:\", df, \"\\n\")\n",
        "cat(\"p-value:\", p_val, \"\\n\")\n",
        "if (p_val < alpha) {\n",
        "  cat(\"Null hypothesis rejected: TRUE\\n\")\n",
        "} else {\n",
        "  cat(\"Null hypothesis rejected: FALSE\\n\")\n",
        "}\n",
        "cat(paste(\"95% confidence interval:\", ci_lower, \",\", ci_upper))\n"
      ],
      "metadata": {
        "id": "Cj_60ArkYwyV",
        "colab": {
          "base_uri": "https://localhost:8080/"
        },
        "outputId": "7102334b-0d1f-4ee0-e3af-2db806a85327"
      },
      "execution_count": 128,
      "outputs": [
        {
          "output_type": "stream",
          "name": "stdout",
          "text": [
            "t-statistic: 2.174703 \n",
            "Degrees of freedom: 22 \n",
            "p-value: 0.04068307 \n",
            "Null hypothesis rejected: TRUE\n",
            "95% confidence interval: 0.575927106666187 , 24.2674062266671"
          ]
        }
      ]
    },
    {
      "cell_type": "markdown",
      "source": [
        "## Question 20:\n",
        "\n",
        "### Suppose the researcher had the null hypothesis that LH stimuluation would suppress feeding. Is this hypothesis rejected?\n",
        "\n",
        "  \n",
        "  \n",
        "\n",
        "___\n",
        "\n",
        "  \n",
        "  \n",
        "\n"
      ],
      "metadata": {
        "id": "Ve-MZ3_fHlAb"
      }
    },
    {
      "cell_type": "markdown",
      "source": [
        "The null hypothesis that LH stimulation would suppress feeding would be tested by a one-tailed t-test, where the alternative hypothesis would be that LH stimulation increases feeding.\n",
        "\n",
        "Since the p-value from the previous two-tailed t-test is less than 0.05, we can reject the null hypothesis that there is no difference between the mean amount of food consumed between the LH stimulation group and the control group. This means that we can reject the null hypothesis that LH stimulation suppresses feeding.\n",
        "\n",
        "Therefore, the hypothesis that LH stimulation suppresses feeding is rejected."
      ],
      "metadata": {
        "id": "6lcCLvS4cEdQ"
      }
    },
    {
      "cell_type": "markdown",
      "source": [
        "## Question 21:\n",
        "\n",
        "### 457 participants were shown a clip of a traffic accident and asked to describe _“how fast the cars in the clip were moving when they \\_\\_\\_\\_\\_\\_\\_ each other”?_. Some participants were given the verb _“smashed”_, some were given the verb _“hit”_, and some were given the verb _“contacted”_.\n",
        "\n",
        "### They could respond to the question by selecting one of three possible answers: _“above the speed limit”_, _“at the speed limit”_, or _“below the speed limit”_.\n",
        "\n",
        "### The results are as follows:\n",
        "\n",
        "```\n",
        "##           above at below\n",
        "## smashed      66 42    31\n",
        "## hit          58 69    40\n",
        "## contacted    39 44    68\n",
        "```\n",
        "\n",
        "### Does the manner in which the question was worded significantly impact their response? Report your conclusion along with the test-statistic, degrees of freedom, and p-value you obtained.\n",
        "\n",
        "  \n",
        "  \n",
        "  \n",
        "\n"
      ],
      "metadata": {
        "id": "FXDfnle5Hn27"
      }
    },
    {
      "cell_type": "code",
      "source": [
        "df <- data.frame(\n",
        "  verb = c(\"smashed\", \"hit\", \"contacted\"),\n",
        "  above = c(66, 58, 39),\n",
        "  at = c(42, 69, 44),\n",
        "  below = c(31, 40, 68)\n",
        ")\n",
        "\n",
        "# Display the data table\n",
        "df\n"
      ],
      "metadata": {
        "colab": {
          "base_uri": "https://localhost:8080/",
          "height": 192
        },
        "id": "LTIkUb0QeVrz",
        "outputId": "42c9c292-7eaf-4fbf-f6f4-629403339b69"
      },
      "execution_count": 136,
      "outputs": [
        {
          "output_type": "display_data",
          "data": {
            "text/html": [
              "<table class=\"dataframe\">\n",
              "<caption>A data.frame: 3 × 4</caption>\n",
              "<thead>\n",
              "\t<tr><th scope=col>verb</th><th scope=col>above</th><th scope=col>at</th><th scope=col>below</th></tr>\n",
              "\t<tr><th scope=col>&lt;chr&gt;</th><th scope=col>&lt;dbl&gt;</th><th scope=col>&lt;dbl&gt;</th><th scope=col>&lt;dbl&gt;</th></tr>\n",
              "</thead>\n",
              "<tbody>\n",
              "\t<tr><td>smashed  </td><td>66</td><td>42</td><td>31</td></tr>\n",
              "\t<tr><td>hit      </td><td>58</td><td>69</td><td>40</td></tr>\n",
              "\t<tr><td>contacted</td><td>39</td><td>44</td><td>68</td></tr>\n",
              "</tbody>\n",
              "</table>\n"
            ],
            "text/markdown": "\nA data.frame: 3 × 4\n\n| verb &lt;chr&gt; | above &lt;dbl&gt; | at &lt;dbl&gt; | below &lt;dbl&gt; |\n|---|---|---|---|\n| smashed   | 66 | 42 | 31 |\n| hit       | 58 | 69 | 40 |\n| contacted | 39 | 44 | 68 |\n\n",
            "text/latex": "A data.frame: 3 × 4\n\\begin{tabular}{llll}\n verb & above & at & below\\\\\n <chr> & <dbl> & <dbl> & <dbl>\\\\\n\\hline\n\t smashed   & 66 & 42 & 31\\\\\n\t hit       & 58 & 69 & 40\\\\\n\t contacted & 39 & 44 & 68\\\\\n\\end{tabular}\n",
            "text/plain": [
              "  verb      above at below\n",
              "1 smashed   66    42 31   \n",
              "2 hit       58    69 40   \n",
              "3 contacted 39    44 68   "
            ]
          },
          "metadata": {}
        }
      ]
    },
    {
      "cell_type": "code",
      "source": [
        "# Create the data frame\n",
        "df <- data.frame(\n",
        "  verb = c(\"smashed\", \"hit\", \"contacted\"),\n",
        "  above = c(66, 58, 39),\n",
        "  at = c(42, 69, 44),\n",
        "  below = c(31, 40, 68)\n",
        ")\n",
        "\n",
        "# Conduct the chi-squared test\n",
        "result <- chisq.test(df[, 2:4])\n",
        "\n",
        "# Print the results\n",
        "cat(\"Chi-squared test of independence\\n\")\n",
        "cat(\"Test statistic: \", result$statistic, \"\\n\")\n",
        "cat(\"Degrees of freedom: \", result$parameter, \"\\n\")\n",
        "cat(\"p-value: \", result$p.value, \"\\n\")\n",
        "cat(\"Null hypothesis rejected: \", result$p.value < 0.05, \"\\n\")\n"
      ],
      "metadata": {
        "colab": {
          "base_uri": "https://localhost:8080/"
        },
        "id": "PNKIGQMBdVap",
        "outputId": "9232d8cb-b1ed-4c66-ce68-53fbe879bf6a"
      },
      "execution_count": 137,
      "outputs": [
        {
          "output_type": "stream",
          "name": "stdout",
          "text": [
            "Chi-squared test of independence\n",
            "Test statistic:  29.76393 \n",
            "Degrees of freedom:  4 \n",
            "p-value:  5.466988e-06 \n",
            "Null hypothesis rejected:  TRUE \n"
          ]
        }
      ]
    },
    {
      "cell_type": "markdown",
      "source": [
        "The wording of the question had a notable impact on the participants' responses, as evidenced by the results of the chi-squared test of independence. The obtained p-value of 5.466988e-06 was below the significance level of 0.05, indicating a significant association between the verb used and the response given by the participants. Therefore, we reject the null hypothesis of no association between the verb used and the response given, and we can conclude that the manner in which the question was worded had a significant impact on the participants' responses."
      ],
      "metadata": {
        "id": "O6SOCYyFesbD"
      }
    },
    {
      "cell_type": "markdown",
      "source": [
        "## Question 22:\n",
        "\n",
        "### What are the odds of selecting _“at the speed limit”_, given they were shown the verb _“hit”_?\n",
        "\n",
        "  \n",
        "  \n",
        "  \n",
        "\n"
      ],
      "metadata": {
        "id": "x-HuRG3QHq5S"
      }
    },
    {
      "cell_type": "code",
      "source": [
        "# create the data.frame\n",
        "accident <- data.frame(\n",
        "  verb = c(\"smashed\", \"hit\", \"contacted\"),\n",
        "  above = c(66, 58, 39),\n",
        "  at = c(42, 69, 44),\n",
        "  below = c(31, 40, 68)\n",
        ")\n",
        "\n",
        "# calculate odds of selecting \"at the speed limit\" given \"hit\"\n",
        "at_given_hit <- accident[2, \"at\"] / (accident[2, \"above\"] + accident[2, \"at\"] + accident[2, \"below\"])\n",
        "at_given_hit\n"
      ],
      "metadata": {
        "colab": {
          "base_uri": "https://localhost:8080/",
          "height": 34
        },
        "id": "LsJRs2UUfCAB",
        "outputId": "49b79ca2-26f6-4702-8042-81002f88ceaa"
      },
      "execution_count": 142,
      "outputs": [
        {
          "output_type": "display_data",
          "data": {
            "text/html": [
              "0.413173652694611"
            ],
            "text/markdown": "0.413173652694611",
            "text/latex": "0.413173652694611",
            "text/plain": [
              "[1] 0.4131737"
            ]
          },
          "metadata": {}
        }
      ]
    },
    {
      "cell_type": "markdown",
      "source": [
        "## Question 23:\n",
        "\n",
        "### What are the odds against selecting _“at the speed limit”_ given they were shown the verb _“hit”_?\n",
        "\n",
        "  \n",
        "\n"
      ],
      "metadata": {
        "id": "AseJG8ojHvAg"
      }
    },
    {
      "cell_type": "code",
      "source": [
        "# calculate odds against selecting \"at the speed limit\" given \"hit\"\n",
        "not_at_given_hit <- 1 - at_given_hit\n",
        "not_at_given_hit"
      ],
      "metadata": {
        "colab": {
          "base_uri": "https://localhost:8080/",
          "height": 34
        },
        "id": "SJGWlJHrfOeQ",
        "outputId": "f6b30456-5841-427c-c6b2-38ad38ba7971"
      },
      "execution_count": 144,
      "outputs": [
        {
          "output_type": "display_data",
          "data": {
            "text/html": [
              "0.586826347305389"
            ],
            "text/markdown": "0.586826347305389",
            "text/latex": "0.586826347305389",
            "text/plain": [
              "[1] 0.5868263"
            ]
          },
          "metadata": {}
        }
      ]
    }
  ]
}