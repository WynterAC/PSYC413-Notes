{
  "nbformat": 4,
  "nbformat_minor": 0,
  "metadata": {
    "colab": {
      "provenance": []
    },
    "kernelspec": {
      "name": "ir",
      "display_name": "R"
    },
    "language_info": {
      "name": "R"
    }
  },
  "cells": [
    {
      "cell_type": "code",
      "execution_count": null,
      "metadata": {
        "id": "Kh2EQSOCFyAL"
      },
      "outputs": [],
      "source": []
    },
    {
      "cell_type": "markdown",
      "source": [
        "\n",
        "# PSYCO 413 - Design and Analysis in Experimental Psychology (wi2023) Final Exam\n",
        "\n",
        "#### Jeffrey M. Pisklak\n",
        "\n",
        "#### 20/04/2023\n",
        "\n",
        "## **This exam is due Friday April 21st by 09:00 a.m.**\n",
        "\n",
        "## Submission Instructions:\n",
        "\n",
        "-   Please submit your responses as a notebook (.ipynb) file.\n",
        "    \n",
        "-   Remember that most cellphones have a _hotspot_ feature. So you can use them as a temporary WiFi signal if your internet goes out.\n",
        "    \n",
        "\n",
        "### For questions that require calculations:\n",
        "\n",
        "-   Show your work (i.e., show the R code you used to answer the question).\n",
        "-   Make sure all the code you used to answer the question has been run (i.e., displays an output). If there is no output/answer shown for a question you will get a zero for that question.\n",
        "    -   **Make your answers to the questions clear. Do not keep them buried within the R code. Ideally, place them at the end of your output.**\n",
        "-   Unless otherwise stated $\\alpha =\n",
        "    0.05$$\\alpha =\n",
        "    0.05$ and trimming $=\n",
        "    20\\%$$=\n",
        "    20\\%$.\n",
        "-   Round **answers** to 3 decimal places when they contain many decimal values.\n",
        "-   Only use robust tests **when necessary** (i.e., assumptions are violated) and the question calls for it.\n",
        "-   When checking assumptions, ensure that there is something (e.g., a plot) to back up your conclusions (i.e., don’t just say “the assumptions are satisfied”).\n",
        "-   Only remove outliers if explicitly asked to.\n",
        "\n",
        "### The following functions are NOT PERMITTED unless otherwise stated.\n",
        "\n",
        "#### \\- `chisq.test()` `t.test()` `cohen.d()` `yuen()` `p.adjust()` `lm()` `cor.test()` `anova()` `aov()` `geom_smooth()`\n",
        "\n",
        "-   Functions from other libraries that perform equivalent calculations to these functions are also disallowed.\n",
        "\n",
        "___\n",
        "\n"
      ],
      "metadata": {
        "id": "wcQIefPsF7rx"
      }
    },
    {
      "cell_type": "markdown",
      "source": [
        "\n",
        "  \n",
        "\n",
        "## Question 1:\n",
        "\n",
        "### A common finding in laboratory research is that behaviour which is reinforced intermittently takes longer to extinguish than behaviour that is reinforced continuously. This is known as the “Partial Reinforcement Effect”. Horsely et al. (2012) examined whether high-frequency gamblers would show greater resistance to extinction following partial reinforcement schedules in a computer-based experiment than low-frequency gamblers. Participants were exposed to either continuous reinforcement (CRF) or partial (i.e., intermittent) reinforcement (PRF) schedules and the amount of responses made during extinction was recorded (Resp). The data set **PRF.csv** contains data modelled after Horsley et al.’s results.\n",
        "\n",
        "Horsley, R. R., Osborne, M., Norman, C., & Wells, T. (2012). High-frequency gamblers show increased resistance to extinction following partial reinforcement. _Behavioural Brain Research_, _229_(2), 438-442–442. [https://doi.org/10.1016/j.bbr.2012.01.024](https://doi.org/10.1016/j.bbr.2012.01.024)\n",
        "\n",
        "### Plot the group means with errorbars that depict one standard error above and below the mean. Make sure the y-axis begins at 0. Does the graph suggest an interaction between gambling frequency and reinforcement schedule?\n",
        "\n",
        "  \n",
        "  \n",
        "  \n",
        "\n",
        "\n"
      ],
      "metadata": {
        "id": "AYtjEN6SGEbL"
      }
    },
    {
      "cell_type": "markdown",
      "source": [
        "## Question 2:\n",
        "\n",
        "### Using the **PRF.csv** data, conduct tests for main effects and interactions. Report the F-ratios, degrees of freedom, p-values, and $\\omega^2$$\\omega^2$ effect size. Describe the findings (including the effect size) in plain English.\n",
        "\n"
      ],
      "metadata": {
        "id": "G_tKvvNRGO6i"
      }
    },
    {
      "cell_type": "markdown",
      "source": [
        "\n",
        "  \n",
        "  \n",
        "  \n",
        "\n",
        "## Question 3:\n",
        "\n",
        "### Conduct a simple effects analysis that examines the difference between gambling frequency at each level of reinforcement schedule. You are allowed to use `lm()`. Make sure to display your table of contrasts and the summary output.\n",
        "\n",
        "### In plain English, state what each of the contrasts you ran tested, whether they were significant, and what you conclude from this.\n",
        "\n",
        "  "
      ],
      "metadata": {
        "id": "UExtfS4sGT-6"
      }
    },
    {
      "cell_type": "markdown",
      "source": [
        "\n",
        "  \n",
        "\n",
        "___\n",
        "\n",
        "  \n",
        "  \n",
        "\n",
        "## Question 4:\n",
        "\n",
        "### In her 1901 thesis, mathematician Alice Lee was the first to empirically dispel the idea that brain size was positively related to intellectual ability. One of the ways she did this was by comparing the skull capacity of 35 anatomists, many of whom are of “_great scientific reputation._” The estimated mean capacity of the 35 skulls was 1536.77 cubic centimeters with a sample standard deviation of 88.09.\n",
        "\n",
        "  \n",
        "\n",
        "### a. The anatomist J. Kollmann, “_one of the ablest living anthropologists_”, had a skull capacity of 1372 cubic centimeters. Assuming the data follow a normal distribution, what percentile does this place him at? Round to the nearest integer.\n",
        "\n",
        "  \n",
        "\n",
        "### b. Lee noted that that “_a number of the most capable men fall into the last nine_” values. That is to say, among the most accomplished of the list had an estimated skull capacity smaller than 0.61 standard deviations below the mean. What percentile do these gentleman encompass? Round to the nearest integer.\n",
        "\n",
        "  \n",
        "\n",
        "### c. What interval represents the middle 72% of skulls?\n",
        "\n",
        "  \n",
        "  \n",
        "\n",
        "___\n"
      ],
      "metadata": {
        "id": "TPdv15PFGgpK"
      }
    },
    {
      "cell_type": "markdown",
      "source": [
        "\n",
        "  \n",
        "  \n",
        "\n",
        "## Question 5:\n",
        "\n",
        "### The following code will load the [msleep](https://ggplot2.tidyverse.org/reference/msleep.html) data we plotted in class and store it as an object called **data**.\n",
        "\n",
        "```\n",
        "library(ggplot2)\n",
        "data <- as.data.frame(msleep)\n",
        "```\n",
        "\n",
        "### The column named **vore** contains missing values. Remove all _rows_ from the dataframe which correspond to the missing values in the **vore** column. Using R code, list which row numbers (i.e. index values / row names) you removed.\n",
        "\n",
        "  \n",
        "  \n"
      ],
      "metadata": {
        "id": "WdPRT-eVG0S2"
      }
    },
    {
      "cell_type": "markdown",
      "source": [
        "  \n",
        "\n",
        "## Question 6:\n",
        "\n",
        "### Using the previous question’s data (with missing values removed from the **vore** column), fit a regression model that uses body weight (kg), transformed with a base-10 logarithm, to predict the amount of time an animal spends awake (hours). Write out the model’s equation and $R^2$$R^2$ value.\n",
        "\n",
        "  \n",
        "  \n",
        "  \n",
        "\n"
      ],
      "metadata": {
        "id": "5qYjmbzSG8OO"
      }
    },
    {
      "cell_type": "markdown",
      "source": [
        "## Question 7:\n",
        "\n",
        "### From the previous question, plot the data with the regression line.\n",
        "\n",
        "  \n",
        "  \n",
        "  \n",
        "\n"
      ],
      "metadata": {
        "id": "Y1hbVu_NHAfQ"
      }
    },
    {
      "cell_type": "markdown",
      "source": [
        "## Question 8:\n",
        "\n",
        "### From question 6, test $H_0: \\beta_1 =\n",
        "0$$H_0: \\beta_1 =\n",
        "0$. Report the test statistic, degrees of freedom, p-value, and 95% confidence interval.\n",
        "\n",
        "  \n",
        "  \n",
        "  \n",
        "\n"
      ],
      "metadata": {
        "id": "MaNI533LHDlS"
      }
    },
    {
      "cell_type": "markdown",
      "source": [
        "## Question 9:\n",
        "\n",
        "### Assume the mammal sleep data satisfies the assumptions of classical linear regression methods. Use dummy coding to create a second linear model, that includes vore (i.e., diet) of the animal. Report this new model’s formula, the new $R^2$$R^2$ value. You are allowed to use the function `lm()`.\n",
        "\n",
        "  \n",
        "  \n",
        "  \n",
        "\n"
      ],
      "metadata": {
        "id": "3TsDfO3gHGM5"
      }
    },
    {
      "cell_type": "markdown",
      "source": [
        "## Question 10:\n",
        "\n",
        "### Conduct a F-test to compare the original single predictor model to the new model with vore. Which is the preferred model according to the test using $\\alpha = 0.05$$\\alpha = 0.05$ criteria? Report the test-statistic, degrees of freedom, and p-value. You are allowed to use `lm()`.\n",
        "\n",
        "  \n",
        "  \n",
        "  \n",
        "\n"
      ],
      "metadata": {
        "id": "b3li-a3cHKUe"
      }
    },
    {
      "cell_type": "markdown",
      "source": [
        "## Question 11:\n",
        "\n",
        "### Reassess which model is preferred (from question 10) by using a Inverse Bayes Factor. In plain English, what does the Inverse Bayes Factor tell you and what model would you select given its conclusions?\n",
        "\n",
        "  "
      ],
      "metadata": {
        "id": "YbkZr55gHM-P"
      }
    },
    {
      "cell_type": "markdown",
      "source": [
        "## Question 12:\n",
        "\n",
        "### Does the preferred model satisfy the classical assumptions of a least-squares regression model?\n",
        "\n",
        "  \n",
        "  \n",
        "\n",
        "___\n",
        "\n",
        "  \n",
        "  \n",
        "\n"
      ],
      "metadata": {
        "id": "t3E8tjNOHQXB"
      }
    },
    {
      "cell_type": "markdown",
      "source": [
        "## Question 13:\n",
        "\n",
        "### State the measurement scale of each variable below:\n",
        "\n",
        "  \n",
        "\n",
        "#### a. Educational level (elementary, middle, high school, college, graduate)\n",
        "\n",
        "#### b. Political party (Liberal, Conservative, NewDemocrat)\n",
        "\n",
        "#### c. Response rate (lever presses per minute)\n",
        "\n",
        "#### d. Volume (in liters or gallons)\n",
        "\n",
        "#### e. Calendar year\n",
        "\n",
        "#### f. Customer satisfaction (dissatisfied, neutral, satisfied, very satisfied)\n",
        "\n",
        "#### g. Marital status (single, married, divorced, widowed)\n",
        "\n",
        "#### h. Time (in seconds, minutes, or hours)\n",
        "\n",
        "#### i. Stimulus colour (brown, green, red, black)\n",
        "\n",
        "#### j. Likert Scale (happiness on a scale of 1 to 7)\n",
        "\n",
        "  \n",
        "  \n",
        "\n",
        "___\n",
        "\n",
        "  \n",
        "  \n",
        "\n"
      ],
      "metadata": {
        "id": "E6RPCTG8HS07"
      }
    },
    {
      "cell_type": "markdown",
      "source": [
        "## Question 14:\n",
        "\n",
        "### An instructor creates four different exams for their course’s midterm. Each exam contains questions that have been randomly selected from a question bank (i.e., each exam is unique).\n",
        "\n",
        "### The data for each exam can be found in **studentScores.csv**.\n",
        "\n",
        "### Create a plot that depicts the mean of each test with a corresponding 95% confidence interval errorbar.\n",
        "\n",
        "  \n",
        "  \n",
        "  \n",
        "\n"
      ],
      "metadata": {
        "id": "JAEcCI-QHWbX"
      }
    },
    {
      "cell_type": "markdown",
      "source": [
        "## Question 15:\n",
        "\n",
        "### Without using `lm()` or `aov()`, calculate a omnibus one-way ANOVA on the **studentScores.csv** data. At the end of your calculations, report all of the following:\n",
        "\n",
        "#### \\- Grand Mean\n",
        "\n",
        "#### \\- Total Sum of Squares\n",
        "\n",
        "#### \\- Model Sum of Squares\n",
        "\n",
        "#### \\- Residual Sum of Squares\n",
        "\n",
        "#### \\- Multiple $R^2$$R^2$\n",
        "\n",
        "#### \\- F-Ratio\n",
        "\n",
        "#### \\- p-value\n",
        "\n",
        "#### \\- Omega-squared effect-size\n",
        "\n",
        "  \n",
        "  \n",
        "  \n",
        "\n"
      ],
      "metadata": {
        "id": "CfbO_BwvHYdM"
      }
    },
    {
      "cell_type": "markdown",
      "source": [
        "## Question 16:\n",
        "\n",
        "### Based on the results of the previous question, are one or more of the exams unfair? Justify your answer.\n"
      ],
      "metadata": {
        "id": "jIvY9BxZHbnu"
      }
    },
    {
      "cell_type": "markdown",
      "source": [
        "\n",
        "## Question 17:\n",
        "\n",
        "### Using classic t-tests, obtain the p-value for all pairwise comparisons in the **studentScores.csv** data set. Apply the Holm-Bonferroni Correction. Which comparisons come out as statistically significant? You are permitted to use `t.test()`\n"
      ],
      "metadata": {
        "id": "V-DCVaURHdsp"
      }
    },
    {
      "cell_type": "markdown",
      "source": [
        "## Question 18:\n",
        "\n",
        "### 100 people are asked what transportation they use to get to work. 12 take the train, 30 take the bus, 48 take a car, and 10 ride a bicycle. Test the null hypothesis that all four transportation methods are equally likely to be used. Report the test-statistic, degrees of freedom, p-value, and whether you reject $H_0$$H_0$.\n",
        "\n",
        "  \n",
        "  \n",
        "\n",
        "___\n",
        "\n",
        "  \n",
        "  \n",
        "\n"
      ],
      "metadata": {
        "id": "euASFvYEHgGn"
      }
    },
    {
      "cell_type": "markdown",
      "source": [
        "## Question 19:\n",
        "\n",
        "### A researcher hypothesizes that the stimulation to the lateral hypothalamus (LH) in guinea pigs will impact their feeding behaviour. To test this, they apply stimulation to that region and to a different control region of the brain known to have no impact on feeding. The amount of food consumed (g) is recorded and can be found in “**gpHypo.csv**”.\n",
        "\n",
        "### The researcher wants to examine whether LH stimulation had _any_ effect on the guinea pigs’ feeding behaviour. Run an _appropriate_ type of test that would examine this. Report the test statistic, degrees of freedom, p-value, and 95% confidence interval on the difference.\n",
        "\n",
        "  \n",
        "  \n",
        "  \n",
        "\n"
      ],
      "metadata": {
        "id": "0iGBh4YqHid_"
      }
    },
    {
      "cell_type": "markdown",
      "source": [
        "## Question 20:\n",
        "\n",
        "### Suppose the researcher had the null hypothesis that LH stimuluation would suppress feeding. Is this hypothesis rejected?\n",
        "\n",
        "  \n",
        "  \n",
        "\n",
        "___\n",
        "\n",
        "  \n",
        "  \n",
        "\n"
      ],
      "metadata": {
        "id": "Ve-MZ3_fHlAb"
      }
    },
    {
      "cell_type": "markdown",
      "source": [
        "## Question 21:\n",
        "\n",
        "### 457 participants were shown a clip of a traffic accident and asked to describe _“how fast the cars in the clip were moving when they \\_\\_\\_\\_\\_\\_\\_ each other”?_. Some participants were given the verb _“smashed”_, some were given the verb _“hit”_, and some were given the verb _“contacted”_.\n",
        "\n",
        "### They could respond to the question by selecting one of three possible answers: _“above the speed limit”_, _“at the speed limit”_, or _“below the speed limit”_.\n",
        "\n",
        "### The results are as follows:\n",
        "\n",
        "```\n",
        "##           above at below\n",
        "## smashed      66 42    31\n",
        "## hit          58 69    40\n",
        "## contacted    39 44    68\n",
        "```\n",
        "\n",
        "### Does the manner in which the question was worded significantly impact their response? Report your conclusion along with the test-statistic, degrees of freedom, and p-value you obtained.\n",
        "\n",
        "  \n",
        "  \n",
        "  \n",
        "\n"
      ],
      "metadata": {
        "id": "FXDfnle5Hn27"
      }
    },
    {
      "cell_type": "markdown",
      "source": [
        "## Question 22:\n",
        "\n",
        "### What are the odds of selecting _“at the speed limit”_, given they were shown the verb _“hit”_?\n",
        "\n",
        "  \n",
        "  \n",
        "  \n",
        "\n"
      ],
      "metadata": {
        "id": "x-HuRG3QHq5S"
      }
    },
    {
      "cell_type": "markdown",
      "source": [
        "## Question 23:\n",
        "\n",
        "### What are the odds against selecting _“at the speed limit”_ given they were shown the verb _“hit”_?\n",
        "\n",
        "  \n",
        "\n"
      ],
      "metadata": {
        "id": "AseJG8ojHvAg"
      }
    }
  ]
}