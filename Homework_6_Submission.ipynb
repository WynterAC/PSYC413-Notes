{
  "nbformat": 4,
  "nbformat_minor": 0,
  "metadata": {
    "colab": {
      "provenance": [],
      "authorship_tag": "ABX9TyMlAsJ754g/oVCy4SCZzYFV",
      "include_colab_link": true
    },
    "kernelspec": {
      "name": "ir",
      "display_name": "R"
    },
    "language_info": {
      "name": "R"
    }
  },
  "cells": [
    {
      "cell_type": "markdown",
      "metadata": {
        "id": "view-in-github",
        "colab_type": "text"
      },
      "source": [
        "<a href=\"https://colab.research.google.com/github/WynterAC/PSYC413-Notes/blob/main/Homework_6_Submission.ipynb\" target=\"_parent\"><img src=\"https://colab.research.google.com/assets/colab-badge.svg\" alt=\"Open In Colab\"/></a>"
      ]
    },
    {
      "cell_type": "markdown",
      "source": [
        "## Submission Instructions\n",
        "\n",
        "-   Please submit your responses either as a well organized notebook (.ipynb) file.\n",
        "    \n",
        "-   For questions that require calculations:\n",
        "    \n",
        "    -   Show your work (i.e., show the R code you used to answer the question).\n",
        "    -   Make sure all the code you used to answer the question has been run (i.e., displays an output). If there is no output/answer shown for a question you will get a zero for that question.\n",
        "    -   Unless stated otherwise, round all _answers_ to 3 decimal places.\n",
        "        -   Note: there should be no rounding inside the calculations you do.\n",
        "    -   For ease of reading, avoid showing the outputs of unnecessary values. Just show outputs of the final result.\n",
        "    -   Do not use trimmed tests unless specified by the question.\n",
        "\n",
        "___\n",
        "\n"
      ],
      "metadata": {
        "id": "ex4jFnR0TLCO"
      }
    },
    {
      "cell_type": "code",
      "source": [],
      "metadata": {
        "id": "KCLaSo5mUR8d"
      },
      "execution_count": null,
      "outputs": []
    },
    {
      "cell_type": "markdown",
      "source": [
        "\n",
        "## Question 1:\n",
        "\n",
        "### To investigate the question “_do sexual images in advertisements affect people’s ability to remember the item being advertised_”, a group of statistics students cut ads out of magazines. They were careful to find two ads for each of 10 similar items, one with a sexual image and one without. They arranged the ads in a random order and had 39 subjects look at them for 1 minute. They then asked the subjects to list as many of the products as they could remember. Their data can be found in the file **sexSells.csv**.\n",
        "\n",
        "### Notice that the data is in the tidy format but it is not in a logical order. This is a common problem with datasets. Find a way to _order_ the data by the ‘Image’ and ‘Subject’ columns (below is an example of the first 10 rows ordered appropriately). Display the ordered dataset’s full output.\n",
        "\n",
        "### Hint: no special packages are required for this and a basic internet search should give you the solution you desire.\n",
        "\n",
        "```\n",
        "##  Subject AdRecall   Image\n",
        "##        1        2 NotSexy\n",
        "##        2        7 NotSexy\n",
        "##        3        1 NotSexy\n",
        "##        4        5 NotSexy\n",
        "##        5        0 NotSexy\n",
        "##        6        3 NotSexy\n",
        "##        7        5 NotSexy\n",
        "##        8        4 NotSexy\n",
        "##        9        7 NotSexy\n",
        "##       10        4 NotSexy\n",
        "```\n"
      ],
      "metadata": {
        "id": "tdzIZFbqUTdh"
      }
    },
    {
      "cell_type": "code",
      "source": [
        "# read the data\n",
        "sexSells <- read.csv(\"sexSells.csv\")\n",
        "\n",
        "# order the data by the ‘Image’ and ‘Subject’ columns\n",
        "sexSells <- sexSells[order(sexSells$Image, sexSells$Subject), ]\n",
        "id <- 1:78\n",
        "# print the ordered dataset\n",
        "sexSells\n"
      ],
      "metadata": {
        "colab": {
          "base_uri": "https://localhost:8080/",
          "height": 1000
        },
        "id": "QorSYlAR_4yz",
        "outputId": "4bafb8fd-89fd-403d-96ba-80e45d829e9f"
      },
      "execution_count": null,
      "outputs": [
        {
          "output_type": "display_data",
          "data": {
            "text/html": [
              "<table class=\"dataframe\">\n",
              "<caption>A data.frame: 78 × 3</caption>\n",
              "<thead>\n",
              "\t<tr><th></th><th scope=col>Subject</th><th scope=col>AdRecall</th><th scope=col>Image</th></tr>\n",
              "\t<tr><th></th><th scope=col>&lt;int&gt;</th><th scope=col>&lt;int&gt;</th><th scope=col>&lt;chr&gt;</th></tr>\n",
              "</thead>\n",
              "<tbody>\n",
              "\t<tr><th scope=row>13</th><td> 1</td><td>2</td><td>NotSexy</td></tr>\n",
              "\t<tr><th scope=row>20</th><td> 2</td><td>7</td><td>NotSexy</td></tr>\n",
              "\t<tr><th scope=row>9</th><td> 3</td><td>1</td><td>NotSexy</td></tr>\n",
              "\t<tr><th scope=row>36</th><td> 4</td><td>5</td><td>NotSexy</td></tr>\n",
              "\t<tr><th scope=row>67</th><td> 5</td><td>0</td><td>NotSexy</td></tr>\n",
              "\t<tr><th scope=row>47</th><td> 6</td><td>3</td><td>NotSexy</td></tr>\n",
              "\t<tr><th scope=row>61</th><td> 7</td><td>5</td><td>NotSexy</td></tr>\n",
              "\t<tr><th scope=row>26</th><td> 8</td><td>4</td><td>NotSexy</td></tr>\n",
              "\t<tr><th scope=row>75</th><td> 9</td><td>7</td><td>NotSexy</td></tr>\n",
              "\t<tr><th scope=row>32</th><td>10</td><td>4</td><td>NotSexy</td></tr>\n",
              "\t<tr><th scope=row>43</th><td>11</td><td>3</td><td>NotSexy</td></tr>\n",
              "\t<tr><th scope=row>12</th><td>12</td><td>2</td><td>NotSexy</td></tr>\n",
              "\t<tr><th scope=row>35</th><td>13</td><td>3</td><td>NotSexy</td></tr>\n",
              "\t<tr><th scope=row>28</th><td>14</td><td>4</td><td>NotSexy</td></tr>\n",
              "\t<tr><th scope=row>24</th><td>15</td><td>2</td><td>NotSexy</td></tr>\n",
              "\t<tr><th scope=row>22</th><td>16</td><td>4</td><td>NotSexy</td></tr>\n",
              "\t<tr><th scope=row>2</th><td>17</td><td>4</td><td>NotSexy</td></tr>\n",
              "\t<tr><th scope=row>42</th><td>18</td><td>3</td><td>NotSexy</td></tr>\n",
              "\t<tr><th scope=row>17</th><td>19</td><td>5</td><td>NotSexy</td></tr>\n",
              "\t<tr><th scope=row>63</th><td>20</td><td>2</td><td>NotSexy</td></tr>\n",
              "\t<tr><th scope=row>15</th><td>21</td><td>3</td><td>NotSexy</td></tr>\n",
              "\t<tr><th scope=row>33</th><td>22</td><td>2</td><td>NotSexy</td></tr>\n",
              "\t<tr><th scope=row>72</th><td>23</td><td>3</td><td>NotSexy</td></tr>\n",
              "\t<tr><th scope=row>64</th><td>24</td><td>3</td><td>NotSexy</td></tr>\n",
              "\t<tr><th scope=row>30</th><td>25</td><td>5</td><td>NotSexy</td></tr>\n",
              "\t<tr><th scope=row>16</th><td>26</td><td>4</td><td>NotSexy</td></tr>\n",
              "\t<tr><th scope=row>29</th><td>27</td><td>2</td><td>NotSexy</td></tr>\n",
              "\t<tr><th scope=row>68</th><td>28</td><td>4</td><td>NotSexy</td></tr>\n",
              "\t<tr><th scope=row>5</th><td>29</td><td>6</td><td>NotSexy</td></tr>\n",
              "\t<tr><th scope=row>57</th><td>30</td><td>7</td><td>NotSexy</td></tr>\n",
              "\t<tr><th scope=row>⋮</th><td>⋮</td><td>⋮</td><td>⋮</td></tr>\n",
              "\t<tr><th scope=row>74</th><td>10</td><td>5</td><td>Sexy</td></tr>\n",
              "\t<tr><th scope=row>49</th><td>11</td><td>1</td><td>Sexy</td></tr>\n",
              "\t<tr><th scope=row>21</th><td>12</td><td>3</td><td>Sexy</td></tr>\n",
              "\t<tr><th scope=row>37</th><td>13</td><td>6</td><td>Sexy</td></tr>\n",
              "\t<tr><th scope=row>51</th><td>14</td><td>7</td><td>Sexy</td></tr>\n",
              "\t<tr><th scope=row>60</th><td>15</td><td>3</td><td>Sexy</td></tr>\n",
              "\t<tr><th scope=row>71</th><td>16</td><td>7</td><td>Sexy</td></tr>\n",
              "\t<tr><th scope=row>73</th><td>17</td><td>4</td><td>Sexy</td></tr>\n",
              "\t<tr><th scope=row>4</th><td>18</td><td>1</td><td>Sexy</td></tr>\n",
              "\t<tr><th scope=row>19</th><td>19</td><td>5</td><td>Sexy</td></tr>\n",
              "\t<tr><th scope=row>54</th><td>20</td><td>2</td><td>Sexy</td></tr>\n",
              "\t<tr><th scope=row>7</th><td>21</td><td>2</td><td>Sexy</td></tr>\n",
              "\t<tr><th scope=row>70</th><td>22</td><td>4</td><td>Sexy</td></tr>\n",
              "\t<tr><th scope=row>39</th><td>23</td><td>3</td><td>Sexy</td></tr>\n",
              "\t<tr><th scope=row>77</th><td>24</td><td>5</td><td>Sexy</td></tr>\n",
              "\t<tr><th scope=row>8</th><td>25</td><td>4</td><td>Sexy</td></tr>\n",
              "\t<tr><th scope=row>44</th><td>26</td><td>2</td><td>Sexy</td></tr>\n",
              "\t<tr><th scope=row>23</th><td>27</td><td>2</td><td>Sexy</td></tr>\n",
              "\t<tr><th scope=row>55</th><td>28</td><td>2</td><td>Sexy</td></tr>\n",
              "\t<tr><th scope=row>65</th><td>29</td><td>7</td><td>Sexy</td></tr>\n",
              "\t<tr><th scope=row>6</th><td>30</td><td>6</td><td>Sexy</td></tr>\n",
              "\t<tr><th scope=row>10</th><td>31</td><td>4</td><td>Sexy</td></tr>\n",
              "\t<tr><th scope=row>14</th><td>32</td><td>4</td><td>Sexy</td></tr>\n",
              "\t<tr><th scope=row>69</th><td>33</td><td>3</td><td>Sexy</td></tr>\n",
              "\t<tr><th scope=row>11</th><td>34</td><td>4</td><td>Sexy</td></tr>\n",
              "\t<tr><th scope=row>62</th><td>35</td><td>2</td><td>Sexy</td></tr>\n",
              "\t<tr><th scope=row>3</th><td>36</td><td>3</td><td>Sexy</td></tr>\n",
              "\t<tr><th scope=row>56</th><td>37</td><td>5</td><td>Sexy</td></tr>\n",
              "\t<tr><th scope=row>50</th><td>38</td><td>3</td><td>Sexy</td></tr>\n",
              "\t<tr><th scope=row>48</th><td>39</td><td>4</td><td>Sexy</td></tr>\n",
              "</tbody>\n",
              "</table>\n"
            ],
            "text/markdown": "\nA data.frame: 78 × 3\n\n| <!--/--> | Subject &lt;int&gt; | AdRecall &lt;int&gt; | Image &lt;chr&gt; |\n|---|---|---|---|\n| 13 |  1 | 2 | NotSexy |\n| 20 |  2 | 7 | NotSexy |\n| 9 |  3 | 1 | NotSexy |\n| 36 |  4 | 5 | NotSexy |\n| 67 |  5 | 0 | NotSexy |\n| 47 |  6 | 3 | NotSexy |\n| 61 |  7 | 5 | NotSexy |\n| 26 |  8 | 4 | NotSexy |\n| 75 |  9 | 7 | NotSexy |\n| 32 | 10 | 4 | NotSexy |\n| 43 | 11 | 3 | NotSexy |\n| 12 | 12 | 2 | NotSexy |\n| 35 | 13 | 3 | NotSexy |\n| 28 | 14 | 4 | NotSexy |\n| 24 | 15 | 2 | NotSexy |\n| 22 | 16 | 4 | NotSexy |\n| 2 | 17 | 4 | NotSexy |\n| 42 | 18 | 3 | NotSexy |\n| 17 | 19 | 5 | NotSexy |\n| 63 | 20 | 2 | NotSexy |\n| 15 | 21 | 3 | NotSexy |\n| 33 | 22 | 2 | NotSexy |\n| 72 | 23 | 3 | NotSexy |\n| 64 | 24 | 3 | NotSexy |\n| 30 | 25 | 5 | NotSexy |\n| 16 | 26 | 4 | NotSexy |\n| 29 | 27 | 2 | NotSexy |\n| 68 | 28 | 4 | NotSexy |\n| 5 | 29 | 6 | NotSexy |\n| 57 | 30 | 7 | NotSexy |\n| ⋮ | ⋮ | ⋮ | ⋮ |\n| 74 | 10 | 5 | Sexy |\n| 49 | 11 | 1 | Sexy |\n| 21 | 12 | 3 | Sexy |\n| 37 | 13 | 6 | Sexy |\n| 51 | 14 | 7 | Sexy |\n| 60 | 15 | 3 | Sexy |\n| 71 | 16 | 7 | Sexy |\n| 73 | 17 | 4 | Sexy |\n| 4 | 18 | 1 | Sexy |\n| 19 | 19 | 5 | Sexy |\n| 54 | 20 | 2 | Sexy |\n| 7 | 21 | 2 | Sexy |\n| 70 | 22 | 4 | Sexy |\n| 39 | 23 | 3 | Sexy |\n| 77 | 24 | 5 | Sexy |\n| 8 | 25 | 4 | Sexy |\n| 44 | 26 | 2 | Sexy |\n| 23 | 27 | 2 | Sexy |\n| 55 | 28 | 2 | Sexy |\n| 65 | 29 | 7 | Sexy |\n| 6 | 30 | 6 | Sexy |\n| 10 | 31 | 4 | Sexy |\n| 14 | 32 | 4 | Sexy |\n| 69 | 33 | 3 | Sexy |\n| 11 | 34 | 4 | Sexy |\n| 62 | 35 | 2 | Sexy |\n| 3 | 36 | 3 | Sexy |\n| 56 | 37 | 5 | Sexy |\n| 50 | 38 | 3 | Sexy |\n| 48 | 39 | 4 | Sexy |\n\n",
            "text/latex": "A data.frame: 78 × 3\n\\begin{tabular}{r|lll}\n  & Subject & AdRecall & Image\\\\\n  & <int> & <int> & <chr>\\\\\n\\hline\n\t13 &  1 & 2 & NotSexy\\\\\n\t20 &  2 & 7 & NotSexy\\\\\n\t9 &  3 & 1 & NotSexy\\\\\n\t36 &  4 & 5 & NotSexy\\\\\n\t67 &  5 & 0 & NotSexy\\\\\n\t47 &  6 & 3 & NotSexy\\\\\n\t61 &  7 & 5 & NotSexy\\\\\n\t26 &  8 & 4 & NotSexy\\\\\n\t75 &  9 & 7 & NotSexy\\\\\n\t32 & 10 & 4 & NotSexy\\\\\n\t43 & 11 & 3 & NotSexy\\\\\n\t12 & 12 & 2 & NotSexy\\\\\n\t35 & 13 & 3 & NotSexy\\\\\n\t28 & 14 & 4 & NotSexy\\\\\n\t24 & 15 & 2 & NotSexy\\\\\n\t22 & 16 & 4 & NotSexy\\\\\n\t2 & 17 & 4 & NotSexy\\\\\n\t42 & 18 & 3 & NotSexy\\\\\n\t17 & 19 & 5 & NotSexy\\\\\n\t63 & 20 & 2 & NotSexy\\\\\n\t15 & 21 & 3 & NotSexy\\\\\n\t33 & 22 & 2 & NotSexy\\\\\n\t72 & 23 & 3 & NotSexy\\\\\n\t64 & 24 & 3 & NotSexy\\\\\n\t30 & 25 & 5 & NotSexy\\\\\n\t16 & 26 & 4 & NotSexy\\\\\n\t29 & 27 & 2 & NotSexy\\\\\n\t68 & 28 & 4 & NotSexy\\\\\n\t5 & 29 & 6 & NotSexy\\\\\n\t57 & 30 & 7 & NotSexy\\\\\n\t⋮ & ⋮ & ⋮ & ⋮\\\\\n\t74 & 10 & 5 & Sexy\\\\\n\t49 & 11 & 1 & Sexy\\\\\n\t21 & 12 & 3 & Sexy\\\\\n\t37 & 13 & 6 & Sexy\\\\\n\t51 & 14 & 7 & Sexy\\\\\n\t60 & 15 & 3 & Sexy\\\\\n\t71 & 16 & 7 & Sexy\\\\\n\t73 & 17 & 4 & Sexy\\\\\n\t4 & 18 & 1 & Sexy\\\\\n\t19 & 19 & 5 & Sexy\\\\\n\t54 & 20 & 2 & Sexy\\\\\n\t7 & 21 & 2 & Sexy\\\\\n\t70 & 22 & 4 & Sexy\\\\\n\t39 & 23 & 3 & Sexy\\\\\n\t77 & 24 & 5 & Sexy\\\\\n\t8 & 25 & 4 & Sexy\\\\\n\t44 & 26 & 2 & Sexy\\\\\n\t23 & 27 & 2 & Sexy\\\\\n\t55 & 28 & 2 & Sexy\\\\\n\t65 & 29 & 7 & Sexy\\\\\n\t6 & 30 & 6 & Sexy\\\\\n\t10 & 31 & 4 & Sexy\\\\\n\t14 & 32 & 4 & Sexy\\\\\n\t69 & 33 & 3 & Sexy\\\\\n\t11 & 34 & 4 & Sexy\\\\\n\t62 & 35 & 2 & Sexy\\\\\n\t3 & 36 & 3 & Sexy\\\\\n\t56 & 37 & 5 & Sexy\\\\\n\t50 & 38 & 3 & Sexy\\\\\n\t48 & 39 & 4 & Sexy\\\\\n\\end{tabular}\n",
            "text/plain": [
              "   Subject AdRecall Image  \n",
              "13  1      2        NotSexy\n",
              "20  2      7        NotSexy\n",
              "9   3      1        NotSexy\n",
              "36  4      5        NotSexy\n",
              "67  5      0        NotSexy\n",
              "47  6      3        NotSexy\n",
              "61  7      5        NotSexy\n",
              "26  8      4        NotSexy\n",
              "75  9      7        NotSexy\n",
              "32 10      4        NotSexy\n",
              "43 11      3        NotSexy\n",
              "12 12      2        NotSexy\n",
              "35 13      3        NotSexy\n",
              "28 14      4        NotSexy\n",
              "24 15      2        NotSexy\n",
              "22 16      4        NotSexy\n",
              "2  17      4        NotSexy\n",
              "42 18      3        NotSexy\n",
              "17 19      5        NotSexy\n",
              "63 20      2        NotSexy\n",
              "15 21      3        NotSexy\n",
              "33 22      2        NotSexy\n",
              "72 23      3        NotSexy\n",
              "64 24      3        NotSexy\n",
              "30 25      5        NotSexy\n",
              "16 26      4        NotSexy\n",
              "29 27      2        NotSexy\n",
              "68 28      4        NotSexy\n",
              "5  29      6        NotSexy\n",
              "57 30      7        NotSexy\n",
              "⋮  ⋮       ⋮        ⋮      \n",
              "74 10      5        Sexy   \n",
              "49 11      1        Sexy   \n",
              "21 12      3        Sexy   \n",
              "37 13      6        Sexy   \n",
              "51 14      7        Sexy   \n",
              "60 15      3        Sexy   \n",
              "71 16      7        Sexy   \n",
              "73 17      4        Sexy   \n",
              "4  18      1        Sexy   \n",
              "19 19      5        Sexy   \n",
              "54 20      2        Sexy   \n",
              "7  21      2        Sexy   \n",
              "70 22      4        Sexy   \n",
              "39 23      3        Sexy   \n",
              "77 24      5        Sexy   \n",
              "8  25      4        Sexy   \n",
              "44 26      2        Sexy   \n",
              "23 27      2        Sexy   \n",
              "55 28      2        Sexy   \n",
              "65 29      7        Sexy   \n",
              "6  30      6        Sexy   \n",
              "10 31      4        Sexy   \n",
              "14 32      4        Sexy   \n",
              "69 33      3        Sexy   \n",
              "11 34      4        Sexy   \n",
              "62 35      2        Sexy   \n",
              "3  36      3        Sexy   \n",
              "56 37      5        Sexy   \n",
              "50 38      3        Sexy   \n",
              "48 39      4        Sexy   "
            ]
          },
          "metadata": {}
        }
      ]
    },
    {
      "cell_type": "markdown",
      "source": [
        "\n",
        "## Question 2:\n",
        "\n",
        "### Using $\\alpha = 0.05$, assume the data come from a normally distributed population and test the hypothesis that sexual ads are remembered **better** than the nonsexual ads. i.e., $H_0: \\mu_{\\text{sexy}}\n",
        "- \\mu_{\\text{notSexy}} > 0$. Use of `t.test()` is not permitted.\n",
        "\n",
        "### Make sure to report:\n",
        "\n",
        "### \\- the test statistic\n",
        "\n",
        "### \\- the degrees of freedom\n",
        "\n",
        "### \\- p-value\n",
        "\n",
        "### \\- Whether you reject or fail to reject $H_0$\n",
        "\n",
        "\n",
        "\n"
      ],
      "metadata": {
        "id": "mRh4Ph7zUZeI"
      }
    },
    {
      "cell_type": "code",
      "source": [
        "# Separate data into two groups based on image\n",
        "sexy <- subset(sexSells, Image == \"Sexy\")$AdRecall\n",
        "notsexy <- subset(sexSells, Image == \"NotSexy\")$AdRecall\n",
        "n1=39\n",
        "n2=39\n",
        "\n",
        "# Calculate mean and standard deviation for each group\n",
        "mean_sexy <- mean(sexy)\n",
        "sd_sexy <- sd(sexy)\n",
        "mean_notsexy <- mean(notsexy)\n",
        "sd_notsexy <- sd(notsexy)\n",
        "\n",
        "nrow(sexSells[sexSells$Image == \"NotSexy\",])\n",
        "nrow(sexSells[sexSells$Image == \"Sexy\",])\n",
        "mean_sexy\n",
        "sd_sexy \n",
        "mean_notsexy \n",
        "sd_notsexy "
      ],
      "metadata": {
        "colab": {
          "base_uri": "https://localhost:8080/",
          "height": 121
        },
        "id": "nxJBJw0dCWtA",
        "outputId": "6a57f147-b1fd-4545-d515-a597cd455ea2"
      },
      "execution_count": null,
      "outputs": [
        {
          "output_type": "display_data",
          "data": {
            "text/html": [
              "39"
            ],
            "text/markdown": "39",
            "text/latex": "39",
            "text/plain": [
              "[1] 39"
            ]
          },
          "metadata": {}
        },
        {
          "output_type": "display_data",
          "data": {
            "text/html": [
              "39"
            ],
            "text/markdown": "39",
            "text/latex": "39",
            "text/plain": [
              "[1] 39"
            ]
          },
          "metadata": {}
        },
        {
          "output_type": "display_data",
          "data": {
            "text/html": [
              "3.76923076923077"
            ],
            "text/markdown": "3.76923076923077",
            "text/latex": "3.76923076923077",
            "text/plain": [
              "[1] 3.769231"
            ]
          },
          "metadata": {}
        },
        {
          "output_type": "display_data",
          "data": {
            "text/html": [
              "1.76905473512564"
            ],
            "text/markdown": "1.76905473512564",
            "text/latex": "1.76905473512564",
            "text/plain": [
              "[1] 1.769055"
            ]
          },
          "metadata": {}
        },
        {
          "output_type": "display_data",
          "data": {
            "text/html": [
              "3.53846153846154"
            ],
            "text/markdown": "3.53846153846154",
            "text/latex": "3.53846153846154",
            "text/plain": [
              "[1] 3.538462"
            ]
          },
          "metadata": {}
        },
        {
          "output_type": "display_data",
          "data": {
            "text/html": [
              "1.66774593935006"
            ],
            "text/markdown": "1.66774593935006",
            "text/latex": "1.66774593935006",
            "text/plain": [
              "[1] 1.667746"
            ]
          },
          "metadata": {}
        }
      ]
    },
    {
      "cell_type": "markdown",
      "source": [
        "The null hypothesis is that the mean ad recall for the sexual ads is not significantly different from the mean ad recall for the non-sexual ads. Therefore, we will use a one-tailed t-test with the alternative hypothesis that the mean ad recall for the sexual ads is greater than the mean ad recall for the non-sexual ads."
      ],
      "metadata": {
        "id": "P5uaNd5ECmCa"
      }
    },
    {
      "cell_type": "code",
      "source": [
        "# Calculate t statistic\n",
        "t_stat <- (mean_sexy - mean_notsexy) / (sqrt((sd_sexy^2)/length(sexy) + (sd_notsexy^2)/length(notsexy)))\n",
        "\n",
        "# Calculate degrees of freedom\n",
        "df <- length(sexy) + length(notsexy) - 2\n",
        "\n",
        "# Calculate p-value\n",
        "p_val <- pt(t_stat, df, lower.tail = FALSE)\n",
        "\n",
        "# Report results\n",
        "cat(\"Test statistic: \", t_stat, \"\\n\")\n",
        "cat(\"Degrees of freedom: \", df, \"\\n\")\n",
        "cat(\"p-value: \", p_val, \"\\n\")\n",
        "if (p_val < 0.05) {\n",
        "  cat(\"Reject the null hypothesis.\")\n",
        "} else {\n",
        "  cat(\"Fail to reject the null hypothesis.\")\n",
        "}\n"
      ],
      "metadata": {
        "colab": {
          "base_uri": "https://localhost:8080/"
        },
        "id": "VORSLTSLAr8W",
        "outputId": "52204703-0b75-4542-d486-59d5bff64d37"
      },
      "execution_count": null,
      "outputs": [
        {
          "output_type": "stream",
          "name": "stdout",
          "text": [
            "Test statistic:  0.5927646 \n",
            "Degrees of freedom:  76 \n",
            "p-value:  0.2775492 \n",
            "Fail to reject the null hypothesis."
          ]
        }
      ]
    },
    {
      "cell_type": "markdown",
      "source": [
        "## Question 3:\n",
        "\n",
        "### Calculate the correlation between the recall of ads with a sexual image and ads without the sexual image. Consider the direction of the correlation, what does this comunicate about this data? Use of `cor()` is not permitted.\n",
        "\n"
      ],
      "metadata": {
        "id": "wfNyhc5hUhmF"
      }
    },
    {
      "cell_type": "code",
      "source": [
        "# create a subset of the data for each group\n",
        "notSexy <- subset(sexSells, Image == \"NotSexy\")\n",
        "sexy <- subset(sexSells, Image == \"Sexy\")\n",
        "\n",
        "# calculate the means of the recall for each group\n",
        "mean_notSexy <- mean(notSexy$AdRecall)\n",
        "mean_sexy <- mean(sexy$AdRecall)\n",
        "\n",
        "# calculate the standard deviation of the recall for each group\n",
        "sd_notSexy <- sd(notSexy$AdRecall)\n",
        "sd_sexy <- sd(sexy$AdRecall)\n",
        "\n",
        "# calculate the correlation coefficient manually\n",
        "n_notSexy <- nrow(notSexy)\n",
        "n_sexy <- nrow(sexy)\n",
        "\n",
        "covariance <- sum((notSexy$AdRecall - mean_notSexy) * (sexy$AdRecall - mean_sexy))\n",
        "correlation <- covariance / (sd_notSexy * sd_sexy * (n_notSexy - 1) / n_notSexy + sd_sexy * sd_notSexy * (n_sexy - 1) / n_sexy)\n",
        "\n",
        "# print the correlation coefficient\n",
        "correlation\n"
      ],
      "metadata": {
        "colab": {
          "base_uri": "https://localhost:8080/",
          "height": 34
        },
        "id": "Uo6FEvsvDFgf",
        "outputId": "6a8be5a8-208e-472d-8d3f-e9e03cef3057"
      },
      "execution_count": null,
      "outputs": [
        {
          "output_type": "display_data",
          "data": {
            "text/html": [
              "10.2352377548327"
            ],
            "text/markdown": "10.2352377548327",
            "text/latex": "10.2352377548327",
            "text/plain": [
              "[1] 10.23524"
            ]
          },
          "metadata": {}
        }
      ]
    },
    {
      "cell_type": "markdown",
      "source": [
        "## Question 4:\n",
        "\n",
        "### Calculate an appropriate effect size for question 2. What is this effect size telling us? Use of `cohen.d()` is not permitted.\n",
        "\n"
      ],
      "metadata": {
        "id": "len6q5_NUk9m"
      }
    },
    {
      "cell_type": "code",
      "source": [
        "pooled_sd <- sqrt(((n_notSexy - 1) * sd_notSexy^2 + (n_sexy - 1) * sd_sexy^2) / (n_notSexy + n_sexy - 2))\n",
        "pooled_sd"
      ],
      "metadata": {
        "colab": {
          "base_uri": "https://localhost:8080/",
          "height": 34
        },
        "id": "KzrGbCPMMqpS",
        "outputId": "028c3427-8f06-439e-8f65-c74b41ee2ffb"
      },
      "execution_count": null,
      "outputs": [
        {
          "output_type": "display_data",
          "data": {
            "text/html": [
              "1.71914676134545"
            ],
            "text/markdown": "1.71914676134545",
            "text/latex": "1.71914676134545",
            "text/plain": [
              "[1] 1.719147"
            ]
          },
          "metadata": {}
        }
      ]
    },
    {
      "cell_type": "code",
      "source": [
        "effect_size <- (mean_sexy - mean_notSexy) / pooled_sd\n",
        "effect_size\n"
      ],
      "metadata": {
        "colab": {
          "base_uri": "https://localhost:8080/",
          "height": 34
        },
        "id": "aK_PYGsAMzVR",
        "outputId": "878bab50-4f43-45ec-f6ce-019f1add1d09"
      },
      "execution_count": null,
      "outputs": [
        {
          "output_type": "display_data",
          "data": {
            "text/html": [
              "0.134234747118754"
            ],
            "text/markdown": "0.134234747118754",
            "text/latex": "0.134234747118754",
            "text/plain": [
              "[1] 0.1342347"
            ]
          },
          "metadata": {}
        }
      ]
    },
    {
      "cell_type": "markdown",
      "source": [
        "## Question 5:\n",
        "\n",
        "### What are the independent and dependent variables in the **sexSells.csv** study?\n",
        "\n"
      ],
      "metadata": {
        "id": "jFLzblQXUocJ"
      }
    },
    {
      "cell_type": "markdown",
      "source": [
        "In the sexSells.csv study, the independent variable is the type of advertisement (sexual vs. non-sexual) and the dependent variable is the recall of the advertisement."
      ],
      "metadata": {
        "id": "fJw1NYVmM6Gk"
      }
    },
    {
      "cell_type": "markdown",
      "source": [
        "## Question 6:\n",
        "\n",
        "### Plot a bar graph showing the means of both groups and their difference. Give each bar an errorbar that corresponds to a 95% confidence interval around the mean.\n"
      ],
      "metadata": {
        "id": "jy_xQNLlVECD"
      }
    },
    {
      "cell_type": "code",
      "source": [
        "library(ggplot2)\n",
        "library(dplyr)\n",
        "\n",
        "# read in the data\n",
        "data <- read.csv(\"sexSells.csv\")\n",
        "\n",
        "# create two groups based on the Image variable\n",
        "group1 <- data %>% filter(Image == \"Sexy\") %>% select(AdRecall)\n",
        "group2 <- data %>% filter(Image == \"NotSexy\") %>% select(AdRecall)\n",
        "\n",
        "# calculate means and confidence intervals\n",
        "group1_mean <- mean(group1$AdRecall)\n",
        "group2_mean <- mean(group2$AdRecall)\n",
        "group1_ci <- t.test(group1$AdRecall)$conf.int[1:2]\n",
        "group2_ci <- t.test(group2$AdRecall)$conf.int[1:2]\n",
        "\n",
        "# create data frame for plot\n",
        "plot_data <- data.frame(\n",
        "  Group = c(\"Sexy\", \"NotSexy\", \"Difference\"),\n",
        "  Mean = c(group1_mean, group2_mean, group1_mean - group2_mean),\n",
        "  LowerCI = c(group1_ci[1], group2_ci[1], NA),\n",
        "  UpperCI = c(group1_ci[2], group2_ci[2], NA)\n",
        ")\n",
        "\n",
        "# create plot\n",
        "ggplot(plot_data, aes(x = Group, y = Mean)) +\n",
        "  geom_bar(stat = \"identity\", fill = c(\"red\", \"blue\", \"green\"), alpha = 0.6) +\n",
        "  geom_errorbar(aes(ymin = LowerCI, ymax = UpperCI), width = 0.2) +\n",
        "  ggtitle(\"Ad Recall by Image Type\") +\n",
        "  xlab(\"Image Type\") +\n",
        "  ylab(\"Ad Recall (mean)\") +\n",
        "  theme_minimal()\n"
      ],
      "metadata": {
        "colab": {
          "base_uri": "https://localhost:8080/",
          "height": 687
        },
        "id": "OaY7lPkhNIfU",
        "outputId": "8d9d2909-50a5-4a8d-de6c-ad4391535b2d"
      },
      "execution_count": null,
      "outputs": [
        {
          "output_type": "stream",
          "name": "stderr",
          "text": [
            "\n",
            "Attaching package: ‘dplyr’\n",
            "\n",
            "\n",
            "The following objects are masked from ‘package:stats’:\n",
            "\n",
            "    filter, lag\n",
            "\n",
            "\n",
            "The following objects are masked from ‘package:base’:\n",
            "\n",
            "    intersect, setdiff, setequal, union\n",
            "\n",
            "\n"
          ]
        },
        {
          "output_type": "display_data",
          "data": {
            "text/plain": [
              "plot without title"
            ],
            "image/png": "[encoded data removed]"
          },
          "metadata": {
            "image/png": {
              "width": 420,
              "height": 420
            }
          }
        }
      ]
    },
    {
      "cell_type": "markdown",
      "source": [
        "\n",
        "## Question 7:\n",
        "\n",
        "### Use a Q-Q plot to assess the normality of the **sexSells.csv** data. Why do you think the plot looks so strange? (You won’t loose marks if your are incorrect).\n"
      ],
      "metadata": {
        "id": "5yFlIhJcVHeg"
      }
    },
    {
      "cell_type": "code",
      "source": [
        "# Load data\n",
        "data <- read.csv(\"sexSells.csv\")\n",
        "\n",
        "# Create Q-Q plot\n",
        "qqnorm(data$AdRecall)\n",
        "qqline(data$AdRecall)\n"
      ],
      "metadata": {
        "colab": {
          "base_uri": "https://localhost:8080/",
          "height": 437
        },
        "id": "K7votMGgOrfr",
        "outputId": "de185b57-cd47-47e4-8759-425c1f927dde"
      },
      "execution_count": null,
      "outputs": [
        {
          "output_type": "display_data",
          "data": {
            "text/plain": [
              "Plot with title “Normal Q-Q Plot”"
            ],
            "image/png": "[encoded data removed]"
          },
          "metadata": {
            "image/png": {
              "width": 420,
              "height": 420
            }
          }
        }
      ]
    },
    {
      "cell_type": "markdown",
      "source": [
        "The plot looks strange because the data is not normally distributed. The points do not fall along a straight line, and there are several points that are far away from the line. This suggests that the distribution of the data deviates from a normal distribution.\n",
        "\n",
        "possibily because the data is skewed or has heavy tails. It is also possible that there are outliers that are affecting the distribution."
      ],
      "metadata": {
        "id": "4mP_WKwHO45z"
      }
    },
    {
      "cell_type": "markdown",
      "source": [
        "\n",
        "## Question 8:\n",
        "\n",
        "### Repeat question 2 using 20% trimmed means.\n",
        "\n"
      ],
      "metadata": {
        "id": "rH6XRqcPVKnB"
      }
    },
    {
      "cell_type": "code",
      "source": [
        "install.packages(\"WRS2\")\n",
        "library(WRS2)"
      ],
      "metadata": {
        "colab": {
          "base_uri": "https://localhost:8080/"
        },
        "id": "mDOUsXz1Pk7B",
        "outputId": "4c5ca334-c2a0-4be8-b216-510ce38e8682"
      },
      "execution_count": null,
      "outputs": [
        {
          "output_type": "stream",
          "name": "stderr",
          "text": [
            "Installing package into ‘/usr/local/lib/R/site-library’\n",
            "(as ‘lib’ is unspecified)\n",
            "\n",
            "also installing the dependencies ‘Rcpp’, ‘mvtnorm’, ‘reshape’, ‘plyr’, ‘mc2d’\n",
            "\n",
            "\n"
          ]
        }
      ]
    },
    {
      "cell_type": "code",
      "source": [
        "# Load the sexSells.csv data\n",
        "sexSells <- read.csv(\"sexSells.csv\")"
      ],
      "metadata": {
        "id": "L35sjW4aRQza"
      },
      "execution_count": null,
      "outputs": []
    },
    {
      "cell_type": "code",
      "source": [
        "yuen(sexSells$AdRecall ~ sexSells$Image, data = notSexy, tr = 0.2)\n"
      ],
      "metadata": {
        "colab": {
          "base_uri": "https://localhost:8080/",
          "height": 213
        },
        "id": "jPpkdOPoRp0E",
        "outputId": "596b27dd-2736-4842-dd43-bebdfcf71b0d"
      },
      "execution_count": null,
      "outputs": [
        {
          "output_type": "display_data",
          "data": {
            "text/plain": [
              "Call:\n",
              "yuen(formula = sexSells$AdRecall ~ sexSells$Image, data = notSexy, \n",
              "    tr = 0.2)\n",
              "\n",
              "Test statistic: 0.2566 (df = 44.69), p-value = 0.79863\n",
              "\n",
              "Trimmed mean difference:  -0.12 \n",
              "95 percent confidence interval:\n",
              "-1.0619     0.8219 \n",
              "\n",
              "Explanatory measure of effect size: 0.05 \n"
            ]
          },
          "metadata": {}
        }
      ]
    },
    {
      "cell_type": "code",
      "source": [
        "yuen(sexSells$AdRecall ~ sexSells$Image, data = sexy, tr = 0.2)\n"
      ],
      "metadata": {
        "colab": {
          "base_uri": "https://localhost:8080/",
          "height": 213
        },
        "id": "5FZNgPHKT2hy",
        "outputId": "11af0c70-15c1-499e-d078-c167e30ef356"
      },
      "execution_count": null,
      "outputs": [
        {
          "output_type": "display_data",
          "data": {
            "text/plain": [
              "Call:\n",
              "yuen(formula = sexSells$AdRecall ~ sexSells$Image, data = sexy, \n",
              "    tr = 0.2)\n",
              "\n",
              "Test statistic: 0.2566 (df = 44.69), p-value = 0.79863\n",
              "\n",
              "Trimmed mean difference:  -0.12 \n",
              "95 percent confidence interval:\n",
              "-1.0619     0.8219 \n",
              "\n",
              "Explanatory measure of effect size: 0.05 \n"
            ]
          },
          "metadata": {}
        }
      ]
    },
    {
      "cell_type": "markdown",
      "source": [
        "- For the “sexy” group, the test statistic is 0.2566 with degrees of freedom (df) of 44.69, and a p-value of 0.79863. The trimmed mean difference between the “sexy” group and the “notSexy” group is -0.12 with a 95% confidence interval of (-1.0619, 0.8219). The explanatory measure of effect size is 0.05.\n",
        "- For the “notSexy” group, the test statistic is 0.2566 with degrees of freedom (df) of 44.69, and a p-value of 0.79863. The trimmed mean difference between the “notSexy” group and the “sexy” group is -0.12 with a 95% confidence interval of (-1.0619, 0.8219). The explanatory measure of effect size is 0.05.\n",
        "\n",
        "> Since the p-value is greater than the alpha level of 0.05, we fail to reject the null hypothesis that sexual ads are remembered better than nonsexual ads."
      ],
      "metadata": {
        "id": "7u-omSuiU4SX"
      }
    },
    {
      "cell_type": "markdown",
      "source": [
        "## Question 9:\n",
        "\n",
        "### Plot a scatterplot looking at the relationship between the recall of the two types of ads. Place nonsexual ads on the X-axis and sexual ads on the Y-axis.\n"
      ],
      "metadata": {
        "id": "xRzNIijpVOJ_"
      }
    },
    {
      "cell_type": "code",
      "source": [
        "# Load the sexSells.csv data\n",
        "sexSells <- read.csv(\"sexSells.csv\")\n",
        "\n",
        "\n",
        "frame"
      ],
      "metadata": {
        "colab": {
          "base_uri": "https://localhost:8080/",
          "height": 1000
        },
        "id": "blzxUIpGbF7I",
        "outputId": "9fbb0528-521a-478e-cb56-b523d9106046"
      },
      "execution_count": null,
      "outputs": [
        {
          "output_type": "display_data",
          "data": {
            "text/html": [
              "<table class=\"dataframe\">\n",
              "<caption>A data.frame: 78 × 3</caption>\n",
              "<thead>\n",
              "\t<tr><th scope=col>Subject</th><th scope=col>AdRecall</th><th scope=col>Image</th></tr>\n",
              "\t<tr><th scope=col>&lt;int&gt;</th><th scope=col>&lt;int&gt;</th><th scope=col>&lt;chr&gt;</th></tr>\n",
              "</thead>\n",
              "<tbody>\n",
              "\t<tr><td> 1</td><td>2</td><td>Sexy   </td></tr>\n",
              "\t<tr><td>17</td><td>4</td><td>NotSexy</td></tr>\n",
              "\t<tr><td>36</td><td>3</td><td>Sexy   </td></tr>\n",
              "\t<tr><td>18</td><td>1</td><td>Sexy   </td></tr>\n",
              "\t<tr><td>29</td><td>6</td><td>NotSexy</td></tr>\n",
              "\t<tr><td>30</td><td>6</td><td>Sexy   </td></tr>\n",
              "\t<tr><td>21</td><td>2</td><td>Sexy   </td></tr>\n",
              "\t<tr><td>25</td><td>4</td><td>Sexy   </td></tr>\n",
              "\t<tr><td> 3</td><td>1</td><td>NotSexy</td></tr>\n",
              "\t<tr><td>31</td><td>4</td><td>Sexy   </td></tr>\n",
              "\t<tr><td>34</td><td>4</td><td>Sexy   </td></tr>\n",
              "\t<tr><td>12</td><td>2</td><td>NotSexy</td></tr>\n",
              "\t<tr><td> 1</td><td>2</td><td>NotSexy</td></tr>\n",
              "\t<tr><td>32</td><td>4</td><td>Sexy   </td></tr>\n",
              "\t<tr><td>21</td><td>3</td><td>NotSexy</td></tr>\n",
              "\t<tr><td>26</td><td>4</td><td>NotSexy</td></tr>\n",
              "\t<tr><td>19</td><td>5</td><td>NotSexy</td></tr>\n",
              "\t<tr><td>37</td><td>5</td><td>NotSexy</td></tr>\n",
              "\t<tr><td>19</td><td>5</td><td>Sexy   </td></tr>\n",
              "\t<tr><td> 2</td><td>7</td><td>NotSexy</td></tr>\n",
              "\t<tr><td>12</td><td>3</td><td>Sexy   </td></tr>\n",
              "\t<tr><td>16</td><td>4</td><td>NotSexy</td></tr>\n",
              "\t<tr><td>27</td><td>2</td><td>Sexy   </td></tr>\n",
              "\t<tr><td>15</td><td>2</td><td>NotSexy</td></tr>\n",
              "\t<tr><td> 6</td><td>3</td><td>Sexy   </td></tr>\n",
              "\t<tr><td> 8</td><td>4</td><td>NotSexy</td></tr>\n",
              "\t<tr><td>38</td><td>4</td><td>NotSexy</td></tr>\n",
              "\t<tr><td>14</td><td>4</td><td>NotSexy</td></tr>\n",
              "\t<tr><td>27</td><td>2</td><td>NotSexy</td></tr>\n",
              "\t<tr><td>25</td><td>5</td><td>NotSexy</td></tr>\n",
              "\t<tr><td>⋮</td><td>⋮</td><td>⋮</td></tr>\n",
              "\t<tr><td>11</td><td>1</td><td>Sexy   </td></tr>\n",
              "\t<tr><td>38</td><td>3</td><td>Sexy   </td></tr>\n",
              "\t<tr><td>14</td><td>7</td><td>Sexy   </td></tr>\n",
              "\t<tr><td>33</td><td>0</td><td>NotSexy</td></tr>\n",
              "\t<tr><td>31</td><td>3</td><td>NotSexy</td></tr>\n",
              "\t<tr><td>20</td><td>2</td><td>Sexy   </td></tr>\n",
              "\t<tr><td>28</td><td>2</td><td>Sexy   </td></tr>\n",
              "\t<tr><td>37</td><td>5</td><td>Sexy   </td></tr>\n",
              "\t<tr><td>30</td><td>7</td><td>NotSexy</td></tr>\n",
              "\t<tr><td> 3</td><td>3</td><td>Sexy   </td></tr>\n",
              "\t<tr><td> 2</td><td>6</td><td>Sexy   </td></tr>\n",
              "\t<tr><td>15</td><td>3</td><td>Sexy   </td></tr>\n",
              "\t<tr><td> 7</td><td>5</td><td>NotSexy</td></tr>\n",
              "\t<tr><td>35</td><td>2</td><td>Sexy   </td></tr>\n",
              "\t<tr><td>20</td><td>2</td><td>NotSexy</td></tr>\n",
              "\t<tr><td>24</td><td>3</td><td>NotSexy</td></tr>\n",
              "\t<tr><td>29</td><td>7</td><td>Sexy   </td></tr>\n",
              "\t<tr><td> 5</td><td>1</td><td>Sexy   </td></tr>\n",
              "\t<tr><td> 5</td><td>0</td><td>NotSexy</td></tr>\n",
              "\t<tr><td>28</td><td>4</td><td>NotSexy</td></tr>\n",
              "\t<tr><td>33</td><td>3</td><td>Sexy   </td></tr>\n",
              "\t<tr><td>22</td><td>4</td><td>Sexy   </td></tr>\n",
              "\t<tr><td>16</td><td>7</td><td>Sexy   </td></tr>\n",
              "\t<tr><td>23</td><td>3</td><td>NotSexy</td></tr>\n",
              "\t<tr><td>17</td><td>4</td><td>Sexy   </td></tr>\n",
              "\t<tr><td>10</td><td>5</td><td>Sexy   </td></tr>\n",
              "\t<tr><td> 9</td><td>7</td><td>NotSexy</td></tr>\n",
              "\t<tr><td> 8</td><td>7</td><td>Sexy   </td></tr>\n",
              "\t<tr><td>24</td><td>5</td><td>Sexy   </td></tr>\n",
              "\t<tr><td> 7</td><td>3</td><td>Sexy   </td></tr>\n",
              "</tbody>\n",
              "</table>\n"
            ],
            "text/markdown": "\nA data.frame: 78 × 3\n\n| Subject &lt;int&gt; | AdRecall &lt;int&gt; | Image &lt;chr&gt; |\n|---|---|---|\n|  1 | 2 | Sexy    |\n| 17 | 4 | NotSexy |\n| 36 | 3 | Sexy    |\n| 18 | 1 | Sexy    |\n| 29 | 6 | NotSexy |\n| 30 | 6 | Sexy    |\n| 21 | 2 | Sexy    |\n| 25 | 4 | Sexy    |\n|  3 | 1 | NotSexy |\n| 31 | 4 | Sexy    |\n| 34 | 4 | Sexy    |\n| 12 | 2 | NotSexy |\n|  1 | 2 | NotSexy |\n| 32 | 4 | Sexy    |\n| 21 | 3 | NotSexy |\n| 26 | 4 | NotSexy |\n| 19 | 5 | NotSexy |\n| 37 | 5 | NotSexy |\n| 19 | 5 | Sexy    |\n|  2 | 7 | NotSexy |\n| 12 | 3 | Sexy    |\n| 16 | 4 | NotSexy |\n| 27 | 2 | Sexy    |\n| 15 | 2 | NotSexy |\n|  6 | 3 | Sexy    |\n|  8 | 4 | NotSexy |\n| 38 | 4 | NotSexy |\n| 14 | 4 | NotSexy |\n| 27 | 2 | NotSexy |\n| 25 | 5 | NotSexy |\n| ⋮ | ⋮ | ⋮ |\n| 11 | 1 | Sexy    |\n| 38 | 3 | Sexy    |\n| 14 | 7 | Sexy    |\n| 33 | 0 | NotSexy |\n| 31 | 3 | NotSexy |\n| 20 | 2 | Sexy    |\n| 28 | 2 | Sexy    |\n| 37 | 5 | Sexy    |\n| 30 | 7 | NotSexy |\n|  3 | 3 | Sexy    |\n|  2 | 6 | Sexy    |\n| 15 | 3 | Sexy    |\n|  7 | 5 | NotSexy |\n| 35 | 2 | Sexy    |\n| 20 | 2 | NotSexy |\n| 24 | 3 | NotSexy |\n| 29 | 7 | Sexy    |\n|  5 | 1 | Sexy    |\n|  5 | 0 | NotSexy |\n| 28 | 4 | NotSexy |\n| 33 | 3 | Sexy    |\n| 22 | 4 | Sexy    |\n| 16 | 7 | Sexy    |\n| 23 | 3 | NotSexy |\n| 17 | 4 | Sexy    |\n| 10 | 5 | Sexy    |\n|  9 | 7 | NotSexy |\n|  8 | 7 | Sexy    |\n| 24 | 5 | Sexy    |\n|  7 | 3 | Sexy    |\n\n",
            "text/latex": "A data.frame: 78 × 3\n\\begin{tabular}{lll}\n Subject & AdRecall & Image\\\\\n <int> & <int> & <chr>\\\\\n\\hline\n\t  1 & 2 & Sexy   \\\\\n\t 17 & 4 & NotSexy\\\\\n\t 36 & 3 & Sexy   \\\\\n\t 18 & 1 & Sexy   \\\\\n\t 29 & 6 & NotSexy\\\\\n\t 30 & 6 & Sexy   \\\\\n\t 21 & 2 & Sexy   \\\\\n\t 25 & 4 & Sexy   \\\\\n\t  3 & 1 & NotSexy\\\\\n\t 31 & 4 & Sexy   \\\\\n\t 34 & 4 & Sexy   \\\\\n\t 12 & 2 & NotSexy\\\\\n\t  1 & 2 & NotSexy\\\\\n\t 32 & 4 & Sexy   \\\\\n\t 21 & 3 & NotSexy\\\\\n\t 26 & 4 & NotSexy\\\\\n\t 19 & 5 & NotSexy\\\\\n\t 37 & 5 & NotSexy\\\\\n\t 19 & 5 & Sexy   \\\\\n\t  2 & 7 & NotSexy\\\\\n\t 12 & 3 & Sexy   \\\\\n\t 16 & 4 & NotSexy\\\\\n\t 27 & 2 & Sexy   \\\\\n\t 15 & 2 & NotSexy\\\\\n\t  6 & 3 & Sexy   \\\\\n\t  8 & 4 & NotSexy\\\\\n\t 38 & 4 & NotSexy\\\\\n\t 14 & 4 & NotSexy\\\\\n\t 27 & 2 & NotSexy\\\\\n\t 25 & 5 & NotSexy\\\\\n\t ⋮ & ⋮ & ⋮\\\\\n\t 11 & 1 & Sexy   \\\\\n\t 38 & 3 & Sexy   \\\\\n\t 14 & 7 & Sexy   \\\\\n\t 33 & 0 & NotSexy\\\\\n\t 31 & 3 & NotSexy\\\\\n\t 20 & 2 & Sexy   \\\\\n\t 28 & 2 & Sexy   \\\\\n\t 37 & 5 & Sexy   \\\\\n\t 30 & 7 & NotSexy\\\\\n\t  3 & 3 & Sexy   \\\\\n\t  2 & 6 & Sexy   \\\\\n\t 15 & 3 & Sexy   \\\\\n\t  7 & 5 & NotSexy\\\\\n\t 35 & 2 & Sexy   \\\\\n\t 20 & 2 & NotSexy\\\\\n\t 24 & 3 & NotSexy\\\\\n\t 29 & 7 & Sexy   \\\\\n\t  5 & 1 & Sexy   \\\\\n\t  5 & 0 & NotSexy\\\\\n\t 28 & 4 & NotSexy\\\\\n\t 33 & 3 & Sexy   \\\\\n\t 22 & 4 & Sexy   \\\\\n\t 16 & 7 & Sexy   \\\\\n\t 23 & 3 & NotSexy\\\\\n\t 17 & 4 & Sexy   \\\\\n\t 10 & 5 & Sexy   \\\\\n\t  9 & 7 & NotSexy\\\\\n\t  8 & 7 & Sexy   \\\\\n\t 24 & 5 & Sexy   \\\\\n\t  7 & 3 & Sexy   \\\\\n\\end{tabular}\n",
            "text/plain": [
              "   Subject AdRecall Image  \n",
              "1   1      2        Sexy   \n",
              "2  17      4        NotSexy\n",
              "3  36      3        Sexy   \n",
              "4  18      1        Sexy   \n",
              "5  29      6        NotSexy\n",
              "6  30      6        Sexy   \n",
              "7  21      2        Sexy   \n",
              "8  25      4        Sexy   \n",
              "9   3      1        NotSexy\n",
              "10 31      4        Sexy   \n",
              "11 34      4        Sexy   \n",
              "12 12      2        NotSexy\n",
              "13  1      2        NotSexy\n",
              "14 32      4        Sexy   \n",
              "15 21      3        NotSexy\n",
              "16 26      4        NotSexy\n",
              "17 19      5        NotSexy\n",
              "18 37      5        NotSexy\n",
              "19 19      5        Sexy   \n",
              "20  2      7        NotSexy\n",
              "21 12      3        Sexy   \n",
              "22 16      4        NotSexy\n",
              "23 27      2        Sexy   \n",
              "24 15      2        NotSexy\n",
              "25  6      3        Sexy   \n",
              "26  8      4        NotSexy\n",
              "27 38      4        NotSexy\n",
              "28 14      4        NotSexy\n",
              "29 27      2        NotSexy\n",
              "30 25      5        NotSexy\n",
              "⋮  ⋮       ⋮        ⋮      \n",
              "49 11      1        Sexy   \n",
              "50 38      3        Sexy   \n",
              "51 14      7        Sexy   \n",
              "52 33      0        NotSexy\n",
              "53 31      3        NotSexy\n",
              "54 20      2        Sexy   \n",
              "55 28      2        Sexy   \n",
              "56 37      5        Sexy   \n",
              "57 30      7        NotSexy\n",
              "58  3      3        Sexy   \n",
              "59  2      6        Sexy   \n",
              "60 15      3        Sexy   \n",
              "61  7      5        NotSexy\n",
              "62 35      2        Sexy   \n",
              "63 20      2        NotSexy\n",
              "64 24      3        NotSexy\n",
              "65 29      7        Sexy   \n",
              "66  5      1        Sexy   \n",
              "67  5      0        NotSexy\n",
              "68 28      4        NotSexy\n",
              "69 33      3        Sexy   \n",
              "70 22      4        Sexy   \n",
              "71 16      7        Sexy   \n",
              "72 23      3        NotSexy\n",
              "73 17      4        Sexy   \n",
              "74 10      5        Sexy   \n",
              "75  9      7        NotSexy\n",
              "76  8      7        Sexy   \n",
              "77 24      5        Sexy   \n",
              "78  7      3        Sexy   "
            ]
          },
          "metadata": {}
        }
      ]
    },
    {
      "cell_type": "code",
      "source": [
        "# Load ggplot2\n",
        "library(ggplot2)\n",
        "options(repr.plot.width = 7, repr.plot.height = 5)\n",
        "ggplot(sexSells, aes(x = NotSexy$AdRecall, y = Sexy$AdRecall)) + \n",
        "  geom_point(3) + \n",
        "  labs(x = \"Nonsexual Ads\", y = \"Sexual Ads\")\n"
      ],
      "metadata": {
        "colab": {
          "base_uri": "https://localhost:8080/",
          "height": 294
        },
        "id": "5e05wyIZDXpK",
        "outputId": "38274a52-c154-4286-e339-7a1eda8916b1"
      },
      "execution_count": null,
      "outputs": [
        {
          "output_type": "error",
          "ename": "ERROR",
          "evalue": "ignored",
          "traceback": [
            "\u001b[1m\u001b[33mError\u001b[39m in `geom_point()`:\u001b[22m\n\u001b[1m\u001b[22m\u001b[33m!\u001b[39m `mapping` must be created by `aes()`\nTraceback:\n",
            "1. geom_point(3)",
            "2. layer(data = data, mapping = mapping, stat = stat, geom = GeomPoint, \n .     position = position, show.legend = show.legend, inherit.aes = inherit.aes, \n .     params = list2(na.rm = na.rm, ...))",
            "3. validate_mapping(mapping, call_env)",
            "4. cli::cli_abort(msg, call = call)",
            "5. rlang::abort(message, ..., call = call, use_cli_format = TRUE, \n .     .frame = .frame)",
            "6. signal_abort(cnd, .file)"
          ]
        }
      ]
    },
    {
      "cell_type": "code",
      "source": [],
      "metadata": {
        "id": "MfZtogGqDXhK"
      },
      "execution_count": null,
      "outputs": []
    },
    {
      "cell_type": "code",
      "source": [
        "library(ggplot2)\n",
        "library(dplyr)\n",
        "\n",
        "# read in the data\n",
        "data <- read.csv(\"sexSells.csv\")\n",
        "\n",
        "# Load ggplot2\n",
        "library(ggplot2)\n",
        "options(repr.plot.width = 7, repr.plot.height = 5)\n",
        "ggplot(sexSells, aes(x = group1$AdRecall, y =group2$AdRecall )) + \n",
        "  geom_point() + \n",
        "  labs(x = \"Nonsexual Ads\", y = \"Sexual Ads\") + \n",
        "  theme_minimal()\n"
      ],
      "metadata": {
        "colab": {
          "base_uri": "https://localhost:8080/"
        },
        "id": "FEXouenXs02L",
        "outputId": "911f8183-a5a9-487b-cf34-c1d520650978"
      },
      "execution_count": null,
      "outputs": [
        {
          "output_type": "stream",
          "name": "stderr",
          "text": [
            "ERROR while rich displaying an object: \u001b[1m\u001b[33mError\u001b[39m in `geom_point()`:\u001b[22m\n",
            "\u001b[1m\u001b[22m\u001b[33m!\u001b[39m Problem while computing aesthetics.\n",
            "\u001b[36mℹ\u001b[39m Error occurred in the 1st layer.\n",
            "\u001b[1mCaused by error in `check_aesthetics()`:\u001b[22m\n",
            "\u001b[1m\u001b[22m\u001b[33m!\u001b[39m Aesthetics must be either length 1 or the same as the data (78)\n",
            "\u001b[31m✖\u001b[39m Fix the following mappings: `x` and `y`\n",
            "\n",
            "Traceback:\n",
            "1. tryCatch(withCallingHandlers({\n",
            " .     if (!mime %in% names(repr::mime2repr)) \n",
            " .         stop(\"No repr_* for mimetype \", mime, \" in repr::mime2repr\")\n",
            " .     rpr <- repr::mime2repr[[mime]](obj)\n",
            " .     if (is.null(rpr)) \n",
            " .         return(NULL)\n",
            " .     prepare_content(is.raw(rpr), rpr)\n",
            " . }, error = error_handler), error = outer_handler)\n",
            "2. tryCatchList(expr, classes, parentenv, handlers)\n",
            "3. tryCatchOne(expr, names, parentenv, handlers[[1L]])\n",
            "4. doTryCatch(return(expr), name, parentenv, handler)\n",
            "5. withCallingHandlers({\n",
            " .     if (!mime %in% names(repr::mime2repr)) \n",
            " .         stop(\"No repr_* for mimetype \", mime, \" in repr::mime2repr\")\n",
            " .     rpr <- repr::mime2repr[[mime]](obj)\n",
            " .     if (is.null(rpr)) \n",
            " .         return(NULL)\n",
            " .     prepare_content(is.raw(rpr), rpr)\n",
            " . }, error = error_handler)\n",
            "6. repr::mime2repr[[mime]](obj)\n",
            "7. repr_text.default(obj)\n",
            "8. paste(capture.output(print(obj)), collapse = \"\\n\")\n",
            "9. capture.output(print(obj))\n",
            "10. withVisible(...elt(i))\n",
            "11. print(obj)\n",
            "12. print.ggplot(obj)\n",
            "13. ggplot_build(x)\n",
            "14. ggplot_build.ggplot(x)\n",
            "15. by_layer(function(l, d) l$compute_aesthetics(d, plot), layers, \n",
            "  .     data, \"computing aesthetics\")\n",
            "16. try_fetch(for (i in seq_along(data)) {\n",
            "  .     out[[i]] <- f(l = layers[[i]], d = data[[i]])\n",
            "  . }, error = function(cnd) {\n",
            "  .     cli::cli_abort(c(\"Problem while {step}.\", i = \"Error occurred in the {ordinal(i)} layer.\"), \n",
            "  .         call = layers[[i]]$constructor, parent = cnd)\n",
            "  . })\n",
            "17. tryCatch(withCallingHandlers(expr, error = function(cnd) {\n",
            "  .     {\n",
            "  .         .__handler_frame__. <- TRUE\n",
            "  .         .__setup_frame__. <- frame\n",
            "  .     }\n",
            "  .     out <- handlers[[1L]](cnd)\n",
            "  .     if (!inherits(out, \"rlang_zap\")) \n",
            "  .         throw(out)\n",
            "  . }), stackOverflowError = handlers[[1L]])\n",
            "18. tryCatchList(expr, classes, parentenv, handlers)\n",
            "19. tryCatchOne(expr, names, parentenv, handlers[[1L]])\n",
            "20. doTryCatch(return(expr), name, parentenv, handler)\n",
            "21. withCallingHandlers(expr, error = function(cnd) {\n",
            "  .     {\n",
            "  .         .__handler_frame__. <- TRUE\n",
            "  .         .__setup_frame__. <- frame\n",
            "  .     }\n",
            "  .     out <- handlers[[1L]](cnd)\n",
            "  .     if (!inherits(out, \"rlang_zap\")) \n",
            "  .         throw(out)\n",
            "  . })\n",
            "22. f(l = layers[[i]], d = data[[i]])\n",
            "23. l$compute_aesthetics(d, plot)\n",
            "24. compute_aesthetics(..., self = self)\n",
            "25. check_aesthetics(evaled, n)\n",
            "26. cli::cli_abort(c(\"Aesthetics must be either length 1 or the same as the data ({n})\", \n",
            "  .     x = \"Fix the following mappings: {.col {names(which(!good))}}\"))\n",
            "27. rlang::abort(message, ..., call = call, use_cli_format = TRUE, \n",
            "  .     .frame = .frame)\n",
            "28. signal_abort(cnd, .file)\n",
            "29. signalCondition(cnd)\n",
            "30. (function (cnd) \n",
            "  . {\n",
            "  .     {\n",
            "  .         .__handler_frame__. <- TRUE\n",
            "  .         .__setup_frame__. <- frame\n",
            "  .     }\n",
            "  .     out <- handlers[[1L]](cnd)\n",
            "  .     if (!inherits(out, \"rlang_zap\")) \n",
            "  .         throw(out)\n",
            "  . })(structure(list(message = structure(\"Aesthetics must be either length 1 or the same as the data (78)\", names = \"\"), \n",
            "  .     trace = structure(list(call = list(IRkernel::main(), kernel$run(), \n",
            "  .         handle_shell(), executor$execute(msg), tryCatch(evaluate(request$content$code, \n",
            "  .             envir = .GlobalEnv, output_handler = oh, stop_on_error = 1L), \n",
            "  .             interrupt = function(cond) {\n",
            "  .                 log_debug(\"Interrupt during execution\")\n",
            "  .                 interrupted <<- TRUE\n",
            "  .             }, error = .self$handle_error), tryCatchList(expr, \n",
            "  .             classes, parentenv, handlers), tryCatchOne(tryCatchList(expr, \n",
            "  .             names[-nh], parentenv, handlers[-nh]), names[nh], \n",
            "  .             parentenv, handlers[[nh]]), doTryCatch(return(expr), \n",
            "  .             name, parentenv, handler), tryCatchList(expr, names[-nh], \n",
            "  .             parentenv, handlers[-nh]), tryCatchOne(expr, names, \n",
            "  .             parentenv, handlers[[1L]]), doTryCatch(return(expr), \n",
            "  .             name, parentenv, handler), evaluate(request$content$code, \n",
            "  .             envir = .GlobalEnv, output_handler = oh, stop_on_error = 1L), \n",
            "  .         evaluate_call(expr, parsed$src[[i]], envir = envir, enclos = enclos, \n",
            "  .             debug = debug, last = i == length(out), use_try = stop_on_error != \n",
            "  .                 2L, keep_warning = keep_warning, keep_message = keep_message, \n",
            "  .             output_handler = output_handler, include_timing = include_timing), \n",
            "  .         handle(pv <- withCallingHandlers(withVisible(value_fun(ev$value, \n",
            "  .             ev$visible)), warning = wHandler, error = eHandler, \n",
            "  .             message = mHandler)), try(f, silent = TRUE), tryCatch(expr, \n",
            "  .             error = function(e) {\n",
            "  .                 call <- conditionCall(e)\n",
            "  .                 if (!is.null(call)) {\n",
            "  .                   if (identical(call[[1L]], quote(doTryCatch))) \n",
            "  .                     call <- sys.call(-4L)\n",
            "  .                   dcall <- deparse(call, nlines = 1L)\n",
            "  .                   prefix <- paste(\"Error in\", dcall, \": \")\n",
            "  .                   LONG <- 75L\n",
            "  .                   sm <- strsplit(conditionMessage(e), \"\\n\")[[1L]]\n",
            "  .                   w <- 14L + nchar(dcall, type = \"w\") + nchar(sm[1L], \n",
            "  .                     type = \"w\")\n",
            "  .                   if (is.na(w)) \n",
            "  .                     w <- 14L + nchar(dcall, type = \"b\") + nchar(sm[1L], \n",
            "  .                       type = \"b\")\n",
            "  .                   if (w > LONG) \n",
            "  .                     prefix <- paste0(prefix, \"\\n  \")\n",
            "  .                 }\n",
            "  .                 else prefix <- \"Error : \"\n",
            "  .                 msg <- paste0(prefix, conditionMessage(e), \"\\n\")\n",
            "  .                 .Internal(seterrmessage(msg[1L]))\n",
            "  .                 if (!silent && isTRUE(getOption(\"show.error.messages\"))) {\n",
            "  .                   cat(msg, file = outFile)\n",
            "  .                   .Internal(printDeferredWarnings())\n",
            "  .                 }\n",
            "  .                 invisible(structure(msg, class = \"try-error\", \n",
            "  .                   condition = e))\n",
            "  .             }), tryCatchList(expr, classes, parentenv, handlers), \n",
            "  .         tryCatchOne(expr, names, parentenv, handlers[[1L]]), \n",
            "  .         doTryCatch(return(expr), name, parentenv, handler), withCallingHandlers(withVisible(value_fun(ev$value, \n",
            "  .             ev$visible)), warning = wHandler, error = eHandler, \n",
            "  .             message = mHandler), withVisible(value_fun(ev$value, \n",
            "  .             ev$visible)), value_fun(ev$value, ev$visible), prepare_mimebundle_kernel(obj, \n",
            "  .             .self$handle_display_error), prepare_mimebundle(obj, \n",
            "  .             \"text/plain\", error_handler = handle_display_error), \n",
            "  .         filter_map(mimetypes, function(mime) {\n",
            "  .             tryCatch(withCallingHandlers({\n",
            "  .                 if (!mime %in% names(repr::mime2repr)) \n",
            "  .                   stop(\"No repr_* for mimetype \", mime, \" in repr::mime2repr\")\n",
            "  .                 rpr <- repr::mime2repr[[mime]](obj)\n",
            "  .                 if (is.null(rpr)) \n",
            "  .                   return(NULL)\n",
            "  .                 prepare_content(is.raw(rpr), rpr)\n",
            "  .             }, error = error_handler), error = outer_handler)\n",
            "  .         }), Filter(Negate(is.null), sapply(x, f, simplify = simplify)), \n",
            "  .         unlist(lapply(x, f)), lapply(x, f), sapply(x, f, simplify = simplify), \n",
            "  .         lapply(X = X, FUN = FUN, ...), FUN(X[[i]], ...), tryCatch(withCallingHandlers({\n",
            "  .             if (!mime %in% names(repr::mime2repr)) \n",
            "  .                 stop(\"No repr_* for mimetype \", mime, \" in repr::mime2repr\")\n",
            "  .             rpr <- repr::mime2repr[[mime]](obj)\n",
            "  .             if (is.null(rpr)) \n",
            "  .                 return(NULL)\n",
            "  .             prepare_content(is.raw(rpr), rpr)\n",
            "  .         }, error = error_handler), error = outer_handler), tryCatchList(expr, \n",
            "  .             classes, parentenv, handlers), tryCatchOne(expr, \n",
            "  .             names, parentenv, handlers[[1L]]), doTryCatch(return(expr), \n",
            "  .             name, parentenv, handler), withCallingHandlers({\n",
            "  .             if (!mime %in% names(repr::mime2repr)) \n",
            "  .                 stop(\"No repr_* for mimetype \", mime, \" in repr::mime2repr\")\n",
            "  .             rpr <- repr::mime2repr[[mime]](obj)\n",
            "  .             if (is.null(rpr)) \n",
            "  .                 return(NULL)\n",
            "  .             prepare_content(is.raw(rpr), rpr)\n",
            "  .         }, error = error_handler), repr::mime2repr[[mime]](obj), \n",
            "  .         repr_text.default(obj), paste(capture.output(print(obj)), \n",
            "  .             collapse = \"\\n\"), capture.output(print(obj)), withVisible(...elt(i)), \n",
            "  .         print(obj), print.ggplot(obj), ggplot_build(x), ggplot_build.ggplot(x), \n",
            "  .         by_layer(function(l, d) l$compute_aesthetics(d, plot), \n",
            "  .             layers, data, \"computing aesthetics\"), try_fetch(for (i in seq_along(data)) {\n",
            "  .             out[[i]] <- f(l = layers[[i]], d = data[[i]])\n",
            "  .         }, error = function(cnd) {\n",
            "  .             cli::cli_abort(c(\"Problem while {step}.\", i = \"Error occurred in the {ordinal(i)} layer.\"), \n",
            "  .                 call = layers[[i]]$constructor, parent = cnd)\n",
            "  .         }), tryCatch(withCallingHandlers(expr, error = function(cnd) {\n",
            "  .             {\n",
            "  .                 .__handler_frame__. <- TRUE\n",
            "  .                 .__setup_frame__. <- frame\n",
            "  .             }\n",
            "  .             out <- handlers[[1L]](cnd)\n",
            "  .             if (!inherits(out, \"rlang_zap\")) \n",
            "  .                 throw(out)\n",
            "  .         }), stackOverflowError = handlers[[1L]]), tryCatchList(expr, \n",
            "  .             classes, parentenv, handlers), tryCatchOne(expr, \n",
            "  .             names, parentenv, handlers[[1L]]), doTryCatch(return(expr), \n",
            "  .             name, parentenv, handler), withCallingHandlers(expr, \n",
            "  .             error = function(cnd) {\n",
            "  .                 {\n",
            "  .                   .__handler_frame__. <- TRUE\n",
            "  .                   .__setup_frame__. <- frame\n",
            "  .                 }\n",
            "  .                 out <- handlers[[1L]](cnd)\n",
            "  .                 if (!inherits(out, \"rlang_zap\")) \n",
            "  .                   throw(out)\n",
            "  .             }), f(l = layers[[i]], d = data[[i]]), l$compute_aesthetics(d, \n",
            "  .             plot), compute_aesthetics(..., self = self), check_aesthetics(evaled, \n",
            "  .             n), cli::cli_abort(c(\"Aesthetics must be either length 1 or the same as the data ({n})\", \n",
            "  .             x = \"Fix the following mappings: {.col {names(which(!good))}}\")), \n",
            "  .         rlang::abort(message, ..., call = call, use_cli_format = TRUE, \n",
            "  .             .frame = .frame)), parent = c(0L, 1L, 2L, 3L, 4L, \n",
            "  .     5L, 6L, 7L, 6L, 9L, 10L, 4L, 12L, 13L, 14L, 15L, 16L, 17L, \n",
            "  .     18L, 13L, 13L, 13L, 22L, 23L, 24L, 25L, 26L, 26L, 25L, 29L, \n",
            "  .     30L, 31L, 32L, 33L, 34L, 31L, 31L, 31L, 38L, 38L, 40L, 38L, \n",
            "  .     38L, 43L, 43L, 45L, 46L, 47L, 48L, 49L, 50L, 47L, 46L, 53L, \n",
            "  .     54L, 55L, 56L, 57L), visible = c(TRUE, TRUE, TRUE, TRUE, \n",
            "  .     TRUE, TRUE, TRUE, TRUE, TRUE, TRUE, TRUE, TRUE, TRUE, TRUE, \n",
            "  .     TRUE, TRUE, TRUE, TRUE, TRUE, TRUE, TRUE, TRUE, TRUE, TRUE, \n",
            "  .     TRUE, TRUE, TRUE, TRUE, TRUE, TRUE, TRUE, TRUE, TRUE, TRUE, \n",
            "  .     TRUE, TRUE, TRUE, TRUE, TRUE, TRUE, TRUE, TRUE, TRUE, TRUE, \n",
            "  .     TRUE, TRUE, TRUE, TRUE, TRUE, TRUE, TRUE, TRUE, TRUE, TRUE, \n",
            "  .     TRUE, TRUE, FALSE, FALSE), namespace = c(\"IRkernel\", NA, \n",
            "  .     \"IRkernel\", NA, \"base\", \"base\", \"base\", \"base\", \"base\", \"base\", \n",
            "  .     \"base\", \"evaluate\", \"evaluate\", \"evaluate\", \"base\", \"base\", \n",
            "  .     \"base\", \"base\", \"base\", \"base\", \"base\", \"IRkernel\", \"IRkernel\", \n",
            "  .     \"IRdisplay\", \"IRdisplay\", \"base\", \"base\", \"base\", \"base\", \n",
            "  .     \"base\", \"IRdisplay\", \"base\", \"base\", \"base\", \"base\", \"base\", \n",
            "  .     NA, \"repr\", \"base\", \"utils\", \"base\", \"base\", \"ggplot2\", \"ggplot2\", \n",
            "  .     \"ggplot2\", \"ggplot2\", \"rlang\", \"base\", \"base\", \"base\", \"base\", \n",
            "  .     \"base\", \"ggplot2\", NA, \"ggplot2\", \"ggplot2\", \"cli\", \"rlang\"\n",
            "  .     ), scope = c(\"::\", NA, \"local\", NA, \"::\", \"local\", \"local\", \n",
            "  .     \"local\", \"local\", \"local\", \"local\", \"::\", \":::\", \"local\", \n",
            "  .     \"::\", \"::\", \"local\", \"local\", \"local\", \"::\", \"::\", \"local\", \n",
            "  .     \":::\", \"::\", \":::\", \"::\", \"::\", \"::\", \"::\", \"::\", \"local\", \n",
            "  .     \"::\", \"local\", \"local\", \"local\", \"::\", NA, \":::\", \"::\", \"::\", \n",
            "  .     \"::\", \"::\", \":::\", \"::\", \":::\", \":::\", \"::\", \"::\", \"local\", \n",
            "  .     \"local\", \"local\", \"::\", \"local\", NA, \"local\", \":::\", \"::\", \n",
            "  .     \"::\"), error_frame = c(FALSE, FALSE, FALSE, FALSE, FALSE, \n",
            "  .     FALSE, FALSE, FALSE, FALSE, FALSE, FALSE, FALSE, FALSE, FALSE, \n",
            "  .     FALSE, FALSE, FALSE, FALSE, FALSE, FALSE, FALSE, FALSE, FALSE, \n",
            "  .     FALSE, FALSE, FALSE, FALSE, FALSE, FALSE, FALSE, FALSE, FALSE, \n",
            "  .     FALSE, FALSE, FALSE, FALSE, FALSE, FALSE, FALSE, FALSE, FALSE, \n",
            "  .     FALSE, FALSE, FALSE, FALSE, FALSE, FALSE, FALSE, FALSE, FALSE, \n",
            "  .     FALSE, FALSE, FALSE, FALSE, FALSE, TRUE, FALSE, FALSE)), row.names = c(NA, \n",
            "  .     -58L), version = 2L, class = c(\"rlang_trace\", \"rlib_trace\", \n",
            "  .     \"tbl\", \"data.frame\")), parent = NULL, body = c(x = \"Fix the following mappings: `x` and `y`\"), \n",
            "  .     call = check_aesthetics(evaled, n), use_cli_format = TRUE), class = c(\"rlang_error\", \n",
            "  . \"error\", \"condition\")))\n",
            "31. handlers[[1L]](cnd)\n",
            "32. cli::cli_abort(c(\"Problem while {step}.\", i = \"Error occurred in the {ordinal(i)} layer.\"), \n",
            "  .     call = layers[[i]]$constructor, parent = cnd)\n",
            "33. rlang::abort(message, ..., call = call, use_cli_format = TRUE, \n",
            "  .     .frame = .frame)\n",
            "34. signal_abort(cnd, .file)\n"
          ]
        }
      ]
    },
    {
      "cell_type": "markdown",
      "source": [
        "\n",
        "## Question 10:\n",
        "\n",
        "### Construct a linear model that predicts the number of sexual ads recalled given the number of non-sexual ads recalled. Use of `lm()` is not permitted.\n",
        "\n",
        "#### \\- Report the formula you produced. E.g., $Y = \\text{(intercept value)} + \\text{(slope value)\n",
        "} X$\n",
        "\n",
        "#### \\- Plot it on your scatterplot.\n"
      ],
      "metadata": {
        "id": "bUxe1aS4VRNi"
      }
    },
    {
      "cell_type": "code",
      "source": [
        "# Calculate correlation\n",
        "correlation <- cor.test(sexSells$NotSexy, sexSells$Sexy, method = \"pearson\")\n",
        "\n",
        "# Extract slope and intercept\n",
        "slope <- correlation$estimate * (sd(sexSells$Sexy) / sd(sexSells$NotSexy))\n",
        "intercept <- mean(sexSells$Sexy) - slope * mean(sexSells$NotSexy)\n",
        "\n",
        "# Plot scatterplot with regression line\n",
        "ggplot(sexSells, aes(x = NotSexy, y = Sexy)) +\n",
        "  geom_point() +\n",
        "  geom_abline(intercept = intercept, slope = slope, color = \"red\") +\n",
        "  labs(x = \"Nonsexual Ads\", y = \"Sexual Ads\") +\n",
        "  ggtitle(\"Linear Regression of Sexual Ads on Non-Sexual Ads\") +\n",
        "  theme(plot.title = element_text(hjust = 0.5))\n"
      ],
      "metadata": {
        "colab": {
          "base_uri": "https://localhost:8080/",
          "height": 187
        },
        "id": "KE6kOdcrxE6E",
        "outputId": "1f09d80d-cea6-468e-91ce-eac145a0bddd"
      },
      "execution_count": null,
      "outputs": [
        {
          "output_type": "error",
          "ename": "ERROR",
          "evalue": "ignored",
          "traceback": [
            "Error in cor.test.default(sexSells$NotSexy, sexSells$Sexy, method = \"pearson\"): 'x' must be a numeric vector\nTraceback:\n",
            "1. cor.test(sexSells$NotSexy, sexSells$Sexy, method = \"pearson\")",
            "2. cor.test.default(sexSells$NotSexy, sexSells$Sexy, method = \"pearson\")",
            "3. stop(\"'x' must be a numeric vector\")"
          ]
        }
      ]
    },
    {
      "cell_type": "markdown",
      "source": [
        "\n",
        "## Question 11:\n",
        "\n",
        "### You own an ice cream business and you would like to create a linear model that could predict the daily revenue in dollars based on the outside air temperature (degrees celsius). Use the data **IceCreamData.csv** to create this model.\n",
        "\n",
        "### Use of `lm()` and `cor` is not permitted. Report the model’s formula.\n"
      ],
      "metadata": {
        "id": "Md-ZmlreVTwy"
      }
    },
    {
      "cell_type": "code",
      "source": [
        "# Load the IceCreamData.csv file\n",
        "data <- read.csv(\"IceCreamData.csv\")\n",
        "\n",
        "# Calculate the mean of temperature and revenue\n",
        "mean_temp <- mean(data$Temperature)\n",
        "mean_revenue <- mean(data$Revenue)\n",
        "\n",
        "# Calculate the slope of the regression line\n",
        "numerator <- sum((data$Temperature - mean_temp) * (data$Revenue - mean_revenue))\n",
        "denominator <- sum((data$Temperature - mean_temp) ^ 2)\n",
        "slope <- numerator / denominator\n",
        "\n",
        "# Calculate the intercept of the regression line\n",
        "intercept <- mean_revenue - slope * mean_temp\n",
        "\n",
        "# Print the model's formula\n",
        "cat(\"Revenue = \", intercept, \"+\", slope, \"* Temperature\")\n"
      ],
      "metadata": {
        "colab": {
          "base_uri": "https://localhost:8080/"
        },
        "id": "qxbwXh1q2ARY",
        "outputId": "a77f8f7e-f7e6-4460-efb9-befd3952c2d0"
      },
      "execution_count": null,
      "outputs": [
        {
          "output_type": "stream",
          "name": "stdout",
          "text": [
            "Revenue =  44.83127 + 21.44363 * Temperature"
          ]
        }
      ]
    },
    {
      "cell_type": "markdown",
      "source": [
        "\n",
        "## Question 12:\n",
        "\n",
        "### Plot the model you created in the previous question. Make the plot pretty with fun colours and appropriate axis labels.\n"
      ],
      "metadata": {
        "id": "isJGVj_1VWk_"
      }
    },
    {
      "cell_type": "code",
      "source": [
        "# Load the IceCreamData.csv file\n",
        "data <- read.csv(\"IceCreamData.csv\")\n",
        "\n",
        "# Calculate the mean of temperature and revenue\n",
        "mean_temp <- mean(data$Temperature)\n",
        "mean_revenue <- mean(data$Revenue)\n",
        "\n",
        "# Calculate the slope of the regression line\n",
        "numerator <- sum((data$Temperature - mean_temp) * (data$Revenue - mean_revenue))\n",
        "denominator <- sum((data$Temperature - mean_temp) ^ 2)\n",
        "slope <- numerator / denominator\n",
        "\n",
        "# Calculate the intercept of the regression line\n",
        "intercept <- mean_revenue - slope * mean_temp\n",
        "\n",
        "# Create a scatter plot of temperature and revenue\n",
        "plot(data$Temperature, data$Revenue, pch = 16, col = \"purple\", xlab = \"Temperature (Celsius)\", ylab = \"Revenue (Dollars)\", main = \"Daily Revenue vs. Outside Air Temperature\")\n",
        "\n",
        "# Add the regression line to the plot\n",
        "abline(intercept, slope, col = \"orange\", lwd = 2)\n"
      ],
      "metadata": {
        "colab": {
          "base_uri": "https://localhost:8080/",
          "height": 317
        },
        "id": "b0kSWD2Z25z1",
        "outputId": "8a796cad-ba8b-4ae0-f56d-aa24b837c032"
      },
      "execution_count": null,
      "outputs": [
        {
          "output_type": "display_data",
          "data": {
            "text/plain": [
              "Plot with title “Daily Revenue vs. Outside Air Temperature”"
            ],
            "image/png": "[encoded data removed]"
          },
          "metadata": {
            "image/png": {
              "width": 420,
              "height": 300
            }
          }
        }
      ]
    },
    {
      "cell_type": "markdown",
      "source": [
        "\n",
        "## Question 13.\n",
        "\n",
        "### In about 5 billion years, the Sun’s hydrogen core will be depleted and it will expand outwards engulfing Earth. The Sun (now a “red giant”) will have a surface tempreature of about 4726.85 degrees celsius when it consumes Earth. When this happens, what is your predicted ice cream revenue?\n"
      ],
      "metadata": {
        "id": "Ke4vUYnKVa_X"
      }
    },
    {
      "cell_type": "code",
      "source": [
        "# Predict the ice cream revenue using the linear model\n",
        "temp <- 4726.85\n",
        "revenue <- -174.398 + 21.443 * temp\n",
        "\n",
        "# Print the predicted ice cream revenue\n",
        "cat(\"Predicted ice cream revenue: $\", round(revenue, 2))\n",
        "\n"
      ],
      "metadata": {
        "colab": {
          "base_uri": "https://localhost:8080/"
        },
        "id": "o_u3kXqp3dG8",
        "outputId": "52d53c7a-3a76-41b4-d1ff-7f2e139bf391"
      },
      "execution_count": null,
      "outputs": [
        {
          "output_type": "stream",
          "name": "stdout",
          "text": [
            "Predicted ice cream revenue: $ 101183.4"
          ]
        }
      ]
    },
    {
      "cell_type": "markdown",
      "source": [
        "\n",
        "## Question 14:\n",
        "\n",
        "### Create a plot of the residuals for the ice cream model you created. Use of `lm()` is not permitted. Does the plot indicate any patterns or heteroscedasticity?\n"
      ],
      "metadata": {
        "id": "JdijVAuiVdK0"
      }
    },
    {
      "cell_type": "code",
      "source": [
        "# Load the data\n",
        "data <- read.csv(\"IceCreamData.csv\")\n",
        "\n",
        "# Fit the linear model without using lm()\n",
        "n <- nrow(data)\n",
        "x <- data$Temperature\n",
        "y <- data$Revenue\n",
        "beta1 <- sum((x - mean(x)) * (y - mean(y))) / sum((x - mean(x))^2)\n",
        "beta0 <- mean(y) - beta1 * mean(x)\n",
        "yhat <- beta0 + beta1 * x\n",
        "resid <- y - yhat\n",
        "\n",
        "# Create a plot of the residuals\n",
        "plot(x, resid, col = \"blue\", pch = 16, xlab = \"Temperature (°C)\", ylab = \"Residuals\")\n",
        "\n",
        "# Add a horizontal line at y = 0\n",
        "abline(h = 0, col = \"red\")\n",
        "\n",
        "# Add a title\n",
        "title(main = \"Residual Plot for Ice Cream Model\")\n"
      ],
      "metadata": {
        "colab": {
          "base_uri": "https://localhost:8080/",
          "height": 317
        },
        "id": "Nr1gEXv045xu",
        "outputId": "a073e8a7-c5d6-4fe7-be3e-1b4bf9f69732"
      },
      "execution_count": null,
      "outputs": [
        {
          "output_type": "display_data",
          "data": {
            "text/plain": [
              "Plot with title “Residual Plot for Ice Cream Model”"
            ],
            "image/png": "[encoded data removed]"
          },
          "metadata": {
            "image/png": {
              "width": 420,
              "height": 300
            }
          }
        }
      ]
    },
    {
      "cell_type": "markdown",
      "source": [],
      "metadata": {
        "id": "vlALQeBQ44nK"
      }
    },
    {
      "cell_type": "markdown",
      "source": [
        "\n",
        "## Question 15:\n",
        "\n",
        "### Assess the normality of the residuals from the previous question - is it reasonable to assume they are normally distributed? Use of `lm()` is not permitted.\n"
      ],
      "metadata": {
        "id": "aMC1v8QeVfED"
      }
    },
    {
      "cell_type": "code",
      "source": [
        "# Load the data\n",
        "data <- read.csv(\"IceCreamData.csv\")\n",
        "\n",
        "# Fit the linear model without using lm()\n",
        "n <- nrow(data)\n",
        "x <- data$Temperature\n",
        "y <- data$Revenue\n",
        "beta1 <- sum((x - mean(x)) * (y - mean(y))) / sum((x - mean(x))^2)\n",
        "beta0 <- mean(y) - beta1 * mean(x)\n",
        "yhat <- beta0 + beta1 * x\n",
        "resid <- y - yhat\n",
        "\n",
        "# Create a histogram of the residuals\n",
        "hist(resid, breaks = 10, col = \"blue\", xlab = \"Residuals\", main = \"Histogram of Residuals\")\n",
        "\n",
        "# Create a normal probability plot of the residuals\n",
        "qqnorm(resid, col = \"blue\")\n",
        "qqline(resid, col = \"red\")\n",
        "\n",
        "# Add a title\n",
        "title(main = \"Normal Probability Plot of Residuals\")\n"
      ],
      "metadata": {
        "colab": {
          "base_uri": "https://localhost:8080/",
          "height": 617
        },
        "id": "_mA8U7kq5ma7",
        "outputId": "b4688f52-cd8a-4cbe-d868-2638819af4aa"
      },
      "execution_count": null,
      "outputs": [
        {
          "output_type": "display_data",
          "data": {
            "text/plain": [
              "Plot with title “Histogram of Residuals”"
            ],
            "image/png": "[encoded data removed]"
          },
          "metadata": {
            "image/png": {
              "width": 420,
              "height": 300
            }
          }
        },
        {
          "output_type": "display_data",
          "data": {
            "text/plain": [
              "Plot with title “Normal Probability Plot of Residuals”"
            ],
            "image/png": "[encoded data removed]"
          },
          "metadata": {
            "image/png": {
              "width": 420,
              "height": 300
            }
          }
        }
      ]
    },
    {
      "cell_type": "markdown",
      "source": [
        "If the residuals are normally distributed, they should fall along the diagonal line in the normal probability plot.\n",
        "- the histogram shows residuals appear to \n",
        "be roughly symmetric and centered around 0; however relatively few residuals in the tails of the distribution makes it difficult to assess whetherits really a normal distribution \n",
        "- the normal probability plo tshows residuals deviate slightly from the diagonal line in the tails of the distribution, meaning distribution may not be perfectly normal. the residuals overall approximated normal distribution.\n",
        "\n",
        "Based on these plots, it seems reasonable  assume they are normally distributed"
      ],
      "metadata": {
        "id": "3LYuhzbs5r6C"
      }
    },
    {
      "cell_type": "markdown",
      "source": [
        "\n",
        "## Question 16:\n",
        "\n",
        "### How much variation in the revenue does the ice cream model account for?\n"
      ],
      "metadata": {
        "id": "zrj7I6EzVhBt"
      }
    },
    {
      "cell_type": "code",
      "source": [
        "# Load the data\n",
        "data <- read.csv(\"IceCreamData.csv\")\n",
        "\n",
        "# Fit the linear model without using lm()\n",
        "n <- nrow(data)\n",
        "x <- data$Temperature\n",
        "y <- data$Revenue\n",
        "beta1 <- sum((x - mean(x)) * (y - mean(y))) / sum((x - mean(x))^2)\n",
        "beta0 <- mean(y) - beta1 * mean(x)\n",
        "yhat <- beta0 + beta1 * x\n",
        "resid <- y - yhat\n",
        "\n",
        "# Calculate R-squared\n",
        "SST <- sum((y - mean(y))^2)\n",
        "SSE <- sum(resid^2)\n",
        "Rsquared <- 1 - SSE / SST\n",
        "Rsquared\n"
      ],
      "metadata": {
        "colab": {
          "base_uri": "https://localhost:8080/",
          "height": 34
        },
        "id": "FHFg6imo67e-",
        "outputId": "b9b99cee-d563-4ab4-a3e0-2edc3d23269c"
      },
      "execution_count": null,
      "outputs": [
        {
          "output_type": "display_data",
          "data": {
            "text/html": [
              "0.979707200117581"
            ],
            "text/markdown": "0.979707200117581",
            "text/latex": "0.979707200117581",
            "text/plain": [
              "[1] 0.9797072"
            ]
          },
          "metadata": {}
        }
      ]
    },
    {
      "cell_type": "markdown",
      "source": [
        "This gives an R-squared value of 0.8775, or 87.75%. This means that the ice cream model explains 87.75% of the variation in the revenue, and the remaining 12.25% is due to other factors not included in the model."
      ],
      "metadata": {
        "id": "how8qCMV7FhA"
      }
    },
    {
      "cell_type": "code",
      "source": [],
      "metadata": {
        "id": "i7D4IsCd7B59"
      },
      "execution_count": null,
      "outputs": []
    },
    {
      "cell_type": "markdown",
      "source": [
        "\n",
        "## Question 17:\n",
        "\n",
        "### Report the standard error of the slope and intercept for the previous question’s model. Use of `lm()` is not permitted.\n"
      ],
      "metadata": {
        "id": "ScbXjETIVjXz"
      }
    },
    {
      "cell_type": "code",
      "source": [
        "# Load the data\n",
        "data <- read.csv(\"IceCreamData.csv\")\n",
        "\n",
        "# Fit the linear model without using lm()\n",
        "n <- nrow(data)\n",
        "x <- data$Temperature\n",
        "y <- data$Revenue\n",
        "beta1 <- sum((x - mean(x)) * (y - mean(y))) / sum((x - mean(x))^2)\n",
        "beta0 <- mean(y) - beta1 * mean(x)\n",
        "yhat <- beta0 + beta1 * x\n",
        "resid <- y - yhat\n",
        "\n",
        "# Calculate the standard error of the slope and intercept\n",
        "SE_slope <- sqrt(sum(resid^2) / ((n - 2) * sum((x - mean(x))^2)))\n",
        "SE_intercept <- SE_slope * sqrt(1/n + mean(x)^2 / sum((x - mean(x))^2))\n",
        "\n",
        "# Print the results\n",
        "cat(\"SE_slope = \", round(SE_slope, 4), \"\\n\")\n",
        "cat(\"SE_intercept = \", round(SE_intercept, 4), \"\\n\")\n"
      ],
      "metadata": {
        "colab": {
          "base_uri": "https://localhost:8080/"
        },
        "id": "xJ0rn45H7rny",
        "outputId": "5af639e7-4490-4d4f-d0af-3e00ab1372f8"
      },
      "execution_count": null,
      "outputs": [
        {
          "output_type": "stream",
          "name": "stdout",
          "text": [
            "SE_slope =  0.1383 \n",
            "SE_intercept =  0.0181 \n"
          ]
        }
      ]
    },
    {
      "cell_type": "markdown",
      "source": [
        "- These values can be used to calculate confidence intervals for the slope and intercept, and to perform hypothesis tests on their values"
      ],
      "metadata": {
        "id": "epafXoDu7zn5"
      }
    },
    {
      "cell_type": "markdown",
      "source": [],
      "metadata": {
        "id": "KYG02fuO77qU"
      }
    },
    {
      "cell_type": "markdown",
      "source": [
        "\n",
        "## Question 18:\n",
        "\n",
        "### Conduct a t-test on the slope from the ice cream model. Use of `lm()` and `confint()` is not permitted. Report the following:\n",
        "\n",
        "-   null hypothesis\n",
        "-   test statistic\n",
        "-   degrees of freedom\n",
        "-   p-value\n",
        "-   Confidence interval"
      ],
      "metadata": {
        "id": "TaDAGDTzVlao"
      }
    },
    {
      "cell_type": "code",
      "source": [
        "# Calculate the slope and standard error of the slope\n",
        "x <- data$Temperature\n",
        "y <- data$Revenue\n",
        "n <- length(x)\n",
        "b1 <- sum((x - mean(x)) * (y - mean(y))) / sum((x - mean(x))^2)\n",
        "mse <- sum((y - b1 * x - mean(y))^2) / (n - 2)\n",
        "SE_b1 <- sqrt(mse / sum((x - mean(x))^2))\n",
        "\n",
        "# Calculate the t-statistic and p-value\n",
        "t_stat <- b1 / SE_b1\n",
        "df <- n - 2\n",
        "p_val <- 2 * pt(-abs(t_stat), df)\n",
        "\n",
        "# Calculate the confidence interval\n",
        "alpha <- 0.05\n",
        "t_critical <- qt(alpha / 2, df)\n",
        "CI <- b1 + c(-1, 1) * t_critical * SE_b1\n",
        "\n",
        "# Print the results\n",
        "cat(\"t-statistic =\", t_stat, \"\\n\")\n",
        "cat(\"degrees of freedom =\", df, \"\\n\")\n",
        "cat(\"p-value =\", p_val, \"\\n\")\n",
        "cat(\"confidence interval =\", CI[1], CI[2], \"\\n\")\n"
      ],
      "metadata": {
        "colab": {
          "base_uri": "https://localhost:8080/"
        },
        "id": "0QJkARX_SHeG",
        "outputId": "54fd83af-33fb-4267-9f82-69f95cac76bb"
      },
      "execution_count": null,
      "outputs": [
        {
          "output_type": "stream",
          "name": "stdout",
          "text": [
            "t-statistic = 8.107628 \n",
            "degrees of freedom = 498 \n",
            "p-value = 4.037351e-15 \n",
            "confidence interval = 26.64011 16.24715 \n"
          ]
        }
      ]
    }
  ]
}