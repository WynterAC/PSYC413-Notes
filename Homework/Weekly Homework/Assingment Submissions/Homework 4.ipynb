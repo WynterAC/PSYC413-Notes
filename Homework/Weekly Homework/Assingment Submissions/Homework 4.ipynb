{
  "cells": [
    {
      "cell_type": "markdown",
      "metadata": {
        "id": "view-in-github",
        "colab_type": "text"
      },
      "source": [
        "<a href=\"https://colab.research.google.com/github/WynterAC/Computational-Cognitive-Neuroscience-Course/blob/master/Homework_4.ipynb\" target=\"_parent\"><img src=\"https://colab.research.google.com/assets/colab-badge.svg\" alt=\"Open In Colab\"/></a>"
      ]
    },
    {
      "cell_type": "markdown",
      "metadata": {
        "id": "e44774cc-1b03-43ca-8c17-c408b4ca93da"
      },
      "source": [
        "Homework 4\n",
        "\n",
        "# Homework 4\n",
        "\n",
        "## Submission Instructions\n",
        "\n",
        "-   Please submit your responses either as a well organized notebook\n",
        "    (.ipynb) file.\n",
        "\n",
        "-   For questions that require calculations:\n",
        "\n",
        "    -   Show your work (i.e., show the R code you used to answer the\n",
        "        question).\n",
        "    -   Make sure all the code you used to answer the question has been\n",
        "        run (i.e., displays an output). If there is no output/answer\n",
        "        shown for a question you will get a zero for that question.\n",
        "    -   Unless stated otherwise, round all *answers* to 3 decimal\n",
        "        places.\n",
        "        -   Note: there should be no rounding inside the calculations\n",
        "            you do.\n",
        "    -   For ease of reading, avoid showing the outputs of unnecessary\n",
        "        values. Just show outputs of the final result.\n",
        "    -   Do not use trimmed tests unless specified by the question.\n",
        "\n",
        "------------------------------------------------------------------------\n",
        "\n",
        "  \n"
      ],
      "id": "e44774cc-1b03-43ca-8c17-c408b4ca93da"
    },
    {
      "cell_type": "markdown",
      "source": [
        "\n",
        "  \n",
        "\n",
        "## Question 1:\n",
        "\n",
        "### Using the data set **AllTimeMovies.csv**, calculate a 95% confidence interval on the trimmed mean for the movies’ domestic (US) gross. Use 20% trimming.\n"
      ],
      "metadata": {
        "id": "_2KwaA13YNKY"
      },
      "id": "_2KwaA13YNKY"
    },
    {
      "cell_type": "markdown",
      "source": [
        "\n",
        "\n",
        "## Question 2:\n",
        "\n",
        "### Using the movie data from the previous question, test <span class=\"math inline\"><span class=\"MathJax_Preview\" style=\"color:inherit;display:none\"></span><span id=\"MathJax-Element-1-Frame\" class=\"MathJax\" tabindex=\"0\" style=\"position:relative\" mathml=\"&lt;math xmlns=&quot;http://www.w3.org/1998/Math/MathML&quot;&gt;&lt;msub&gt;&lt;mi&gt;H&lt;/mi&gt;&lt;mn&gt;0&lt;/mn&gt;&lt;/msub&gt;&lt;mo&gt;:&lt;/mo&gt;&lt;mi&gt;&amp;#x03BC;&lt;/mi&gt;&lt;mo&gt;=&lt;/mo&gt;&lt;mn&gt;240.19&lt;/mn&gt;&lt;/math&gt;\" role=\"presentation\"><span id=\"MathJax-Span-1\" class=\"math\" style=\"width:8.3em;display:inline-block\"><span style=\"display:inline-block;position:relative;width:6.911em;height:0px;font-size:120%\"><span style=\"position:absolute;clip:rect(1.46em,1006.88em,2.536em,-999.998em);top:-2.22em;left:0em\"><span id=\"MathJax-Span-2\" class=\"mrow\"><span id=\"MathJax-Span-3\" class=\"msubsup\"><span style=\"display:inline-block;position:relative;width:1.148em;height:0px\"><span style=\"position:absolute;clip:rect(3.231em,1000.77em,4.099em,-999.998em);top:-3.991em;left:0em\"><span id=\"MathJax-Span-4\" class=\"mi\" style=\"font-family:STIXGeneral-Italic\">H<span style=\"display:inline-block;overflow:hidden;height:1px;width:0.036em\"></span></span><span style=\"display:inline-block;width:0px;height:3.995em\"></span></span><span style=\"position:absolute;top:-3.852em;left:0.731em\"><span id=\"MathJax-Span-5\" class=\"mn\" style=\"font-size:70.7%;font-family:STIXGeneral-Regular\">0</span><span style=\"display:inline-block;width:0px;height:3.995em\"></span></span></span></span><span id=\"MathJax-Span-6\" class=\"mo\" style=\"font-family:STIXGeneral-Regular;padding-left:0.314em\">:</span><span id=\"MathJax-Span-7\" class=\"mi\" style=\"font-family:STIXGeneral-Italic;padding-left:0.314em\">μ</span><span id=\"MathJax-Span-8\" class=\"mo\" style=\"font-family:STIXGeneral-Regular;padding-left:0.314em\">=</span><span id=\"MathJax-Span-9\" class=\"mn\" style=\"font-family:STIXGeneral-Regular;padding-left:0.314em\">240.19</span></span><span style=\"display:inline-block;width:0px;height:2.224em\"></span></span></span><span style=\"display:inline-block;overflow:hidden;vertical-align:-0.29em;border-left:0px solid;width:0px;height:1.127em\"></span></span><span class=\"MJX_Assistive_MathML\" role=\"presentation\">$H_{0}:\\mu = 240.19$</span></span></span> using 20% trimmed means.\n",
        "\n",
        "### Make sure to report:\n",
        "\n",
        "-   the test statistic\n",
        "-   degrees of freedom\n",
        "-   p-value\n",
        "-   whether your reject or fail to reject the <span\n",
        "    class=\"math inline\"><span class=\"MathJax_Preview\"\n",
        "    style=\"color:inherit;display:none\"></span><span\n",
        "    id=\"MathJax-Element-2-Frame\" class=\"MathJax\" tabindex=\"0\"\n",
        "    style=\"position:relative\"\n",
        "    mathml=\"&lt;math xmlns=&quot;http://www.w3.org/1998/Math/MathML&quot;&gt;&lt;msub&gt;&lt;mi&gt;H&lt;/mi&gt;&lt;mn&gt;0&lt;/mn&gt;&lt;/msub&gt;&lt;/math&gt;\"\n",
        "    role=\"presentation\"><span id=\"MathJax-Span-10\" class=\"math\"\n",
        "    style=\"width:1.372em;display:inline-block\"><span\n",
        "    style=\"display:inline-block;position:relative;width:1.134em;height:0px;font-size:120%\"><span\n",
        "    style=\"position:absolute;clip:rect(1.372em,1001.13em,2.562em,-999.997em);top:-2.199em;left:0em\"><span\n",
        "    id=\"MathJax-Span-11\" class=\"mrow\"><span id=\"MathJax-Span-12\"\n",
        "    class=\"msubsup\"><span\n",
        "    style=\"display:inline-block;position:relative;width:1.134em;height:0px\"><span\n",
        "    style=\"position:absolute;clip:rect(3.158em,1000.78em,4.17em,-999.997em);top:-3.985em;left:0em\"><span\n",
        "    id=\"MathJax-Span-13\" class=\"mi\"\n",
        "    style=\"font-family:STIXGeneral-Italic\">H<span\n",
        "    style=\"display:inline-block;overflow:hidden;height:1px;width:0.063em\"></span></span><span\n",
        "    style=\"display:inline-block;width:0px;height:3.991em\"></span></span><span\n",
        "    style=\"position:absolute;top:-3.807em;left:0.717em\"><span\n",
        "    id=\"MathJax-Span-14\" class=\"mn\"\n",
        "    style=\"font-size:70.7%;font-family:STIXGeneral-Regular\">0</span><span\n",
        "    style=\"display:inline-block;width:0px;height:3.991em\"></span></span></span></span></span><span\n",
        "    style=\"display:inline-block;width:0px;height:2.205em\"></span></span></span><span\n",
        "    style=\"display:inline-block;overflow:hidden;vertical-align:-0.282em;border-left:0px solid;width:0px;height:1.146em\"></span></span><span\n",
        "    class=\"MJX_Assistive_MathML\"\n",
        "    role=\"presentation\">$H_{0}$</span></span></span>\n",
        "\n",
        "  "
      ],
      "metadata": {
        "id": "LKDiLan7Y7qq"
      },
      "id": "LKDiLan7Y7qq"
    },
    {
      "cell_type": "markdown",
      "source": [
        "## Question 3:\n",
        "\n",
        "### A company claims that on average, when exposed to its toothpaste, 45% of all bacteria related to gingivitis is killed. You run 10 tests and find that the percentages of bacteria killed among these tests are\n",
        "\n",
        "# <span class=\"math display\"><span class=\"MathJax_Preview\" style=\"color:inherit;display:none\"></span></span>\n",
        "\n",
        "<span id=\"MathJax-Element-3-Frame\" class=\"MathJax\" tabindex=\"0\"\n",
        "style=\"text-align:center;position:relative\"\n",
        "mathml=\"&lt;math xmlns=&quot;http://www.w3.org/1998/Math/MathML&quot; display=&quot;block&quot;&gt;&lt;mn&gt;38&lt;/mn&gt;&lt;mo&gt;,&lt;/mo&gt;&lt;mn&gt;44&lt;/mn&gt;&lt;mo&gt;,&lt;/mo&gt;&lt;mn&gt;62&lt;/mn&gt;&lt;mo&gt;,&lt;/mo&gt;&lt;mn&gt;72&lt;/mn&gt;&lt;mo&gt;,&lt;/mo&gt;&lt;mn&gt;43&lt;/mn&gt;&lt;mo&gt;,&lt;/mo&gt;&lt;mn&gt;40&lt;/mn&gt;&lt;mo&gt;,&lt;/mo&gt;&lt;mn&gt;43&lt;/mn&gt;&lt;mo&gt;,&lt;/mo&gt;&lt;mn&gt;42&lt;/mn&gt;&lt;mo&gt;,&lt;/mo&gt;&lt;mn&gt;39&lt;/mn&gt;&lt;mo&gt;,&lt;/mo&gt;&lt;mn&gt;41&lt;/mn&gt;&lt;/math&gt;\"\n",
        "role=\"presentation\"><span id=\"MathJax-Span-15\" class=\"math\"\n",
        "style=\"width:18.482em;display:inline-block\"><span\n",
        "style=\"display:inline-block;position:relative;width:15.393em;height:0px;font-size:120%\"><span\n",
        "style=\"position:absolute;clip:rect(1.447em,1015.29em,2.428em,-999.999em);top:-2.205em;left:0em\"><span\n",
        "id=\"MathJax-Span-16\" class=\"mrow\"><span id=\"MathJax-Span-17\" class=\"mn\"\n",
        "style=\"font-family:STIXGeneral-Regular\">38</span><span\n",
        "id=\"MathJax-Span-18\" class=\"mo\"\n",
        "style=\"font-family:STIXGeneral-Regular\">,</span><span\n",
        "id=\"MathJax-Span-19\" class=\"mn\"\n",
        "style=\"font-family:STIXGeneral-Regular;padding-left:0.197em\">44</span><span\n",
        "id=\"MathJax-Span-20\" class=\"mo\"\n",
        "style=\"font-family:STIXGeneral-Regular\">,</span><span\n",
        "id=\"MathJax-Span-21\" class=\"mn\"\n",
        "style=\"font-family:STIXGeneral-Regular;padding-left:0.197em\">62</span><span\n",
        "id=\"MathJax-Span-22\" class=\"mo\"\n",
        "style=\"font-family:STIXGeneral-Regular\">,</span><span\n",
        "id=\"MathJax-Span-23\" class=\"mn\"\n",
        "style=\"font-family:STIXGeneral-Regular;padding-left:0.197em\">72</span><span\n",
        "id=\"MathJax-Span-24\" class=\"mo\"\n",
        "style=\"font-family:STIXGeneral-Regular\">,</span><span\n",
        "id=\"MathJax-Span-25\" class=\"mn\"\n",
        "style=\"font-family:STIXGeneral-Regular;padding-left:0.197em\">43</span><span\n",
        "id=\"MathJax-Span-26\" class=\"mo\"\n",
        "style=\"font-family:STIXGeneral-Regular\">,</span><span\n",
        "id=\"MathJax-Span-27\" class=\"mn\"\n",
        "style=\"font-family:STIXGeneral-Regular;padding-left:0.197em\">40</span><span\n",
        "id=\"MathJax-Span-28\" class=\"mo\"\n",
        "style=\"font-family:STIXGeneral-Regular\">,</span><span\n",
        "id=\"MathJax-Span-29\" class=\"mn\"\n",
        "style=\"font-family:STIXGeneral-Regular;padding-left:0.197em\">43</span><span\n",
        "id=\"MathJax-Span-30\" class=\"mo\"\n",
        "style=\"font-family:STIXGeneral-Regular\">,</span><span\n",
        "id=\"MathJax-Span-31\" class=\"mn\"\n",
        "style=\"font-family:STIXGeneral-Regular;padding-left:0.197em\">42</span><span\n",
        "id=\"MathJax-Span-32\" class=\"mo\"\n",
        "style=\"font-family:STIXGeneral-Regular\">,</span><span\n",
        "id=\"MathJax-Span-33\" class=\"mn\"\n",
        "style=\"font-family:STIXGeneral-Regular;padding-left:0.197em\">39</span><span\n",
        "id=\"MathJax-Span-34\" class=\"mo\"\n",
        "style=\"font-family:STIXGeneral-Regular\">,</span><span\n",
        "id=\"MathJax-Span-35\" class=\"mn\"\n",
        "style=\"font-family:STIXGeneral-Regular;padding-left:0.197em\">41</span></span><span\n",
        "style=\"display:inline-block;width:0px;height:2.207em\"></span></span></span><span\n",
        "style=\"display:inline-block;overflow:hidden;vertical-align:-0.204em;border-left:0px solid;width:0px;height:1.06em\"></span></span><span\n",
        "class=\"MJX_Assistive_MathML MJX_Assistive_MathML_Block\"\n",
        "role=\"presentation\">$$38,44,62,72,43,40,43,42,39,41$$</span></span>\n",
        "\n",
        "### Assuming the data comes from a normally distributed population, test the hypothesis that the average percentage is 45 with <span class=\"math inline\"><span class=\"MathJax_Preview\" style=\"color:inherit;display:none\"></span><span id=\"MathJax-Element-4-Frame\" class=\"MathJax\" tabindex=\"0\" style=\"position:relative\" mathml=\"&lt;math xmlns=&quot;http://www.w3.org/1998/Math/MathML&quot;&gt;&lt;mi&gt;&amp;#x03B1;&lt;/mi&gt;&lt;mo&gt;=&lt;/mo&gt;&lt;mn&gt;0.01&lt;/mn&gt;&lt;/math&gt;\" role=\"presentation\"><span id=\"MathJax-Span-36\" class=\"math\" style=\"width:4.516em;display:inline-block\"><span style=\"display:inline-block;position:relative;width:3.752em;height:0px;font-size:120%\"><span style=\"position:absolute;clip:rect(1.46em,1003.65em,2.328em,-999.998em);top:-2.22em;left:0em\"><span id=\"MathJax-Span-37\" class=\"mrow\"><span id=\"MathJax-Span-38\" class=\"mi\" style=\"font-family:STIXGeneral-Italic\">α</span><span id=\"MathJax-Span-39\" class=\"mo\" style=\"font-family:STIXGeneral-Regular;padding-left:0.314em\">=</span><span id=\"MathJax-Span-40\" class=\"mn\" style=\"font-family:STIXGeneral-Regular;padding-left:0.314em\">0.01</span></span><span style=\"display:inline-block;width:0px;height:2.224em\"></span></span></span><span style=\"display:inline-block;overflow:hidden;vertical-align:-0.04em;border-left:0px solid;width:0px;height:0.919em\"></span></span><span class=\"MJX_Assistive_MathML\" role=\"presentation\">$\\alpha = 0.01$</span></span></span>. Calculate both a p-value and a confidence interval. Assume observations are randomly sampled from a normal distribution. Use of `t.test()` is not permitted.\n",
        "\n",
        "### Make sure to report:\n",
        "\n",
        "-   the test statistic\n",
        "-   degrees of freedom\n",
        "-   Confidence interval\n",
        "-   p-value\n",
        "-   whether your reject or fail to reject the <span\n",
        "    class=\"math inline\"><span class=\"MathJax_Preview\"\n",
        "    style=\"color:inherit;display:none\"></span><span\n",
        "    id=\"MathJax-Element-5-Frame\" class=\"MathJax\" tabindex=\"0\"\n",
        "    style=\"position:relative\"\n",
        "    mathml=\"&lt;math xmlns=&quot;http://www.w3.org/1998/Math/MathML&quot;&gt;&lt;msub&gt;&lt;mi&gt;H&lt;/mi&gt;&lt;mn&gt;0&lt;/mn&gt;&lt;/msub&gt;&lt;/math&gt;\"\n",
        "    role=\"presentation\"><span id=\"MathJax-Span-41\" class=\"math\"\n",
        "    style=\"width:1.372em;display:inline-block\"><span\n",
        "    style=\"display:inline-block;position:relative;width:1.134em;height:0px;font-size:120%\"><span\n",
        "    style=\"position:absolute;clip:rect(1.372em,1001.13em,2.562em,-999.997em);top:-2.199em;left:0em\"><span\n",
        "    id=\"MathJax-Span-42\" class=\"mrow\"><span id=\"MathJax-Span-43\"\n",
        "    class=\"msubsup\"><span\n",
        "    style=\"display:inline-block;position:relative;width:1.134em;height:0px\"><span\n",
        "    style=\"position:absolute;clip:rect(3.158em,1000.78em,4.17em,-999.997em);top:-3.985em;left:0em\"><span\n",
        "    id=\"MathJax-Span-44\" class=\"mi\"\n",
        "    style=\"font-family:STIXGeneral-Italic\">H<span\n",
        "    style=\"display:inline-block;overflow:hidden;height:1px;width:0.063em\"></span></span><span\n",
        "    style=\"display:inline-block;width:0px;height:3.991em\"></span></span><span\n",
        "    style=\"position:absolute;top:-3.807em;left:0.717em\"><span\n",
        "    id=\"MathJax-Span-45\" class=\"mn\"\n",
        "    style=\"font-size:70.7%;font-family:STIXGeneral-Regular\">0</span><span\n",
        "    style=\"display:inline-block;width:0px;height:3.991em\"></span></span></span></span></span><span\n",
        "    style=\"display:inline-block;width:0px;height:2.205em\"></span></span></span><span\n",
        "    style=\"display:inline-block;overflow:hidden;vertical-align:-0.282em;border-left:0px solid;width:0px;height:1.146em\"></span></span><span\n",
        "    class=\"MJX_Assistive_MathML\"\n",
        "    role=\"presentation\">$H_{0}$</span></span></span>\n",
        "\n",
        "  "
      ],
      "metadata": {
        "id": "4eA3nKWXY9iK"
      },
      "id": "4eA3nKWXY9iK"
    },
    {
      "cell_type": "markdown",
      "source": [
        "## Question 4:\n",
        "\n",
        "### Use the R function `t.test()` to calculate the previous question’s answer. Hint, R’s `help()` documentation is useful here.\n"
      ],
      "metadata": {
        "id": "xgraqhSBY_1O"
      },
      "id": "xgraqhSBY_1O"
    },
    {
      "cell_type": "markdown",
      "source": [
        "## Question 5:\n",
        "\n",
        "### Recalculate the p-value for the previous question with the hypothesis <span class=\"math inline\"><span class=\"MathJax_Preview\" style=\"color:inherit;display:none\"></span><span id=\"MathJax-Element-6-Frame\" class=\"MathJax\" tabindex=\"0\" style=\"position:relative\" mathml=\"&lt;math xmlns=&quot;http://www.w3.org/1998/Math/MathML&quot;&gt;&lt;msub&gt;&lt;mi&gt;H&lt;/mi&gt;&lt;mn&gt;0&lt;/mn&gt;&lt;/msub&gt;&lt;mo&gt;:&lt;/mo&gt;&lt;mi&gt;&amp;#x03BC;&lt;/mi&gt;&lt;mo&gt;&amp;gt;&lt;/mo&gt;&lt;mn&gt;45&lt;/mn&gt;&lt;/math&gt;\" role=\"presentation\"><span id=\"MathJax-Span-46\" class=\"math\" style=\"width:5.974em;display:inline-block\"><span style=\"display:inline-block;position:relative;width:4.967em;height:0px;font-size:120%\"><span style=\"position:absolute;clip:rect(1.425em,1004.9em,2.536em,-999.998em);top:-2.22em;left:0em\"><span id=\"MathJax-Span-47\" class=\"mrow\"><span id=\"MathJax-Span-48\" class=\"msubsup\"><span style=\"display:inline-block;position:relative;width:1.148em;height:0px\"><span style=\"position:absolute;clip:rect(3.231em,1000.77em,4.099em,-999.998em);top:-3.991em;left:0em\"><span id=\"MathJax-Span-49\" class=\"mi\" style=\"font-family:STIXGeneral-Italic\">H<span style=\"display:inline-block;overflow:hidden;height:1px;width:0.036em\"></span></span><span style=\"display:inline-block;width:0px;height:3.995em\"></span></span><span style=\"position:absolute;top:-3.852em;left:0.731em\"><span id=\"MathJax-Span-50\" class=\"mn\" style=\"font-size:70.7%;font-family:STIXGeneral-Regular\">0</span><span style=\"display:inline-block;width:0px;height:3.995em\"></span></span></span></span><span id=\"MathJax-Span-51\" class=\"mo\" style=\"font-family:STIXGeneral-Regular;padding-left:0.314em\">:</span><span id=\"MathJax-Span-52\" class=\"mi\" style=\"font-family:STIXGeneral-Italic;padding-left:0.314em\">μ</span><span id=\"MathJax-Span-53\" class=\"mo\" style=\"font-family:STIXGeneral-Regular;padding-left:0.314em\">\\></span><span id=\"MathJax-Span-54\" class=\"mn\" style=\"font-family:STIXGeneral-Regular;padding-left:0.314em\">45</span></span><span style=\"display:inline-block;width:0px;height:2.224em\"></span></span></span><span style=\"display:inline-block;overflow:hidden;vertical-align:-0.29em;border-left:0px solid;width:0px;height:1.169em\"></span></span><span class=\"MJX_Assistive_MathML\" role=\"presentation\">$H_{0}:\\mu > 45$</span></span></span>. Do not use `t.test()`.\n",
        "\n",
        "  "
      ],
      "metadata": {
        "id": "picdhobEZA6g"
      },
      "id": "picdhobEZA6g"
    },
    {
      "cell_type": "markdown",
      "source": [
        "## Question 6:\n",
        "\n",
        "### Use the R function `t.test()` to calculate the previous question’s result (i.e., use it to test <span class=\"math inline\"><span class=\"MathJax_Preview\" style=\"color:inherit;display:none\"></span><span id=\"MathJax-Element-7-Frame\" class=\"MathJax\" tabindex=\"0\" style=\"position:relative\" mathml=\"&lt;math xmlns=&quot;http://www.w3.org/1998/Math/MathML&quot;&gt;&lt;msub&gt;&lt;mi&gt;H&lt;/mi&gt;&lt;mn&gt;0&lt;/mn&gt;&lt;/msub&gt;&lt;mo&gt;:&lt;/mo&gt;&lt;mi&gt;&amp;#x03BC;&lt;/mi&gt;&lt;mo&gt;&amp;gt;&lt;/mo&gt;&lt;mn&gt;45&lt;/mn&gt;&lt;/math&gt;\" role=\"presentation\"><span id=\"MathJax-Span-55\" class=\"math\" style=\"width:5.974em;display:inline-block\"><span style=\"display:inline-block;position:relative;width:4.967em;height:0px;font-size:120%\"><span style=\"position:absolute;clip:rect(1.425em,1004.9em,2.536em,-999.998em);top:-2.22em;left:0em\"><span id=\"MathJax-Span-56\" class=\"mrow\"><span id=\"MathJax-Span-57\" class=\"msubsup\"><span style=\"display:inline-block;position:relative;width:1.148em;height:0px\"><span style=\"position:absolute;clip:rect(3.231em,1000.77em,4.099em,-999.998em);top:-3.991em;left:0em\"><span id=\"MathJax-Span-58\" class=\"mi\" style=\"font-family:STIXGeneral-Italic\">H<span style=\"display:inline-block;overflow:hidden;height:1px;width:0.036em\"></span></span><span style=\"display:inline-block;width:0px;height:3.995em\"></span></span><span style=\"position:absolute;top:-3.852em;left:0.731em\"><span id=\"MathJax-Span-59\" class=\"mn\" style=\"font-size:70.7%;font-family:STIXGeneral-Regular\">0</span><span style=\"display:inline-block;width:0px;height:3.995em\"></span></span></span></span><span id=\"MathJax-Span-60\" class=\"mo\" style=\"font-family:STIXGeneral-Regular;padding-left:0.314em\">:</span><span id=\"MathJax-Span-61\" class=\"mi\" style=\"font-family:STIXGeneral-Italic;padding-left:0.314em\">μ</span><span id=\"MathJax-Span-62\" class=\"mo\" style=\"font-family:STIXGeneral-Regular;padding-left:0.314em\">\\></span><span id=\"MathJax-Span-63\" class=\"mn\" style=\"font-family:STIXGeneral-Regular;padding-left:0.314em\">45</span></span><span style=\"display:inline-block;width:0px;height:2.224em\"></span></span></span><span style=\"display:inline-block;overflow:hidden;vertical-align:-0.29em;border-left:0px solid;width:0px;height:1.169em\"></span></span><span class=\"MJX_Assistive_MathML\" role=\"presentation\">$H_{0}:\\mu > 45$</span></span></span>).\n"
      ],
      "metadata": {
        "id": "xIy0zj4oZB0K"
      },
      "id": "xIy0zj4oZB0K"
    },
    {
      "cell_type": "markdown",
      "source": [
        "## Question 7:\n",
        "\n",
        "### Some archaeologists theorize that ancient Egyptians interbred with several different immigrant populations over thousands of years. To see if there is any indication of changes in body structure that might have resulted, they measured 30 skulls of male Egyptians dated from 4000 B.C.E. and 30 others dated from 200 B.C.E.\n",
        "\n",
        "-   Thomson and Randall-Maciver, *Ancient Races of the Thebaid*, Oxford:\n",
        "    Oxford University Press, 1905.\n",
        "\n",
        "### The data can be found in **“SkullsPartial.csv”**. The column “mb” measures the maximal breadth of the skull.\n",
        "\n",
        "### The data is in the “tidy format”. Find a way to calculate the means for both epochs, as well as the difference between the means. *No special packages are required for this*. You have already learned methods which can help you here.\n",
        "\n",
        "  "
      ],
      "metadata": {
        "id": "0jRzhTFlZC01"
      },
      "id": "0jRzhTFlZC01"
    },
    {
      "cell_type": "markdown",
      "source": [
        "## Question 8:\n",
        "\n",
        "### Using the skull data, calculate the standard deviation and variance for both epochs. You are allowed to use `sd()` and `var()`.\n",
        "\n",
        "  \n"
      ],
      "metadata": {
        "id": "T_XpTyYyZDw0"
      },
      "id": "T_XpTyYyZDw0"
    },
    {
      "cell_type": "markdown",
      "source": [
        "## Question 8:\n",
        "\n",
        "### Using the skull data, calculate the standard deviation and variance for both epochs. You are allowed to use `sd()` and `var()`.\n",
        "\n",
        "  \n"
      ],
      "metadata": {
        "id": "SsZLAm1zZEex"
      },
      "id": "SsZLAm1zZEex"
    },
    {
      "cell_type": "markdown",
      "source": [
        "## Question 10:\n",
        "\n",
        "### Using the skull data, calculate the pooled standard error.\n"
      ],
      "metadata": {
        "id": "P0CGwXNmZFG1"
      },
      "id": "P0CGwXNmZFG1"
    },
    {
      "cell_type": "markdown",
      "source": [
        "## Question 11:\n",
        "\n",
        "### Calculate a 95% Confidence interval for the difference in mean skull breadth between these two epochs. Use of `t.test()` is not permitted.\n",
        "\n",
        "  \n"
      ],
      "metadata": {
        "id": "qgQTqVQNZF30"
      },
      "id": "qgQTqVQNZF30"
    },
    {
      "cell_type": "markdown",
      "source": [
        "## Question 12:\n",
        "\n",
        "### Test <span class=\"math inline\"><span class=\"MathJax_Preview\" style=\"color:inherit;display:none\"></span><span id=\"MathJax-Element-8-Frame\" class=\"MathJax\" tabindex=\"0\" style=\"position:relative\" mathml=\"&lt;math xmlns=&quot;http://www.w3.org/1998/Math/MathML&quot;&gt;&lt;msub&gt;&lt;mi&gt;H&lt;/mi&gt;&lt;mn&gt;0&lt;/mn&gt;&lt;/msub&gt;&lt;mo&gt;:&lt;/mo&gt;&lt;msub&gt;&lt;mi&gt;&amp;#x03BC;&lt;/mi&gt;&lt;mrow class=&quot;MJX-TeXAtom-ORD&quot;&gt;&lt;msub&gt;&lt;mi&gt;&lt;/mi&gt;&lt;mtext&gt;4000&lt;/mtext&gt;&lt;/msub&gt;&lt;/mrow&gt;&lt;/msub&gt;&lt;mo&gt;&amp;#x2212;&lt;/mo&gt;&lt;msub&gt;&lt;mi&gt;&amp;#x03BC;&lt;/mi&gt;&lt;mrow class=&quot;MJX-TeXAtom-ORD&quot;&gt;&lt;msub&gt;&lt;mi&gt;&lt;/mi&gt;&lt;mtext&gt;200&lt;/mtext&gt;&lt;/msub&gt;&lt;/mrow&gt;&lt;/msub&gt;&lt;mo&gt;=&lt;/mo&gt;&lt;mn&gt;0&lt;/mn&gt;&lt;/math&gt;\" role=\"presentation\"><span id=\"MathJax-Span-64\" class=\"math\" style=\"width:9.585em;display:inline-block\"><span style=\"display:inline-block;position:relative;width:7.988em;height:0px;font-size:120%\"><span style=\"position:absolute;clip:rect(1.46em,1007.95em,2.606em,-999.998em);top:-2.22em;left:0em\"><span id=\"MathJax-Span-65\" class=\"mrow\"><span id=\"MathJax-Span-66\" class=\"msubsup\"><span style=\"display:inline-block;position:relative;width:1.148em;height:0px\"><span style=\"position:absolute;clip:rect(3.231em,1000.77em,4.099em,-999.998em);top:-3.991em;left:0em\"><span id=\"MathJax-Span-67\" class=\"mi\" style=\"font-family:STIXGeneral-Italic\">H<span style=\"display:inline-block;overflow:hidden;height:1px;width:0.036em\"></span></span><span style=\"display:inline-block;width:0px;height:3.995em\"></span></span><span style=\"position:absolute;top:-3.852em;left:0.731em\"><span id=\"MathJax-Span-68\" class=\"mn\" style=\"font-size:70.7%;font-family:STIXGeneral-Regular\">0</span><span style=\"display:inline-block;width:0px;height:3.995em\"></span></span></span></span><span id=\"MathJax-Span-69\" class=\"mo\" style=\"font-family:STIXGeneral-Regular;padding-left:0.314em\">:</span><span id=\"MathJax-Span-70\" class=\"msubsup\" style=\"padding-left:0.314em\"><span style=\"display:inline-block;position:relative;width:1.668em;height:0px\"><span style=\"position:absolute;clip:rect(3.474em,1000.49em,4.307em,-999.998em);top:-3.991em;left:0em\"><span id=\"MathJax-Span-71\" class=\"mi\" style=\"font-family:STIXGeneral-Italic\">μ</span><span style=\"display:inline-block;width:0px;height:3.995em\"></span></span><span style=\"position:absolute;top:-3.852em;left:0.523em\"><span id=\"MathJax-Span-72\" class=\"texatom\"><span id=\"MathJax-Span-73\" class=\"mrow\"><span id=\"MathJax-Span-74\" class=\"msubsup\"><span style=\"display:inline-block;position:relative;width:1.043em;height:0px\"><span style=\"position:absolute;clip:rect(3.891em,1000em,4.099em,-999.998em);top:-3.991em;left:0em\"><span id=\"MathJax-Span-75\" class=\"mi\" style=\"font-size:70.7%\"></span><span style=\"display:inline-block;width:0px;height:3.995em\"></span></span><span style=\"position:absolute;top:-3.887em;left:0em\"><span id=\"MathJax-Span-76\" class=\"mtext\" style=\"font-size:50%;font-family:STIXGeneral-Regular\">4000</span><span style=\"display:inline-block;width:0px;height:3.995em\"></span></span></span></span></span></span><span style=\"display:inline-block;width:0px;height:3.995em\"></span></span></span></span><span id=\"MathJax-Span-77\" class=\"mo\" style=\"font-family:STIXGeneral-Regular;padding-left:0.245em\">−</span><span id=\"MathJax-Span-78\" class=\"msubsup\" style=\"padding-left:0.245em\"><span style=\"display:inline-block;position:relative;width:1.391em;height:0px\"><span style=\"position:absolute;clip:rect(3.474em,1000.49em,4.307em,-999.998em);top:-3.991em;left:0em\"><span id=\"MathJax-Span-79\" class=\"mi\" style=\"font-family:STIXGeneral-Italic\">μ</span><span style=\"display:inline-block;width:0px;height:3.995em\"></span></span><span style=\"position:absolute;top:-3.852em;left:0.523em\"><span id=\"MathJax-Span-80\" class=\"texatom\"><span id=\"MathJax-Span-81\" class=\"mrow\"><span id=\"MathJax-Span-82\" class=\"msubsup\"><span style=\"display:inline-block;position:relative;width:0.8em;height:0px\"><span style=\"position:absolute;clip:rect(3.891em,1000em,4.099em,-999.998em);top:-3.991em;left:0em\"><span id=\"MathJax-Span-83\" class=\"mi\" style=\"font-size:70.7%\"></span><span style=\"display:inline-block;width:0px;height:3.995em\"></span></span><span style=\"position:absolute;top:-3.887em;left:0em\"><span id=\"MathJax-Span-84\" class=\"mtext\" style=\"font-size:50%;font-family:STIXGeneral-Regular\">200</span><span style=\"display:inline-block;width:0px;height:3.995em\"></span></span></span></span></span></span><span style=\"display:inline-block;width:0px;height:3.995em\"></span></span></span></span><span id=\"MathJax-Span-85\" class=\"mo\" style=\"font-family:STIXGeneral-Regular;padding-left:0.314em\">=</span><span id=\"MathJax-Span-86\" class=\"mn\" style=\"font-family:STIXGeneral-Regular;padding-left:0.314em\">0</span></span><span style=\"display:inline-block;width:0px;height:2.224em\"></span></span></span><span style=\"display:inline-block;overflow:hidden;vertical-align:-0.373em;border-left:0px solid;width:0px;height:1.21em\"></span></span><span class=\"MJX_Assistive_MathML\" role=\"presentation\">$H_{0}:\\mu_{_{\\text{4000}}} - \\mu_{_{\\text{200}}} = 0$</span></span></span>. Use of `t.test()` is not permitted.\n",
        "\n",
        "### Make sure to report:\n",
        "\n",
        "-   the test statistic\n",
        "-   p-value\n",
        "-   whether your reject or fail to reject the <span\n",
        "    class=\"math inline\"><span class=\"MathJax_Preview\"\n",
        "    style=\"color:inherit;display:none\"></span><span\n",
        "    id=\"MathJax-Element-9-Frame\" class=\"MathJax\" tabindex=\"0\"\n",
        "    style=\"position:relative\"\n",
        "    mathml=\"&lt;math xmlns=&quot;http://www.w3.org/1998/Math/MathML&quot;&gt;&lt;msub&gt;&lt;mi&gt;H&lt;/mi&gt;&lt;mn&gt;0&lt;/mn&gt;&lt;/msub&gt;&lt;/math&gt;\"\n",
        "    role=\"presentation\"><span id=\"MathJax-Span-87\" class=\"math\"\n",
        "    style=\"width:1.372em;display:inline-block\"><span\n",
        "    style=\"display:inline-block;position:relative;width:1.134em;height:0px;font-size:120%\"><span\n",
        "    style=\"position:absolute;clip:rect(1.372em,1001.13em,2.562em,-999.997em);top:-2.199em;left:0em\"><span\n",
        "    id=\"MathJax-Span-88\" class=\"mrow\"><span id=\"MathJax-Span-89\"\n",
        "    class=\"msubsup\"><span\n",
        "    style=\"display:inline-block;position:relative;width:1.134em;height:0px\"><span\n",
        "    style=\"position:absolute;clip:rect(3.158em,1000.78em,4.17em,-999.997em);top:-3.985em;left:0em\"><span\n",
        "    id=\"MathJax-Span-90\" class=\"mi\"\n",
        "    style=\"font-family:STIXGeneral-Italic\">H<span\n",
        "    style=\"display:inline-block;overflow:hidden;height:1px;width:0.063em\"></span></span><span\n",
        "    style=\"display:inline-block;width:0px;height:3.991em\"></span></span><span\n",
        "    style=\"position:absolute;top:-3.807em;left:0.717em\"><span\n",
        "    id=\"MathJax-Span-91\" class=\"mn\"\n",
        "    style=\"font-size:70.7%;font-family:STIXGeneral-Regular\">0</span><span\n",
        "    style=\"display:inline-block;width:0px;height:3.991em\"></span></span></span></span></span><span\n",
        "    style=\"display:inline-block;width:0px;height:2.205em\"></span></span></span><span\n",
        "    style=\"display:inline-block;overflow:hidden;vertical-align:-0.282em;border-left:0px solid;width:0px;height:1.146em\"></span></span><span\n",
        "    class=\"MJX_Assistive_MathML\"\n",
        "    role=\"presentation\">$H_{0}$</span></span></span>\n",
        "\n",
        "  \n"
      ],
      "metadata": {
        "id": "mPc_XGZbZGbP"
      },
      "id": "mPc_XGZbZGbP"
    },
    {
      "cell_type": "markdown",
      "source": [
        "## Question 13:\n",
        "\n",
        "### A researcher states their null hypothesis about the skull data as <span class=\"math inline\"><span class=\"MathJax_Preview\" style=\"color:inherit;display:none\"></span><span id=\"MathJax-Element-10-Frame\" class=\"MathJax\" tabindex=\"0\" style=\"position:relative\" mathml=\"&lt;math xmlns=&quot;http://www.w3.org/1998/Math/MathML&quot;&gt;&lt;msub&gt;&lt;mi&gt;H&lt;/mi&gt;&lt;mn&gt;0&lt;/mn&gt;&lt;/msub&gt;&lt;mo&gt;:&lt;/mo&gt;&lt;msub&gt;&lt;mi&gt;&amp;#x03BC;&lt;/mi&gt;&lt;mrow class=&quot;MJX-TeXAtom-ORD&quot;&gt;&lt;msub&gt;&lt;mi&gt;&lt;/mi&gt;&lt;mtext&gt;4000&lt;/mtext&gt;&lt;/msub&gt;&lt;/mrow&gt;&lt;/msub&gt;&lt;mo&gt;&amp;lt;&lt;/mo&gt;&lt;msub&gt;&lt;mi&gt;&amp;#x03BC;&lt;/mi&gt;&lt;mrow class=&quot;MJX-TeXAtom-ORD&quot;&gt;&lt;msub&gt;&lt;mi&gt;&lt;/mi&gt;&lt;mtext&gt;200&lt;/mtext&gt;&lt;/msub&gt;&lt;/mrow&gt;&lt;/msub&gt;&lt;/math&gt;\" role=\"presentation\"><span id=\"MathJax-Span-92\" class=\"math\" style=\"width:7.641em;display:inline-block\"><span style=\"display:inline-block;position:relative;width:6.356em;height:0px;font-size:120%\"><span style=\"position:absolute;clip:rect(1.46em,1006.36em,2.606em,-999.998em);top:-2.22em;left:0em\"><span id=\"MathJax-Span-93\" class=\"mrow\"><span id=\"MathJax-Span-94\" class=\"msubsup\"><span style=\"display:inline-block;position:relative;width:1.148em;height:0px\"><span style=\"position:absolute;clip:rect(3.231em,1000.77em,4.099em,-999.998em);top:-3.991em;left:0em\"><span id=\"MathJax-Span-95\" class=\"mi\" style=\"font-family:STIXGeneral-Italic\">H<span style=\"display:inline-block;overflow:hidden;height:1px;width:0.036em\"></span></span><span style=\"display:inline-block;width:0px;height:3.995em\"></span></span><span style=\"position:absolute;top:-3.852em;left:0.731em\"><span id=\"MathJax-Span-96\" class=\"mn\" style=\"font-size:70.7%;font-family:STIXGeneral-Regular\">0</span><span style=\"display:inline-block;width:0px;height:3.995em\"></span></span></span></span><span id=\"MathJax-Span-97\" class=\"mo\" style=\"font-family:STIXGeneral-Regular;padding-left:0.314em\">:</span><span id=\"MathJax-Span-98\" class=\"msubsup\" style=\"padding-left:0.314em\"><span style=\"display:inline-block;position:relative;width:1.668em;height:0px\"><span style=\"position:absolute;clip:rect(3.474em,1000.49em,4.307em,-999.998em);top:-3.991em;left:0em\"><span id=\"MathJax-Span-99\" class=\"mi\" style=\"font-family:STIXGeneral-Italic\">μ</span><span style=\"display:inline-block;width:0px;height:3.995em\"></span></span><span style=\"position:absolute;top:-3.852em;left:0.523em\"><span id=\"MathJax-Span-100\" class=\"texatom\"><span id=\"MathJax-Span-101\" class=\"mrow\"><span id=\"MathJax-Span-102\" class=\"msubsup\"><span style=\"display:inline-block;position:relative;width:1.043em;height:0px\"><span style=\"position:absolute;clip:rect(3.891em,1000em,4.099em,-999.998em);top:-3.991em;left:0em\"><span id=\"MathJax-Span-103\" class=\"mi\" style=\"font-size:70.7%\"></span><span style=\"display:inline-block;width:0px;height:3.995em\"></span></span><span style=\"position:absolute;top:-3.887em;left:0em\"><span id=\"MathJax-Span-104\" class=\"mtext\" style=\"font-size:50%;font-family:STIXGeneral-Regular\">4000</span><span style=\"display:inline-block;width:0px;height:3.995em\"></span></span></span></span></span></span><span style=\"display:inline-block;width:0px;height:3.995em\"></span></span></span></span><span id=\"MathJax-Span-105\" class=\"mo\" style=\"font-family:STIXGeneral-Regular;padding-left:0.314em\">\\<</span><span id=\"MathJax-Span-106\" class=\"msubsup\" style=\"padding-left:0.314em\"><span style=\"display:inline-block;position:relative;width:1.391em;height:0px\"><span style=\"position:absolute;clip:rect(3.474em,1000.49em,4.307em,-999.998em);top:-3.991em;left:0em\"><span id=\"MathJax-Span-107\" class=\"mi\" style=\"font-family:STIXGeneral-Italic\">μ</span><span style=\"display:inline-block;width:0px;height:3.995em\"></span></span><span style=\"position:absolute;top:-3.852em;left:0.523em\"><span id=\"MathJax-Span-108\" class=\"texatom\"><span id=\"MathJax-Span-109\" class=\"mrow\"><span id=\"MathJax-Span-110\" class=\"msubsup\"><span style=\"display:inline-block;position:relative;width:0.8em;height:0px\"><span style=\"position:absolute;clip:rect(3.891em,1000em,4.099em,-999.998em);top:-3.991em;left:0em\"><span id=\"MathJax-Span-111\" class=\"mi\" style=\"font-size:70.7%\"></span><span style=\"display:inline-block;width:0px;height:3.995em\"></span></span><span style=\"position:absolute;top:-3.887em;left:0em\"><span id=\"MathJax-Span-112\" class=\"mtext\" style=\"font-size:50%;font-family:STIXGeneral-Regular\">200</span><span style=\"display:inline-block;width:0px;height:3.995em\"></span></span></span></span></span></span><span style=\"display:inline-block;width:0px;height:3.995em\"></span></span></span></span></span><span style=\"display:inline-block;width:0px;height:2.224em\"></span></span></span><span style=\"display:inline-block;overflow:hidden;vertical-align:-0.373em;border-left:0px solid;width:0px;height:1.169em\"></span></span><span class=\"MJX_Assistive_MathML\" role=\"presentation\">$H_{0}:\\mu_{_{\\text{4000}}} < \\mu_{_{\\text{200}}}$</span></span></span>.\n",
        "\n",
        "### Another way of expressing this is by writing: <span class=\"math inline\"><span class=\"MathJax_Preview\" style=\"color:inherit;display:none\"></span><span id=\"MathJax-Element-11-Frame\" class=\"MathJax\" tabindex=\"0\" style=\"position:relative\" mathml=\"&lt;math xmlns=&quot;http://www.w3.org/1998/Math/MathML&quot;&gt;&lt;msub&gt;&lt;mi&gt;H&lt;/mi&gt;&lt;mn&gt;0&lt;/mn&gt;&lt;/msub&gt;&lt;mo&gt;:&lt;/mo&gt;&lt;msub&gt;&lt;mi&gt;&amp;#x03BC;&lt;/mi&gt;&lt;mrow class=&quot;MJX-TeXAtom-ORD&quot;&gt;&lt;msub&gt;&lt;mi&gt;&lt;/mi&gt;&lt;mtext&gt;4000&lt;/mtext&gt;&lt;/msub&gt;&lt;/mrow&gt;&lt;/msub&gt;&lt;mo&gt;&amp;#x2212;&lt;/mo&gt;&lt;msub&gt;&lt;mi&gt;&amp;#x03BC;&lt;/mi&gt;&lt;mrow class=&quot;MJX-TeXAtom-ORD&quot;&gt;&lt;msub&gt;&lt;mi&gt;&lt;/mi&gt;&lt;mtext&gt;200&lt;/mtext&gt;&lt;/msub&gt;&lt;/mrow&gt;&lt;/msub&gt;&lt;mo&gt;&amp;lt;&lt;/mo&gt;&lt;mn&gt;0&lt;/mn&gt;&lt;/math&gt;\" role=\"presentation\"><span id=\"MathJax-Span-113\" class=\"math\" style=\"width:9.585em;display:inline-block\"><span style=\"display:inline-block;position:relative;width:7.988em;height:0px;font-size:120%\"><span style=\"position:absolute;clip:rect(1.46em,1007.95em,2.606em,-999.998em);top:-2.22em;left:0em\"><span id=\"MathJax-Span-114\" class=\"mrow\"><span id=\"MathJax-Span-115\" class=\"msubsup\"><span style=\"display:inline-block;position:relative;width:1.148em;height:0px\"><span style=\"position:absolute;clip:rect(3.231em,1000.77em,4.099em,-999.998em);top:-3.991em;left:0em\"><span id=\"MathJax-Span-116\" class=\"mi\" style=\"font-family:STIXGeneral-Italic\">H<span style=\"display:inline-block;overflow:hidden;height:1px;width:0.036em\"></span></span><span style=\"display:inline-block;width:0px;height:3.995em\"></span></span><span style=\"position:absolute;top:-3.852em;left:0.731em\"><span id=\"MathJax-Span-117\" class=\"mn\" style=\"font-size:70.7%;font-family:STIXGeneral-Regular\">0</span><span style=\"display:inline-block;width:0px;height:3.995em\"></span></span></span></span><span id=\"MathJax-Span-118\" class=\"mo\" style=\"font-family:STIXGeneral-Regular;padding-left:0.314em\">:</span><span id=\"MathJax-Span-119\" class=\"msubsup\" style=\"padding-left:0.314em\"><span style=\"display:inline-block;position:relative;width:1.668em;height:0px\"><span style=\"position:absolute;clip:rect(3.474em,1000.49em,4.307em,-999.998em);top:-3.991em;left:0em\"><span id=\"MathJax-Span-120\" class=\"mi\" style=\"font-family:STIXGeneral-Italic\">μ</span><span style=\"display:inline-block;width:0px;height:3.995em\"></span></span><span style=\"position:absolute;top:-3.852em;left:0.523em\"><span id=\"MathJax-Span-121\" class=\"texatom\"><span id=\"MathJax-Span-122\" class=\"mrow\"><span id=\"MathJax-Span-123\" class=\"msubsup\"><span style=\"display:inline-block;position:relative;width:1.043em;height:0px\"><span style=\"position:absolute;clip:rect(3.891em,1000em,4.099em,-999.998em);top:-3.991em;left:0em\"><span id=\"MathJax-Span-124\" class=\"mi\" style=\"font-size:70.7%\"></span><span style=\"display:inline-block;width:0px;height:3.995em\"></span></span><span style=\"position:absolute;top:-3.887em;left:0em\"><span id=\"MathJax-Span-125\" class=\"mtext\" style=\"font-size:50%;font-family:STIXGeneral-Regular\">4000</span><span style=\"display:inline-block;width:0px;height:3.995em\"></span></span></span></span></span></span><span style=\"display:inline-block;width:0px;height:3.995em\"></span></span></span></span><span id=\"MathJax-Span-126\" class=\"mo\" style=\"font-family:STIXGeneral-Regular;padding-left:0.245em\">−</span><span id=\"MathJax-Span-127\" class=\"msubsup\" style=\"padding-left:0.245em\"><span style=\"display:inline-block;position:relative;width:1.391em;height:0px\"><span style=\"position:absolute;clip:rect(3.474em,1000.49em,4.307em,-999.998em);top:-3.991em;left:0em\"><span id=\"MathJax-Span-128\" class=\"mi\" style=\"font-family:STIXGeneral-Italic\">μ</span><span style=\"display:inline-block;width:0px;height:3.995em\"></span></span><span style=\"position:absolute;top:-3.852em;left:0.523em\"><span id=\"MathJax-Span-129\" class=\"texatom\"><span id=\"MathJax-Span-130\" class=\"mrow\"><span id=\"MathJax-Span-131\" class=\"msubsup\"><span style=\"display:inline-block;position:relative;width:0.8em;height:0px\"><span style=\"position:absolute;clip:rect(3.891em,1000em,4.099em,-999.998em);top:-3.991em;left:0em\"><span id=\"MathJax-Span-132\" class=\"mi\" style=\"font-size:70.7%\"></span><span style=\"display:inline-block;width:0px;height:3.995em\"></span></span><span style=\"position:absolute;top:-3.887em;left:0em\"><span id=\"MathJax-Span-133\" class=\"mtext\" style=\"font-size:50%;font-family:STIXGeneral-Regular\">200</span><span style=\"display:inline-block;width:0px;height:3.995em\"></span></span></span></span></span></span><span style=\"display:inline-block;width:0px;height:3.995em\"></span></span></span></span><span id=\"MathJax-Span-134\" class=\"mo\" style=\"font-family:STIXGeneral-Regular;padding-left:0.314em\">\\<</span><span id=\"MathJax-Span-135\" class=\"mn\" style=\"font-family:STIXGeneral-Regular;padding-left:0.314em\">0</span></span><span style=\"display:inline-block;width:0px;height:2.224em\"></span></span></span><span style=\"display:inline-block;overflow:hidden;vertical-align:-0.373em;border-left:0px solid;width:0px;height:1.21em\"></span></span><span class=\"MJX_Assistive_MathML\" role=\"presentation\">$H_{0}:\\mu_{_{\\text{4000}}} - \\mu_{_{\\text{200}}} < 0$</span></span></span>.\n",
        "\n",
        "### Given the null hypothesis being expressed, answer the following questions:\n",
        "\n",
        "  \n",
        "\n",
        "#### a. Is this a one or two-tailed hypothesis?\n",
        "\n",
        "  \n",
        "\n",
        "#### b. How would you interpret this hypothesis in plain English?\n",
        "\n",
        "  \n",
        "\n",
        "#### c. In which tail is the critical region located for this hypothesis?\n",
        "\n",
        "  \n",
        "\n",
        "#### d. Given what you said in “c.”, which direction should a p-value be calculated? *Left to right* OR *right to left*?\n",
        "\n",
        "  \n",
        "\n",
        "#### e. There are two other mathematically equivalent ways of writing the null hypothesis here. What are they? Your answer should take the form of “<span class=\"math inline\"><span class=\"MathJax_Preview\" style=\"color:inherit;display:none\"></span><span id=\"MathJax-Element-12-Frame\" class=\"MathJax\" tabindex=\"0\" style=\"position:relative\" mathml=\"&lt;math xmlns=&quot;http://www.w3.org/1998/Math/MathML&quot;&gt;&lt;msub&gt;&lt;mi&gt;H&lt;/mi&gt;&lt;mn&gt;0&lt;/mn&gt;&lt;/msub&gt;&lt;mo&gt;:&lt;/mo&gt;&lt;/math&gt;\" role=\"presentation\"><span id=\"MathJax-Span-136\" class=\"math\" style=\"width:2.132em;display:inline-block\"><span style=\"display:inline-block;position:relative;width:1.762em;height:0px;font-size:120%\"><span style=\"position:absolute;clip:rect(1.438em,1001.67em,2.502em,-999.998em);top:-2.22em;left:0em\"><span id=\"MathJax-Span-137\" class=\"mrow\"><span id=\"MathJax-Span-138\" class=\"msubsup\"><span style=\"display:inline-block;position:relative;width:1.16em;height:0px\"><span style=\"position:absolute;clip:rect(3.197em,1000.79em,4.123em,-999.998em);top:-3.979em;left:0em\"><span id=\"MathJax-Span-139\" class=\"mi\" style=\"font-family:STIXGeneral-Italic\">H<span style=\"display:inline-block;overflow:hidden;height:1px;width:0.049em\"></span></span><span style=\"display:inline-block;width:0px;height:3.984em\"></span></span><span style=\"position:absolute;top:-3.84em;left:0.743em\"><span id=\"MathJax-Span-140\" class=\"mn\" style=\"font-size:70.7%;font-family:STIXGeneral-Regular\">0</span><span style=\"display:inline-block;width:0px;height:3.984em\"></span></span></span></span><span id=\"MathJax-Span-141\" class=\"mo\" style=\"font-family:STIXGeneral-Regular;padding-left:0.326em\">:</span></span><span style=\"display:inline-block;width:0px;height:2.225em\"></span></span></span><span style=\"display:inline-block;overflow:hidden;vertical-align:-0.219em;border-left:0px solid;width:0px;height:1.114em\"></span></span><span class=\"MJX_Assistive_MathML\" role=\"presentation\">$H_{0}:$</span></span></span>\\_\\_\\_\\_\\_\\_\\_\\_”.\n",
        "\n",
        "  \n"
      ],
      "metadata": {
        "id": "8n1I1jsyZHkI"
      },
      "id": "8n1I1jsyZHkI"
    },
    {
      "cell_type": "markdown",
      "source": [
        "## Question 14:\n",
        "\n",
        "### Test <span class=\"math inline\"><span class=\"MathJax_Preview\" style=\"color:inherit;display:none\"></span><span id=\"MathJax-Element-13-Frame\" class=\"MathJax\" tabindex=\"0\" style=\"position:relative\" mathml=\"&lt;math xmlns=&quot;http://www.w3.org/1998/Math/MathML&quot;&gt;&lt;msub&gt;&lt;mi&gt;H&lt;/mi&gt;&lt;mn&gt;0&lt;/mn&gt;&lt;/msub&gt;&lt;mo&gt;:&lt;/mo&gt;&lt;msub&gt;&lt;mi&gt;&amp;#x03BC;&lt;/mi&gt;&lt;mrow class=&quot;MJX-TeXAtom-ORD&quot;&gt;&lt;msub&gt;&lt;mi&gt;&lt;/mi&gt;&lt;mtext&gt;4000&lt;/mtext&gt;&lt;/msub&gt;&lt;/mrow&gt;&lt;/msub&gt;&lt;mo&gt;&amp;#x2212;&lt;/mo&gt;&lt;msub&gt;&lt;mi&gt;&amp;#x03BC;&lt;/mi&gt;&lt;mrow class=&quot;MJX-TeXAtom-ORD&quot;&gt;&lt;msub&gt;&lt;mi&gt;&lt;/mi&gt;&lt;mtext&gt;200&lt;/mtext&gt;&lt;/msub&gt;&lt;/mrow&gt;&lt;/msub&gt;&lt;mo&gt;&amp;lt;&lt;/mo&gt;&lt;mn&gt;0&lt;/mn&gt;&lt;/math&gt;\" role=\"presentation\"><span id=\"MathJax-Span-142\" class=\"math\" style=\"width:9.585em;display:inline-block\"><span style=\"display:inline-block;position:relative;width:7.988em;height:0px;font-size:120%\"><span style=\"position:absolute;clip:rect(1.46em,1007.95em,2.606em,-999.998em);top:-2.22em;left:0em\"><span id=\"MathJax-Span-143\" class=\"mrow\"><span id=\"MathJax-Span-144\" class=\"msubsup\"><span style=\"display:inline-block;position:relative;width:1.148em;height:0px\"><span style=\"position:absolute;clip:rect(3.231em,1000.77em,4.099em,-999.998em);top:-3.991em;left:0em\"><span id=\"MathJax-Span-145\" class=\"mi\" style=\"font-family:STIXGeneral-Italic\">H<span style=\"display:inline-block;overflow:hidden;height:1px;width:0.036em\"></span></span><span style=\"display:inline-block;width:0px;height:3.995em\"></span></span><span style=\"position:absolute;top:-3.852em;left:0.731em\"><span id=\"MathJax-Span-146\" class=\"mn\" style=\"font-size:70.7%;font-family:STIXGeneral-Regular\">0</span><span style=\"display:inline-block;width:0px;height:3.995em\"></span></span></span></span><span id=\"MathJax-Span-147\" class=\"mo\" style=\"font-family:STIXGeneral-Regular;padding-left:0.314em\">:</span><span id=\"MathJax-Span-148\" class=\"msubsup\" style=\"padding-left:0.314em\"><span style=\"display:inline-block;position:relative;width:1.668em;height:0px\"><span style=\"position:absolute;clip:rect(3.474em,1000.49em,4.307em,-999.998em);top:-3.991em;left:0em\"><span id=\"MathJax-Span-149\" class=\"mi\" style=\"font-family:STIXGeneral-Italic\">μ</span><span style=\"display:inline-block;width:0px;height:3.995em\"></span></span><span style=\"position:absolute;top:-3.852em;left:0.523em\"><span id=\"MathJax-Span-150\" class=\"texatom\"><span id=\"MathJax-Span-151\" class=\"mrow\"><span id=\"MathJax-Span-152\" class=\"msubsup\"><span style=\"display:inline-block;position:relative;width:1.043em;height:0px\"><span style=\"position:absolute;clip:rect(3.891em,1000em,4.099em,-999.998em);top:-3.991em;left:0em\"><span id=\"MathJax-Span-153\" class=\"mi\" style=\"font-size:70.7%\"></span><span style=\"display:inline-block;width:0px;height:3.995em\"></span></span><span style=\"position:absolute;top:-3.887em;left:0em\"><span id=\"MathJax-Span-154\" class=\"mtext\" style=\"font-size:50%;font-family:STIXGeneral-Regular\">4000</span><span style=\"display:inline-block;width:0px;height:3.995em\"></span></span></span></span></span></span><span style=\"display:inline-block;width:0px;height:3.995em\"></span></span></span></span><span id=\"MathJax-Span-155\" class=\"mo\" style=\"font-family:STIXGeneral-Regular;padding-left:0.245em\">−</span><span id=\"MathJax-Span-156\" class=\"msubsup\" style=\"padding-left:0.245em\"><span style=\"display:inline-block;position:relative;width:1.391em;height:0px\"><span style=\"position:absolute;clip:rect(3.474em,1000.49em,4.307em,-999.998em);top:-3.991em;left:0em\"><span id=\"MathJax-Span-157\" class=\"mi\" style=\"font-family:STIXGeneral-Italic\">μ</span><span style=\"display:inline-block;width:0px;height:3.995em\"></span></span><span style=\"position:absolute;top:-3.852em;left:0.523em\"><span id=\"MathJax-Span-158\" class=\"texatom\"><span id=\"MathJax-Span-159\" class=\"mrow\"><span id=\"MathJax-Span-160\" class=\"msubsup\"><span style=\"display:inline-block;position:relative;width:0.8em;height:0px\"><span style=\"position:absolute;clip:rect(3.891em,1000em,4.099em,-999.998em);top:-3.991em;left:0em\"><span id=\"MathJax-Span-161\" class=\"mi\" style=\"font-size:70.7%\"></span><span style=\"display:inline-block;width:0px;height:3.995em\"></span></span><span style=\"position:absolute;top:-3.887em;left:0em\"><span id=\"MathJax-Span-162\" class=\"mtext\" style=\"font-size:50%;font-family:STIXGeneral-Regular\">200</span><span style=\"display:inline-block;width:0px;height:3.995em\"></span></span></span></span></span></span><span style=\"display:inline-block;width:0px;height:3.995em\"></span></span></span></span><span id=\"MathJax-Span-163\" class=\"mo\" style=\"font-family:STIXGeneral-Regular;padding-left:0.314em\">\\<</span><span id=\"MathJax-Span-164\" class=\"mn\" style=\"font-family:STIXGeneral-Regular;padding-left:0.314em\">0</span></span><span style=\"display:inline-block;width:0px;height:2.224em\"></span></span></span><span style=\"display:inline-block;overflow:hidden;vertical-align:-0.373em;border-left:0px solid;width:0px;height:1.21em\"></span></span><span class=\"MJX_Assistive_MathML\" role=\"presentation\">$H_{0}:\\mu_{_{\\text{4000}}} - \\mu_{_{\\text{200}}} < 0$</span></span></span> or an equivalent version of it. Report the p-value and whether you reject the null hypothesis. Use of `t.test()` is not permitted.\n",
        "\n",
        "  \n"
      ],
      "metadata": {
        "id": "lO-drtbKZLuK"
      },
      "id": "lO-drtbKZLuK"
    },
    {
      "cell_type": "markdown",
      "source": [
        "## Question 15:\n",
        "\n",
        "### Create a barplot of the means for the Skull data. Give each bar 95% confidence intervals as the errorbars. Have the y-axis go from 100 to 140.\n",
        "\n",
        "  "
      ],
      "metadata": {
        "id": "KhO-ZJWwZNNi"
      },
      "id": "KhO-ZJWwZNNi"
    },
    {
      "cell_type": "markdown",
      "source": [
        "## Question 16:\n",
        "\n",
        "### Suppose that the summary stats of your groundbreaking research are . . .\n",
        "\n",
        "## <span class=\"math inline\"><span class=\"MathJax_Preview\" style=\"color:inherit;display:none\"></span><span id=\"MathJax-Element-14-Frame\" class=\"MathJax\" tabindex=\"0\" style=\"position:relative\" mathml=\"&lt;math xmlns=&quot;http://www.w3.org/1998/Math/MathML&quot;&gt;&lt;msub&gt;&lt;mrow class=&quot;MJX-TeXAtom-ORD&quot;&gt;&lt;mover&gt;&lt;mi&gt;x&lt;/mi&gt;&lt;mo stretchy=&quot;false&quot;&gt;&amp;#x00AF;&lt;/mo&gt;&lt;/mover&gt;&lt;/mrow&gt;&lt;mn&gt;1&lt;/mn&gt;&lt;/msub&gt;&lt;mo&gt;=&lt;/mo&gt;&lt;mn&gt;15&lt;/mn&gt;&lt;/math&gt;\" role=\"presentation\"><span id=\"MathJax-Span-165\" class=\"math\" style=\"width:3.89em;display:inline-block\"><span style=\"display:inline-block;position:relative;width:3.224em;height:0px;font-size:120%\"><span style=\"position:absolute;clip:rect(1.418em,1003.17em,2.418em,-999.999em);top:-2.193em;left:0em\"><span id=\"MathJax-Span-166\" class=\"mrow\"><span id=\"MathJax-Span-167\" class=\"msubsup\"><span style=\"display:inline-block;position:relative;width:0.89em;height:0px\"><span style=\"position:absolute;clip:rect(3.362em,1000.45em,4.085em,-999.999em);top:-3.999em;left:0em\"><span id=\"MathJax-Span-168\" class=\"texatom\"><span id=\"MathJax-Span-169\" class=\"mrow\"><span id=\"MathJax-Span-170\" class=\"munderover\"><span style=\"display:inline-block;position:relative;width:0.446em;height:0px\"><span style=\"position:absolute;clip:rect(3.474em,1000.45em,4.085em,-999.999em);top:-3.999em;left:0em\"><span id=\"MathJax-Span-171\" class=\"mi\" style=\"font-family:STIXGeneral-Italic\">x<span style=\"display:inline-block;overflow:hidden;height:1px;width:0.001em\"></span></span><span style=\"display:inline-block;width:0px;height:4.001em\"></span></span><span style=\"position:absolute;clip:rect(3.307em,1000.34em,3.529em,-999.999em);top:-3.971em;left:0.085em\"><span id=\"MathJax-Span-172\" class=\"mo\" style=\"font-family:STIXGeneral-Regular\">¯</span><span style=\"display:inline-block;width:0px;height:4.001em\"></span></span></span></span></span></span><span style=\"display:inline-block;width:0px;height:4.001em\"></span></span><span style=\"position:absolute;top:-3.86em;left:0.446em\"><span id=\"MathJax-Span-173\" class=\"mn\" style=\"font-size:70.7%;font-family:STIXGeneral-Regular\">1</span><span style=\"display:inline-block;width:0px;height:4.001em\"></span></span></span></span><span id=\"MathJax-Span-174\" class=\"mo\" style=\"font-family:STIXGeneral-Regular;padding-left:0.307em\">=</span><span id=\"MathJax-Span-175\" class=\"mn\" style=\"font-family:STIXGeneral-Regular;padding-left:0.307em\">15</span></span><span style=\"display:inline-block;width:0px;height:2.196em\"></span></span></span><span style=\"display:inline-block;overflow:hidden;vertical-align:-0.198em;border-left:0px solid;width:0px;height:1.068em\"></span></span><span class=\"MJX_Assistive_MathML\" role=\"presentation\">${\\overline{x}}_{1} = 15$</span></span></span>\n",
        "\n",
        "## <span class=\"math inline\"><span class=\"MathJax_Preview\" style=\"color:inherit;display:none\"></span><span id=\"MathJax-Element-15-Frame\" class=\"MathJax\" tabindex=\"0\" style=\"position:relative\" mathml=\"&lt;math xmlns=&quot;http://www.w3.org/1998/Math/MathML&quot;&gt;&lt;msub&gt;&lt;mrow class=&quot;MJX-TeXAtom-ORD&quot;&gt;&lt;mover&gt;&lt;mi&gt;x&lt;/mi&gt;&lt;mo stretchy=&quot;false&quot;&gt;&amp;#x00AF;&lt;/mo&gt;&lt;/mover&gt;&lt;/mrow&gt;&lt;mn&gt;2&lt;/mn&gt;&lt;/msub&gt;&lt;mo&gt;=&lt;/mo&gt;&lt;mn&gt;12&lt;/mn&gt;&lt;/math&gt;\" role=\"presentation\"><span id=\"MathJax-Span-176\" class=\"math\" style=\"width:3.89em;display:inline-block\"><span style=\"display:inline-block;position:relative;width:3.224em;height:0px;font-size:120%\"><span style=\"position:absolute;clip:rect(1.446em,1003.2em,2.418em,-999.999em);top:-2.193em;left:0em\"><span id=\"MathJax-Span-177\" class=\"mrow\"><span id=\"MathJax-Span-178\" class=\"msubsup\"><span style=\"display:inline-block;position:relative;width:0.89em;height:0px\"><span style=\"position:absolute;clip:rect(3.362em,1000.45em,4.085em,-999.999em);top:-3.999em;left:0em\"><span id=\"MathJax-Span-179\" class=\"texatom\"><span id=\"MathJax-Span-180\" class=\"mrow\"><span id=\"MathJax-Span-181\" class=\"munderover\"><span style=\"display:inline-block;position:relative;width:0.446em;height:0px\"><span style=\"position:absolute;clip:rect(3.474em,1000.45em,4.085em,-999.999em);top:-3.999em;left:0em\"><span id=\"MathJax-Span-182\" class=\"mi\" style=\"font-family:STIXGeneral-Italic\">x<span style=\"display:inline-block;overflow:hidden;height:1px;width:0.001em\"></span></span><span style=\"display:inline-block;width:0px;height:4.001em\"></span></span><span style=\"position:absolute;clip:rect(3.307em,1000.34em,3.529em,-999.999em);top:-3.971em;left:0.085em\"><span id=\"MathJax-Span-183\" class=\"mo\" style=\"font-family:STIXGeneral-Regular\">¯</span><span style=\"display:inline-block;width:0px;height:4.001em\"></span></span></span></span></span></span><span style=\"display:inline-block;width:0px;height:4.001em\"></span></span><span style=\"position:absolute;top:-3.86em;left:0.446em\"><span id=\"MathJax-Span-184\" class=\"mn\" style=\"font-size:70.7%;font-family:STIXGeneral-Regular\">2</span><span style=\"display:inline-block;width:0px;height:4.001em\"></span></span></span></span><span id=\"MathJax-Span-185\" class=\"mo\" style=\"font-family:STIXGeneral-Regular;padding-left:0.307em\">=</span><span id=\"MathJax-Span-186\" class=\"mn\" style=\"font-family:STIXGeneral-Regular;padding-left:0.307em\">12</span></span><span style=\"display:inline-block;width:0px;height:2.196em\"></span></span></span><span style=\"display:inline-block;overflow:hidden;vertical-align:-0.198em;border-left:0px solid;width:0px;height:1.068em\"></span></span><span class=\"MJX_Assistive_MathML\" role=\"presentation\">${\\overline{x}}_{2} = 12$</span></span></span>\n",
        "\n",
        "## <span class=\"math inline\"><span class=\"MathJax_Preview\" style=\"color:inherit;display:none\"></span><span id=\"MathJax-Element-16-Frame\" class=\"MathJax\" tabindex=\"0\" style=\"position:relative\" mathml=\"&lt;math xmlns=&quot;http://www.w3.org/1998/Math/MathML&quot;&gt;&lt;msubsup&gt;&lt;mi&gt;s&lt;/mi&gt;&lt;mn&gt;1&lt;/mn&gt;&lt;mn&gt;2&lt;/mn&gt;&lt;/msubsup&gt;&lt;mo&gt;=&lt;/mo&gt;&lt;mn&gt;8&lt;/mn&gt;&lt;/math&gt;\" role=\"presentation\"><span id=\"MathJax-Span-187\" class=\"math\" style=\"width:3.112em;display:inline-block\"><span style=\"display:inline-block;position:relative;width:2.585em;height:0px;font-size:120%\"><span style=\"position:absolute;clip:rect(1.279em,1002.53em,2.585em,-999.999em);top:-2.193em;left:0em\"><span id=\"MathJax-Span-188\" class=\"mrow\"><span id=\"MathJax-Span-189\" class=\"msubsup\"><span style=\"display:inline-block;position:relative;width:0.807em;height:0px\"><span style=\"position:absolute;clip:rect(3.474em,1000.36em,4.085em,-999.999em);top:-3.999em;left:0em\"><span id=\"MathJax-Span-190\" class=\"mi\" style=\"font-family:STIXGeneral-Italic\">s</span><span style=\"display:inline-block;width:0px;height:4.001em\"></span></span><span style=\"position:absolute;clip:rect(3.446em,1000.42em,4.085em,-999.999em);top:-4.332em;left:0.39em\"><span id=\"MathJax-Span-191\" class=\"mn\" style=\"font-size:70.7%;font-family:STIXGeneral-Regular\">2</span><span style=\"display:inline-block;width:0px;height:4.001em\"></span></span><span style=\"position:absolute;clip:rect(3.446em,1000.42em,4.085em,-999.999em);top:-3.693em;left:0.39em\"><span id=\"MathJax-Span-192\" class=\"mn\" style=\"font-size:70.7%;font-family:STIXGeneral-Regular\">1</span><span style=\"display:inline-block;width:0px;height:4.001em\"></span></span></span></span><span id=\"MathJax-Span-193\" class=\"mo\" style=\"font-family:STIXGeneral-Regular;padding-left:0.307em\">=</span><span id=\"MathJax-Span-194\" class=\"mn\" style=\"font-family:STIXGeneral-Regular;padding-left:0.307em\">8</span></span><span style=\"display:inline-block;width:0px;height:2.196em\"></span></span></span><span style=\"display:inline-block;overflow:hidden;vertical-align:-0.398em;border-left:0px solid;width:0px;height:1.435em\"></span></span><span class=\"MJX_Assistive_MathML\" role=\"presentation\">$s_{1}^{2} = 8$</span></span></span>\n",
        "\n",
        "## <span class=\"math inline\"><span class=\"MathJax_Preview\" style=\"color:inherit;display:none\"></span><span id=\"MathJax-Element-17-Frame\" class=\"MathJax\" tabindex=\"0\" style=\"position:relative\" mathml=\"&lt;math xmlns=&quot;http://www.w3.org/1998/Math/MathML&quot;&gt;&lt;msubsup&gt;&lt;mi&gt;s&lt;/mi&gt;&lt;mn&gt;2&lt;/mn&gt;&lt;mn&gt;2&lt;/mn&gt;&lt;/msubsup&gt;&lt;mo&gt;=&lt;/mo&gt;&lt;mn&gt;24&lt;/mn&gt;&lt;/math&gt;\" role=\"presentation\"><span id=\"MathJax-Span-195\" class=\"math\" style=\"width:3.779em;display:inline-block\"><span style=\"display:inline-block;position:relative;width:3.14em;height:0px;font-size:120%\"><span style=\"position:absolute;clip:rect(1.279em,1003.11em,2.585em,-999.999em);top:-2.193em;left:0em\"><span id=\"MathJax-Span-196\" class=\"mrow\"><span id=\"MathJax-Span-197\" class=\"msubsup\"><span style=\"display:inline-block;position:relative;width:0.807em;height:0px\"><span style=\"position:absolute;clip:rect(3.474em,1000.36em,4.085em,-999.999em);top:-3.999em;left:0em\"><span id=\"MathJax-Span-198\" class=\"mi\" style=\"font-family:STIXGeneral-Italic\">s</span><span style=\"display:inline-block;width:0px;height:4.001em\"></span></span><span style=\"position:absolute;clip:rect(3.446em,1000.42em,4.085em,-999.999em);top:-4.332em;left:0.39em\"><span id=\"MathJax-Span-199\" class=\"mn\" style=\"font-size:70.7%;font-family:STIXGeneral-Regular\">2</span><span style=\"display:inline-block;width:0px;height:4.001em\"></span></span><span style=\"position:absolute;clip:rect(3.446em,1000.42em,4.085em,-999.999em);top:-3.693em;left:0.39em\"><span id=\"MathJax-Span-200\" class=\"mn\" style=\"font-size:70.7%;font-family:STIXGeneral-Regular\">2</span><span style=\"display:inline-block;width:0px;height:4.001em\"></span></span></span></span><span id=\"MathJax-Span-201\" class=\"mo\" style=\"font-family:STIXGeneral-Regular;padding-left:0.307em\">=</span><span id=\"MathJax-Span-202\" class=\"mn\" style=\"font-family:STIXGeneral-Regular;padding-left:0.307em\">24</span></span><span style=\"display:inline-block;width:0px;height:2.196em\"></span></span></span><span style=\"display:inline-block;overflow:hidden;vertical-align:-0.398em;border-left:0px solid;width:0px;height:1.435em\"></span></span><span class=\"MJX_Assistive_MathML\" role=\"presentation\">$s_{2}^{2} = 24$</span></span></span>\n",
        "\n",
        "## <span class=\"math inline\"><span class=\"MathJax_Preview\" style=\"color:inherit;display:none\"></span><span id=\"MathJax-Element-18-Frame\" class=\"MathJax\" tabindex=\"0\" style=\"position:relative\" mathml=\"&lt;math xmlns=&quot;http://www.w3.org/1998/Math/MathML&quot;&gt;&lt;msub&gt;&lt;mi&gt;n&lt;/mi&gt;&lt;mn&gt;1&lt;/mn&gt;&lt;/msub&gt;&lt;mo&gt;=&lt;/mo&gt;&lt;mn&gt;20&lt;/mn&gt;&lt;/math&gt;\" role=\"presentation\"><span id=\"MathJax-Span-203\" class=\"math\" style=\"width:3.918em;display:inline-block\"><span style=\"display:inline-block;position:relative;width:3.251em;height:0px;font-size:120%\"><span style=\"position:absolute;clip:rect(1.446em,1003.22em,2.418em,-999.999em);top:-2.193em;left:0em\"><span id=\"MathJax-Span-204\" class=\"mrow\"><span id=\"MathJax-Span-205\" class=\"msubsup\"><span style=\"display:inline-block;position:relative;width:0.918em;height:0px\"><span style=\"position:absolute;clip:rect(3.474em,1000.47em,4.085em,-999.999em);top:-3.999em;left:0em\"><span id=\"MathJax-Span-206\" class=\"mi\" style=\"font-family:STIXGeneral-Italic\">n</span><span style=\"display:inline-block;width:0px;height:4.001em\"></span></span><span style=\"position:absolute;top:-3.86em;left:0.501em\"><span id=\"MathJax-Span-207\" class=\"mn\" style=\"font-size:70.7%;font-family:STIXGeneral-Regular\">1</span><span style=\"display:inline-block;width:0px;height:4.001em\"></span></span></span></span><span id=\"MathJax-Span-208\" class=\"mo\" style=\"font-family:STIXGeneral-Regular;padding-left:0.307em\">=</span><span id=\"MathJax-Span-209\" class=\"mn\" style=\"font-family:STIXGeneral-Regular;padding-left:0.307em\">20</span></span><span style=\"display:inline-block;width:0px;height:2.196em\"></span></span></span><span style=\"display:inline-block;overflow:hidden;vertical-align:-0.198em;border-left:0px solid;width:0px;height:1.068em\"></span></span><span class=\"MJX_Assistive_MathML\" role=\"presentation\">$n_{1} = 20$</span></span></span>\n",
        "\n",
        "## <span class=\"math inline\"><span class=\"MathJax_Preview\" style=\"color:inherit;display:none\"></span><span id=\"MathJax-Element-19-Frame\" class=\"MathJax\" tabindex=\"0\" style=\"position:relative\" mathml=\"&lt;math xmlns=&quot;http://www.w3.org/1998/Math/MathML&quot;&gt;&lt;msub&gt;&lt;mi&gt;n&lt;/mi&gt;&lt;mn&gt;2&lt;/mn&gt;&lt;/msub&gt;&lt;mo&gt;=&lt;/mo&gt;&lt;mn&gt;10&lt;/mn&gt;&lt;/math&gt;\" role=\"presentation\"><span id=\"MathJax-Span-210\" class=\"math\" style=\"width:3.918em;display:inline-block\"><span style=\"display:inline-block;position:relative;width:3.251em;height:0px;font-size:120%\"><span style=\"position:absolute;clip:rect(1.446em,1003.22em,2.418em,-999.999em);top:-2.193em;left:0em\"><span id=\"MathJax-Span-211\" class=\"mrow\"><span id=\"MathJax-Span-212\" class=\"msubsup\"><span style=\"display:inline-block;position:relative;width:0.918em;height:0px\"><span style=\"position:absolute;clip:rect(3.474em,1000.47em,4.085em,-999.999em);top:-3.999em;left:0em\"><span id=\"MathJax-Span-213\" class=\"mi\" style=\"font-family:STIXGeneral-Italic\">n</span><span style=\"display:inline-block;width:0px;height:4.001em\"></span></span><span style=\"position:absolute;top:-3.86em;left:0.501em\"><span id=\"MathJax-Span-214\" class=\"mn\" style=\"font-size:70.7%;font-family:STIXGeneral-Regular\">2</span><span style=\"display:inline-block;width:0px;height:4.001em\"></span></span></span></span><span id=\"MathJax-Span-215\" class=\"mo\" style=\"font-family:STIXGeneral-Regular;padding-left:0.307em\">=</span><span id=\"MathJax-Span-216\" class=\"mn\" style=\"font-family:STIXGeneral-Regular;padding-left:0.307em\">10</span></span><span style=\"display:inline-block;width:0px;height:2.196em\"></span></span></span><span style=\"display:inline-block;overflow:hidden;vertical-align:-0.198em;border-left:0px solid;width:0px;height:1.068em\"></span></span><span class=\"MJX_Assistive_MathML\" role=\"presentation\">$n_{2} = 10$</span></span></span>\n",
        "\n",
        "### Verify that <span class=\"math inline\"><span class=\"MathJax_Preview\" style=\"color:inherit;display:none\"></span><span id=\"MathJax-Element-20-Frame\" class=\"MathJax\" tabindex=\"0\" style=\"position:relative\" mathml=\"&lt;math xmlns=&quot;http://www.w3.org/1998/Math/MathML&quot;&gt;&lt;msubsup&gt;&lt;mi&gt;s&lt;/mi&gt;&lt;mi&gt;p&lt;/mi&gt;&lt;mn&gt;2&lt;/mn&gt;&lt;/msubsup&gt;&lt;mo&gt;=&lt;/mo&gt;&lt;mn&gt;13.14&lt;/mn&gt;&lt;/math&gt;\" role=\"presentation\"><span id=\"MathJax-Span-217\" class=\"math\" style=\"width:5.453em;display:inline-block\"><span style=\"display:inline-block;position:relative;width:4.55em;height:0px;font-size:120%\"><span style=\"position:absolute;clip:rect(1.286em,1004.52em,2.606em,-999.998em);top:-2.22em;left:0em\"><span id=\"MathJax-Span-218\" class=\"mrow\"><span id=\"MathJax-Span-219\" class=\"msubsup\"><span style=\"display:inline-block;position:relative;width:0.835em;height:0px\"><span style=\"position:absolute;clip:rect(3.439em,1000.38em,4.099em,-999.998em);top:-3.991em;left:0em\"><span id=\"MathJax-Span-220\" class=\"mi\" style=\"font-family:STIXGeneral-Italic\">s</span><span style=\"display:inline-block;width:0px;height:3.995em\"></span></span><span style=\"position:absolute;clip:rect(3.405em,1000.42em,4.099em,-999.998em);top:-4.339em;left:0.384em\"><span id=\"MathJax-Span-221\" class=\"mn\" style=\"font-size:70.7%;font-family:STIXGeneral-Regular\">2</span><span style=\"display:inline-block;width:0px;height:3.995em\"></span></span><span style=\"position:absolute;clip:rect(3.578em,1000.42em,4.238em,-999.998em);top:-3.852em;left:0.384em\"><span id=\"MathJax-Span-222\" class=\"mi\" style=\"font-size:70.7%;font-family:STIXGeneral-Italic\">p</span><span style=\"display:inline-block;width:0px;height:3.995em\"></span></span></span></span><span id=\"MathJax-Span-223\" class=\"mo\" style=\"font-family:STIXGeneral-Regular;padding-left:0.314em\">=</span><span id=\"MathJax-Span-224\" class=\"mn\" style=\"font-family:STIXGeneral-Regular;padding-left:0.314em\">13.14</span></span><span style=\"display:inline-block;width:0px;height:2.224em\"></span></span></span><span style=\"display:inline-block;overflow:hidden;vertical-align:-0.373em;border-left:0px solid;width:0px;height:1.419em\"></span></span><span class=\"MJX_Assistive_MathML\" role=\"presentation\">$s_{p}^{2} = 13.14$</span></span></span>, <span class=\"math inline\"><span class=\"MathJax_Preview\" style=\"color:inherit;display:none\"></span><span id=\"MathJax-Element-21-Frame\" class=\"MathJax\" tabindex=\"0\" style=\"position:relative\" mathml=\"&lt;math xmlns=&quot;http://www.w3.org/1998/Math/MathML&quot;&gt;&lt;mi&gt;T&lt;/mi&gt;&lt;mo&gt;=&lt;/mo&gt;&lt;mn&gt;2.14&lt;/mn&gt;&lt;/math&gt;\" role=\"presentation\"><span id=\"MathJax-Span-225\" class=\"math\" style=\"width:4.585em;display:inline-block\"><span style=\"display:inline-block;position:relative;width:3.821em;height:0px;font-size:120%\"><span style=\"position:absolute;clip:rect(1.46em,1003.79em,2.328em,-999.998em);top:-2.22em;left:0em\"><span id=\"MathJax-Span-226\" class=\"mrow\"><span id=\"MathJax-Span-227\" class=\"mi\" style=\"font-family:STIXGeneral-Italic\">T<span style=\"display:inline-block;overflow:hidden;height:1px;width:0.071em\"></span></span><span id=\"MathJax-Span-228\" class=\"mo\" style=\"font-family:STIXGeneral-Regular;padding-left:0.314em\">=</span><span id=\"MathJax-Span-229\" class=\"mn\" style=\"font-family:STIXGeneral-Regular;padding-left:0.314em\">2.14</span></span><span style=\"display:inline-block;width:0px;height:2.224em\"></span></span></span><span style=\"display:inline-block;overflow:hidden;vertical-align:-0.04em;border-left:0px solid;width:0px;height:0.919em\"></span></span><span class=\"MJX_Assistive_MathML\" role=\"presentation\">$T = 2.14$</span></span></span>, and that a classic T-test rejects the null hypothesis of equal means with <span class=\"math inline\"><span class=\"MathJax_Preview\" style=\"color:inherit;display:none\"></span><span id=\"MathJax-Element-22-Frame\" class=\"MathJax\" tabindex=\"0\" style=\"position:relative\" mathml=\"&lt;math xmlns=&quot;http://www.w3.org/1998/Math/MathML&quot;&gt;&lt;mi&gt;&amp;#x03B1;&lt;/mi&gt;&lt;mo&gt;=&lt;/mo&gt;&lt;mn&gt;0.05&lt;/mn&gt;&lt;/math&gt;\" role=\"presentation\"><span id=\"MathJax-Span-230\" class=\"math\" style=\"width:4.516em;display:inline-block\"><span style=\"display:inline-block;position:relative;width:3.752em;height:0px;font-size:120%\"><span style=\"position:absolute;clip:rect(1.425em,1003.68em,2.328em,-999.998em);top:-2.22em;left:0em\"><span id=\"MathJax-Span-231\" class=\"mrow\"><span id=\"MathJax-Span-232\" class=\"mi\" style=\"font-family:STIXGeneral-Italic\">α</span><span id=\"MathJax-Span-233\" class=\"mo\" style=\"font-family:STIXGeneral-Regular;padding-left:0.314em\">=</span><span id=\"MathJax-Span-234\" class=\"mn\" style=\"font-family:STIXGeneral-Regular;padding-left:0.314em\">0.05</span></span><span style=\"display:inline-block;width:0px;height:2.224em\"></span></span></span><span style=\"display:inline-block;overflow:hidden;vertical-align:-0.04em;border-left:0px solid;width:0px;height:0.919em\"></span></span><span class=\"MJX_Assistive_MathML\" role=\"presentation\">$\\alpha = 0.05$</span></span></span>. Compute a confidence interval for this hypothesis test.\n"
      ],
      "metadata": {
        "id": "Ac6Qmu57ZOA3"
      },
      "id": "Ac6Qmu57ZOA3"
    },
    {
      "cell_type": "markdown",
      "source": [
        "## Question 17:\n",
        "\n",
        "### Using the information from the previous question, plot the group means and their respective confidence intervals. Label the two groups A and B.\n",
        "\n",
        "-   Hint: To do this you will need to make a dataframe with the relevant\n",
        "    values. Note that we don’t have the original data so you can’t use\n",
        "    ggplot’s automated method or the `ddply()` function. You must build\n",
        "    your own dataframe with the info you have (it’s actually a lot\n",
        "    easier than it sounds - think about the early lectures we did with R\n",
        "    talking about dataframes).\n",
        "\n",
        "  "
      ],
      "metadata": {
        "id": "lklGj7qeZOqU"
      },
      "id": "lklGj7qeZOqU"
    },
    {
      "cell_type": "markdown",
      "source": [
        "\n",
        "## Question 18:\n",
        "\n",
        "### What is a potentially serious problem for the results seen in the previous question (hint: compare the errorbars)?"
      ],
      "metadata": {
        "id": "36Umy21-ZPMU"
      },
      "id": "36Umy21-ZPMU"
    },
    {
      "cell_type": "markdown",
      "source": [
        "# New Section"
      ],
      "metadata": {
        "id": "x3Sp3Hh1YKHV"
      },
      "id": "x3Sp3Hh1YKHV"
    }
  ],
  "nbformat": 4,
  "nbformat_minor": 5,
  "metadata": {
    "colab": {
      "provenance": [],
      "toc_visible": true,
      "include_colab_link": true
    }
  }
}
