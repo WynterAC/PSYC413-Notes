{
  "nbformat": 4,
  "nbformat_minor": 0,
  "metadata": {
    "colab": {
      "provenance": [],
      "authorship_tag": "ABX9TyP4c5ioeyZoAF0EEFJzejlZ",
      "include_colab_link": true
    },
    "kernelspec": {
      "name": "ir",
      "display_name": "R"
    },
    "language_info": {
      "name": "R"
    },
    "gpuClass": "standard"
  },
  "cells": [
    {
      "cell_type": "markdown",
      "metadata": {
        "id": "view-in-github",
        "colab_type": "text"
      },
      "source": [
        "<a href=\"https://colab.research.google.com/github/WynterAC/PSYC413-Notes/blob/main/Homework/Weekly%20Homework/Assingment%20Submissions/Homework_9%20submission.ipynb\" target=\"_parent\"><img src=\"https://colab.research.google.com/assets/colab-badge.svg\" alt=\"Open In Colab\"/></a>"
      ]
    },
    {
      "cell_type": "code",
      "source": [
        "#rounding\n",
        "numb = 3.1415926\n",
        "round(numb,3)"
      ],
      "metadata": {
        "colab": {
          "base_uri": "https://localhost:8080/"
        },
        "id": "ZJRtTqBbEtW_",
        "outputId": "606853fc-1912-406f-901f-5e6abac728c0"
      },
      "execution_count": null,
      "outputs": [
        {
          "output_type": "display_data",
          "data": {
            "text/html": [
              "3.142"
            ],
            "text/markdown": "3.142",
            "text/latex": "3.142",
            "text/plain": [
              "[1] 3.142"
            ]
          },
          "metadata": {}
        }
      ]
    },
    {
      "cell_type": "markdown",
      "source": [
        "# Question 1:\n",
        "\n",
        "### Some archaeologists theorize that ancient Egyptians interbred with several different immigrant populations over thousands of years. To see if there is any indication of changes in body structure that might have resulted, they measured skulls of male Egyptians from 5 different epochs.\n",
        "\n",
        "-   Thomson and Randall-Maciver, _Ancient Races of the Thebaid_, Oxford: Oxford University Press, 1905.\n",
        "\n",
        "### The data can be found in **“SkullsComplete.csv”**. The column “mb” measures the maximal breadth of the skull.\n",
        "\n",
        "### For the remaining questions, we will not be using the columns “bh”, “bl” or “nh”. Remove them from the dataframe and display the first 10 rows.\n",
        "\n",
        "  \n",
        "  \n",
        "\n"
      ],
      "metadata": {
        "id": "_UKDWfD16eIu"
      }
    },
    {
      "cell_type": "code",
      "source": [
        "# Read the data from the CSV file\n",
        "skulls <- read.csv(\"SkullsComplete.csv\")\n",
        "\n",
        "# Remove the unwanted columns\n",
        "skulls <- subset(skulls, select = c(\"epoch\", \"mb\"))\n",
        "\n",
        "# Display the first 10 rows of the modified data frame\n",
        "head(skulls, n = 10)\n",
        "\n"
      ],
      "metadata": {
        "colab": {
          "base_uri": "https://localhost:8080/",
          "height": 412
        },
        "id": "ssMt6wC7ehwe",
        "outputId": "63807657-7f6a-40bf-be88-0a51854d3d6c"
      },
      "execution_count": 8,
      "outputs": [
        {
          "output_type": "display_data",
          "data": {
            "text/html": [
              "<table class=\"dataframe\">\n",
              "<caption>A data.frame: 10 × 2</caption>\n",
              "<thead>\n",
              "\t<tr><th></th><th scope=col>epoch</th><th scope=col>mb</th></tr>\n",
              "\t<tr><th></th><th scope=col>&lt;chr&gt;</th><th scope=col>&lt;int&gt;</th></tr>\n",
              "</thead>\n",
              "<tbody>\n",
              "\t<tr><th scope=row>1</th><td>c4000BC</td><td>131</td></tr>\n",
              "\t<tr><th scope=row>2</th><td>c4000BC</td><td>125</td></tr>\n",
              "\t<tr><th scope=row>3</th><td>c4000BC</td><td>131</td></tr>\n",
              "\t<tr><th scope=row>4</th><td>c4000BC</td><td>119</td></tr>\n",
              "\t<tr><th scope=row>5</th><td>c4000BC</td><td>136</td></tr>\n",
              "\t<tr><th scope=row>6</th><td>c4000BC</td><td>138</td></tr>\n",
              "\t<tr><th scope=row>7</th><td>c4000BC</td><td>139</td></tr>\n",
              "\t<tr><th scope=row>8</th><td>c4000BC</td><td>125</td></tr>\n",
              "\t<tr><th scope=row>9</th><td>c4000BC</td><td>131</td></tr>\n",
              "\t<tr><th scope=row>10</th><td>c4000BC</td><td>134</td></tr>\n",
              "</tbody>\n",
              "</table>\n"
            ],
            "text/markdown": "\nA data.frame: 10 × 2\n\n| <!--/--> | epoch &lt;chr&gt; | mb &lt;int&gt; |\n|---|---|---|\n| 1 | c4000BC | 131 |\n| 2 | c4000BC | 125 |\n| 3 | c4000BC | 131 |\n| 4 | c4000BC | 119 |\n| 5 | c4000BC | 136 |\n| 6 | c4000BC | 138 |\n| 7 | c4000BC | 139 |\n| 8 | c4000BC | 125 |\n| 9 | c4000BC | 131 |\n| 10 | c4000BC | 134 |\n\n",
            "text/latex": "A data.frame: 10 × 2\n\\begin{tabular}{r|ll}\n  & epoch & mb\\\\\n  & <chr> & <int>\\\\\n\\hline\n\t1 & c4000BC & 131\\\\\n\t2 & c4000BC & 125\\\\\n\t3 & c4000BC & 131\\\\\n\t4 & c4000BC & 119\\\\\n\t5 & c4000BC & 136\\\\\n\t6 & c4000BC & 138\\\\\n\t7 & c4000BC & 139\\\\\n\t8 & c4000BC & 125\\\\\n\t9 & c4000BC & 131\\\\\n\t10 & c4000BC & 134\\\\\n\\end{tabular}\n",
            "text/plain": [
              "   epoch   mb \n",
              "1  c4000BC 131\n",
              "2  c4000BC 125\n",
              "3  c4000BC 131\n",
              "4  c4000BC 119\n",
              "5  c4000BC 136\n",
              "6  c4000BC 138\n",
              "7  c4000BC 139\n",
              "8  c4000BC 125\n",
              "9  c4000BC 131\n",
              "10 c4000BC 134"
            ]
          },
          "metadata": {}
        }
      ]
    },
    {
      "cell_type": "markdown",
      "source": [
        "# Question 2:\n",
        "\n",
        "### Create a barplot of the mean maximal breadth measured for each epoch in the **“SkullsComplete.csv”** data. Give the plot errorbars with 95% confidence intervals.\n",
        "#### - Order the epochs so that, left to right, they go from earliest ($4000_{\\text{ BC}}$) to latest ($150_{\\text{ AD}}$)\n",
        "#### - Adjust the y-axis scale so that it goes from 120 at the bottom to 140 at the top.\n",
        "#### - Give the plot an different colour scheme than $ggplot’s$ default.\n",
        "\n",
        "\n",
        "  \n",
        "\n"
      ],
      "metadata": {
        "id": "UTf2xMpF8vcL"
      }
    },
    {
      "cell_type": "code",
      "source": [
        "install.packages(\"plyr\")"
      ],
      "metadata": {
        "colab": {
          "base_uri": "https://localhost:8080/"
        },
        "id": "_Mh3jjH4j7XF",
        "outputId": "7c4d1196-72e3-4ac6-ae58-9fcaca54ad0f"
      },
      "execution_count": 4,
      "outputs": [
        {
          "output_type": "stream",
          "name": "stderr",
          "text": [
            "Installing package into ‘/usr/local/lib/R/site-library’\n",
            "(as ‘lib’ is unspecified)\n",
            "\n"
          ]
        }
      ]
    },
    {
      "cell_type": "code",
      "source": [
        "install.packages(\"dplyr\")"
      ],
      "metadata": {
        "colab": {
          "base_uri": "https://localhost:8080/"
        },
        "id": "JMrV-rZEgsm1",
        "outputId": "5029c7d7-7251-44e4-dcc4-32aa26907f26"
      },
      "execution_count": 5,
      "outputs": [
        {
          "output_type": "stream",
          "name": "stderr",
          "text": [
            "Installing package into ‘/usr/local/lib/R/site-library’\n",
            "(as ‘lib’ is unspecified)\n",
            "\n"
          ]
        }
      ]
    },
    {
      "cell_type": "code",
      "source": [
        "install.packages(\"ggplot2\")"
      ],
      "metadata": {
        "colab": {
          "base_uri": "https://localhost:8080/"
        },
        "id": "0LN-VXeff3On",
        "outputId": "c8f6016a-d35a-4f92-aeaf-e48e46a4f5bc"
      },
      "execution_count": 6,
      "outputs": [
        {
          "output_type": "stream",
          "name": "stderr",
          "text": [
            "Installing package into ‘/usr/local/lib/R/site-library’\n",
            "(as ‘lib’ is unspecified)\n",
            "\n"
          ]
        }
      ]
    },
    {
      "cell_type": "code",
      "source": [
        "library(plyr)\n",
        "library(ggplot2)\n",
        "options(repr.plot.width = 7, repr.plot.height = 5)\n",
        "plotData <- ddply(skulls, c(\"epoch\"), summarise,\n",
        "                  n = length(mb),\n",
        "                  Mean = mean(mb),\n",
        "                  df = n - 1,\n",
        "                  alpha = 0.05,\n",
        "                  t_crit = qt(alpha/2, df = df, lower.tail = FALSE),\n",
        "                  se = sd(mb) / sqrt(n),\n",
        "                  MOE = se * t_crit,\n",
        "                  CI_bottom = Mean - MOE,\n",
        "                  CI_top = Mean + MOE\n",
        ")\n",
        "\n",
        "plotData"
      ],
      "metadata": {
        "colab": {
          "base_uri": "https://localhost:8080/",
          "height": 255
        },
        "id": "xWYM3PEhpQLC",
        "outputId": "4c6c773a-671c-44ac-e5f8-c0888efb865d"
      },
      "execution_count": 9,
      "outputs": [
        {
          "output_type": "display_data",
          "data": {
            "text/html": [
              "<table class=\"dataframe\">\n",
              "<caption>A data.frame: 5 × 10</caption>\n",
              "<thead>\n",
              "\t<tr><th scope=col>epoch</th><th scope=col>n</th><th scope=col>Mean</th><th scope=col>df</th><th scope=col>alpha</th><th scope=col>t_crit</th><th scope=col>se</th><th scope=col>MOE</th><th scope=col>CI_bottom</th><th scope=col>CI_top</th></tr>\n",
              "\t<tr><th scope=col>&lt;chr&gt;</th><th scope=col>&lt;int&gt;</th><th scope=col>&lt;dbl&gt;</th><th scope=col>&lt;dbl&gt;</th><th scope=col>&lt;dbl&gt;</th><th scope=col>&lt;dbl&gt;</th><th scope=col>&lt;dbl&gt;</th><th scope=col>&lt;dbl&gt;</th><th scope=col>&lt;dbl&gt;</th><th scope=col>&lt;dbl&gt;</th></tr>\n",
              "</thead>\n",
              "<tbody>\n",
              "\t<tr><td>c1850BC</td><td>30</td><td>134.4667</td><td>29</td><td>0.05</td><td>2.04523</td><td>0.6355979</td><td>1.299944</td><td>133.1667</td><td>135.7666</td></tr>\n",
              "\t<tr><td>c200BC </td><td>30</td><td>135.5000</td><td>29</td><td>0.05</td><td>2.04523</td><td>0.7155899</td><td>1.463546</td><td>134.0365</td><td>136.9635</td></tr>\n",
              "\t<tr><td>c3300BC</td><td>30</td><td>132.3667</td><td>29</td><td>0.05</td><td>2.04523</td><td>0.8781948</td><td>1.796110</td><td>130.5706</td><td>134.1628</td></tr>\n",
              "\t<tr><td>c4000BC</td><td>30</td><td>131.3667</td><td>29</td><td>0.05</td><td>2.04523</td><td>0.9364685</td><td>1.915293</td><td>129.4514</td><td>133.2820</td></tr>\n",
              "\t<tr><td>cAD150 </td><td>30</td><td>136.1667</td><td>29</td><td>0.05</td><td>2.04523</td><td>0.9768391</td><td>1.997860</td><td>134.1688</td><td>138.1645</td></tr>\n",
              "</tbody>\n",
              "</table>\n"
            ],
            "text/markdown": "\nA data.frame: 5 × 10\n\n| epoch &lt;chr&gt; | n &lt;int&gt; | Mean &lt;dbl&gt; | df &lt;dbl&gt; | alpha &lt;dbl&gt; | t_crit &lt;dbl&gt; | se &lt;dbl&gt; | MOE &lt;dbl&gt; | CI_bottom &lt;dbl&gt; | CI_top &lt;dbl&gt; |\n|---|---|---|---|---|---|---|---|---|---|\n| c1850BC | 30 | 134.4667 | 29 | 0.05 | 2.04523 | 0.6355979 | 1.299944 | 133.1667 | 135.7666 |\n| c200BC  | 30 | 135.5000 | 29 | 0.05 | 2.04523 | 0.7155899 | 1.463546 | 134.0365 | 136.9635 |\n| c3300BC | 30 | 132.3667 | 29 | 0.05 | 2.04523 | 0.8781948 | 1.796110 | 130.5706 | 134.1628 |\n| c4000BC | 30 | 131.3667 | 29 | 0.05 | 2.04523 | 0.9364685 | 1.915293 | 129.4514 | 133.2820 |\n| cAD150  | 30 | 136.1667 | 29 | 0.05 | 2.04523 | 0.9768391 | 1.997860 | 134.1688 | 138.1645 |\n\n",
            "text/latex": "A data.frame: 5 × 10\n\\begin{tabular}{llllllllll}\n epoch & n & Mean & df & alpha & t\\_crit & se & MOE & CI\\_bottom & CI\\_top\\\\\n <chr> & <int> & <dbl> & <dbl> & <dbl> & <dbl> & <dbl> & <dbl> & <dbl> & <dbl>\\\\\n\\hline\n\t c1850BC & 30 & 134.4667 & 29 & 0.05 & 2.04523 & 0.6355979 & 1.299944 & 133.1667 & 135.7666\\\\\n\t c200BC  & 30 & 135.5000 & 29 & 0.05 & 2.04523 & 0.7155899 & 1.463546 & 134.0365 & 136.9635\\\\\n\t c3300BC & 30 & 132.3667 & 29 & 0.05 & 2.04523 & 0.8781948 & 1.796110 & 130.5706 & 134.1628\\\\\n\t c4000BC & 30 & 131.3667 & 29 & 0.05 & 2.04523 & 0.9364685 & 1.915293 & 129.4514 & 133.2820\\\\\n\t cAD150  & 30 & 136.1667 & 29 & 0.05 & 2.04523 & 0.9768391 & 1.997860 & 134.1688 & 138.1645\\\\\n\\end{tabular}\n",
            "text/plain": [
              "  epoch   n  Mean     df alpha t_crit  se        MOE      CI_bottom CI_top  \n",
              "1 c1850BC 30 134.4667 29 0.05  2.04523 0.6355979 1.299944 133.1667  135.7666\n",
              "2 c200BC  30 135.5000 29 0.05  2.04523 0.7155899 1.463546 134.0365  136.9635\n",
              "3 c3300BC 30 132.3667 29 0.05  2.04523 0.8781948 1.796110 130.5706  134.1628\n",
              "4 c4000BC 30 131.3667 29 0.05  2.04523 0.9364685 1.915293 129.4514  133.2820\n",
              "5 cAD150  30 136.1667 29 0.05  2.04523 0.9768391 1.997860 134.1688  138.1645"
            ]
          },
          "metadata": {}
        }
      ]
    },
    {
      "cell_type": "code",
      "source": [
        "plotData$Mean"
      ],
      "metadata": {
        "id": "ORm16wriTMI-",
        "colab": {
          "base_uri": "https://localhost:8080/",
          "height": 34
        },
        "outputId": "94de0746-c900-400c-df42-281cf7639a78"
      },
      "execution_count": 110,
      "outputs": [
        {
          "output_type": "display_data",
          "data": {
            "text/html": [
              "<style>\n",
              ".list-inline {list-style: none; margin:0; padding: 0}\n",
              ".list-inline>li {display: inline-block}\n",
              ".list-inline>li:not(:last-child)::after {content: \"\\00b7\"; padding: 0 .5ex}\n",
              "</style>\n",
              "<ol class=list-inline><li>134.466666666667</li><li>135.5</li><li>132.366666666667</li><li>131.366666666667</li><li>136.166666666667</li></ol>\n"
            ],
            "text/markdown": "1. 134.466666666667\n2. 135.5\n3. 132.366666666667\n4. 131.366666666667\n5. 136.166666666667\n\n\n",
            "text/latex": "\\begin{enumerate*}\n\\item 134.466666666667\n\\item 135.5\n\\item 132.366666666667\n\\item 131.366666666667\n\\item 136.166666666667\n\\end{enumerate*}\n",
            "text/plain": [
              "[1] 134.4667 135.5000 132.3667 131.3667 136.1667"
            ]
          },
          "metadata": {}
        }
      ]
    },
    {
      "cell_type": "code",
      "source": [
        "# Reorder the epochs\n",
        "plotData$epoch <- factor(plotData$epoch, levels=c(\"c4000BC\", \"c3300BC\", \"c1850BC\", \"c200BC\", \"cAD150\"))\n",
        "\n",
        "\n",
        "# Set the colors for the plot\n",
        "colors <- c(\"#5A3E36\", \"#82663A\", \"#AD8B3D\", \"#D2B140\", \"#F0D86B\")\n",
        "\n",
        "# Create bar plot with error bars\n",
        "library(ggplot2)\n",
        "ggplot(plotData, aes(x = epoch, y = Mean, fill = epoch)) +\n",
        "  geom_bar(stat = \"identity\", position = \"dodge\") +\n",
        "  geom_errorbar(aes(ymin = CI_bottom, ymax = CI_top), width = 0.25, position = position_dodge(0.9)) +\n",
        "  scale_fill_manual(values = c(\"steelblue\", \"lightblue\", \"skyblue\",\"dodgerblue\",\"darkblue\")) +\n",
        "  coord_cartesian(ylim = c(120, 140)) +\n",
        "  xlab(\"Epoch\") + ylab(\"Mean maximal breadth\") +\n",
        "  ggtitle(\"Mean maximal breadth for each epoch with 95% CI\") +\n",
        "  theme_bw() +\n",
        "  theme(plot.title = element_text(size = 14, face = \"bold\", hjust = 0.5),\n",
        "        axis.title = element_text(size = 12),\n",
        "        axis.text = element_text(size = 10),\n",
        "        legend.position = \"none\")\n"
      ],
      "metadata": {
        "colab": {
          "base_uri": "https://localhost:8080/",
          "height": 317
        },
        "id": "ZmwL6Mvaw5tX",
        "outputId": "0ec79382-e798-481f-c18e-f539028ff718"
      },
      "execution_count": 10,
      "outputs": [
        {
          "output_type": "display_data",
          "data": {
            "text/plain": [
              "plot without title"
            ],
            "image/png": "[encoded data removed]"
          },
          "metadata": {
            "image/png": {
              "width": 420,
              "height": 300
            }
          }
        }
      ]
    },
    {
      "cell_type": "markdown",
      "source": [
        "# Question 3:\n",
        "\n",
        "### Using the **“SkullsComplete.csv”**, create a linear model predicting maximal breadth (mb) with coefficients that make the following comparisons:\n",
        "\n",
        "-   $b_0 = 4000_{\\text{ BC}}$\n",
        "-   $b_1 = 3300_{\\text{ BC}} - 4000_{\\text{ BC}}$\n",
        "-  $b_2 = 1850_{\\text{ BC}} - 4000_{\\text{ BC}}$\n",
        "-  $b_3 = 200_{\\text{ BC}} - 4000_{\\text{ BC}}$\n",
        "-   $b_4 = 150_{\\text{ AD}} - 4000_{\\text{ BC}}$\n",
        "\n",
        "### Report the model’s formula using the obtained coefficents.\n",
        "> e.g. $$\\hat{Y} = \\text{value} +\n",
        "\\text{value } X_1 + \\text{value } X_2 \\dots$$\n",
        "\n",
        "  \n",
        "\n"
      ],
      "metadata": {
        "id": "xkT2ub4B8ysz"
      }
    },
    {
      "cell_type": "code",
      "source": [
        "# Read the data from the CSV file\n",
        "skulls2 <- read.csv(\"SkullsComplete.csv\")\n",
        "# Remove the unwanted columns\n",
        "skulls3 <- subset(skulls2, select = c(\"epoch\", \"mb\"))\n",
        "# Dummy Variables; a.k.a. Planned Comparisons; a.k.a. Planned Contrasts\n",
        "skulls3$b0 <- ifelse(skulls$epoch == \"c4000BC\", 1,0)\n",
        "skulls3$b1 <- ifelse(skulls$epoch == \"c3300BC\", 1,0)\n",
        "skulls3$b2 <- ifelse(skulls$epoch == \"c1850BC\", 1,0)\n",
        "skulls3$b3 <- ifelse(skulls$epoch == \"c200BC\", 1,0)\n",
        "skulls3$b4 <- ifelse(skulls$epoch == \"cAD150\", 1,0)\n",
        "skulls3"
      ],
      "metadata": {
        "colab": {
          "base_uri": "https://localhost:8080/",
          "height": 1000
        },
        "id": "ZvL1HH_0IL1a",
        "outputId": "b0381368-ca18-47c5-bc17-9c25148a2a50"
      },
      "execution_count": null,
      "outputs": [
        {
          "output_type": "display_data",
          "data": {
            "text/html": [
              "<table class=\"dataframe\">\n",
              "<caption>A data.frame: 150 × 7</caption>\n",
              "<thead>\n",
              "\t<tr><th></th><th scope=col>epoch</th><th scope=col>mb</th><th scope=col>b0</th><th scope=col>b1</th><th scope=col>b2</th><th scope=col>b3</th><th scope=col>b4</th></tr>\n",
              "\t<tr><th></th><th scope=col>&lt;chr&gt;</th><th scope=col>&lt;int&gt;</th><th scope=col>&lt;dbl&gt;</th><th scope=col>&lt;dbl&gt;</th><th scope=col>&lt;dbl&gt;</th><th scope=col>&lt;dbl&gt;</th><th scope=col>&lt;dbl&gt;</th></tr>\n",
              "</thead>\n",
              "<tbody>\n",
              "\t<tr><th scope=row>1</th><td>c4000BC</td><td>131</td><td>1</td><td>0</td><td>0</td><td>0</td><td>0</td></tr>\n",
              "\t<tr><th scope=row>2</th><td>c4000BC</td><td>125</td><td>1</td><td>0</td><td>0</td><td>0</td><td>0</td></tr>\n",
              "\t<tr><th scope=row>3</th><td>c4000BC</td><td>131</td><td>1</td><td>0</td><td>0</td><td>0</td><td>0</td></tr>\n",
              "\t<tr><th scope=row>4</th><td>c4000BC</td><td>119</td><td>1</td><td>0</td><td>0</td><td>0</td><td>0</td></tr>\n",
              "\t<tr><th scope=row>5</th><td>c4000BC</td><td>136</td><td>1</td><td>0</td><td>0</td><td>0</td><td>0</td></tr>\n",
              "\t<tr><th scope=row>6</th><td>c4000BC</td><td>138</td><td>1</td><td>0</td><td>0</td><td>0</td><td>0</td></tr>\n",
              "\t<tr><th scope=row>7</th><td>c4000BC</td><td>139</td><td>1</td><td>0</td><td>0</td><td>0</td><td>0</td></tr>\n",
              "\t<tr><th scope=row>8</th><td>c4000BC</td><td>125</td><td>1</td><td>0</td><td>0</td><td>0</td><td>0</td></tr>\n",
              "\t<tr><th scope=row>9</th><td>c4000BC</td><td>131</td><td>1</td><td>0</td><td>0</td><td>0</td><td>0</td></tr>\n",
              "\t<tr><th scope=row>10</th><td>c4000BC</td><td>134</td><td>1</td><td>0</td><td>0</td><td>0</td><td>0</td></tr>\n",
              "\t<tr><th scope=row>11</th><td>c4000BC</td><td>129</td><td>1</td><td>0</td><td>0</td><td>0</td><td>0</td></tr>\n",
              "\t<tr><th scope=row>12</th><td>c4000BC</td><td>134</td><td>1</td><td>0</td><td>0</td><td>0</td><td>0</td></tr>\n",
              "\t<tr><th scope=row>13</th><td>c4000BC</td><td>126</td><td>1</td><td>0</td><td>0</td><td>0</td><td>0</td></tr>\n",
              "\t<tr><th scope=row>14</th><td>c4000BC</td><td>132</td><td>1</td><td>0</td><td>0</td><td>0</td><td>0</td></tr>\n",
              "\t<tr><th scope=row>15</th><td>c4000BC</td><td>141</td><td>1</td><td>0</td><td>0</td><td>0</td><td>0</td></tr>\n",
              "\t<tr><th scope=row>16</th><td>c4000BC</td><td>131</td><td>1</td><td>0</td><td>0</td><td>0</td><td>0</td></tr>\n",
              "\t<tr><th scope=row>17</th><td>c4000BC</td><td>135</td><td>1</td><td>0</td><td>0</td><td>0</td><td>0</td></tr>\n",
              "\t<tr><th scope=row>18</th><td>c4000BC</td><td>132</td><td>1</td><td>0</td><td>0</td><td>0</td><td>0</td></tr>\n",
              "\t<tr><th scope=row>19</th><td>c4000BC</td><td>139</td><td>1</td><td>0</td><td>0</td><td>0</td><td>0</td></tr>\n",
              "\t<tr><th scope=row>20</th><td>c4000BC</td><td>132</td><td>1</td><td>0</td><td>0</td><td>0</td><td>0</td></tr>\n",
              "\t<tr><th scope=row>21</th><td>c4000BC</td><td>126</td><td>1</td><td>0</td><td>0</td><td>0</td><td>0</td></tr>\n",
              "\t<tr><th scope=row>22</th><td>c4000BC</td><td>135</td><td>1</td><td>0</td><td>0</td><td>0</td><td>0</td></tr>\n",
              "\t<tr><th scope=row>23</th><td>c4000BC</td><td>134</td><td>1</td><td>0</td><td>0</td><td>0</td><td>0</td></tr>\n",
              "\t<tr><th scope=row>24</th><td>c4000BC</td><td>128</td><td>1</td><td>0</td><td>0</td><td>0</td><td>0</td></tr>\n",
              "\t<tr><th scope=row>25</th><td>c4000BC</td><td>130</td><td>1</td><td>0</td><td>0</td><td>0</td><td>0</td></tr>\n",
              "\t<tr><th scope=row>26</th><td>c4000BC</td><td>138</td><td>1</td><td>0</td><td>0</td><td>0</td><td>0</td></tr>\n",
              "\t<tr><th scope=row>27</th><td>c4000BC</td><td>128</td><td>1</td><td>0</td><td>0</td><td>0</td><td>0</td></tr>\n",
              "\t<tr><th scope=row>28</th><td>c4000BC</td><td>127</td><td>1</td><td>0</td><td>0</td><td>0</td><td>0</td></tr>\n",
              "\t<tr><th scope=row>29</th><td>c4000BC</td><td>131</td><td>1</td><td>0</td><td>0</td><td>0</td><td>0</td></tr>\n",
              "\t<tr><th scope=row>30</th><td>c4000BC</td><td>124</td><td>1</td><td>0</td><td>0</td><td>0</td><td>0</td></tr>\n",
              "\t<tr><th scope=row>⋮</th><td>⋮</td><td>⋮</td><td>⋮</td><td>⋮</td><td>⋮</td><td>⋮</td><td>⋮</td></tr>\n",
              "\t<tr><th scope=row>121</th><td>cAD150</td><td>137</td><td>0</td><td>0</td><td>0</td><td>0</td><td>1</td></tr>\n",
              "\t<tr><th scope=row>122</th><td>cAD150</td><td>136</td><td>0</td><td>0</td><td>0</td><td>0</td><td>1</td></tr>\n",
              "\t<tr><th scope=row>123</th><td>cAD150</td><td>128</td><td>0</td><td>0</td><td>0</td><td>0</td><td>1</td></tr>\n",
              "\t<tr><th scope=row>124</th><td>cAD150</td><td>130</td><td>0</td><td>0</td><td>0</td><td>0</td><td>1</td></tr>\n",
              "\t<tr><th scope=row>125</th><td>cAD150</td><td>138</td><td>0</td><td>0</td><td>0</td><td>0</td><td>1</td></tr>\n",
              "\t<tr><th scope=row>126</th><td>cAD150</td><td>126</td><td>0</td><td>0</td><td>0</td><td>0</td><td>1</td></tr>\n",
              "\t<tr><th scope=row>127</th><td>cAD150</td><td>136</td><td>0</td><td>0</td><td>0</td><td>0</td><td>1</td></tr>\n",
              "\t<tr><th scope=row>128</th><td>cAD150</td><td>126</td><td>0</td><td>0</td><td>0</td><td>0</td><td>1</td></tr>\n",
              "\t<tr><th scope=row>129</th><td>cAD150</td><td>132</td><td>0</td><td>0</td><td>0</td><td>0</td><td>1</td></tr>\n",
              "\t<tr><th scope=row>130</th><td>cAD150</td><td>139</td><td>0</td><td>0</td><td>0</td><td>0</td><td>1</td></tr>\n",
              "\t<tr><th scope=row>131</th><td>cAD150</td><td>143</td><td>0</td><td>0</td><td>0</td><td>0</td><td>1</td></tr>\n",
              "\t<tr><th scope=row>132</th><td>cAD150</td><td>141</td><td>0</td><td>0</td><td>0</td><td>0</td><td>1</td></tr>\n",
              "\t<tr><th scope=row>133</th><td>cAD150</td><td>135</td><td>0</td><td>0</td><td>0</td><td>0</td><td>1</td></tr>\n",
              "\t<tr><th scope=row>134</th><td>cAD150</td><td>137</td><td>0</td><td>0</td><td>0</td><td>0</td><td>1</td></tr>\n",
              "\t<tr><th scope=row>135</th><td>cAD150</td><td>142</td><td>0</td><td>0</td><td>0</td><td>0</td><td>1</td></tr>\n",
              "\t<tr><th scope=row>136</th><td>cAD150</td><td>139</td><td>0</td><td>0</td><td>0</td><td>0</td><td>1</td></tr>\n",
              "\t<tr><th scope=row>137</th><td>cAD150</td><td>138</td><td>0</td><td>0</td><td>0</td><td>0</td><td>1</td></tr>\n",
              "\t<tr><th scope=row>138</th><td>cAD150</td><td>137</td><td>0</td><td>0</td><td>0</td><td>0</td><td>1</td></tr>\n",
              "\t<tr><th scope=row>139</th><td>cAD150</td><td>133</td><td>0</td><td>0</td><td>0</td><td>0</td><td>1</td></tr>\n",
              "\t<tr><th scope=row>140</th><td>cAD150</td><td>145</td><td>0</td><td>0</td><td>0</td><td>0</td><td>1</td></tr>\n",
              "\t<tr><th scope=row>141</th><td>cAD150</td><td>138</td><td>0</td><td>0</td><td>0</td><td>0</td><td>1</td></tr>\n",
              "\t<tr><th scope=row>142</th><td>cAD150</td><td>131</td><td>0</td><td>0</td><td>0</td><td>0</td><td>1</td></tr>\n",
              "\t<tr><th scope=row>143</th><td>cAD150</td><td>143</td><td>0</td><td>0</td><td>0</td><td>0</td><td>1</td></tr>\n",
              "\t<tr><th scope=row>144</th><td>cAD150</td><td>134</td><td>0</td><td>0</td><td>0</td><td>0</td><td>1</td></tr>\n",
              "\t<tr><th scope=row>145</th><td>cAD150</td><td>132</td><td>0</td><td>0</td><td>0</td><td>0</td><td>1</td></tr>\n",
              "\t<tr><th scope=row>146</th><td>cAD150</td><td>137</td><td>0</td><td>0</td><td>0</td><td>0</td><td>1</td></tr>\n",
              "\t<tr><th scope=row>147</th><td>cAD150</td><td>129</td><td>0</td><td>0</td><td>0</td><td>0</td><td>1</td></tr>\n",
              "\t<tr><th scope=row>148</th><td>cAD150</td><td>140</td><td>0</td><td>0</td><td>0</td><td>0</td><td>1</td></tr>\n",
              "\t<tr><th scope=row>149</th><td>cAD150</td><td>147</td><td>0</td><td>0</td><td>0</td><td>0</td><td>1</td></tr>\n",
              "\t<tr><th scope=row>150</th><td>cAD150</td><td>136</td><td>0</td><td>0</td><td>0</td><td>0</td><td>1</td></tr>\n",
              "</tbody>\n",
              "</table>\n"
            ],
            "text/markdown": "\nA data.frame: 150 × 7\n\n| <!--/--> | epoch &lt;chr&gt; | mb &lt;int&gt; | b0 &lt;dbl&gt; | b1 &lt;dbl&gt; | b2 &lt;dbl&gt; | b3 &lt;dbl&gt; | b4 &lt;dbl&gt; |\n|---|---|---|---|---|---|---|---|\n| 1 | c4000BC | 131 | 1 | 0 | 0 | 0 | 0 |\n| 2 | c4000BC | 125 | 1 | 0 | 0 | 0 | 0 |\n| 3 | c4000BC | 131 | 1 | 0 | 0 | 0 | 0 |\n| 4 | c4000BC | 119 | 1 | 0 | 0 | 0 | 0 |\n| 5 | c4000BC | 136 | 1 | 0 | 0 | 0 | 0 |\n| 6 | c4000BC | 138 | 1 | 0 | 0 | 0 | 0 |\n| 7 | c4000BC | 139 | 1 | 0 | 0 | 0 | 0 |\n| 8 | c4000BC | 125 | 1 | 0 | 0 | 0 | 0 |\n| 9 | c4000BC | 131 | 1 | 0 | 0 | 0 | 0 |\n| 10 | c4000BC | 134 | 1 | 0 | 0 | 0 | 0 |\n| 11 | c4000BC | 129 | 1 | 0 | 0 | 0 | 0 |\n| 12 | c4000BC | 134 | 1 | 0 | 0 | 0 | 0 |\n| 13 | c4000BC | 126 | 1 | 0 | 0 | 0 | 0 |\n| 14 | c4000BC | 132 | 1 | 0 | 0 | 0 | 0 |\n| 15 | c4000BC | 141 | 1 | 0 | 0 | 0 | 0 |\n| 16 | c4000BC | 131 | 1 | 0 | 0 | 0 | 0 |\n| 17 | c4000BC | 135 | 1 | 0 | 0 | 0 | 0 |\n| 18 | c4000BC | 132 | 1 | 0 | 0 | 0 | 0 |\n| 19 | c4000BC | 139 | 1 | 0 | 0 | 0 | 0 |\n| 20 | c4000BC | 132 | 1 | 0 | 0 | 0 | 0 |\n| 21 | c4000BC | 126 | 1 | 0 | 0 | 0 | 0 |\n| 22 | c4000BC | 135 | 1 | 0 | 0 | 0 | 0 |\n| 23 | c4000BC | 134 | 1 | 0 | 0 | 0 | 0 |\n| 24 | c4000BC | 128 | 1 | 0 | 0 | 0 | 0 |\n| 25 | c4000BC | 130 | 1 | 0 | 0 | 0 | 0 |\n| 26 | c4000BC | 138 | 1 | 0 | 0 | 0 | 0 |\n| 27 | c4000BC | 128 | 1 | 0 | 0 | 0 | 0 |\n| 28 | c4000BC | 127 | 1 | 0 | 0 | 0 | 0 |\n| 29 | c4000BC | 131 | 1 | 0 | 0 | 0 | 0 |\n| 30 | c4000BC | 124 | 1 | 0 | 0 | 0 | 0 |\n| ⋮ | ⋮ | ⋮ | ⋮ | ⋮ | ⋮ | ⋮ | ⋮ |\n| 121 | cAD150 | 137 | 0 | 0 | 0 | 0 | 1 |\n| 122 | cAD150 | 136 | 0 | 0 | 0 | 0 | 1 |\n| 123 | cAD150 | 128 | 0 | 0 | 0 | 0 | 1 |\n| 124 | cAD150 | 130 | 0 | 0 | 0 | 0 | 1 |\n| 125 | cAD150 | 138 | 0 | 0 | 0 | 0 | 1 |\n| 126 | cAD150 | 126 | 0 | 0 | 0 | 0 | 1 |\n| 127 | cAD150 | 136 | 0 | 0 | 0 | 0 | 1 |\n| 128 | cAD150 | 126 | 0 | 0 | 0 | 0 | 1 |\n| 129 | cAD150 | 132 | 0 | 0 | 0 | 0 | 1 |\n| 130 | cAD150 | 139 | 0 | 0 | 0 | 0 | 1 |\n| 131 | cAD150 | 143 | 0 | 0 | 0 | 0 | 1 |\n| 132 | cAD150 | 141 | 0 | 0 | 0 | 0 | 1 |\n| 133 | cAD150 | 135 | 0 | 0 | 0 | 0 | 1 |\n| 134 | cAD150 | 137 | 0 | 0 | 0 | 0 | 1 |\n| 135 | cAD150 | 142 | 0 | 0 | 0 | 0 | 1 |\n| 136 | cAD150 | 139 | 0 | 0 | 0 | 0 | 1 |\n| 137 | cAD150 | 138 | 0 | 0 | 0 | 0 | 1 |\n| 138 | cAD150 | 137 | 0 | 0 | 0 | 0 | 1 |\n| 139 | cAD150 | 133 | 0 | 0 | 0 | 0 | 1 |\n| 140 | cAD150 | 145 | 0 | 0 | 0 | 0 | 1 |\n| 141 | cAD150 | 138 | 0 | 0 | 0 | 0 | 1 |\n| 142 | cAD150 | 131 | 0 | 0 | 0 | 0 | 1 |\n| 143 | cAD150 | 143 | 0 | 0 | 0 | 0 | 1 |\n| 144 | cAD150 | 134 | 0 | 0 | 0 | 0 | 1 |\n| 145 | cAD150 | 132 | 0 | 0 | 0 | 0 | 1 |\n| 146 | cAD150 | 137 | 0 | 0 | 0 | 0 | 1 |\n| 147 | cAD150 | 129 | 0 | 0 | 0 | 0 | 1 |\n| 148 | cAD150 | 140 | 0 | 0 | 0 | 0 | 1 |\n| 149 | cAD150 | 147 | 0 | 0 | 0 | 0 | 1 |\n| 150 | cAD150 | 136 | 0 | 0 | 0 | 0 | 1 |\n\n",
            "text/latex": "A data.frame: 150 × 7\n\\begin{tabular}{r|lllllll}\n  & epoch & mb & b0 & b1 & b2 & b3 & b4\\\\\n  & <chr> & <int> & <dbl> & <dbl> & <dbl> & <dbl> & <dbl>\\\\\n\\hline\n\t1 & c4000BC & 131 & 1 & 0 & 0 & 0 & 0\\\\\n\t2 & c4000BC & 125 & 1 & 0 & 0 & 0 & 0\\\\\n\t3 & c4000BC & 131 & 1 & 0 & 0 & 0 & 0\\\\\n\t4 & c4000BC & 119 & 1 & 0 & 0 & 0 & 0\\\\\n\t5 & c4000BC & 136 & 1 & 0 & 0 & 0 & 0\\\\\n\t6 & c4000BC & 138 & 1 & 0 & 0 & 0 & 0\\\\\n\t7 & c4000BC & 139 & 1 & 0 & 0 & 0 & 0\\\\\n\t8 & c4000BC & 125 & 1 & 0 & 0 & 0 & 0\\\\\n\t9 & c4000BC & 131 & 1 & 0 & 0 & 0 & 0\\\\\n\t10 & c4000BC & 134 & 1 & 0 & 0 & 0 & 0\\\\\n\t11 & c4000BC & 129 & 1 & 0 & 0 & 0 & 0\\\\\n\t12 & c4000BC & 134 & 1 & 0 & 0 & 0 & 0\\\\\n\t13 & c4000BC & 126 & 1 & 0 & 0 & 0 & 0\\\\\n\t14 & c4000BC & 132 & 1 & 0 & 0 & 0 & 0\\\\\n\t15 & c4000BC & 141 & 1 & 0 & 0 & 0 & 0\\\\\n\t16 & c4000BC & 131 & 1 & 0 & 0 & 0 & 0\\\\\n\t17 & c4000BC & 135 & 1 & 0 & 0 & 0 & 0\\\\\n\t18 & c4000BC & 132 & 1 & 0 & 0 & 0 & 0\\\\\n\t19 & c4000BC & 139 & 1 & 0 & 0 & 0 & 0\\\\\n\t20 & c4000BC & 132 & 1 & 0 & 0 & 0 & 0\\\\\n\t21 & c4000BC & 126 & 1 & 0 & 0 & 0 & 0\\\\\n\t22 & c4000BC & 135 & 1 & 0 & 0 & 0 & 0\\\\\n\t23 & c4000BC & 134 & 1 & 0 & 0 & 0 & 0\\\\\n\t24 & c4000BC & 128 & 1 & 0 & 0 & 0 & 0\\\\\n\t25 & c4000BC & 130 & 1 & 0 & 0 & 0 & 0\\\\\n\t26 & c4000BC & 138 & 1 & 0 & 0 & 0 & 0\\\\\n\t27 & c4000BC & 128 & 1 & 0 & 0 & 0 & 0\\\\\n\t28 & c4000BC & 127 & 1 & 0 & 0 & 0 & 0\\\\\n\t29 & c4000BC & 131 & 1 & 0 & 0 & 0 & 0\\\\\n\t30 & c4000BC & 124 & 1 & 0 & 0 & 0 & 0\\\\\n\t⋮ & ⋮ & ⋮ & ⋮ & ⋮ & ⋮ & ⋮ & ⋮\\\\\n\t121 & cAD150 & 137 & 0 & 0 & 0 & 0 & 1\\\\\n\t122 & cAD150 & 136 & 0 & 0 & 0 & 0 & 1\\\\\n\t123 & cAD150 & 128 & 0 & 0 & 0 & 0 & 1\\\\\n\t124 & cAD150 & 130 & 0 & 0 & 0 & 0 & 1\\\\\n\t125 & cAD150 & 138 & 0 & 0 & 0 & 0 & 1\\\\\n\t126 & cAD150 & 126 & 0 & 0 & 0 & 0 & 1\\\\\n\t127 & cAD150 & 136 & 0 & 0 & 0 & 0 & 1\\\\\n\t128 & cAD150 & 126 & 0 & 0 & 0 & 0 & 1\\\\\n\t129 & cAD150 & 132 & 0 & 0 & 0 & 0 & 1\\\\\n\t130 & cAD150 & 139 & 0 & 0 & 0 & 0 & 1\\\\\n\t131 & cAD150 & 143 & 0 & 0 & 0 & 0 & 1\\\\\n\t132 & cAD150 & 141 & 0 & 0 & 0 & 0 & 1\\\\\n\t133 & cAD150 & 135 & 0 & 0 & 0 & 0 & 1\\\\\n\t134 & cAD150 & 137 & 0 & 0 & 0 & 0 & 1\\\\\n\t135 & cAD150 & 142 & 0 & 0 & 0 & 0 & 1\\\\\n\t136 & cAD150 & 139 & 0 & 0 & 0 & 0 & 1\\\\\n\t137 & cAD150 & 138 & 0 & 0 & 0 & 0 & 1\\\\\n\t138 & cAD150 & 137 & 0 & 0 & 0 & 0 & 1\\\\\n\t139 & cAD150 & 133 & 0 & 0 & 0 & 0 & 1\\\\\n\t140 & cAD150 & 145 & 0 & 0 & 0 & 0 & 1\\\\\n\t141 & cAD150 & 138 & 0 & 0 & 0 & 0 & 1\\\\\n\t142 & cAD150 & 131 & 0 & 0 & 0 & 0 & 1\\\\\n\t143 & cAD150 & 143 & 0 & 0 & 0 & 0 & 1\\\\\n\t144 & cAD150 & 134 & 0 & 0 & 0 & 0 & 1\\\\\n\t145 & cAD150 & 132 & 0 & 0 & 0 & 0 & 1\\\\\n\t146 & cAD150 & 137 & 0 & 0 & 0 & 0 & 1\\\\\n\t147 & cAD150 & 129 & 0 & 0 & 0 & 0 & 1\\\\\n\t148 & cAD150 & 140 & 0 & 0 & 0 & 0 & 1\\\\\n\t149 & cAD150 & 147 & 0 & 0 & 0 & 0 & 1\\\\\n\t150 & cAD150 & 136 & 0 & 0 & 0 & 0 & 1\\\\\n\\end{tabular}\n",
            "text/plain": [
              "    epoch   mb  b0 b1 b2 b3 b4\n",
              "1   c4000BC 131 1  0  0  0  0 \n",
              "2   c4000BC 125 1  0  0  0  0 \n",
              "3   c4000BC 131 1  0  0  0  0 \n",
              "4   c4000BC 119 1  0  0  0  0 \n",
              "5   c4000BC 136 1  0  0  0  0 \n",
              "6   c4000BC 138 1  0  0  0  0 \n",
              "7   c4000BC 139 1  0  0  0  0 \n",
              "8   c4000BC 125 1  0  0  0  0 \n",
              "9   c4000BC 131 1  0  0  0  0 \n",
              "10  c4000BC 134 1  0  0  0  0 \n",
              "11  c4000BC 129 1  0  0  0  0 \n",
              "12  c4000BC 134 1  0  0  0  0 \n",
              "13  c4000BC 126 1  0  0  0  0 \n",
              "14  c4000BC 132 1  0  0  0  0 \n",
              "15  c4000BC 141 1  0  0  0  0 \n",
              "16  c4000BC 131 1  0  0  0  0 \n",
              "17  c4000BC 135 1  0  0  0  0 \n",
              "18  c4000BC 132 1  0  0  0  0 \n",
              "19  c4000BC 139 1  0  0  0  0 \n",
              "20  c4000BC 132 1  0  0  0  0 \n",
              "21  c4000BC 126 1  0  0  0  0 \n",
              "22  c4000BC 135 1  0  0  0  0 \n",
              "23  c4000BC 134 1  0  0  0  0 \n",
              "24  c4000BC 128 1  0  0  0  0 \n",
              "25  c4000BC 130 1  0  0  0  0 \n",
              "26  c4000BC 138 1  0  0  0  0 \n",
              "27  c4000BC 128 1  0  0  0  0 \n",
              "28  c4000BC 127 1  0  0  0  0 \n",
              "29  c4000BC 131 1  0  0  0  0 \n",
              "30  c4000BC 124 1  0  0  0  0 \n",
              "⋮   ⋮       ⋮   ⋮  ⋮  ⋮  ⋮  ⋮ \n",
              "121 cAD150  137 0  0  0  0  1 \n",
              "122 cAD150  136 0  0  0  0  1 \n",
              "123 cAD150  128 0  0  0  0  1 \n",
              "124 cAD150  130 0  0  0  0  1 \n",
              "125 cAD150  138 0  0  0  0  1 \n",
              "126 cAD150  126 0  0  0  0  1 \n",
              "127 cAD150  136 0  0  0  0  1 \n",
              "128 cAD150  126 0  0  0  0  1 \n",
              "129 cAD150  132 0  0  0  0  1 \n",
              "130 cAD150  139 0  0  0  0  1 \n",
              "131 cAD150  143 0  0  0  0  1 \n",
              "132 cAD150  141 0  0  0  0  1 \n",
              "133 cAD150  135 0  0  0  0  1 \n",
              "134 cAD150  137 0  0  0  0  1 \n",
              "135 cAD150  142 0  0  0  0  1 \n",
              "136 cAD150  139 0  0  0  0  1 \n",
              "137 cAD150  138 0  0  0  0  1 \n",
              "138 cAD150  137 0  0  0  0  1 \n",
              "139 cAD150  133 0  0  0  0  1 \n",
              "140 cAD150  145 0  0  0  0  1 \n",
              "141 cAD150  138 0  0  0  0  1 \n",
              "142 cAD150  131 0  0  0  0  1 \n",
              "143 cAD150  143 0  0  0  0  1 \n",
              "144 cAD150  134 0  0  0  0  1 \n",
              "145 cAD150  132 0  0  0  0  1 \n",
              "146 cAD150  137 0  0  0  0  1 \n",
              "147 cAD150  129 0  0  0  0  1 \n",
              "148 cAD150  140 0  0  0  0  1 \n",
              "149 cAD150  147 0  0  0  0  1 \n",
              "150 cAD150  136 0  0  0  0  1 "
            ]
          },
          "metadata": {}
        }
      ]
    },
    {
      "cell_type": "code",
      "source": [
        "ANOVAreg <- lm(mb ~ b0+b1+b2+b3+b4 , data = skulls3)\n",
        "summary(ANOVAreg)"
      ],
      "metadata": {
        "colab": {
          "base_uri": "https://localhost:8080/",
          "height": 410
        },
        "id": "-dgKQBy8IXl2",
        "outputId": "926b469a-ccd9-4cac-bbf3-3837fceed7ab"
      },
      "execution_count": null,
      "outputs": [
        {
          "output_type": "display_data",
          "data": {
            "text/plain": [
              "\n",
              "Call:\n",
              "lm(formula = mb ~ b0 + b1 + b2 + b3 + b4, data = skulls3)\n",
              "\n",
              "Residuals:\n",
              "     Min       1Q   Median       3Q      Max \n",
              "-12.3667  -2.5000   0.1667   2.6333  15.6333 \n",
              "\n",
              "Coefficients: (1 not defined because of singularities)\n",
              "            Estimate Std. Error t value Pr(>|t|)    \n",
              "(Intercept) 136.1667     0.8389 162.323  < 2e-16 ***\n",
              "b0           -4.8000     1.1863  -4.046 8.44e-05 ***\n",
              "b1           -3.8000     1.1863  -3.203  0.00167 ** \n",
              "b2           -1.7000     1.1863  -1.433  0.15401    \n",
              "b3           -0.6667     1.1863  -0.562  0.57501    \n",
              "b4                NA         NA      NA       NA    \n",
              "---\n",
              "Signif. codes:  0 ‘***’ 0.001 ‘**’ 0.01 ‘*’ 0.05 ‘.’ 0.1 ‘ ’ 1\n",
              "\n",
              "Residual standard error: 4.595 on 145 degrees of freedom\n",
              "Multiple R-squared:  0.1411,\tAdjusted R-squared:  0.1174 \n",
              "F-statistic: 5.955 on 4 and 145 DF,  p-value: 0.0001826\n"
            ]
          },
          "metadata": {}
        }
      ]
    },
    {
      "cell_type": "code",
      "source": [
        "# Load the \"SkullsComplete.csv\" dataset\n",
        "skulls <- read.csv(\"SkullsComplete.csv\")\n",
        "\n",
        "# Create a contrast matrix for the coefficients of interest\n",
        "contrasts <- cbind(\n",
        "  \"b0\" = c(1, rep(0, 4)),\n",
        "  \"b1 (3300 BC)\" = c(0, 1, 0, 0, 0),\n",
        "  \"b2 (1850 BC)\" = c(0, 0, 1, 0, 0),\n",
        "  \"b3 (200 BC)\" = c(0, 0, 0, 1, 0),\n",
        "  \"b4 (150 AD)\" = c(0, 0, 0, 0, 1)\n",
        ")\n",
        "\n",
        "# Fit a linear model with the specified coefficients\n",
        "model <- lm(mb ~ epoch, data = skulls, contrasts = list(epoch = contrasts))\n",
        "\n",
        "# Get the coefficients and construct the model formula\n",
        "b0 <- coef(model)[1]\n",
        "b1 <- coef(model)[2]\n",
        "b2 <- coef(model)[3]\n",
        "b3 <- coef(model)[4]\n",
        "b4 <- coef(model)[5]\n",
        "formula <- paste0(\"mb = \", b0, \" + \", b1, \"*(c3300BC) + \", \n",
        "                  b2, \"*(c1850 BC) + \", b3, \"*(c200BC) + \", \n",
        "                  b4, \"*(cAD150)\")\n",
        "\n",
        "# Print the model formula\n",
        "cat(\"Linear model formula: \", formula, \"\\n\")\n"
      ],
      "metadata": {
        "colab": {
          "base_uri": "https://localhost:8080/"
        },
        "id": "-6CtLxlP51nR",
        "outputId": "b3e5069c-49e9-48a3-98b4-b9b258bd3e3f"
      },
      "execution_count": null,
      "outputs": [
        {
          "output_type": "stream",
          "name": "stdout",
          "text": [
            "Linear model formula:  mb = 136.166666666667 + -1.7*(3300 BC) + -0.666666666666665*(1850 BC) + -3.8*(200 BC) + -4.8*(150 AD) \n"
          ]
        }
      ]
    },
    {
      "cell_type": "code",
      "source": [
        "# Factor Treatment Column\n",
        "skulls3$epoch <- factor(skulls3$epoch)\n",
        "ANOVAclassic <- aov(mb ~ epoch, data = skulls3)\n",
        "summary(ANOVAclassic)\n"
      ],
      "metadata": {
        "colab": {
          "base_uri": "https://localhost:8080/",
          "height": 106
        },
        "id": "37JXQJrvMx59",
        "outputId": "305ef2ff-c642-4190-b59f-c28a339350d3"
      },
      "execution_count": 94,
      "outputs": [
        {
          "output_type": "display_data",
          "data": {
            "text/plain": [
              "             Df Sum Sq Mean Sq F value   Pr(>F)    \n",
              "epoch         4  502.8  125.71   5.955 0.000183 ***\n",
              "Residuals   145 3061.1   21.11                     \n",
              "---\n",
              "Signif. codes:  0 ‘***’ 0.001 ‘**’ 0.01 ‘*’ 0.05 ‘.’ 0.1 ‘ ’ 1"
            ]
          },
          "metadata": {}
        }
      ]
    },
    {
      "cell_type": "markdown",
      "source": [
        "# Question 4:\n",
        "\n",
        "### Is the omnibus F-test from the previous question’s linear model statistically significant? Report it’s value, degrees of freedom and p-value.\n",
        "\n",
        "#### \\- Display the F-statistic and p-value to 6 decimal places.\n",
        "\n",
        "-   Hint: to get accurate results, you will need to extract values from the summary output.\n",
        "\n",
        "  \n",
        "  \n",
        "\n"
      ],
      "metadata": {
        "id": "bf15eFXC83BJ"
      }
    },
    {
      "cell_type": "code",
      "source": [
        "# Factor Treatment Column\n",
        "skulls3$epoch <- factor(skulls3$epoch)\n",
        "ANOVAclassic <- aov(mb ~ epoch, data = skulls3)\n",
        "summary(ANOVAclassic)\n"
      ],
      "metadata": {
        "colab": {
          "base_uri": "https://localhost:8080/",
          "height": 106
        },
        "id": "zkwDhrN_Drwn",
        "outputId": "d2739184-52b5-4cfd-c2b3-6e94c3fb5f0a"
      },
      "execution_count": 95,
      "outputs": [
        {
          "output_type": "display_data",
          "data": {
            "text/plain": [
              "             Df Sum Sq Mean Sq F value   Pr(>F)    \n",
              "epoch         4  502.8  125.71   5.955 0.000183 ***\n",
              "Residuals   145 3061.1   21.11                     \n",
              "---\n",
              "Signif. codes:  0 ‘***’ 0.001 ‘**’ 0.01 ‘*’ 0.05 ‘.’ 0.1 ‘ ’ 1"
            ]
          },
          "metadata": {}
        }
      ]
    },
    {
      "cell_type": "code",
      "source": [
        "# store the ANOVA table\n",
        "anova_tbl <- anova(aov(mb ~ epoch, data = skulls3))\n",
        "\n",
        "# extract F-statistic and p-value\n",
        "f_value <- anova_tbl[1, \"F value\"]\n",
        "p_value <- anova_tbl[1, \"Pr(>F)\"]\n",
        "\n",
        "# print F-statistic and p-value to 6 decimal places\n",
        "cat(\"F value:\", format(round(f_value, 6), nsmall = 6), \"\\n\")\n",
        "cat(\"p-value:\", format(round(p_value, 6), nsmall = 6), \"\\n\")\n"
      ],
      "metadata": {
        "colab": {
          "base_uri": "https://localhost:8080/"
        },
        "id": "-WH303-0NRJ5",
        "outputId": "c7754e21-2266-4cc0-a6d4-a9f59b3136c9"
      },
      "execution_count": null,
      "outputs": [
        {
          "output_type": "stream",
          "name": "stdout",
          "text": [
            "F value: 5.954613 \n",
            "p-value: 0.000183 \n"
          ]
        }
      ]
    },
    {
      "cell_type": "markdown",
      "source": [
        "# Question 5:\n",
        "\n",
        "### What do the results you displayed in the previous question tell you?\n",
        "\n",
        "\n"
      ],
      "metadata": {
        "id": "TJIAS2On88Fd"
      }
    },
    {
      "cell_type": "markdown",
      "source": [
        "With a p-value of 0.000183, The results of the F-test show that at least one of the coefficients in the linear model is significantly different from zero. This indicates that the model as a whole is a good fit for the data and that the independent variables (epochs) have a significant effect on the dependent variable (maximal breadth). The F-value of 5.954613 suggests that the model explains a significant amount of the variability in the data."
      ],
      "metadata": {
        "id": "8rmPAVBjOQ6x"
      }
    },
    {
      "cell_type": "markdown",
      "source": [
        "# Question 6:\n",
        "\n",
        "### Based on the dummy coding you used to evaluate the **“SkullsComplete.csv”** data, what epochs was there a significant difference between?"
      ],
      "metadata": {
        "id": "SEPLNgukDh16"
      }
    },
    {
      "cell_type": "markdown",
      "source": [
        " A p-value less than the alpha level (typically 0.05) indicates that the corresponding coefficient is significantly different from zero, which in turn indicates a significant difference between the epochs represented by that coefficient.In this case would be b1 (ie. c3300BC-c4000BC)\n"
      ],
      "metadata": {
        "id": "4G6e8s6oPEBH"
      }
    },
    {
      "cell_type": "markdown",
      "source": [
        "\n",
        "# Question 7:\n",
        "\n",
        "### For the **“SkullsComplete.csv”** data, calculate an omnibus F-test manually without using `lm()` or `aov()`. Report the following . . . .\n",
        "\n",
        "-   Grand Mean\n",
        "-   Total Sum of Squares\n",
        "-   Model Sum of Squares\n",
        "-   Residual Sum of Squares\n",
        "-   Model Mean Squares\n",
        "-   Residual Mean Squares\n",
        "-   Multiple $R^2$\n",
        "-   F statistic\n",
        "-   p-value\n",
        "\n",
        "Round everything to 3 decimal places except the F-statistic and p-value. Round them to 6 decimal places. Note: these results should be **identical** to the earlier F-statistic and p-value you obtained in Question 4.\n",
        "\n",
        "  \n",
        "  \n",
        "\n"
      ],
      "metadata": {
        "id": "0NxJ0hU39Au5"
      }
    },
    {
      "cell_type": "code",
      "source": [
        "install.packages(\"plyr\")"
      ],
      "metadata": {
        "colab": {
          "base_uri": "https://localhost:8080/"
        },
        "id": "fboTuPuXQNkU",
        "outputId": "6c93e325-206e-47f8-baf8-da4afdbd3669"
      },
      "execution_count": null,
      "outputs": [
        {
          "output_type": "stream",
          "name": "stderr",
          "text": [
            "Installing package into ‘/usr/local/lib/R/site-library’\n",
            "(as ‘lib’ is unspecified)\n",
            "\n",
            "also installing the dependency ‘Rcpp’\n",
            "\n",
            "\n"
          ]
        }
      ]
    },
    {
      "cell_type": "code",
      "source": [
        "# Read the data from the CSV file\n",
        "skulls <- read.csv(\"SkullsComplete.csv\")\n",
        "# Remove the unwanted columns\n",
        "skulls <- subset(skulls, select = c(\"epoch\", \"mb\"))\n",
        "#grand mean\n",
        "grand <- mean(skulls$mb)\n",
        "grand\n",
        "# Total Sum of Squares \n",
        "SST <- sum((skulls$mb - grand)^2)\n",
        "SST\n",
        "#group \n",
        "skulls$epoch <- factor(skulls$epoch)\n",
        "levels(skulls$epoch)\n",
        "\n",
        "# Model Sum of Squares\n",
        "library(plyr)\n",
        "SSM_data <- ddply(skulls, c(\"epoch\"), summarise,\n",
        "                  n = length(mb),\n",
        "                  Mean = mean(mb))\n",
        "\n",
        "SSM_data"
      ],
      "metadata": {
        "colab": {
          "base_uri": "https://localhost:8080/",
          "height": 307
        },
        "id": "s264k0msllgG",
        "outputId": "44ab9d6f-7dff-4ddc-ebf1-d613f80042ab"
      },
      "execution_count": null,
      "outputs": [
        {
          "output_type": "display_data",
          "data": {
            "text/html": [
              "133.973333333333"
            ],
            "text/markdown": "133.973333333333",
            "text/latex": "133.973333333333",
            "text/plain": [
              "[1] 133.9733"
            ]
          },
          "metadata": {}
        },
        {
          "output_type": "display_data",
          "data": {
            "text/html": [
              "3563.89333333333"
            ],
            "text/markdown": "3563.89333333333",
            "text/latex": "3563.89333333333",
            "text/plain": [
              "[1] 3563.893"
            ]
          },
          "metadata": {}
        },
        {
          "output_type": "display_data",
          "data": {
            "text/html": [
              "<style>\n",
              ".list-inline {list-style: none; margin:0; padding: 0}\n",
              ".list-inline>li {display: inline-block}\n",
              ".list-inline>li:not(:last-child)::after {content: \"\\00b7\"; padding: 0 .5ex}\n",
              "</style>\n",
              "<ol class=list-inline><li>'c1850BC'</li><li>'c200BC'</li><li>'c3300BC'</li><li>'c4000BC'</li><li>'cAD150'</li></ol>\n"
            ],
            "text/markdown": "1. 'c1850BC'\n2. 'c200BC'\n3. 'c3300BC'\n4. 'c4000BC'\n5. 'cAD150'\n\n\n",
            "text/latex": "\\begin{enumerate*}\n\\item 'c1850BC'\n\\item 'c200BC'\n\\item 'c3300BC'\n\\item 'c4000BC'\n\\item 'cAD150'\n\\end{enumerate*}\n",
            "text/plain": [
              "[1] \"c1850BC\" \"c200BC\"  \"c3300BC\" \"c4000BC\" \"cAD150\" "
            ]
          },
          "metadata": {}
        },
        {
          "output_type": "display_data",
          "data": {
            "text/html": [
              "<table class=\"dataframe\">\n",
              "<caption>A data.frame: 5 × 3</caption>\n",
              "<thead>\n",
              "\t<tr><th scope=col>epoch</th><th scope=col>n</th><th scope=col>Mean</th></tr>\n",
              "\t<tr><th scope=col>&lt;fct&gt;</th><th scope=col>&lt;int&gt;</th><th scope=col>&lt;dbl&gt;</th></tr>\n",
              "</thead>\n",
              "<tbody>\n",
              "\t<tr><td>c1850BC</td><td>30</td><td>134.4667</td></tr>\n",
              "\t<tr><td>c200BC </td><td>30</td><td>135.5000</td></tr>\n",
              "\t<tr><td>c3300BC</td><td>30</td><td>132.3667</td></tr>\n",
              "\t<tr><td>c4000BC</td><td>30</td><td>131.3667</td></tr>\n",
              "\t<tr><td>cAD150 </td><td>30</td><td>136.1667</td></tr>\n",
              "</tbody>\n",
              "</table>\n"
            ],
            "text/markdown": "\nA data.frame: 5 × 3\n\n| epoch &lt;fct&gt; | n &lt;int&gt; | Mean &lt;dbl&gt; |\n|---|---|---|\n| c1850BC | 30 | 134.4667 |\n| c200BC  | 30 | 135.5000 |\n| c3300BC | 30 | 132.3667 |\n| c4000BC | 30 | 131.3667 |\n| cAD150  | 30 | 136.1667 |\n\n",
            "text/latex": "A data.frame: 5 × 3\n\\begin{tabular}{lll}\n epoch & n & Mean\\\\\n <fct> & <int> & <dbl>\\\\\n\\hline\n\t c1850BC & 30 & 134.4667\\\\\n\t c200BC  & 30 & 135.5000\\\\\n\t c3300BC & 30 & 132.3667\\\\\n\t c4000BC & 30 & 131.3667\\\\\n\t cAD150  & 30 & 136.1667\\\\\n\\end{tabular}\n",
            "text/plain": [
              "  epoch   n  Mean    \n",
              "1 c1850BC 30 134.4667\n",
              "2 c200BC  30 135.5000\n",
              "3 c3300BC 30 132.3667\n",
              "4 c4000BC 30 131.3667\n",
              "5 cAD150  30 136.1667"
            ]
          },
          "metadata": {}
        }
      ]
    },
    {
      "cell_type": "code",
      "source": [
        "n=150\n",
        "SSM <- sum(SSM_data$n * (SSM_data$Mean - grand)^2)\n",
        "SSM"
      ],
      "metadata": {
        "colab": {
          "base_uri": "https://localhost:8080/",
          "height": 34
        },
        "id": "M-77odF8P4rO",
        "outputId": "562452a1-558b-4f5d-afc2-35e4cb3c0db6"
      },
      "execution_count": null,
      "outputs": [
        {
          "output_type": "display_data",
          "data": {
            "text/html": [
              "502.826666666664"
            ],
            "text/markdown": "502.826666666664",
            "text/latex": "502.826666666664",
            "text/plain": [
              "[1] 502.8267"
            ]
          },
          "metadata": {}
        }
      ]
    },
    {
      "cell_type": "code",
      "source": [
        "# Load the data\n",
        "skulls <- read.csv(\"SkullsComplete.csv\")\n",
        "\n",
        "# Calculate the grand mean\n",
        "grand_mean <- mean(skulls$mb)\n",
        "\n",
        "# Calculate the total sum of squares\n",
        "total_ss <- sum((skulls$mb - grand_mean)^2)\n",
        "\n",
        "df <- data.frame(epoch = c(\"c4000BC\", \"c3300BC\", \"c1850BC\", \"c200BC\", \"cAD150\"),\n",
        "                  n = c(30, 30, 30, 30, 30),\n",
        "                  Mean = c(131.3667, 132.3667, 134.4667, 135.5000, 136.1667),\n",
        "                  df = c(29, 29, 29, 29, 29),\n",
        "                  alpha = c(0.05, 0.05, 0.05, 0.05, 0.05),\n",
        "                  t_crit = c(2.04523, 2.04523, 2.04523, 2.04523, 2.04523),\n",
        "                  se = c(0.9364685, 0.8781948, 0.6355979, 0.7155899, 0.9768391),\n",
        "                  MOE = c(1.915293, 1.796110, 1.299944, 1.463546, 1.997860),\n",
        "                  CI_bottom = c(129.4514, 130.5706, 133.1667, 134.0365, 134.1688),\n",
        "                  CI_top = c(133.2820, 134.1628, 135.7666, 136.9635, 138.1645))\n",
        "\n",
        "mean_c4000BC <- df$Mean[df$epoch == \"c4000BC\"]\n",
        "\n",
        "\n",
        "# Calculate the model sum of squares\n",
        "b0 <- df$Mean[df$epoch == \"c4000BC\"]\n",
        "b1 <- (df$Mean[df$epoch == \"c3300BC\"]) - b0\n",
        "b2 <- (df$Mean[df$epoch == \"c1850BC\"]) - b0\n",
        "b3 <- (df$Mean[df$epoch == \"c200BC\"]) - b0\n",
        "b4 <- (df$Mean[df$epoch == \"cAD150\"]) - b0\n",
        "model_ss <- b0 + b1*as.numeric(skulls$epoch == \"c3300BC\") + b2*as.numeric(skulls$epoch == \"c1850BC\") +\n",
        "            b3*as.numeric(skulls$epoch == \"c200BC\") + b4*as.numeric(skulls$epoch == \"cAD150\")\n",
        "model_ss <- sum((model_ss - grand_mean)^2)\n",
        "\n",
        "# Calculate the residual sum of squares\n",
        "residual_ss <- total_ss - model_ss\n",
        "\n",
        "# Calculate the model mean squares\n",
        "model_ms <- model_ss / 4\n",
        "\n",
        "# Calculate the residual mean squares\n",
        "residual_ms <- residual_ss / 145\n",
        "\n",
        "# Calculate the multiple R-squared\n",
        "multiple_r_squared <- model_ss / total_ss\n",
        "\n",
        "# Calculate the F statistic\n",
        "f_value <- model_ms / residual_ms\n",
        "\n",
        "# Calculate the p-value\n",
        "p_value <- pf(f_value, df1=4, df2=145, lower.tail=FALSE)\n",
        "\n",
        "# Print the results\n",
        "cat(\"Grand Mean = \", round(grand_mean, 3), \"\\n\")\n",
        "cat(\"Total Sum of Squares = \", round(total_ss, 3), \"\\n\")\n",
        "cat(\"Model Sum of Squares = \", round(model_ss, 3), \"\\n\")\n",
        "cat(\"Residual Sum of Squares = \", round(residual_ss, 3), \"\\n\")\n",
        "cat(\"Model Mean Squares = \", round(model_ms, 3), \"\\n\")\n",
        "cat(\"Residual Mean Squares = \", round(residual_ms, 3), \"\\n\")\n",
        "cat(\"Multiple R-squared = \", round(multiple_r_squared, 3), \"\\n\")\n",
        "cat(\"F statistic = \", round(f_value, 6), \"\\n\")\n",
        "cat(\"p-value = \", format(p_value, scientific=TRUE, digits=6), \"\\n\")\n"
      ],
      "metadata": {
        "colab": {
          "base_uri": "https://localhost:8080/"
        },
        "id": "3J4aGd2PVKKF",
        "outputId": "c9b898b2-681a-43c0-9b3e-55ee9cb383ba"
      },
      "execution_count": null,
      "outputs": [
        {
          "output_type": "stream",
          "name": "stdout",
          "text": [
            "Grand Mean =  133.973 \n",
            "Total Sum of Squares =  3563.893 \n",
            "Model Sum of Squares =  502.824 \n",
            "Residual Sum of Squares =  3061.07 \n",
            "Model Mean Squares =  125.706 \n",
            "Residual Mean Squares =  21.111 \n",
            "Multiple R-squared =  0.141 \n",
            "F statistic =  5.954571 \n",
            "p-value =  1.82644e-04 \n"
          ]
        }
      ]
    },
    {
      "cell_type": "code",
      "source": [
        "install.packages(\"plyr\")\n"
      ],
      "metadata": {
        "colab": {
          "base_uri": "https://localhost:8080/"
        },
        "id": "6XRH1OvIPhqL",
        "outputId": "b9e87407-485f-4ec4-da8e-606a94b3140c"
      },
      "execution_count": null,
      "outputs": [
        {
          "output_type": "stream",
          "name": "stderr",
          "text": [
            "Installing package into ‘/usr/local/lib/R/site-library’\n",
            "(as ‘lib’ is unspecified)\n",
            "\n"
          ]
        }
      ]
    },
    {
      "cell_type": "markdown",
      "source": [
        "# Question 8:\n",
        "\n",
        "### Does the model you created for the **“SkullsComplete.csv”** data violate the normality assumption?\n",
        "\n",
        " "
      ],
      "metadata": {
        "id": "AsOw3UGC9DLK"
      }
    },
    {
      "cell_type": "code",
      "source": [
        "resid <- residuals(model)\n",
        "hist(resid)\n"
      ],
      "metadata": {
        "colab": {
          "base_uri": "https://localhost:8080/",
          "height": 437
        },
        "id": "_DjIuI9JVr6W",
        "outputId": "84808185-f8f7-45ef-e519-02e3ef768273"
      },
      "execution_count": null,
      "outputs": [
        {
          "output_type": "display_data",
          "data": {
            "text/plain": [
              "Plot with title “Histogram of resid”"
            ],
            "image/png": "[encoded data removed]"
          },
          "metadata": {
            "image/png": {
              "width": 420,
              "height": 420
            }
          }
        }
      ]
    },
    {
      "cell_type": "code",
      "source": [
        "options(repr.plot.width = 10, repr.plot.height = 9)\n",
        "qqnorm(resid)\n",
        "qqline(resid)\n"
      ],
      "metadata": {
        "colab": {
          "base_uri": "https://localhost:8080/",
          "height": 557
        },
        "id": "nb7GmnTMV_QZ",
        "outputId": "142abbd6-9252-420c-ad1d-e4da98fe537f"
      },
      "execution_count": 93,
      "outputs": [
        {
          "output_type": "display_data",
          "data": {
            "text/plain": [
              "Plot with title “Normal Q-Q Plot”"
            ],
            "image/png": "[encoded data removed]"
          },
          "metadata": {
            "image/png": {
              "width": 600,
              "height": 540
            }
          }
        }
      ]
    },
    {
      "cell_type": "markdown",
      "source": [
        "It seems that the distribution of residuals in the model  may not be perfectly normal, but it is close enough to normality. The left-skewness of the histogram and the approximately linear QQ plot suggest that there may be some deviation from normality, but it is not severe enough to be a major concern for analysis."
      ],
      "metadata": {
        "id": "vPw-yJftWXQr"
      }
    },
    {
      "cell_type": "markdown",
      "source": [
        " \n",
        "  \n",
        "\n",
        "# Question 9:\n",
        "\n",
        "### Does the model you created for the **“SkullsComplete.csv”** data violate the homogeneity assumption?\n"
      ],
      "metadata": {
        "id": "mAa9Ujqw9E7p"
      }
    },
    {
      "cell_type": "code",
      "source": [
        "install.packages(\"car\")\n",
        "library(car)"
      ],
      "metadata": {
        "colab": {
          "base_uri": "https://localhost:8080/"
        },
        "id": "KPTp_5qYYIMD",
        "outputId": "b1388305-00bc-4b82-d46b-e2601f57b669"
      },
      "execution_count": null,
      "outputs": [
        {
          "output_type": "stream",
          "name": "stderr",
          "text": [
            "Installing package into ‘/usr/local/lib/R/site-library’\n",
            "(as ‘lib’ is unspecified)\n",
            "\n",
            "also installing the dependencies ‘numDeriv’, ‘SparseM’, ‘MatrixModels’, ‘minqa’, ‘nloptr’, ‘RcppEigen’, ‘carData’, ‘abind’, ‘pbkrtest’, ‘quantreg’, ‘lme4’\n",
            "\n",
            "\n",
            "Loading required package: carData\n",
            "\n"
          ]
        }
      ]
    },
    {
      "cell_type": "code",
      "source": [
        "skulls3$epoch <- factor(skulls3$epoch)\n",
        "leveneTest(skulls3$mb, skulls3$epoch, center = median)"
      ],
      "metadata": {
        "colab": {
          "base_uri": "https://localhost:8080/",
          "height": 161
        },
        "id": "YFZZlCEQXBor",
        "outputId": "c6dba943-890b-4a55-9e81-7caf1c216447"
      },
      "execution_count": null,
      "outputs": [
        {
          "output_type": "display_data",
          "data": {
            "text/html": [
              "<table class=\"dataframe\">\n",
              "<caption>A anova: 2 × 3</caption>\n",
              "<thead>\n",
              "\t<tr><th></th><th scope=col>Df</th><th scope=col>F value</th><th scope=col>Pr(&gt;F)</th></tr>\n",
              "\t<tr><th></th><th scope=col>&lt;int&gt;</th><th scope=col>&lt;dbl&gt;</th><th scope=col>&lt;dbl&gt;</th></tr>\n",
              "</thead>\n",
              "<tbody>\n",
              "\t<tr><th scope=row>group</th><td>  4</td><td>1.03666</td><td>0.3904702</td></tr>\n",
              "\t<tr><th scope=row> </th><td>145</td><td>     NA</td><td>       NA</td></tr>\n",
              "</tbody>\n",
              "</table>\n"
            ],
            "text/markdown": "\nA anova: 2 × 3\n\n| <!--/--> | Df &lt;int&gt; | F value &lt;dbl&gt; | Pr(&gt;F) &lt;dbl&gt; |\n|---|---|---|---|\n| group |   4 | 1.03666 | 0.3904702 |\n| <!----> | 145 |      NA |        NA |\n\n",
            "text/latex": "A anova: 2 × 3\n\\begin{tabular}{r|lll}\n  & Df & F value & Pr(>F)\\\\\n  & <int> & <dbl> & <dbl>\\\\\n\\hline\n\tgroup &   4 & 1.03666 & 0.3904702\\\\\n\t  & 145 &      NA &        NA\\\\\n\\end{tabular}\n",
            "text/plain": [
              "      Df  F value Pr(>F)   \n",
              "group   4 1.03666 0.3904702\n",
              "      145      NA        NA"
            ]
          },
          "metadata": {}
        }
      ]
    },
    {
      "cell_type": "markdown",
      "source": [
        "# Question 10:\n",
        "\n",
        "### The data **“salary.csv”** shows the salary of different high-level job positions.\n",
        "\n",
        "### Use polynomial contrasts to determine which type of trends are most appropriate to describe this data. i.e., specify which trend types are significant."
      ],
      "metadata": {
        "id": "AVUcxHOB9G7_"
      }
    },
    {
      "cell_type": "code",
      "source": [
        "sawdust <- read.csv(\"salary.csv\")\n",
        "library(plyr)\n",
        "library(ggplot2)\n",
        "options(repr.plot.width = 7, repr.plot.height = 5)\n",
        "\n",
        "\n",
        "plotData <- ddply(sawdust, c(\"Position\"), summarise,\n",
        "                  n = length(Salary),\n",
        "                  Mean = mean(Salary),\n",
        "                  df = n - 1,\n",
        "                  alpha = 0.05,\n",
        "                  t_crit = qt(alpha/2, df = df, lower.tail = FALSE),\n",
        "                  se = sd(Salary) / sqrt(n),\n",
        "                  MOE = se * t_crit\n",
        ")\n",
        "\n",
        "plotData"
      ],
      "metadata": {
        "colab": {
          "base_uri": "https://localhost:8080/",
          "height": 412
        },
        "id": "vrl7ss61a124",
        "outputId": "afc7e890-38cb-4e0c-ea03-6bf71ffd95a3"
      },
      "execution_count": null,
      "outputs": [
        {
          "output_type": "display_data",
          "data": {
            "text/html": [
              "<table class=\"dataframe\">\n",
              "<caption>A data.frame: 10 × 8</caption>\n",
              "<thead>\n",
              "\t<tr><th scope=col>Position</th><th scope=col>n</th><th scope=col>Mean</th><th scope=col>df</th><th scope=col>alpha</th><th scope=col>t_crit</th><th scope=col>se</th><th scope=col>MOE</th></tr>\n",
              "\t<tr><th scope=col>&lt;chr&gt;</th><th scope=col>&lt;int&gt;</th><th scope=col>&lt;dbl&gt;</th><th scope=col>&lt;dbl&gt;</th><th scope=col>&lt;dbl&gt;</th><th scope=col>&lt;dbl&gt;</th><th scope=col>&lt;dbl&gt;</th><th scope=col>&lt;dbl&gt;</th></tr>\n",
              "</thead>\n",
              "<tbody>\n",
              "\t<tr><td>Business Analyst </td><td>13</td><td> 45218.38</td><td>12</td><td>0.05</td><td>2.178813</td><td> 4267.971</td><td> 9299.110</td></tr>\n",
              "\t<tr><td>C-level          </td><td>13</td><td>365487.69</td><td>12</td><td>0.05</td><td>2.178813</td><td>26351.874</td><td>57415.801</td></tr>\n",
              "\t<tr><td>CEO              </td><td>13</td><td>494757.00</td><td>12</td><td>0.05</td><td>2.178813</td><td>26691.328</td><td>58155.407</td></tr>\n",
              "\t<tr><td>Country Manager  </td><td>13</td><td>101364.77</td><td>12</td><td>0.05</td><td>2.178813</td><td>13840.781</td><td>30156.472</td></tr>\n",
              "\t<tr><td>Junior Consultant</td><td>13</td><td> 47980.38</td><td>12</td><td>0.05</td><td>2.178813</td><td> 2538.181</td><td> 5530.221</td></tr>\n",
              "\t<tr><td>Manager          </td><td>13</td><td> 84030.54</td><td>12</td><td>0.05</td><td>2.178813</td><td> 2550.279</td><td> 5556.580</td></tr>\n",
              "\t<tr><td>Partner          </td><td>13</td><td>202769.77</td><td>12</td><td>0.05</td><td>2.178813</td><td>13096.561</td><td>28534.955</td></tr>\n",
              "\t<tr><td>Region Manager   </td><td>13</td><td>139134.85</td><td>12</td><td>0.05</td><td>2.178813</td><td>14921.923</td><td>32512.077</td></tr>\n",
              "\t<tr><td>Senior Consultant</td><td>13</td><td> 56339.38</td><td>12</td><td>0.05</td><td>2.178813</td><td> 2718.864</td><td> 5923.897</td></tr>\n",
              "\t<tr><td>Senior Partner   </td><td>13</td><td>296786.69</td><td>12</td><td>0.05</td><td>2.178813</td><td>27750.812</td><td>60463.824</td></tr>\n",
              "</tbody>\n",
              "</table>\n"
            ],
            "text/markdown": "\nA data.frame: 10 × 8\n\n| Position &lt;chr&gt; | n &lt;int&gt; | Mean &lt;dbl&gt; | df &lt;dbl&gt; | alpha &lt;dbl&gt; | t_crit &lt;dbl&gt; | se &lt;dbl&gt; | MOE &lt;dbl&gt; |\n|---|---|---|---|---|---|---|---|\n| Business Analyst  | 13 |  45218.38 | 12 | 0.05 | 2.178813 |  4267.971 |  9299.110 |\n| C-level           | 13 | 365487.69 | 12 | 0.05 | 2.178813 | 26351.874 | 57415.801 |\n| CEO               | 13 | 494757.00 | 12 | 0.05 | 2.178813 | 26691.328 | 58155.407 |\n| Country Manager   | 13 | 101364.77 | 12 | 0.05 | 2.178813 | 13840.781 | 30156.472 |\n| Junior Consultant | 13 |  47980.38 | 12 | 0.05 | 2.178813 |  2538.181 |  5530.221 |\n| Manager           | 13 |  84030.54 | 12 | 0.05 | 2.178813 |  2550.279 |  5556.580 |\n| Partner           | 13 | 202769.77 | 12 | 0.05 | 2.178813 | 13096.561 | 28534.955 |\n| Region Manager    | 13 | 139134.85 | 12 | 0.05 | 2.178813 | 14921.923 | 32512.077 |\n| Senior Consultant | 13 |  56339.38 | 12 | 0.05 | 2.178813 |  2718.864 |  5923.897 |\n| Senior Partner    | 13 | 296786.69 | 12 | 0.05 | 2.178813 | 27750.812 | 60463.824 |\n\n",
            "text/latex": "A data.frame: 10 × 8\n\\begin{tabular}{llllllll}\n Position & n & Mean & df & alpha & t\\_crit & se & MOE\\\\\n <chr> & <int> & <dbl> & <dbl> & <dbl> & <dbl> & <dbl> & <dbl>\\\\\n\\hline\n\t Business Analyst  & 13 &  45218.38 & 12 & 0.05 & 2.178813 &  4267.971 &  9299.110\\\\\n\t C-level           & 13 & 365487.69 & 12 & 0.05 & 2.178813 & 26351.874 & 57415.801\\\\\n\t CEO               & 13 & 494757.00 & 12 & 0.05 & 2.178813 & 26691.328 & 58155.407\\\\\n\t Country Manager   & 13 & 101364.77 & 12 & 0.05 & 2.178813 & 13840.781 & 30156.472\\\\\n\t Junior Consultant & 13 &  47980.38 & 12 & 0.05 & 2.178813 &  2538.181 &  5530.221\\\\\n\t Manager           & 13 &  84030.54 & 12 & 0.05 & 2.178813 &  2550.279 &  5556.580\\\\\n\t Partner           & 13 & 202769.77 & 12 & 0.05 & 2.178813 & 13096.561 & 28534.955\\\\\n\t Region Manager    & 13 & 139134.85 & 12 & 0.05 & 2.178813 & 14921.923 & 32512.077\\\\\n\t Senior Consultant & 13 &  56339.38 & 12 & 0.05 & 2.178813 &  2718.864 &  5923.897\\\\\n\t Senior Partner    & 13 & 296786.69 & 12 & 0.05 & 2.178813 & 27750.812 & 60463.824\\\\\n\\end{tabular}\n",
            "text/plain": [
              "   Position          n  Mean      df alpha t_crit   se        MOE      \n",
              "1  Business Analyst  13  45218.38 12 0.05  2.178813  4267.971  9299.110\n",
              "2  C-level           13 365487.69 12 0.05  2.178813 26351.874 57415.801\n",
              "3  CEO               13 494757.00 12 0.05  2.178813 26691.328 58155.407\n",
              "4  Country Manager   13 101364.77 12 0.05  2.178813 13840.781 30156.472\n",
              "5  Junior Consultant 13  47980.38 12 0.05  2.178813  2538.181  5530.221\n",
              "6  Manager           13  84030.54 12 0.05  2.178813  2550.279  5556.580\n",
              "7  Partner           13 202769.77 12 0.05  2.178813 13096.561 28534.955\n",
              "8  Region Manager    13 139134.85 12 0.05  2.178813 14921.923 32512.077\n",
              "9  Senior Consultant 13  56339.38 12 0.05  2.178813  2718.864  5923.897\n",
              "10 Senior Partner    13 296786.69 12 0.05  2.178813 27750.812 60463.824"
            ]
          },
          "metadata": {}
        }
      ]
    },
    {
      "cell_type": "code",
      "source": [
        "# Load the data set\n",
        "salary_data <- read.csv(\"salary.csv\")\n",
        "\n",
        "# Perform polynomial contrasts\n",
        "salary_data$Level_poly <- salary_data$Level^2\n",
        "\n",
        "fit <- lm(Salary ~ poly(Level, 2, raw = TRUE), data = salary_data)\n",
        "\n",
        "# View the results\n",
        "summary(fit)\n"
      ],
      "metadata": {
        "colab": {
          "base_uri": "https://localhost:8080/",
          "height": 356
        },
        "id": "fXeiEBTPbHH-",
        "outputId": "ed21e18f-516f-42a8-b9f2-0531fdcd5b7e"
      },
      "execution_count": 83,
      "outputs": [
        {
          "output_type": "display_data",
          "data": {
            "text/plain": [
              "\n",
              "Call:\n",
              "lm(formula = Salary ~ poly(Level, 2, raw = TRUE), data = salary_data)\n",
              "\n",
              "Residuals:\n",
              "    Min      1Q  Median      3Q     Max \n",
              "-188854  -27731    -290   18175  210338 \n",
              "\n",
              "Coefficients:\n",
              "                            Estimate Std. Error t value Pr(>|t|)    \n",
              "(Intercept)                  78838.1    19401.4   4.064 8.41e-05 ***\n",
              "poly(Level, 2, raw = TRUE)1 -31138.2     8102.9  -3.843 0.000191 ***\n",
              "poly(Level, 2, raw = TRUE)2   7163.9      717.9   9.979  < 2e-16 ***\n",
              "---\n",
              "Signif. codes:  0 ‘***’ 0.001 ‘**’ 0.01 ‘*’ 0.05 ‘.’ 0.1 ‘ ’ 1\n",
              "\n",
              "Residual standard error: 59480 on 127 degrees of freedom\n",
              "Multiple R-squared:  0.8613,\tAdjusted R-squared:  0.8591 \n",
              "F-statistic: 394.2 on 2 and 127 DF,  p-value: < 2.2e-16\n"
            ]
          },
          "metadata": {}
        }
      ]
    },
    {
      "cell_type": "markdown",
      "source": [
        "Both polynomial contrasts are significant, as indicated by their t-values and p-values. The adjusted R-squared value is 0.8591. The F-stat is significant at p-value < 2.2e-16, indicating that the model is a good fit for the data.\n",
        "\n",
        "Therefore, the results suggest that a quadratic trend is most appropriate to describe the data."
      ],
      "metadata": {
        "id": "Qcg_Ml3jgkJ-"
      }
    },
    {
      "cell_type": "markdown",
      "source": [
        "# Question 11:\n",
        "\n",
        "### Write out the simplest polynomial equation/model that **best** describes the trend seen in the **salary.csv** data.\n"
      ],
      "metadata": {
        "id": "k8mp8Bc-9Jso"
      }
    },
    {
      "cell_type": "markdown",
      "source": [
        "$$Salary = 78838.1 - 31138.2 (Level) + 7163.9(Level)^2$$"
      ],
      "metadata": {
        "id": "oaU29cdxhDEJ"
      }
    },
    {
      "cell_type": "markdown",
      "source": [
        "# Question 12:\n",
        "\n",
        "### Plot the equation from the previous question as a line on top of the observed values."
      ],
      "metadata": {
        "id": "MfLmIx3Z9NET"
      }
    },
    {
      "cell_type": "code",
      "source": [
        "# Create a sequence of values over which to plot the line\n",
        "x_seq <- seq(min(salary_data$Level), max(salary_data$Level), length.out = 100)\n",
        "\n",
        "# Generate predicted values from the model at each point in the sequence\n",
        "y_pred <- predict(model, newdata = data.frame(Level = x_seq))\n",
        "\n",
        "# Plot the observed values as points and the predicted values as a line\n",
        "options(repr.plot.width = 15, repr.plot.height = 10)\n",
        "plot(salary_data$Level, salary_data$Salary, xlab = \"Level\", ylab = \"Salary\")\n",
        "lines(x_seq, y_pred, col = \"red\")\n"
      ],
      "metadata": {
        "colab": {
          "base_uri": "https://localhost:8080/",
          "height": 617
        },
        "id": "IVv6qeeqhsXT",
        "outputId": "00a57531-32d2-4c92-9ce3-b95b7304a0bb"
      },
      "execution_count": 91,
      "outputs": [
        {
          "output_type": "display_data",
          "data": {
            "text/plain": [
              "plot without title"
            ],
            "image/png": "[encoded data removed]"
          },
          "metadata": {
            "image/png": {
              "width": 900,
              "height": 600
            }
          }
        }
      ]
    }
  ]
}