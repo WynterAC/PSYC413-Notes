{
  "nbformat": 4,
  "nbformat_minor": 0,
  "metadata": {
    "colab": {
      "provenance": [],
      "toc_visible": true,
      "authorship_tag": "ABX9TyNOM4EQtpE1D3yH2tV0Ieba",
      "include_colab_link": true
    },
    "kernelspec": {
      "name": "ir",
      "display_name": "R"
    },
    "language_info": {
      "name": "R"
    }
  },
  "cells": [
    {
      "cell_type": "markdown",
      "metadata": {
        "id": "view-in-github",
        "colab_type": "text"
      },
      "source": [
        "<a href=\"https://colab.research.google.com/github/WynterAC/PSYC413/blob/main/PSYC413/Homework/Homework_5.ipynb\" target=\"_parent\"><img src=\"https://colab.research.google.com/assets/colab-badge.svg\" alt=\"Open In Colab\"/></a>"
      ]
    },
    {
      "cell_type": "markdown",
      "source": [
        "# Homework 5\n",
        "\n",
        "Make sure all the code you used to answer the question has been run (i.e., displays an output). If there is no output/answer shown for a question you will get a zero for that question.\n",
        "Unless stated otherwise, round all answers to 3 decimal places.\n",
        "Note: there should be no rounding inside the calculations you do.\n",
        "For ease of reading, avoid showing the outputs of unnecessary values. Just show outputs of the final result.\n",
        "Do not use trimmed tests unless specified by the question.\n",
        "\n"
      ],
      "metadata": {
        "id": "_BKNZN_ZLiUz"
      }
    },
    {
      "cell_type": "markdown",
      "source": [
        "# Question 1:\n",
        "In the previous homework assignment, you were asked to test and plot the following results:\n",
        "x¯1=15\n",
        "x¯2=12\n",
        "s21=8\n",
        "s22=24\n",
        "n1=20\n",
        "n2=10\n",
        "The plot revealed a potentially serious problem. Conduct a test that is designed to solve this specific problem. Do the conclusions change from what you got when you ran a classic t-test? Specify the name of the test you ran, its test statistic, degrees of freedom, p-value, and 95% confidence interval."
      ],
      "metadata": {
        "id": "pZHtc-MOMCq5"
      }
    },
    {
      "cell_type": "markdown",
      "source": [
        "## Previous Question\n"
      ],
      "metadata": {
        "id": "DhbQgmErQkHu"
      }
    },
    {
      "cell_type": "code",
      "source": [
        "install.packages(\"WRS2\")"
      ],
      "metadata": {
        "colab": {
          "base_uri": "https://localhost:8080/"
        },
        "id": "8XX52YM2QqTx",
        "outputId": "74b7efae-194c-4582-fea7-964a0365e127"
      },
      "execution_count": 2,
      "outputs": [
        {
          "output_type": "stream",
          "name": "stderr",
          "text": [
            "Installing package into ‘/usr/local/lib/R/site-library’\n",
            "(as ‘lib’ is unspecified)\n",
            "\n",
            "also installing the dependencies ‘Rcpp’, ‘mvtnorm’, ‘reshape’, ‘plyr’, ‘mc2d’\n",
            "\n",
            "\n"
          ]
        }
      ]
    },
    {
      "cell_type": "code",
      "source": [
        "library(WRS2)"
      ],
      "metadata": {
        "id": "k0Gt21hRSH2t"
      },
      "execution_count": 3,
      "outputs": []
    },
    {
      "cell_type": "code",
      "source": [
        "library(ggplot2)\n",
        "library(plyr)"
      ],
      "metadata": {
        "id": "zDz5tL-OQPEo"
      },
      "execution_count": 4,
      "outputs": []
    },
    {
      "cell_type": "code",
      "source": [
        "M1 <- 15\n",
        "M2 <- 12\n",
        "var1 <- 8\n",
        "var2 <- 24\n",
        "n1 <- 20\n",
        "n2 <- 10\n",
        "alpha <- 0.05\n",
        "\n",
        "#CALCULATIONS\n",
        "\n",
        "#Pooled Variance\n",
        "var_pool <- ((n1 - 1)*var1 + (n2-1)*var2) / (n1 + n2 - 2)\n",
        "\n",
        "#Standard Error (of the Difference between groups)\n",
        "se_diff <- sqrt((var_pool/n1) + (var_pool/n2))\n",
        "\n",
        "#Test Statistic\n",
        "T_stat <- ((M1 - M2) - 0) / se_diff\n",
        "\n",
        "#Dregrees of Freedom\n",
        "df <- n1 + n2 - 2\n",
        "\n",
        "#P-Value\n",
        "p <- pt(T_stat, df = df, lower.tail = FALSE) * 2\n",
        "\n",
        "#Critical T\n",
        "T_crit <- qt(alpha/2, df = df, lower.tail = FALSE)\n",
        "\n",
        "#Confidence Interval\n",
        "bottom <- (M1 - M2) - T_crit * se_diff\n",
        "top <- (M1 - M2) + T_crit * se_diff"
      ],
      "metadata": {
        "id": "j1kYdLvoSR0u"
      },
      "execution_count": 5,
      "outputs": []
    },
    {
      "cell_type": "code",
      "source": [
        "T_stat\n",
        "df\n",
        "T_crit\n"
      ],
      "metadata": {
        "colab": {
          "base_uri": "https://localhost:8080/",
          "height": 69
        },
        "id": "DACT9sbhfM0B",
        "outputId": "e63f4141-45df-4dd0-ecea-c2c9179d63d3"
      },
      "execution_count": 6,
      "outputs": [
        {
          "output_type": "display_data",
          "data": {
            "text/html": [
              "2.13663693483576"
            ],
            "text/markdown": "2.13663693483576",
            "text/latex": "2.13663693483576",
            "text/plain": [
              "[1] 2.136637"
            ]
          },
          "metadata": {}
        },
        {
          "output_type": "display_data",
          "data": {
            "text/html": [
              "28"
            ],
            "text/markdown": "28",
            "text/latex": "28",
            "text/plain": [
              "[1] 28"
            ]
          },
          "metadata": {}
        },
        {
          "output_type": "display_data",
          "data": {
            "text/html": [
              "2.04840714179524"
            ],
            "text/markdown": "2.04840714179524",
            "text/latex": "2.04840714179524",
            "text/plain": [
              "[1] 2.048407"
            ]
          },
          "metadata": {}
        }
      ]
    },
    {
      "cell_type": "code",
      "source": [
        "#Pooled Variance\n",
        "round(var_pool, 2)"
      ],
      "metadata": {
        "colab": {
          "base_uri": "https://localhost:8080/",
          "height": 34
        },
        "id": "8YhdgHZ9SW0K",
        "outputId": "35de3add-7179-46c8-835f-e751f5e9732a"
      },
      "execution_count": 7,
      "outputs": [
        {
          "output_type": "display_data",
          "data": {
            "text/html": [
              "13.14"
            ],
            "text/markdown": "13.14",
            "text/latex": "13.14",
            "text/plain": [
              "[1] 13.14"
            ]
          },
          "metadata": {}
        }
      ]
    },
    {
      "cell_type": "code",
      "source": [
        "#Test Statistic\n",
        "round(T_stat, 2)\n",
        "#P-Value\n",
        "round(p, 3)"
      ],
      "metadata": {
        "colab": {
          "base_uri": "https://localhost:8080/",
          "height": 52
        },
        "id": "NKAet6DLSdMV",
        "outputId": "852dd717-e594-4331-fc02-263f96f0b72a"
      },
      "execution_count": 8,
      "outputs": [
        {
          "output_type": "display_data",
          "data": {
            "text/html": [
              "2.14"
            ],
            "text/markdown": "2.14",
            "text/latex": "2.14",
            "text/plain": [
              "[1] 2.14"
            ]
          },
          "metadata": {}
        },
        {
          "output_type": "display_data",
          "data": {
            "text/html": [
              "0.042"
            ],
            "text/markdown": "0.042",
            "text/latex": "0.042",
            "text/plain": [
              "[1] 0.042"
            ]
          },
          "metadata": {}
        }
      ]
    },
    {
      "cell_type": "code",
      "source": [
        "## [1] 0.042\n",
        "## [1] \"The pooled variance and the test statistic are both correct and the classic t-test rejects the hypothesis of equal means.\"\n",
        "## [1] \"95% CI [0.124, 5.876]\""
      ],
      "metadata": {
        "id": "wSirDWD6SsI_"
      },
      "execution_count": 9,
      "outputs": []
    },
    {
      "cell_type": "code",
      "source": [
        "#Getting values for the plot's dataframe\n",
        "Group <- c(\"A\", \"B\")\n",
        "Mean <- c(M1, M2)\n",
        "n <- c(n1, n2)\n",
        "df <- n - 1\n",
        "sd <- c(sqrt(var1), sqrt(var2))\n",
        "se <- sd/sqrt(n)\n",
        "alpha <- 0.05\n",
        "T_crit <- qt(alpha/2, df = df, lower.tail = FALSE)\n",
        "MOE <- se * T_crit\n",
        "\n",
        "plotData <- data.frame(Group, Mean, MOE)\n",
        "print(plotData)"
      ],
      "metadata": {
        "colab": {
          "base_uri": "https://localhost:8080/"
        },
        "id": "jPR9lvn-S0Gz",
        "outputId": "d40af9c2-1f1c-4d4d-b443-9018968555ff"
      },
      "execution_count": 10,
      "outputs": [
        {
          "output_type": "stream",
          "name": "stdout",
          "text": [
            "  Group Mean      MOE\n",
            "1     A   15 1.323745\n",
            "2     B   12 3.504519\n"
          ]
        }
      ]
    },
    {
      "cell_type": "code",
      "source": [
        "library(ggplot2)\n",
        "\n",
        "ggplot(plotData, aes(x = Group, y = Mean, fill = Group)) +\n",
        "    geom_bar(stat = \"identity\", colour = \"black\") +\n",
        "    geom_errorbar(aes(ymin = Mean - MOE, \n",
        "                      ymax = Mean + MOE),\n",
        "                      width = .25\n",
        "                     )"
      ],
      "metadata": {
        "colab": {
          "base_uri": "https://localhost:8080/",
          "height": 437
        },
        "id": "riibpNX-S3jq",
        "outputId": "7ae42299-8207-4a35-a47d-a1b1d4eda2cc"
      },
      "execution_count": 11,
      "outputs": [
        {
          "output_type": "display_data",
          "data": {
            "text/plain": [
              "plot without title"
            ],
            "image/png": "[encoded data removed]"
          },
          "metadata": {
            "image/png": {
              "width": 420,
              "height": 420
            }
          }
        }
      ]
    },
    {
      "cell_type": "code",
      "source": [
        "a <- data.frame(x = Group, y = Mean)"
      ],
      "metadata": {
        "id": "xknoguqlYqQS"
      },
      "execution_count": 12,
      "outputs": []
    },
    {
      "cell_type": "markdown",
      "source": [
        ">POTENTIAL iSSUES: The spread are quite different meaning that the homogeneity of variance assumption might be violated."
      ],
      "metadata": {
        "id": "GTCYRpkiS6le"
      }
    },
    {
      "cell_type": "markdown",
      "source": [
        "* to address this issue, use welch's t-test"
      ],
      "metadata": {
        "id": "3o4w-rAnToy4"
      }
    },
    {
      "cell_type": "code",
      "source": [
        "#create data frame\n",
        "Data <- data.frame(Group = c(\"A\", \"B\"),\n",
        "                   Mean = c(15, 12),\n",
        "                   MOE = c(1.323745, 3.504519))"
      ],
      "metadata": {
        "id": "p2i6LDyUY7Dp"
      },
      "execution_count": 13,
      "outputs": []
    },
    {
      "cell_type": "code",
      "source": [
        "M1 <- 15\n",
        "M2 <- 12\n",
        "var1 <- 8\n",
        "var2 <- 24\n",
        "n1 <- 20\n",
        "n2 <- 10\n",
        "alpha <- 0.05\n"
      ],
      "metadata": {
        "id": "9DZszPr2ZiAx"
      },
      "execution_count": 14,
      "outputs": []
    },
    {
      "cell_type": "code",
      "source": [
        "# Perform Welch's t-test\n",
        "T = (M1 - M2) / sqrt(var1/n1 + var2/n2)\n",
        "df =  (var1/n1 + var2/n2)^2 / (var1/n1)^2 / (n1 - 1) + (var2/n2)^2 / (var2/n2)^2 / (n2 - 1)"
      ],
      "metadata": {
        "id": "lrT9JorbS-uC"
      },
      "execution_count": 15,
      "outputs": []
    },
    {
      "cell_type": "markdown",
      "source": [
        "\n",
        "# Question 2:\n",
        "Responses to stress are governed, in part, by the hypothalamus. Imagine you have two groups of participants. The first shows signs of heart disease and the other does not. You want to determine whether the groups differ (in any direction) in terms of the weight of the hypothalamus.\n",
        "Use the data “heartDisease.csv” on eClass to determine whether the groups differ based on a classic t-test. Use α=.05\n",
        ". Use of t.test() is not permitted.\n",
        "Make sure to report:\n",
        "- the test statistic\n",
        "- degrees of freedom\n",
        "- p-value\n",
        "- Confidence Interval\n",
        "- whether your reject or fail to reject the H0\n",
        "\n"
      ],
      "metadata": {
        "id": "5ZlTHyXEMSHb"
      }
    },
    {
      "cell_type": "markdown",
      "source": [
        "# Question 3:\n",
        "Compute an appropriate measure of effect size for the previous question. Use of cohen.d() is not permitted.\n"
      ],
      "metadata": {
        "id": "-lrms93ZMZ91"
      }
    },
    {
      "cell_type": "markdown",
      "source": [
        "\n",
        "Question 4:\n",
        "Repeat question 2, but use a Welch’s t-test. Use of t.test() is not permitted."
      ],
      "metadata": {
        "id": "rCZQL3IWMiu6"
      }
    },
    {
      "cell_type": "markdown",
      "source": [
        "Question 5:\n",
        "Plot the group means with their respective confidence intervals for the heartDisease.csv data.\n",
        "\n",
        "\n"
      ],
      "metadata": {
        "id": "3_MHog6xMmpk"
      }
    },
    {
      "cell_type": "markdown",
      "source": [
        "# Question 6:\n",
        "Repeat question 2 using 20% Trimmed Means. Do you get a different conclusion? Use of yuen() is not permitted."
      ],
      "metadata": {
        "id": "T_rXde4KM34y"
      }
    },
    {
      "cell_type": "markdown",
      "source": [
        "# Question 7:\n",
        "Plot the group trimmed means with their respective confidence intervals for the heartDisease.csv data using 20% trimming.\n"
      ],
      "metadata": {
        "id": "6VncqM80M--_"
      }
    },
    {
      "cell_type": "markdown",
      "source": [
        "# Question 8:\n",
        "Generate Q-Q plots to assess the normality assumption of the heartDisease.csv data. Should a classic t-test be run on this data?\n"
      ],
      "metadata": {
        "id": "knJVE-MNNDUt"
      }
    },
    {
      "cell_type": "markdown",
      "source": [
        "# Question 9:\n",
        "Generate boxplots to assess the homogeneity of variance assumption of the heartDisease.csv data. Is that assumption reasonable? Make the boxplots pretty colours."
      ],
      "metadata": {
        "id": "cFUJhm2YNH0_"
      }
    }
  ]
}